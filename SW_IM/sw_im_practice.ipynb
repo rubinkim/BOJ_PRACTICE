{
 "cells": [
  {
   "cell_type": "code",
   "execution_count": null,
   "metadata": {},
   "outputs": [],
   "source": [
    "TC = int(input())\n",
    "\n",
    "N1, M1 = map(int, input().split())\n",
    "arr1 = [[\"\"] * M1 for _ in range(N1)]\n",
    "for i in range(N1):\n",
    "    for j, x in enumerate(input()):\n",
    "        arr1[i][j] = x\n",
    "        \n",
    "N2, M2 = map(int, input().split())\n",
    "arr2 = [[\"\"] * M2 for _ in range(N2)]\n",
    "for i in range(N2):\n",
    "    for j, x in enumerate(input()):\n",
    "        arr2[i][j] = x\n",
    "        \n",
    "#print(TC)\n",
    "#print(N1, M1)\n",
    "\"\"\"\n",
    "for row in arr1:\n",
    "    print(row)\n",
    "print(N2, M2)\n",
    "for row in arr2:\n",
    "    print(row)\n",
    "    \n",
    "x = sum([sum([arr1[i][j] != 'W' for j in range(M1)]) for i in range(2)])\n",
    "print(x)\n",
    "\"\"\"\n",
    "\n",
    "def count_color(w, b, arr, n, m):\n",
    "    cnt = 0\n",
    "    cnt += sum([sum([arr[i][j] != 'W' for j in range(m)]) for i in range(w+1)])\n",
    "    cnt += sum([sum([arr[i][j] != 'B' for j in range(m)]) for i in range(w+1, b+1)])\n",
    "    cnt += sum([sum([arr[i][j] != 'R' for j in range(m)]) for i in range(b+1, n)])\n",
    "    return cnt\n",
    "\n",
    "#print(count_color(0, 1, arr2, N2, M2))\n",
    "\n",
    "cnt_lst = []\n",
    "for x in range(N1-2):\n",
    "    for y in range(x+1, N1-1):\n",
    "        #print(f\"x : {x},  y : {y},  cnt : {count_color(x, y, arr1, N1, M1)}\")\n",
    "        cnt_lst.append(count_color(x, y, arr1, N1, M1))\n",
    "print(f\"#1 {min(cnt_lst)}\")        \n",
    "\n",
    "cnt_lst = []\n",
    "for x in range(N2-2):\n",
    "    for y in range(x+1, N2-1):\n",
    "        #print(f\"x : {x},  y : {y},  cnt : {count_color(x, y, arr2, N2, M2)}\")\n",
    "        cnt_lst.append(count_color(x, y, arr2, N2, M2))\n",
    "print(f\"#1 {min(cnt_lst)}\")  "
   ]
  },
  {
   "cell_type": "code",
   "execution_count": null,
   "metadata": {},
   "outputs": [],
   "source": [
    "def count_color(w, b, arr, n, m):\n",
    "    cnt = 0\n",
    "    cnt += sum([sum([arr[i][j] != 'W' for j in range(m)]) for i in range(w+1)])\n",
    "    cnt += sum([sum([arr[i][j] != 'B' for j in range(m)]) for i in range(w+1, b+1)])\n",
    "    cnt += sum([sum([arr[i][j] != 'R' for j in range(m)]) for i in range(b+1, n)])\n",
    "    return cnt\n",
    "\n",
    "TC = int(input())\n",
    "for no in range(TC):\n",
    "    N, M = map(int, input().split())\n",
    "    arr = [[\"\"] * M for _ in range(N)]\n",
    "    for i in range(N):\n",
    "        for j, x in enumerate(input()):\n",
    "            arr[i][j] = x        \n",
    "\n",
    "    cnt_lst = []\n",
    "    for x in range(N-2):\n",
    "        for y in range(x+1, N-1):\n",
    "            cnt_lst.append(count_color(x, y, arr, N, M))\n",
    "    print(f\"#{no+1} {min(cnt_lst)}\")      "
   ]
  },
  {
   "cell_type": "code",
   "execution_count": 23,
   "metadata": {},
   "outputs": [
    {
     "name": "stdout",
     "output_type": "stream",
     "text": [
      "[1, 2, 3, 4, 6, 7]\n",
      "[1, 5, 2, 3, 4, 6, 7]\n"
     ]
    }
   ],
   "source": [
    "x = [1,2,3,4,5,6,7]\n",
    "y = []\n",
    "picked = 3\n",
    "idx = 4\n",
    "temp = x[idx]\n",
    "x.remove(temp)\n",
    "print(x)\n",
    "move_sp = idx - picked\n",
    "for i in range(len(x)+1):\n",
    "    if i < move_sp:\n",
    "        y.append(x[i])\n",
    "    elif i == move_sp:\n",
    "        y.append(temp)\n",
    "    else:\n",
    "        y.append(x[i-1])\n",
    "        \n",
    "print(y)"
   ]
  },
  {
   "cell_type": "code",
   "execution_count": null,
   "metadata": {},
   "outputs": [],
   "source": [
    "x = [1,2,3,4,5,6,7]\n",
    "y = []\n",
    "picked = 3\n",
    "idx = 4\n",
    "temp = x[idx]\n",
    "x.remove(temp)\n",
    "print(x)\n",
    "move_sp = idx - picked\n",
    "for i in range(len(x)+1):\n",
    "    if i < move_sp:\n",
    "        y.append(x[i])\n",
    "    elif i == move_sp:\n",
    "        y.append(temp)\n",
    "    else:\n",
    "        y.append(x[i-1])\n",
    "        \n",
    "print(y)"
   ]
  },
  {
   "cell_type": "code",
   "execution_count": 28,
   "metadata": {},
   "outputs": [
    {
     "name": "stdout",
     "output_type": "stream",
     "text": [
      "[1, 2, 3, 4, 5, 1, 2, 3, 4, 5, 1, 2, 3, 4, 5, 1, 2, 3, 4, 5, 1, 2, 3, 4, 5]\n"
     ]
    }
   ],
   "source": [
    "N = int(input())\n",
    "picked = list(map(int, input().split()))\n",
    "students = [x for x in range(1, N+1)]\n",
    "new_students = []\n",
    "\n",
    "for p in picked:\n",
    "    for i in range(len(students)):\n",
    "        temp = students[i]\n",
    "        #students.remove(students[i])\n",
    "        move = i - p\n",
    "        if i < move:\n",
    "            new_students.append(students[i])\n",
    "        elif i == move:\n",
    "            new_students.append(temp)\n",
    "        else:\n",
    "            new_students.append(students[i])\n",
    "            \n",
    "print(new_students)"
   ]
  },
  {
   "cell_type": "code",
   "execution_count": 36,
   "metadata": {},
   "outputs": [
    {
     "name": "stdout",
     "output_type": "stream",
     "text": [
      "students : [1, 2, 3, 4, 5]\n",
      "i : 0,  p : 0,  move : 0,  students : [1, 2, 3, 4, 5]\n",
      "i : 1,  p : 1,  move : 0,  students : [2, 1, 3, 4, 5]\n",
      "i : 2,  p : 1,  move : 1,  students : [2, 3, 1, 4, 5]\n",
      "i : 3,  p : 3,  move : 0,  students : [4, 3, 1, 2, 5]\n",
      "i : 4,  p : 2,  move : 2,  students : [4, 3, 5, 2, 1]\n"
     ]
    }
   ],
   "source": [
    "N = int(input())\n",
    "picked = list(map(int, input().split()))\n",
    "students = [x for x in range(1, N+1)]\n",
    "print(f\"students : {students}\")\n",
    "\n",
    "for i, p in enumerate(picked):\n",
    "    move = i - p    \n",
    "    students[i], students[i-p] = students[i-p], students[i]    \n",
    "    print(f\"i : {i},  p : {p},  move : {move},  students : {students}\")"
   ]
  },
  {
   "cell_type": "code",
   "execution_count": 40,
   "metadata": {},
   "outputs": [
    {
     "name": "stdout",
     "output_type": "stream",
     "text": [
      "4 2 5 3 1\n"
     ]
    }
   ],
   "source": [
    "N = int(input())\n",
    "picked = list(map(int, input().split()))\n",
    "students = [x for x in range(1, N+1)]\n",
    "\n",
    "for i, p in enumerate(picked):\n",
    "    move = i - p\n",
    "    temp = students[i]\n",
    "    students.remove(temp)\n",
    "    students.insert(move, temp)\n",
    "print(*students)   "
   ]
  },
  {
   "cell_type": "code",
   "execution_count": null,
   "metadata": {},
   "outputs": [],
   "source": [
    "#-*- coding: utf-8 -*-\n",
    "\n",
    "\"\"\"\n",
    "5\n",
    "0 1 1 3 2\n",
    "\n",
    "4 2 5 3 1\n",
    "\"\"\"\n",
    "# 클래스와 함수 선언 부분\n",
    "class Node():\n",
    "    def __init__(self):\n",
    "        self.data = None\n",
    "        self.link = None\n",
    "        \n",
    "def printNodes(start):\n",
    "    current = start\n",
    "    if current == None:\n",
    "        return\n",
    "    print(current.data, end=' ')\n",
    "    while current.link != None:\n",
    "        current = current.link\n",
    "        print(current.data, end=' ')\n",
    "    print()\n",
    "        \n",
    "# 노드삽입(findData앞에 insertData를 삽입한다.)\n",
    "def insertNode(findData, insertData):\n",
    "    global memory, head, current, pre\n",
    "    if head.data == findData:   # 첫번째 위치에 데이터삽입\n",
    "        node = Node()\n",
    "        node.data = insertData\n",
    "        node.link = head\n",
    "        head = node\n",
    "        return\n",
    "    \n",
    "    current = head\n",
    "    while current.link != None: # 중간 위치에 데이터삽입\n",
    "        pre = current\n",
    "        current = current.link\n",
    "        if current.data == findData:\n",
    "            node = Node()\n",
    "            node.data = insertData\n",
    "            node.link = current\n",
    "            pre.link = node\n",
    "            return\n",
    "        node = Node()            # 마지막 위치에 데이터삽입\n",
    "        node.data = insertData\n",
    "        current.link = node\n",
    "            \n",
    "# 노드삭제\n",
    "def deleteNode(deleteData):\n",
    "    global memory, head, current, pre\n",
    "    if head.data == deleteData:  # 첫번째 위치에 데이터삭제\n",
    "        current = head\n",
    "        head = head.link\n",
    "        del(current)\n",
    "        return\n",
    "    \n",
    "    current = head               # 첫번째외의 위치에 데이터삭제\n",
    "    while current.link != None:\n",
    "        pre = current\n",
    "        current = current.link\n",
    "        if current.data == deleteData:\n",
    "            pre.link = current.link\n",
    "            del(current)\n",
    "            return\n",
    "            \n",
    "import sys\n",
    "input = sys.stdin.readline\n",
    "\n",
    "N = int(input())\n",
    "picked = list(map(int, input().split()))\n",
    "dataArray = [x for x in range(1, N+1)]\n",
    "memory = []\n",
    "head, current, pre = None, None, None\n",
    "\n",
    "if __name__ == '__main__':                \n",
    "    node = Node()                    # 첫번째 노드\n",
    "    node.data = dataArray[0]\n",
    "    head = node\n",
    "    memory.append(node)\n",
    "    \n",
    "    for data in dataArray[1:]:       # 두번째 이후 노드\n",
    "        pre = node\n",
    "        node = Node()\n",
    "        node.data = data\n",
    "        pre.link = node\n",
    "        memory.append(node)\n",
    "        \n",
    "    for row in memory:\n",
    "        print(row)\n",
    "    \n",
    "    print()\n",
    "    printNodes(head)\n",
    "    print()\n",
    "    \n",
    "    for i, p in enumerate(picked):\n",
    "        move = i - p\n",
    "        val = dataArray[i]\n",
    "        if move == 0:\n",
    "            \n",
    "    \n",
    "    \n",
    "\n",
    "        "
   ]
  },
  {
   "cell_type": "markdown",
   "metadata": {},
   "source": [
    "#### 02/25/24"
   ]
  },
  {
   "cell_type": "code",
   "execution_count": 4,
   "metadata": {},
   "outputs": [],
   "source": [
    "#-*- coding: utf-8 -*-\n",
    "\n",
    "\"\"\"\n",
    "5\n",
    "0 1 1 3 2\n",
    "\n",
    "4 2 5 3 1\n",
    "\"\"\"\n",
    "# 클래스와 함수 선언 부분\n",
    "class Node():\n",
    "    def __init__(self):\n",
    "        self.data = None\n",
    "        self.link = None\n",
    "        \n",
    "def printNodes(start):\n",
    "    current = start\n",
    "    if current == None:\n",
    "        return\n",
    "    print(current.data, end=' ')\n",
    "    while current.link != None:\n",
    "        current = current.link\n",
    "        print(current.data, end=' ')\n",
    "    print()\n",
    "        \n",
    "# 노드삽입(findData앞에 insertData를 삽입한다.)\n",
    "def insertNode(findData, insertData):\n",
    "    global memory, head, current, pre\n",
    "    if head.data == findData:   # 첫번째 위치에 데이터삽입\n",
    "        node = Node()\n",
    "        node.data = insertData\n",
    "        node.link = head\n",
    "        head = node\n",
    "        return\n",
    "    \n",
    "    current = head\n",
    "    while current.link != None: # 중간 위치에 데이터삽입\n",
    "        pre = current\n",
    "        current = current.link\n",
    "        if current.data == findData:\n",
    "            node = Node()\n",
    "            node.data = insertData\n",
    "            node.link = current\n",
    "            pre.link = node\n",
    "            return\n",
    "        node = Node()            # 마지막 위치에 데이터삽입\n",
    "        node.data = insertData\n",
    "        current.link = node\n",
    "            \n",
    "# 노드삭제\n",
    "def deleteNode(deleteData):\n",
    "    global memory, head, current, pre\n",
    "    if head.data == deleteData:  # 첫번째 위치에 데이터삭제\n",
    "        current = head\n",
    "        head = head.link\n",
    "        del(current)\n",
    "        return\n",
    "    \n",
    "    current = head               # 첫번째외의 위치에 데이터삭제\n",
    "    while current.link != None:\n",
    "        pre = current\n",
    "        current = current.link\n",
    "        if current.data == deleteData:\n",
    "            pre.link = current.link\n",
    "            del(current)\n",
    "            return      "
   ]
  },
  {
   "cell_type": "code",
   "execution_count": 5,
   "metadata": {},
   "outputs": [],
   "source": [
    "#-*- coding: utf-8 -*-\n",
    "\n",
    "\"\"\"\n",
    "5\n",
    "0 1 1 3 2\n",
    "\n",
    "4 2 5 3 1\n",
    "\"\"\"\n",
    "# 클래스와 함수 선언 부분\n",
    "class Node():\n",
    "    def __init__(self):\n",
    "        self.data = None\n",
    "        self.link = None\n",
    "        \n",
    "def printNodes(start):\n",
    "    global dataArray\n",
    "    dataArray = []\n",
    "    current = start\n",
    "    if current == None:\n",
    "        return\n",
    "    #print(current.data, end=' ')\n",
    "    dataArray.append(current.data)\n",
    "    while current.link != None:\n",
    "        current = current.link\n",
    "        #print(current.data, end=' ')\n",
    "        dataArray.append(current.data)\n",
    "    return dataArray\n",
    "        \n",
    "# 노드삽입(findData앞에 insertData를 삽입한다.)\n",
    "def insertNode(findData, insertData):\n",
    "    global memory, head, current, pre\n",
    "    if head.data == findData:   # 첫번째 위치에 데이터삽입\n",
    "        node = Node()\n",
    "        node.data = insertData\n",
    "        node.link = head\n",
    "        head = node\n",
    "        return\n",
    "    \n",
    "    current = head\n",
    "    while current.link != None: # 중간 위치에 데이터삽입\n",
    "        pre = current\n",
    "        current = current.link\n",
    "        if current.data == findData:\n",
    "            node = Node()\n",
    "            node.data = insertData\n",
    "            node.link = current\n",
    "            pre.link = node\n",
    "            return\n",
    "        node = Node()            # 마지막 위치에 데이터삽입\n",
    "        node.data = insertData\n",
    "        current.link = node\n",
    "            \n",
    "# 노드삭제\n",
    "def deleteNode(deleteData):\n",
    "    global memory, head, current, pre\n",
    "    if head.data == deleteData:  # 첫번째 위치에 데이터삭제\n",
    "        current = head\n",
    "        head = head.link\n",
    "        del(current)\n",
    "        return\n",
    "    \n",
    "    current = head               # 첫번째외의 위치에 데이터삭제\n",
    "    while current.link != None:\n",
    "        pre = current\n",
    "        current = current.link\n",
    "        if current.data == deleteData:\n",
    "            pre.link = current.link\n",
    "            del(current)\n",
    "            return      "
   ]
  },
  {
   "cell_type": "code",
   "execution_count": 6,
   "metadata": {},
   "outputs": [
    {
     "name": "stdout",
     "output_type": "stream",
     "text": [
      "N : 5\n",
      "picked : [0, 1, 1, 3, 2]\n",
      "dataArray : [1, 2, 3, 4, 5]\n"
     ]
    }
   ],
   "source": [
    "N = int(input())\n",
    "picked = list(map(int, input().split()))\n",
    "dataArray = [x for x in range(1, N+1)]\n",
    "print(f\"N : {N}\")\n",
    "print(f\"picked : {picked}\")\n",
    "print(f\"dataArray : {dataArray}\")"
   ]
  },
  {
   "cell_type": "code",
   "execution_count": 7,
   "metadata": {},
   "outputs": [
    {
     "data": {
      "text/plain": [
       "[1, 2, 3, 4, 5]"
      ]
     },
     "execution_count": 7,
     "metadata": {},
     "output_type": "execute_result"
    }
   ],
   "source": [
    "memory = []\n",
    "head, current, pre = None, None, None \n",
    "\n",
    "node = Node()\n",
    "node.data = dataArray[0]\n",
    "head = node\n",
    "memory.append(node)\n",
    "\n",
    "for data in dataArray[1:]:\n",
    "    pre = node\n",
    "    node = Node()\n",
    "    node.data = data\n",
    "    pre.link = node\n",
    "    memory.append(node)\n",
    "    \n",
    "printNodes(head)"
   ]
  },
  {
   "cell_type": "code",
   "execution_count": 11,
   "metadata": {},
   "outputs": [
    {
     "name": "stdout",
     "output_type": "stream",
     "text": [
      "data : 1,  link : <__main__.Node object at 0x00000169295D3B50>\n",
      "data : 2,  link : <__main__.Node object at 0x00000169295D3B20>\n",
      "data : 3,  link : <__main__.Node object at 0x00000169295D3CD0>\n",
      "data : 4,  link : <__main__.Node object at 0x00000169295D3CD0>\n",
      "data : 5,  link : None\n"
     ]
    }
   ],
   "source": [
    "for row in memory:\n",
    "    print(f\"data : {row.data},  link : {row.link}\")"
   ]
  },
  {
   "cell_type": "code",
   "execution_count": 12,
   "metadata": {},
   "outputs": [
    {
     "data": {
      "text/plain": [
       "[<__main__.Node at 0x26154d0cdc0>,\n",
       " <__main__.Node at 0x26154d0cc40>,\n",
       " <__main__.Node at 0x26154d0c610>,\n",
       " <__main__.Node at 0x26154d0cbb0>,\n",
       " <__main__.Node at 0x26154d0c970>]"
      ]
     },
     "execution_count": 12,
     "metadata": {},
     "output_type": "execute_result"
    }
   ],
   "source": [
    "dataArray = []\n",
    "for row in memory:\n",
    "    dataArray.append(row.data)"
   ]
  },
  {
   "cell_type": "code",
   "execution_count": 4,
   "metadata": {},
   "outputs": [
    {
     "name": "stdout",
     "output_type": "stream",
     "text": [
      "insert_data : 4,  finding_data : 1\n"
     ]
    },
    {
     "data": {
      "text/plain": [
       "[4, 1, 2, 3, 5]"
      ]
     },
     "execution_count": 4,
     "metadata": {},
     "output_type": "execute_result"
    }
   ],
   "source": [
    "i, p = 3, 3\n",
    "move = i - p\n",
    "insert_data = dataArray[i]\n",
    "finding_data = dataArray[picked[move]]\n",
    "print(f\"insert_data : {insert_data},  finding_data : {finding_data}\")\n",
    "\n",
    "deleteNode(insert_data)\n",
    "insertNode(finding_data, insert_data)\n",
    "\n",
    "printNodes(head)"
   ]
  },
  {
   "cell_type": "code",
   "execution_count": 23,
   "metadata": {},
   "outputs": [
    {
     "name": "stdout",
     "output_type": "stream",
     "text": [
      "1\n",
      "1\n",
      "2\n",
      "3\n",
      "4\n",
      "5\n"
     ]
    }
   ],
   "source": [
    "for row in memory:\n",
    "    print(row.data)"
   ]
  },
  {
   "cell_type": "code",
   "execution_count": 5,
   "metadata": {},
   "outputs": [
    {
     "name": "stdout",
     "output_type": "stream",
     "text": [
      "[1, 2, 3, 4, 5]\n"
     ]
    }
   ],
   "source": [
    "dataArray = []\n",
    "for row in memory:\n",
    "    dataArray.append(row.data)\n",
    "\n",
    "print(dataArray)"
   ]
  },
  {
   "cell_type": "code",
   "execution_count": 8,
   "metadata": {},
   "outputs": [
    {
     "name": "stdout",
     "output_type": "stream",
     "text": [
      "i : 0,  p : 0,  move : 0,  finding_data : 1,  insert_data : 1,    [1, 2, 3, 4, 5]\n",
      "\n",
      "i : 1,  p : 1,  move : 0,  finding_data : 1,  insert_data : 2,    [2, 1, 3, 4, 5]\n",
      "\n",
      "i : 2,  p : 1,  move : 1,  finding_data : 1,  insert_data : 3,    [2, 3, 1, 4, 5]\n",
      "\n",
      "i : 3,  p : 3,  move : 0,  finding_data : 2,  insert_data : 4,    [4, 2, 3, 1, 5]\n",
      "\n"
     ]
    }
   ],
   "source": [
    "for i, p in enumerate(picked):  \n",
    "    \n",
    "    move = i - p\n",
    "    finding_data = dataArray[move]\n",
    "    insert_data = dataArray[i]\n",
    "    \n",
    "    if i != move:\n",
    "        deleteNode(insert_data)\n",
    "        insertNode(finding_data, insert_data)\n",
    "    print(f\"i : {i},  p : {p},  move : {move},  finding_data : {finding_data},  insert_data : {insert_data}\",  end=',    ')    \n",
    "    print(printNodes(head))   "
   ]
  },
  {
   "cell_type": "code",
   "execution_count": 1,
   "metadata": {},
   "outputs": [
    {
     "ename": "NameError",
     "evalue": "name 'dataArray' is not defined",
     "output_type": "error",
     "traceback": [
      "\u001b[1;31m---------------------------------------------------------------------------\u001b[0m",
      "\u001b[1;31mNameError\u001b[0m                                 Traceback (most recent call last)",
      "Input \u001b[1;32mIn [1]\u001b[0m, in \u001b[0;36m<cell line: 1>\u001b[1;34m()\u001b[0m\n\u001b[1;32m----> 1\u001b[0m \u001b[43mdataArray\u001b[49m\n",
      "\u001b[1;31mNameError\u001b[0m: name 'dataArray' is not defined"
     ]
    }
   ],
   "source": [
    "dataArray"
   ]
  },
  {
   "cell_type": "code",
   "execution_count": null,
   "metadata": {},
   "outputs": [],
   "source": []
  },
  {
   "cell_type": "code",
   "execution_count": null,
   "metadata": {},
   "outputs": [],
   "source": []
  },
  {
   "cell_type": "code",
   "execution_count": null,
   "metadata": {},
   "outputs": [],
   "source": []
  },
  {
   "cell_type": "code",
   "execution_count": null,
   "metadata": {},
   "outputs": [],
   "source": []
  },
  {
   "cell_type": "code",
   "execution_count": null,
   "metadata": {},
   "outputs": [],
   "source": []
  },
  {
   "cell_type": "code",
   "execution_count": null,
   "metadata": {},
   "outputs": [],
   "source": []
  },
  {
   "cell_type": "code",
   "execution_count": null,
   "metadata": {},
   "outputs": [],
   "source": []
  },
  {
   "cell_type": "code",
   "execution_count": null,
   "metadata": {},
   "outputs": [],
   "source": []
  },
  {
   "cell_type": "markdown",
   "metadata": {},
   "source": [
    "#### 02/25/24 final version"
   ]
  },
  {
   "cell_type": "code",
   "execution_count": 21,
   "metadata": {},
   "outputs": [],
   "source": [
    "#-*- coding: utf-8 -*-\n",
    "\n",
    "\"\"\"\n",
    "5\n",
    "0 1 1 3 2\n",
    "\n",
    "4 2 5 3 1\n",
    "\"\"\"\n",
    "# 클래스와 함수 선언 부분\n",
    "class Node():\n",
    "    def __init__(self):\n",
    "        self.data = None\n",
    "        self.link = None\n",
    "        \n",
    "def printNodes(start):\n",
    "    global dataArray\n",
    "    dataArray = []\n",
    "    current = start\n",
    "    if current == None:\n",
    "        return\n",
    "    #print(current.data, end=' ')\n",
    "    dataArray.append(current.data)\n",
    "    while current.link != None:\n",
    "        current = current.link\n",
    "        #print(current.data, end=' ')\n",
    "        dataArray.append(current.data)\n",
    "    return dataArray\n",
    "        \n",
    "# 노드삽입(findData앞에 insertData를 삽입한다.)\n",
    "def insertNode(findData, insertData):\n",
    "    global memory, head, current, pre\n",
    "    if head.data == findData:   # 첫번째 위치에 데이터삽입\n",
    "        node = Node()\n",
    "        node.data = insertData\n",
    "        node.link = head\n",
    "        head = node\n",
    "        return\n",
    "    \n",
    "    current = head\n",
    "    while current.link != None: # 중간 위치에 데이터삽입\n",
    "        pre = current\n",
    "        current = current.link\n",
    "        if current.data == findData:\n",
    "            node = Node()\n",
    "            node.data = insertData\n",
    "            node.link = current\n",
    "            pre.link = node\n",
    "            return\n",
    "    node = Node()            # 마지막 위치에 데이터삽입\n",
    "    node.data = insertData\n",
    "    current.link = node\n",
    "        \n",
    "# 노드삭제\n",
    "def deleteNode(deleteData):\n",
    "    global memory, head, current, pre\n",
    "    if head.data == deleteData:  # 첫번째 위치에 데이터삭제\n",
    "        current = head\n",
    "        head = head.link\n",
    "        del(current)\n",
    "        return\n",
    "    \n",
    "    current = head               # 첫번째외의 위치에 데이터삭제\n",
    "    while current.link != None:\n",
    "        pre = current\n",
    "        current = current.link\n",
    "        if current.data == deleteData:\n",
    "            pre.link = current.link\n",
    "            del(current)\n",
    "            return      "
   ]
  },
  {
   "cell_type": "code",
   "execution_count": 22,
   "metadata": {},
   "outputs": [
    {
     "name": "stdout",
     "output_type": "stream",
     "text": [
      "N : 5\n",
      "picked : [0, 1, 1, 3, 2]\n",
      "dataArray : [1, 2, 3, 4, 5]\n"
     ]
    }
   ],
   "source": [
    "N = int(input())\n",
    "picked = list(map(int, input().split()))\n",
    "dataArray = [x for x in range(1, N+1)]\n",
    "print(f\"N : {N}\")\n",
    "print(f\"picked : {picked}\")\n",
    "print(f\"dataArray : {dataArray}\")"
   ]
  },
  {
   "cell_type": "code",
   "execution_count": 23,
   "metadata": {},
   "outputs": [
    {
     "data": {
      "text/plain": [
       "[1, 2, 3, 4, 5]"
      ]
     },
     "execution_count": 23,
     "metadata": {},
     "output_type": "execute_result"
    }
   ],
   "source": [
    "memory = []\n",
    "head, current, pre = None, None, None \n",
    "\n",
    "node = Node()\n",
    "node.data = dataArray[0]\n",
    "head = node\n",
    "memory.append(node)\n",
    "\n",
    "for data in dataArray[1:]:\n",
    "    pre = node\n",
    "    node = Node()\n",
    "    node.data = data\n",
    "    pre.link = node\n",
    "    memory.append(node)\n",
    "    \n",
    "printNodes(head)"
   ]
  },
  {
   "cell_type": "code",
   "execution_count": 24,
   "metadata": {},
   "outputs": [
    {
     "name": "stdout",
     "output_type": "stream",
     "text": [
      "4 2 5 3 1\n"
     ]
    }
   ],
   "source": [
    "for i, p in enumerate(picked):  \n",
    "    \n",
    "    move = i - p\n",
    "    finding_data = dataArray[move]\n",
    "    insert_data = dataArray[i]\n",
    "    \n",
    "    if i != move:\n",
    "        deleteNode(insert_data)\n",
    "        insertNode(finding_data, insert_data)\n",
    "    #print(f\"head_data : {head.data},  i : {i},  p : {p},  move : {move},  finding_data : {finding_data},  insert_data : {insert_data}\",  end=',    ')    \n",
    "    printNodes(head)\n",
    "    \n",
    "print(*printNodes(head))"
   ]
  },
  {
   "cell_type": "code",
   "execution_count": 16,
   "metadata": {},
   "outputs": [
    {
     "name": "stdout",
     "output_type": "stream",
     "text": [
      "5 3 2 4 1\n"
     ]
    }
   ],
   "source": [
    "for i, p in enumerate(picked):  \n",
    "    \n",
    "    move = i - p\n",
    "    finding_data = dataArray[move]\n",
    "    insert_data = dataArray[i]\n",
    "    \n",
    "    if i != move:\n",
    "        deleteNode(insert_data)\n",
    "        insertNode(finding_data, insert_data)\n",
    "    #print(f\"head_data : {head.data},  i : {i},  p : {p},  move : {move},  finding_data : {finding_data},  insert_data : {insert_data}\",  end=',    ')    \n",
    "print(*printNodes(head))   "
   ]
  },
  {
   "cell_type": "code",
   "execution_count": null,
   "metadata": {},
   "outputs": [],
   "source": []
  },
  {
   "cell_type": "code",
   "execution_count": null,
   "metadata": {},
   "outputs": [],
   "source": []
  },
  {
   "cell_type": "code",
   "execution_count": null,
   "metadata": {},
   "outputs": [],
   "source": []
  },
  {
   "cell_type": "code",
   "execution_count": null,
   "metadata": {},
   "outputs": [],
   "source": []
  },
  {
   "cell_type": "code",
   "execution_count": null,
   "metadata": {},
   "outputs": [],
   "source": []
  },
  {
   "cell_type": "code",
   "execution_count": null,
   "metadata": {},
   "outputs": [],
   "source": []
  },
  {
   "cell_type": "code",
   "execution_count": null,
   "metadata": {},
   "outputs": [],
   "source": []
  },
  {
   "cell_type": "code",
   "execution_count": 25,
   "metadata": {},
   "outputs": [
    {
     "name": "stdout",
     "output_type": "stream",
     "text": [
      "4 2 5 3 1\n"
     ]
    }
   ],
   "source": [
    "#-*- coding: utf-8 -*-\n",
    "\n",
    "\"\"\"\n",
    "5\n",
    "0 1 1 3 2\n",
    "\n",
    "4 2 5 3 1\n",
    "\"\"\"\n",
    "# 클래스와 함수 선언 부분\n",
    "class Node():\n",
    "    def __init__(self):\n",
    "        self.data = None\n",
    "        self.link = None\n",
    "        \n",
    "def printNodes(start):\n",
    "    global dataArray\n",
    "    dataArray = []\n",
    "    current = start\n",
    "    if current == None:\n",
    "        return\n",
    "    #print(current.data, end=' ')\n",
    "    dataArray.append(current.data)\n",
    "    while current.link != None:\n",
    "        current = current.link\n",
    "        #print(current.data, end=' ')\n",
    "        dataArray.append(current.data)\n",
    "    return dataArray\n",
    "        \n",
    "# 노드삽입(findData앞에 insertData를 삽입한다.)\n",
    "def insertNode(findData, insertData):\n",
    "    global memory, head, current, pre\n",
    "    if head.data == findData:   # 첫번째 위치에 데이터삽입\n",
    "        node = Node()\n",
    "        node.data = insertData\n",
    "        node.link = head\n",
    "        head = node\n",
    "        return\n",
    "    \n",
    "    current = head\n",
    "    while current.link != None: # 중간 위치에 데이터삽입\n",
    "        pre = current\n",
    "        current = current.link\n",
    "        if current.data == findData:\n",
    "            node = Node()\n",
    "            node.data = insertData\n",
    "            node.link = current\n",
    "            pre.link = node\n",
    "            return\n",
    "    node = Node()            # 마지막 위치에 데이터삽입\n",
    "    node.data = insertData\n",
    "    current.link = node\n",
    "        \n",
    "# 노드삭제\n",
    "def deleteNode(deleteData):\n",
    "    global memory, head, current, pre\n",
    "    if head.data == deleteData:  # 첫번째 위치에 데이터삭제\n",
    "        current = head\n",
    "        head = head.link\n",
    "        del(current)\n",
    "        return\n",
    "    \n",
    "    current = head               # 첫번째외의 위치에 데이터삭제\n",
    "    while current.link != None:\n",
    "        pre = current\n",
    "        current = current.link\n",
    "        if current.data == deleteData:\n",
    "            pre.link = current.link\n",
    "            del(current)\n",
    "            return \n",
    "        \n",
    "if __name__ == '__main__':       \n",
    "    N = int(input())\n",
    "    picked = list(map(int, input().split()))\n",
    "    dataArray = [x for x in range(1, N+1)]\n",
    "\n",
    "\n",
    "    memory = []\n",
    "    head, current, pre = None, None, None \n",
    "\n",
    "    node = Node()\n",
    "    node.data = dataArray[0]\n",
    "    head = node\n",
    "    memory.append(node)\n",
    "\n",
    "    for data in dataArray[1:]:\n",
    "        pre = node\n",
    "        node = Node()\n",
    "        node.data = data\n",
    "        pre.link = node\n",
    "        memory.append(node)\n",
    "\n",
    "    for i, p in enumerate(picked):  \n",
    "        \n",
    "        move = i - p\n",
    "        finding_data = dataArray[move]\n",
    "        insert_data = dataArray[i]\n",
    "        \n",
    "        if i != move:\n",
    "            deleteNode(insert_data)\n",
    "            insertNode(finding_data, insert_data)\n",
    "        #print(f\"head_data : {head.data},  i : {i},  p : {p},  move : {move},  finding_data : {finding_data},  insert_data : {insert_data}\",  end=',    ')    \n",
    "        printNodes(head)\n",
    "        \n",
    "    print(*printNodes(head))"
   ]
  },
  {
   "cell_type": "code",
   "execution_count": 26,
   "metadata": {},
   "outputs": [
    {
     "name": "stdout",
     "output_type": "stream",
     "text": [
      "4 2 5 3 1\n"
     ]
    }
   ],
   "source": [
    "#-*- coding: utf-8 -*-\n",
    "\n",
    "\"\"\"\n",
    "5\n",
    "0 1 1 3 2\n",
    "\n",
    "4 2 5 3 1\n",
    "\"\"\"\n",
    "# 클래스와 함수 선언 부분\n",
    "class Node():\n",
    "    def __init__(self):\n",
    "        self.data = None\n",
    "        self.link = None\n",
    "        \n",
    "def outputNodes(start):\n",
    "    global dataArray\n",
    "    dataArray = []\n",
    "    \n",
    "    current = start\n",
    "    if current == None:\n",
    "        return\n",
    "    #print(current.data, end=' ')\n",
    "    dataArray.append(current.data)\n",
    "    while current.link != None:\n",
    "        current = current.link\n",
    "        #print(current.data, end=' ')\n",
    "        dataArray.append(current.data)\n",
    "    return dataArray\n",
    "        \n",
    "# 노드삽입(findData앞에 insertData를 삽입한다.)\n",
    "def insertNode(findData, insertData):\n",
    "    global memory, head, current, pre\n",
    "    if head.data == findData:   # 첫번째 위치에 데이터삽입\n",
    "        node = Node()\n",
    "        node.data = insertData\n",
    "        node.link = head\n",
    "        head = node\n",
    "        return\n",
    "    \n",
    "    current = head\n",
    "    while current.link != None: # 중간 위치에 데이터삽입\n",
    "        pre = current\n",
    "        current = current.link\n",
    "        if current.data == findData:\n",
    "            node = Node()\n",
    "            node.data = insertData\n",
    "            node.link = current\n",
    "            pre.link = node\n",
    "            return\n",
    "    node = Node()            # 마지막 위치에 데이터삽입\n",
    "    node.data = insertData\n",
    "    current.link = node\n",
    "        \n",
    "# 노드삭제\n",
    "def deleteNode(deleteData):\n",
    "    global memory, head, current, pre\n",
    "    if head.data == deleteData:  # 첫번째 위치에 데이터삭제\n",
    "        current = head\n",
    "        head = head.link\n",
    "        del(current)\n",
    "        return\n",
    "    \n",
    "    current = head               # 첫번째외의 위치에 데이터삭제\n",
    "    while current.link != None:\n",
    "        pre = current\n",
    "        current = current.link\n",
    "        if current.data == deleteData:\n",
    "            pre.link = current.link\n",
    "            del(current)\n",
    "            return \n",
    "        \n",
    "if __name__ == '__main__':       \n",
    "    N = int(input())\n",
    "    picked = list(map(int, input().split()))\n",
    "    dataArray = [x for x in range(1, N+1)]\n",
    "\n",
    "\n",
    "    memory = []\n",
    "    head, current, pre = None, None, None \n",
    "\n",
    "    node = Node()\n",
    "    node.data = dataArray[0]\n",
    "    head = node\n",
    "    memory.append(node)\n",
    "\n",
    "    for data in dataArray[1:]:\n",
    "        pre = node\n",
    "        node = Node()\n",
    "        node.data = data\n",
    "        pre.link = node\n",
    "        memory.append(node)\n",
    "\n",
    "    for i, p in enumerate(picked):  \n",
    "        \n",
    "        move = i - p\n",
    "        finding_data = dataArray[move]\n",
    "        insert_data = dataArray[i]\n",
    "        \n",
    "        if i != move:\n",
    "            deleteNode(insert_data)\n",
    "            insertNode(finding_data, insert_data)\n",
    "        #print(f\"head_data : {head.data},  i : {i},  p : {p},  move : {move},  finding_data : {finding_data},  insert_data : {insert_data}\",  end=',    ')    \n",
    "        outputNodes(head)\n",
    "        \n",
    "    print(*outputNodes(head))"
   ]
  },
  {
   "cell_type": "code",
   "execution_count": 14,
   "metadata": {},
   "outputs": [
    {
     "name": "stdout",
     "output_type": "stream",
     "text": [
      "i : 1, temp : 3,  lst : [3, 4, 1, 5, 8, 6, 10, 7, 2, 9],  cnt : 1\n",
      "i : 2, temp : 1,  lst : [1, 3, 4, 5, 8, 6, 10, 7, 2, 9],  cnt : 3\n",
      "i : 3, temp : 1,  lst : [1, 3, 4, 5, 8, 6, 10, 7, 2, 9],  cnt : 3\n",
      "i : 4, temp : 1,  lst : [1, 3, 4, 5, 8, 6, 10, 7, 2, 9],  cnt : 3\n",
      "i : 5, temp : 6,  lst : [1, 3, 4, 5, 6, 8, 10, 7, 2, 9],  cnt : 4\n",
      "i : 6, temp : 6,  lst : [1, 3, 4, 5, 6, 8, 10, 7, 2, 9],  cnt : 4\n",
      "i : 7, temp : 7,  lst : [1, 3, 4, 5, 6, 7, 8, 10, 2, 9],  cnt : 6\n",
      "i : 8, temp : 2,  lst : [1, 2, 3, 4, 5, 6, 7, 8, 10, 9],  cnt : 13\n",
      "i : 9, temp : 9,  lst : [1, 2, 3, 4, 5, 6, 7, 8, 9, 10],  cnt : 14\n",
      "cnt : 14\n"
     ]
    }
   ],
   "source": [
    "lst = [4, 3, 1, 5, 8, 6, 10, 7, 2, 9]\n",
    "\n",
    "cnt = 0\n",
    "for i in range(1, len(lst)):\n",
    "    for j in range(i):\n",
    "        if lst[j] > lst[i]:\n",
    "            temp = lst[i]\n",
    "            for k in range(i-1, j-1, -1):\n",
    "                lst[k+1] = lst[k]\n",
    "                cnt += 1\n",
    "            lst[j] = temp\n",
    "    print(f\"i : {i}, temp : {temp},  lst : {lst},  cnt : {cnt}\")\n",
    "print(f\"cnt : {cnt}\")"
   ]
  },
  {
   "cell_type": "code",
   "execution_count": null,
   "metadata": {},
   "outputs": [],
   "source": [
    "P = int(input())       # 테스트 케이스의 수\n",
    "\n",
    "tc_dict = {}\n",
    "for i in range(P):\n",
    "    lst = list(map(int, input().split()))\n",
    "    tc_dict[lst[0]] = lst[1:]\n",
    "   \n",
    "for k, v in tc_dict.items():\n",
    "    print(k, v)\n",
    "\n",
    "    \n",
    "for x in range(1, P+1):\n",
    "    ans = 0\n",
    "    for i in range(1, len(tc_dict[x])):\n",
    "        for j in range(i):\n",
    "            if tc_dict[x][j] > tc_dict[x][i]:\n",
    "                temp = tc_dict[x][i]\n",
    "                for k in range(i-1, j-1, -1):\n",
    "                    tc_dict[x][k+1] = tc_dict[x][k]\n",
    "                    ans += 1\n",
    "                tc_dict[x][j] = temp\n",
    "                    \n",
    "    print(f\"{x} {ans}\")"
   ]
  },
  {
   "cell_type": "markdown",
   "metadata": {},
   "source": [
    "#### 10431 줄세우기"
   ]
  },
  {
   "cell_type": "code",
   "execution_count": 1,
   "metadata": {},
   "outputs": [
    {
     "name": "stdout",
     "output_type": "stream",
     "text": [
      "[(1, 6), (2, 6), (3, 6), (4, 6), (5, 6), (6, 6), (7, 6)]\n",
      "[(1, 5), (2, 5), (3, 5), (4, 5), (5, 5), (6, 5), (7, 5)]\n",
      "[(1, 4), (2, 4), (3, 4), (4, 4), (5, 4), (6, 4), (7, 4)]\n",
      "[(1, 3), (2, 3), (3, 3), (4, 3), (5, 3), (6, 3), (7, 3)]\n",
      "[(1, 2), (2, 2), (3, 2), (4, 2), (5, 2), (6, 2), (7, 2)]\n",
      "[(1, 1), (2, 1), (3, 1), (4, 1), (5, 1), (6, 1), (7, 1)]\n",
      "\n",
      "[(1, 1), (1, 2), (1, 3), (1, 4), (1, 5), (1, 6)]\n"
     ]
    }
   ],
   "source": [
    "\"\"\"\n",
    "7 6\n",
    "11\n",
    "\"\"\"\n",
    "\n",
    "C, R = map(int, input().split())\n",
    "K = int(input())\n",
    "\n",
    "board = [[0] * C for _ in range(R)]\n",
    "for i in range(0, R):\n",
    "    for j in range(0, C):\n",
    "        board[i][j] = (j+1, R-i)\n",
    "        \n",
    "for row in board:\n",
    "    print(row)\n",
    "    \n",
    "print()\n",
    "\n",
    "lst = []\n",
    "for i in range(R-1, -1, -1):\n",
    "    x = board[i][0]\n",
    "    lst.append(x)\n",
    "    \n",
    "print(lst)"
   ]
  },
  {
   "cell_type": "code",
   "execution_count": 43,
   "metadata": {},
   "outputs": [
    {
     "name": "stdout",
     "output_type": "stream",
     "text": [
      "[(1, 6), (2, 6), (3, 6), (4, 6), (5, 6), (6, 6), (7, 6)]\n",
      "[(1, 5), (2, 5), (3, 5), (4, 5), (5, 5), (6, 5), (7, 5)]\n",
      "[(1, 4), (2, 4), (3, 4), (4, 4), (5, 4), (6, 4), (7, 4)]\n",
      "[(1, 3), (2, 3), (3, 3), (4, 3), (5, 3), (6, 3), (7, 3)]\n",
      "[(1, 2), (2, 2), (3, 2), (4, 2), (5, 2), (6, 2), (7, 2)]\n",
      "[(1, 1), (2, 1), (3, 1), (4, 1), (5, 1), (6, 1), (7, 1)]\n",
      "\n",
      "i : 1\n",
      "\n",
      "(7, 6) (7, 5) (7, 4) (7, 3) (7, 2) (7, 1)\n",
      "(6, 6) (6, 5) (6, 4) (6, 3) (6, 2) (6, 1)\n",
      "(5, 6) (5, 5) (5, 4) (5, 3) (5, 2) (5, 1)\n",
      "(4, 6) (4, 5) (4, 4) (4, 3) (4, 2) (4, 1)\n",
      "(3, 6) (3, 5) (3, 4) (3, 3) (3, 2) (3, 1)\n",
      "(2, 6) (2, 5) (2, 4) (2, 3) (2, 2) (2, 1)\n",
      "(1, 6) (1, 5) (1, 4) (1, 3) (1, 2) (1, 1)\n",
      "\n",
      "\n",
      "i : 2\n",
      "\n",
      "(7, 1) (6, 1) (5, 1) (4, 1) (3, 1) (2, 1)\n",
      "(7, 2) (6, 2) (5, 2) (4, 2) (3, 2) (2, 2)\n",
      "(7, 3) (6, 3) (5, 3) (4, 3) (3, 3) (2, 3)\n",
      "(7, 4) (6, 4) (5, 4) (4, 4) (3, 4) (2, 4)\n",
      "(7, 5) (6, 5) (5, 5) (4, 5) (3, 5) (2, 5)\n",
      "(7, 6) (6, 6) (5, 6) (4, 6) (3, 6) (2, 6)\n",
      "\n",
      "\n",
      "i : 3\n",
      "\n",
      "(2, 1) (2, 2) (2, 3) (2, 4) (2, 5)\n",
      "(3, 1) (3, 2) (3, 3) (3, 4) (3, 5)\n",
      "(4, 1) (4, 2) (4, 3) (4, 4) (4, 5)\n",
      "(5, 1) (5, 2) (5, 3) (5, 4) (5, 5)\n",
      "(6, 1) (6, 2) (6, 3) (6, 4) (6, 5)\n",
      "(7, 1) (7, 2) (7, 3) (7, 4) (7, 5)\n",
      "\n",
      "\n",
      "i : 4\n",
      "\n",
      "(2, 5) (3, 5) (4, 5) (5, 5) (6, 5)\n",
      "(2, 4) (3, 4) (4, 4) (5, 4) (6, 4)\n",
      "(2, 3) (3, 3) (4, 3) (5, 3) (6, 3)\n",
      "(2, 2) (3, 2) (4, 2) (5, 2) (6, 2)\n",
      "(2, 1) (3, 1) (4, 1) (5, 1) (6, 1)\n",
      "\n",
      "\n",
      "i : 5\n",
      "\n",
      "(6, 5) (6, 4) (6, 3) (6, 2)\n",
      "(5, 5) (5, 4) (5, 3) (5, 2)\n",
      "(4, 5) (4, 4) (4, 3) (4, 2)\n",
      "(3, 5) (3, 4) (3, 3) (3, 2)\n",
      "(2, 5) (2, 4) (2, 3) (2, 2)\n",
      "\n",
      "\n",
      "i : 6\n",
      "\n",
      "(6, 2) (5, 2) (4, 2) (3, 2)\n",
      "(6, 3) (5, 3) (4, 3) (3, 3)\n",
      "(6, 4) (5, 4) (4, 4) (3, 4)\n",
      "(6, 5) (5, 5) (4, 5) (3, 5)\n",
      "\n",
      "\n",
      "i : 7\n",
      "\n",
      "(3, 2) (3, 3) (3, 4)\n",
      "(4, 2) (4, 3) (4, 4)\n",
      "(5, 2) (5, 3) (5, 4)\n",
      "(6, 2) (6, 3) (6, 4)\n",
      "\n",
      "\n",
      "i : 8\n",
      "\n",
      "(3, 4) (4, 4) (5, 4)\n",
      "(3, 3) (4, 3) (5, 3)\n",
      "(3, 2) (4, 2) (5, 2)\n",
      "\n",
      "\n",
      "i : 9\n",
      "\n",
      "(5, 4) (5, 3)\n",
      "(4, 4) (4, 3)\n",
      "(3, 4) (3, 3)\n",
      "\n",
      "\n",
      "i : 10\n",
      "\n",
      "(5, 3) (4, 3)\n",
      "(5, 4) (4, 4)\n",
      "\n",
      "\n",
      "i : 11\n",
      "\n",
      "(4, 3)\n",
      "(5, 3)\n",
      "\n",
      "\n",
      "i : 12\n",
      "\n",
      "(4, 3)\n",
      "\n",
      "\n",
      "[(1, 1), (1, 2), (1, 3), (1, 4), (1, 5), (1, 6), (2, 6), (3, 6), (4, 6), (5, 6), (6, 6), (7, 6), (7, 5), (7, 4), (7, 3), (7, 2), (7, 1), (6, 1), (5, 1), (4, 1), (3, 1), (2, 1), (2, 2), (2, 3), (2, 4), (2, 5), (3, 5), (4, 5), (5, 5), (6, 5), (6, 4), (6, 3), (6, 2), (5, 2), (4, 2), (3, 2), (3, 3), (3, 4), (4, 4), (5, 4), (5, 3), (4, 3)]\n"
     ]
    }
   ],
   "source": [
    "\"\"\"\n",
    "7 6\n",
    "11\n",
    "\"\"\"\n",
    "\n",
    "C, R = map(int, input().split())\n",
    "K = int(input())\n",
    "\n",
    "board = [[0] * C for _ in range(R)]\n",
    "for i in range(0, R):\n",
    "    for j in range(0, C):\n",
    "        board[i][j] = (j+1, R-i)\n",
    "        \n",
    "for row in board:\n",
    "    print(row)\n",
    "    \n",
    "print()\n",
    "\n",
    "lst = []\n",
    "i = 1\n",
    "while len(board) > 0:\n",
    "    print(f\"i : {i}\")\n",
    "    print()\n",
    "    board = [list(col) for col in reversed(list(zip(*board)))]\n",
    "\n",
    "    for row in board:\n",
    "        print(*row)\n",
    "\n",
    "    print()\n",
    "    x = board[-1]\n",
    "    x.reverse()\n",
    "    lst.extend(x)\n",
    "    print()\n",
    "    \n",
    "    board = board[:-1]\n",
    "    \n",
    "    i += 1\n",
    "    \n",
    "print(lst)\n",
    "print(K-1)\n"
   ]
  },
  {
   "cell_type": "code",
   "execution_count": null,
   "metadata": {},
   "outputs": [],
   "source": []
  },
  {
   "cell_type": "code",
   "execution_count": 53,
   "metadata": {},
   "outputs": [
    {
     "name": "stdout",
     "output_type": "stream",
     "text": [
      "0\n"
     ]
    }
   ],
   "source": [
    "\"\"\"\n",
    "7 6\n",
    "11\n",
    "\"\"\"\n",
    "\n",
    "C, R = map(int, input().split())\n",
    "K = int(input())\n",
    "\n",
    "board = [[0] * C for _ in range(R)]\n",
    "for i in range(0, R):\n",
    "    for j in range(0, C):\n",
    "        board[i][j] = (j+1, R-i)\n",
    "        \n",
    "lst = []\n",
    "i = 1\n",
    "while len(board) > 0:\n",
    "    board = [list(col) for col in reversed(list(zip(*board)))]\n",
    "\n",
    "    x = board[-1]\n",
    "    x.reverse()\n",
    "    lst.extend(x)\n",
    "    \n",
    "    board = board[:-1]\n",
    "    \n",
    "#print(lst)\n",
    "\n",
    "if K <= C * R:    \n",
    "    print(*(lst[K-1]))\n",
    "else:\n",
    "    print(0)"
   ]
  },
  {
   "cell_type": "code",
   "execution_count": null,
   "metadata": {},
   "outputs": [],
   "source": []
  },
  {
   "cell_type": "code",
   "execution_count": null,
   "metadata": {},
   "outputs": [],
   "source": []
  },
  {
   "cell_type": "code",
   "execution_count": 6,
   "metadata": {},
   "outputs": [
    {
     "name": "stdout",
     "output_type": "stream",
     "text": [
      "7 4 1\n",
      "8 5 2\n",
      "9 6 3\n"
     ]
    }
   ],
   "source": [
    "matrix = [[1, 2, 3],\n",
    "          [4, 5, 6],\n",
    "          [7, 8, 9]]\n",
    "\n",
    "rotated = [list(reversed(col)) for col in zip(*matrix)]\n",
    "\n",
    "for row in rotated:\n",
    "    print(*row)"
   ]
  },
  {
   "cell_type": "code",
   "execution_count": 8,
   "metadata": {},
   "outputs": [
    {
     "name": "stdout",
     "output_type": "stream",
     "text": [
      "[1, 2, 3] [4, 5, 6] [7, 8, 9]\n"
     ]
    }
   ],
   "source": [
    "matrix = [[1, 2, 3],\n",
    "          [4, 5, 6],\n",
    "          [7, 8, 9]]\n",
    "\n",
    "print(*matrix)"
   ]
  },
  {
   "cell_type": "code",
   "execution_count": 16,
   "metadata": {},
   "outputs": [
    {
     "name": "stdout",
     "output_type": "stream",
     "text": [
      "4 8 12\n",
      "3 7 11\n",
      "2 6 10\n",
      "1 5 9\n",
      "\n",
      "4 8 12\n",
      "3 7 11\n",
      "2 6 10\n"
     ]
    }
   ],
   "source": [
    "matrix = [[1, 2, 3, 4],\n",
    "          [5, 6, 7, 8],\n",
    "          [9, 10, 11, 12]]\n",
    "\n",
    "matrix = [list(col) for col in reversed(list(zip(*matrix)))]\n",
    "\n",
    "for row in matrix:\n",
    "    print(*row)\n",
    "\n",
    "print()    \n",
    "matrix = matrix[:-1]\n",
    "\n",
    "for row in matrix:\n",
    "    print(*row)"
   ]
  },
  {
   "cell_type": "code",
   "execution_count": 29,
   "metadata": {},
   "outputs": [
    {
     "name": "stdout",
     "output_type": "stream",
     "text": [
      "11 12 13 14\n",
      "15 16 17 18\n",
      "19 20 21 22\n",
      "\n",
      "14 18 22\n",
      "13 17 21\n",
      "12 16 20\n",
      "11 15 19\n",
      "\n",
      "14 18 22\n",
      "13 17 21\n",
      "12 16 20\n",
      "\n",
      "22 21 20\n",
      "18 17 16\n",
      "14 13 12\n",
      "\n",
      "22 21 20\n",
      "18 17 16\n",
      "\n",
      "20 16\n",
      "21 17\n",
      "22 18\n",
      "\n",
      "20 16\n",
      "21 17\n",
      "\n",
      "16 17\n",
      "20 21\n",
      "\n",
      "16 17\n",
      "\n",
      "17\n",
      "16\n",
      "\n",
      "17\n",
      "\n",
      "17\n",
      "\n",
      "\n",
      "[[19, 15, 11], [14, 13, 12], [22, 18], [21, 20], [16], [17]]\n"
     ]
    }
   ],
   "source": [
    "matrix = [[11, 12, 13, 14],\n",
    "          [15, 16, 17, 18],\n",
    "          [19, 20, 21, 22]]\n",
    "\n",
    "for row in matrix:\n",
    "    print(*row)\n",
    "print()\n",
    "\n",
    "lst = []\n",
    "while len(matrix) > 0:\n",
    "\n",
    "    matrix = [list(col) for col in reversed(list(zip(*matrix)))]\n",
    "\n",
    "    for row in matrix:\n",
    "        print(*row)\n",
    "\n",
    "    print() \n",
    "    \n",
    "    lst.append(sorted(matrix[-1], reverse=True))  \n",
    "    matrix = matrix[:-1]\n",
    "\n",
    "    for row in matrix:\n",
    "        print(*row)\n",
    "    print()\n",
    "    \n",
    "print(lst)"
   ]
  },
  {
   "cell_type": "code",
   "execution_count": 41,
   "metadata": {},
   "outputs": [
    {
     "name": "stdout",
     "output_type": "stream",
     "text": [
      "11 12 13 14\n",
      "15 16 17 18\n",
      "19 20 21 22\n",
      "\n",
      "i : 1\n",
      "\n",
      "14 18 22\n",
      "13 17 21\n",
      "12 16 20\n",
      "11 15 19\n",
      "\n",
      "\n",
      "i : 2\n",
      "\n",
      "22 21 20\n",
      "18 17 16\n",
      "14 13 12\n",
      "\n",
      "\n",
      "i : 3\n",
      "\n",
      "20 16\n",
      "21 17\n",
      "22 18\n",
      "\n",
      "\n",
      "i : 4\n",
      "\n",
      "16 17\n",
      "20 21\n",
      "\n",
      "\n",
      "i : 5\n",
      "\n",
      "17\n",
      "16\n",
      "\n",
      "\n",
      "i : 6\n",
      "\n",
      "17\n",
      "\n",
      "\n",
      "[19, 15, 11, 12, 13, 14, 18, 22, 21, 20, 16, 17]\n"
     ]
    }
   ],
   "source": [
    "matrix = [[11, 12, 13, 14],\n",
    "          [15, 16, 17, 18],\n",
    "          [19, 20, 21, 22]]\n",
    "\n",
    "for row in matrix:\n",
    "    print(*row)\n",
    "print()\n",
    "\n",
    "lst = []\n",
    "i = 1\n",
    "while len(matrix) > 0:\n",
    "    print(f\"i : {i}\")\n",
    "    print()\n",
    "    matrix = [list(col) for col in reversed(list(zip(*matrix)))]\n",
    "\n",
    "    for row in matrix:\n",
    "        print(*row)\n",
    "\n",
    "    print()\n",
    "    x = matrix[-1]\n",
    "    x.reverse()\n",
    "    lst.extend(x)\n",
    "    print()\n",
    "    \n",
    "    matrix = matrix[:-1]\n",
    "    \n",
    "    i += 1\n",
    "    \n",
    "print(lst)"
   ]
  },
  {
   "cell_type": "code",
   "execution_count": null,
   "metadata": {},
   "outputs": [],
   "source": []
  },
  {
   "cell_type": "code",
   "execution_count": 54,
   "metadata": {},
   "outputs": [
    {
     "name": "stdout",
     "output_type": "stream",
     "text": [
      "9 64\n"
     ]
    }
   ],
   "source": [
    "C, R = map(int, input().split())\n",
    "K = int(input())\n",
    "\n",
    "board = [[0] * C for _ in range(R)]\n",
    "for i in range(0, R):\n",
    "    for j in range(0, C):\n",
    "        board[i][j] = (j+1, R-i)\n",
    "        \n",
    "lst = []\n",
    "i = 1\n",
    "while board:\n",
    "    board = [list(col) for col in reversed(list(zip(*board)))]\n",
    "\n",
    "    x = board[-1]\n",
    "    x.reverse()\n",
    "    lst.extend(x)\n",
    "    \n",
    "    board = board[:-1]\n",
    "    \n",
    "#print(lst)\n",
    "\n",
    "if K <= C * R:    \n",
    "    print(*(lst[K-1]))\n",
    "else:\n",
    "    print(0)"
   ]
  },
  {
   "cell_type": "code",
   "execution_count": 58,
   "metadata": {},
   "outputs": [
    {
     "name": "stdout",
     "output_type": "stream",
     "text": [
      "9 64\n"
     ]
    }
   ],
   "source": [
    "C, R = map(int, input().split())\n",
    "K = int(input())\n",
    "\n",
    "board = [[0] * C for _ in range(R)]\n",
    "for i in range(0, R):\n",
    "    for j in range(0, C):\n",
    "        board[i][j] = (j+1, R-i)\n",
    "        \n",
    "lst = []\n",
    "i = 1\n",
    "while board:\n",
    "    board = [list(col) for col in reversed(list(zip(*board)))]\n",
    "    x = board[-1]\n",
    "    x.reverse()\n",
    "    lst.extend(x)    \n",
    "    board = board[:-1]\n",
    "\n",
    "if K <= C * R:    \n",
    "    print(*(lst[K-1]))\n",
    "else:\n",
    "    print(0)"
   ]
  },
  {
   "cell_type": "code",
   "execution_count": null,
   "metadata": {},
   "outputs": [],
   "source": []
  },
  {
   "cell_type": "code",
   "execution_count": null,
   "metadata": {},
   "outputs": [],
   "source": []
  },
  {
   "cell_type": "code",
   "execution_count": null,
   "metadata": {},
   "outputs": [],
   "source": []
  }
 ],
 "metadata": {
  "kernelspec": {
   "display_name": "base",
   "language": "python",
   "name": "python3"
  },
  "language_info": {
   "codemirror_mode": {
    "name": "ipython",
    "version": 3
   },
   "file_extension": ".py",
   "mimetype": "text/x-python",
   "name": "python",
   "nbconvert_exporter": "python",
   "pygments_lexer": "ipython3",
   "version": "3.9.12"
  }
 },
 "nbformat": 4,
 "nbformat_minor": 2
}
