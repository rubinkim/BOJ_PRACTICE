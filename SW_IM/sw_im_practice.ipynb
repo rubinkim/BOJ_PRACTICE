{
 "cells": [
  {
   "cell_type": "code",
   "execution_count": null,
   "metadata": {},
   "outputs": [],
   "source": [
    "TC = int(input())\n",
    "\n",
    "N1, M1 = map(int, input().split())\n",
    "arr1 = [[\"\"] * M1 for _ in range(N1)]\n",
    "for i in range(N1):\n",
    "    for j, x in enumerate(input()):\n",
    "        arr1[i][j] = x\n",
    "        \n",
    "N2, M2 = map(int, input().split())\n",
    "arr2 = [[\"\"] * M2 for _ in range(N2)]\n",
    "for i in range(N2):\n",
    "    for j, x in enumerate(input()):\n",
    "        arr2[i][j] = x\n",
    "        \n",
    "#print(TC)\n",
    "#print(N1, M1)\n",
    "\"\"\"\n",
    "for row in arr1:\n",
    "    print(row)\n",
    "print(N2, M2)\n",
    "for row in arr2:\n",
    "    print(row)\n",
    "    \n",
    "x = sum([sum([arr1[i][j] != 'W' for j in range(M1)]) for i in range(2)])\n",
    "print(x)\n",
    "\"\"\"\n",
    "\n",
    "def count_color(w, b, arr, n, m):\n",
    "    cnt = 0\n",
    "    cnt += sum([sum([arr[i][j] != 'W' for j in range(m)]) for i in range(w+1)])\n",
    "    cnt += sum([sum([arr[i][j] != 'B' for j in range(m)]) for i in range(w+1, b+1)])\n",
    "    cnt += sum([sum([arr[i][j] != 'R' for j in range(m)]) for i in range(b+1, n)])\n",
    "    return cnt\n",
    "\n",
    "#print(count_color(0, 1, arr2, N2, M2))\n",
    "\n",
    "cnt_lst = []\n",
    "for x in range(N1-2):\n",
    "    for y in range(x+1, N1-1):\n",
    "        #print(f\"x : {x},  y : {y},  cnt : {count_color(x, y, arr1, N1, M1)}\")\n",
    "        cnt_lst.append(count_color(x, y, arr1, N1, M1))\n",
    "print(f\"#1 {min(cnt_lst)}\")        \n",
    "\n",
    "cnt_lst = []\n",
    "for x in range(N2-2):\n",
    "    for y in range(x+1, N2-1):\n",
    "        #print(f\"x : {x},  y : {y},  cnt : {count_color(x, y, arr2, N2, M2)}\")\n",
    "        cnt_lst.append(count_color(x, y, arr2, N2, M2))\n",
    "print(f\"#1 {min(cnt_lst)}\")  "
   ]
  },
  {
   "cell_type": "code",
   "execution_count": null,
   "metadata": {},
   "outputs": [],
   "source": [
    "def count_color(w, b, arr, n, m):\n",
    "    cnt = 0\n",
    "    cnt += sum([sum([arr[i][j] != 'W' for j in range(m)]) for i in range(w+1)])\n",
    "    cnt += sum([sum([arr[i][j] != 'B' for j in range(m)]) for i in range(w+1, b+1)])\n",
    "    cnt += sum([sum([arr[i][j] != 'R' for j in range(m)]) for i in range(b+1, n)])\n",
    "    return cnt\n",
    "\n",
    "TC = int(input())\n",
    "for no in range(TC):\n",
    "    N, M = map(int, input().split())\n",
    "    arr = [[\"\"] * M for _ in range(N)]\n",
    "    for i in range(N):\n",
    "        for j, x in enumerate(input()):\n",
    "            arr[i][j] = x        \n",
    "\n",
    "    cnt_lst = []\n",
    "    for x in range(N-2):\n",
    "        for y in range(x+1, N-1):\n",
    "            cnt_lst.append(count_color(x, y, arr, N, M))\n",
    "    print(f\"#{no+1} {min(cnt_lst)}\")      "
   ]
  },
  {
   "cell_type": "code",
   "execution_count": 23,
   "metadata": {},
   "outputs": [
    {
     "name": "stdout",
     "output_type": "stream",
     "text": [
      "[1, 2, 3, 4, 6, 7]\n",
      "[1, 5, 2, 3, 4, 6, 7]\n"
     ]
    }
   ],
   "source": [
    "x = [1,2,3,4,5,6,7]\n",
    "y = []\n",
    "picked = 3\n",
    "idx = 4\n",
    "temp = x[idx]\n",
    "x.remove(temp)\n",
    "print(x)\n",
    "move_sp = idx - picked\n",
    "for i in range(len(x)+1):\n",
    "    if i < move_sp:\n",
    "        y.append(x[i])\n",
    "    elif i == move_sp:\n",
    "        y.append(temp)\n",
    "    else:\n",
    "        y.append(x[i-1])\n",
    "        \n",
    "print(y)"
   ]
  },
  {
   "cell_type": "code",
   "execution_count": null,
   "metadata": {},
   "outputs": [],
   "source": [
    "x = [1,2,3,4,5,6,7]\n",
    "y = []\n",
    "picked = 3\n",
    "idx = 4\n",
    "temp = x[idx]\n",
    "x.remove(temp)\n",
    "print(x)\n",
    "move_sp = idx - picked\n",
    "for i in range(len(x)+1):\n",
    "    if i < move_sp:\n",
    "        y.append(x[i])\n",
    "    elif i == move_sp:\n",
    "        y.append(temp)\n",
    "    else:\n",
    "        y.append(x[i-1])\n",
    "        \n",
    "print(y)"
   ]
  },
  {
   "cell_type": "code",
   "execution_count": 28,
   "metadata": {},
   "outputs": [
    {
     "name": "stdout",
     "output_type": "stream",
     "text": [
      "[1, 2, 3, 4, 5, 1, 2, 3, 4, 5, 1, 2, 3, 4, 5, 1, 2, 3, 4, 5, 1, 2, 3, 4, 5]\n"
     ]
    }
   ],
   "source": [
    "N = int(input())\n",
    "picked = list(map(int, input().split()))\n",
    "students = [x for x in range(1, N+1)]\n",
    "new_students = []\n",
    "\n",
    "for p in picked:\n",
    "    for i in range(len(students)):\n",
    "        temp = students[i]\n",
    "        #students.remove(students[i])\n",
    "        move = i - p\n",
    "        if i < move:\n",
    "            new_students.append(students[i])\n",
    "        elif i == move:\n",
    "            new_students.append(temp)\n",
    "        else:\n",
    "            new_students.append(students[i])\n",
    "            \n",
    "print(new_students)"
   ]
  },
  {
   "cell_type": "code",
   "execution_count": 36,
   "metadata": {},
   "outputs": [
    {
     "name": "stdout",
     "output_type": "stream",
     "text": [
      "students : [1, 2, 3, 4, 5]\n",
      "i : 0,  p : 0,  move : 0,  students : [1, 2, 3, 4, 5]\n",
      "i : 1,  p : 1,  move : 0,  students : [2, 1, 3, 4, 5]\n",
      "i : 2,  p : 1,  move : 1,  students : [2, 3, 1, 4, 5]\n",
      "i : 3,  p : 3,  move : 0,  students : [4, 3, 1, 2, 5]\n",
      "i : 4,  p : 2,  move : 2,  students : [4, 3, 5, 2, 1]\n"
     ]
    }
   ],
   "source": [
    "N = int(input())\n",
    "picked = list(map(int, input().split()))\n",
    "students = [x for x in range(1, N+1)]\n",
    "print(f\"students : {students}\")\n",
    "\n",
    "for i, p in enumerate(picked):\n",
    "    move = i - p    \n",
    "    students[i], students[i-p] = students[i-p], students[i]    \n",
    "    print(f\"i : {i},  p : {p},  move : {move},  students : {students}\")"
   ]
  },
  {
   "cell_type": "code",
   "execution_count": 40,
   "metadata": {},
   "outputs": [
    {
     "name": "stdout",
     "output_type": "stream",
     "text": [
      "4 2 5 3 1\n"
     ]
    }
   ],
   "source": [
    "N = int(input())\n",
    "picked = list(map(int, input().split()))\n",
    "students = [x for x in range(1, N+1)]\n",
    "\n",
    "for i, p in enumerate(picked):\n",
    "    move = i - p\n",
    "    temp = students[i]\n",
    "    students.remove(temp)\n",
    "    students.insert(move, temp)\n",
    "print(*students)   "
   ]
  },
  {
   "cell_type": "code",
   "execution_count": null,
   "metadata": {},
   "outputs": [],
   "source": [
    "#-*- coding: utf-8 -*-\n",
    "\n",
    "\"\"\"\n",
    "5\n",
    "0 1 1 3 2\n",
    "\n",
    "4 2 5 3 1\n",
    "\"\"\"\n",
    "# 클래스와 함수 선언 부분\n",
    "class Node():\n",
    "    def __init__(self):\n",
    "        self.data = None\n",
    "        self.link = None\n",
    "        \n",
    "def printNodes(start):\n",
    "    current = start\n",
    "    if current == None:\n",
    "        return\n",
    "    print(current.data, end=' ')\n",
    "    while current.link != None:\n",
    "        current = current.link\n",
    "        print(current.data, end=' ')\n",
    "    print()\n",
    "        \n",
    "# 노드삽입(findData앞에 insertData를 삽입한다.)\n",
    "def insertNode(findData, insertData):\n",
    "    global memory, head, current, pre\n",
    "    if head.data == findData:   # 첫번째 위치에 데이터삽입\n",
    "        node = Node()\n",
    "        node.data = insertData\n",
    "        node.link = head\n",
    "        head = node\n",
    "        return\n",
    "    \n",
    "    current = head\n",
    "    while current.link != None: # 중간 위치에 데이터삽입\n",
    "        pre = current\n",
    "        current = current.link\n",
    "        if current.data == findData:\n",
    "            node = Node()\n",
    "            node.data = insertData\n",
    "            node.link = current\n",
    "            pre.link = node\n",
    "            return\n",
    "        node = Node()            # 마지막 위치에 데이터삽입\n",
    "        node.data = insertData\n",
    "        current.link = node\n",
    "            \n",
    "# 노드삭제\n",
    "def deleteNode(deleteData):\n",
    "    global memory, head, current, pre\n",
    "    if head.data == deleteData:  # 첫번째 위치에 데이터삭제\n",
    "        current = head\n",
    "        head = head.link\n",
    "        del(current)\n",
    "        return\n",
    "    \n",
    "    current = head               # 첫번째외의 위치에 데이터삭제\n",
    "    while current.link != None:\n",
    "        pre = current\n",
    "        current = current.link\n",
    "        if current.data == deleteData:\n",
    "            pre.link = current.link\n",
    "            del(current)\n",
    "            return\n",
    "            \n",
    "import sys\n",
    "input = sys.stdin.readline\n",
    "\n",
    "N = int(input())\n",
    "picked = list(map(int, input().split()))\n",
    "dataArray = [x for x in range(1, N+1)]\n",
    "memory = []\n",
    "head, current, pre = None, None, None\n",
    "\n",
    "if __name__ == '__main__':                \n",
    "    node = Node()                    # 첫번째 노드\n",
    "    node.data = dataArray[0]\n",
    "    head = node\n",
    "    memory.append(node)\n",
    "    \n",
    "    for data in dataArray[1:]:       # 두번째 이후 노드\n",
    "        pre = node\n",
    "        node = Node()\n",
    "        node.data = data\n",
    "        pre.link = node\n",
    "        memory.append(node)\n",
    "        \n",
    "    for row in memory:\n",
    "        print(row)\n",
    "    \n",
    "    print()\n",
    "    printNodes(head)\n",
    "    print()\n",
    "    \n",
    "    for i, p in enumerate(picked):\n",
    "        move = i - p\n",
    "        val = dataArray[i]\n",
    "        if move == 0:\n",
    "            \n",
    "    \n",
    "    \n",
    "\n",
    "        "
   ]
  },
  {
   "cell_type": "markdown",
   "metadata": {},
   "source": [
    "#### 02/25/24"
   ]
  },
  {
   "cell_type": "code",
   "execution_count": 4,
   "metadata": {},
   "outputs": [],
   "source": [
    "#-*- coding: utf-8 -*-\n",
    "\n",
    "\"\"\"\n",
    "5\n",
    "0 1 1 3 2\n",
    "\n",
    "4 2 5 3 1\n",
    "\"\"\"\n",
    "# 클래스와 함수 선언 부분\n",
    "class Node():\n",
    "    def __init__(self):\n",
    "        self.data = None\n",
    "        self.link = None\n",
    "        \n",
    "def printNodes(start):\n",
    "    current = start\n",
    "    if current == None:\n",
    "        return\n",
    "    print(current.data, end=' ')\n",
    "    while current.link != None:\n",
    "        current = current.link\n",
    "        print(current.data, end=' ')\n",
    "    print()\n",
    "        \n",
    "# 노드삽입(findData앞에 insertData를 삽입한다.)\n",
    "def insertNode(findData, insertData):\n",
    "    global memory, head, current, pre\n",
    "    if head.data == findData:   # 첫번째 위치에 데이터삽입\n",
    "        node = Node()\n",
    "        node.data = insertData\n",
    "        node.link = head\n",
    "        head = node\n",
    "        return\n",
    "    \n",
    "    current = head\n",
    "    while current.link != None: # 중간 위치에 데이터삽입\n",
    "        pre = current\n",
    "        current = current.link\n",
    "        if current.data == findData:\n",
    "            node = Node()\n",
    "            node.data = insertData\n",
    "            node.link = current\n",
    "            pre.link = node\n",
    "            return\n",
    "        node = Node()            # 마지막 위치에 데이터삽입\n",
    "        node.data = insertData\n",
    "        current.link = node\n",
    "            \n",
    "# 노드삭제\n",
    "def deleteNode(deleteData):\n",
    "    global memory, head, current, pre\n",
    "    if head.data == deleteData:  # 첫번째 위치에 데이터삭제\n",
    "        current = head\n",
    "        head = head.link\n",
    "        del(current)\n",
    "        return\n",
    "    \n",
    "    current = head               # 첫번째외의 위치에 데이터삭제\n",
    "    while current.link != None:\n",
    "        pre = current\n",
    "        current = current.link\n",
    "        if current.data == deleteData:\n",
    "            pre.link = current.link\n",
    "            del(current)\n",
    "            return      "
   ]
  },
  {
   "cell_type": "code",
   "execution_count": 5,
   "metadata": {},
   "outputs": [],
   "source": [
    "#-*- coding: utf-8 -*-\n",
    "\n",
    "\"\"\"\n",
    "5\n",
    "0 1 1 3 2\n",
    "\n",
    "4 2 5 3 1\n",
    "\"\"\"\n",
    "# 클래스와 함수 선언 부분\n",
    "class Node():\n",
    "    def __init__(self):\n",
    "        self.data = None\n",
    "        self.link = None\n",
    "        \n",
    "def printNodes(start):\n",
    "    global dataArray\n",
    "    dataArray = []\n",
    "    current = start\n",
    "    if current == None:\n",
    "        return\n",
    "    #print(current.data, end=' ')\n",
    "    dataArray.append(current.data)\n",
    "    while current.link != None:\n",
    "        current = current.link\n",
    "        #print(current.data, end=' ')\n",
    "        dataArray.append(current.data)\n",
    "    return dataArray\n",
    "        \n",
    "# 노드삽입(findData앞에 insertData를 삽입한다.)\n",
    "def insertNode(findData, insertData):\n",
    "    global memory, head, current, pre\n",
    "    if head.data == findData:   # 첫번째 위치에 데이터삽입\n",
    "        node = Node()\n",
    "        node.data = insertData\n",
    "        node.link = head\n",
    "        head = node\n",
    "        return\n",
    "    \n",
    "    current = head\n",
    "    while current.link != None: # 중간 위치에 데이터삽입\n",
    "        pre = current\n",
    "        current = current.link\n",
    "        if current.data == findData:\n",
    "            node = Node()\n",
    "            node.data = insertData\n",
    "            node.link = current\n",
    "            pre.link = node\n",
    "            return\n",
    "        node = Node()            # 마지막 위치에 데이터삽입\n",
    "        node.data = insertData\n",
    "        current.link = node\n",
    "            \n",
    "# 노드삭제\n",
    "def deleteNode(deleteData):\n",
    "    global memory, head, current, pre\n",
    "    if head.data == deleteData:  # 첫번째 위치에 데이터삭제\n",
    "        current = head\n",
    "        head = head.link\n",
    "        del(current)\n",
    "        return\n",
    "    \n",
    "    current = head               # 첫번째외의 위치에 데이터삭제\n",
    "    while current.link != None:\n",
    "        pre = current\n",
    "        current = current.link\n",
    "        if current.data == deleteData:\n",
    "            pre.link = current.link\n",
    "            del(current)\n",
    "            return      "
   ]
  },
  {
   "cell_type": "code",
   "execution_count": 6,
   "metadata": {},
   "outputs": [
    {
     "name": "stdout",
     "output_type": "stream",
     "text": [
      "N : 5\n",
      "picked : [0, 1, 1, 3, 2]\n",
      "dataArray : [1, 2, 3, 4, 5]\n"
     ]
    }
   ],
   "source": [
    "N = int(input())\n",
    "picked = list(map(int, input().split()))\n",
    "dataArray = [x for x in range(1, N+1)]\n",
    "print(f\"N : {N}\")\n",
    "print(f\"picked : {picked}\")\n",
    "print(f\"dataArray : {dataArray}\")"
   ]
  },
  {
   "cell_type": "code",
   "execution_count": 7,
   "metadata": {},
   "outputs": [
    {
     "data": {
      "text/plain": [
       "[1, 2, 3, 4, 5]"
      ]
     },
     "execution_count": 7,
     "metadata": {},
     "output_type": "execute_result"
    }
   ],
   "source": [
    "memory = []\n",
    "head, current, pre = None, None, None \n",
    "\n",
    "node = Node()\n",
    "node.data = dataArray[0]\n",
    "head = node\n",
    "memory.append(node)\n",
    "\n",
    "for data in dataArray[1:]:\n",
    "    pre = node\n",
    "    node = Node()\n",
    "    node.data = data\n",
    "    pre.link = node\n",
    "    memory.append(node)\n",
    "    \n",
    "printNodes(head)"
   ]
  },
  {
   "cell_type": "code",
   "execution_count": 11,
   "metadata": {},
   "outputs": [
    {
     "name": "stdout",
     "output_type": "stream",
     "text": [
      "data : 1,  link : <__main__.Node object at 0x00000169295D3B50>\n",
      "data : 2,  link : <__main__.Node object at 0x00000169295D3B20>\n",
      "data : 3,  link : <__main__.Node object at 0x00000169295D3CD0>\n",
      "data : 4,  link : <__main__.Node object at 0x00000169295D3CD0>\n",
      "data : 5,  link : None\n"
     ]
    }
   ],
   "source": [
    "for row in memory:\n",
    "    print(f\"data : {row.data},  link : {row.link}\")"
   ]
  },
  {
   "cell_type": "code",
   "execution_count": 12,
   "metadata": {},
   "outputs": [
    {
     "data": {
      "text/plain": [
       "[<__main__.Node at 0x26154d0cdc0>,\n",
       " <__main__.Node at 0x26154d0cc40>,\n",
       " <__main__.Node at 0x26154d0c610>,\n",
       " <__main__.Node at 0x26154d0cbb0>,\n",
       " <__main__.Node at 0x26154d0c970>]"
      ]
     },
     "execution_count": 12,
     "metadata": {},
     "output_type": "execute_result"
    }
   ],
   "source": [
    "dataArray = []\n",
    "for row in memory:\n",
    "    dataArray.append(row.data)"
   ]
  },
  {
   "cell_type": "code",
   "execution_count": 4,
   "metadata": {},
   "outputs": [
    {
     "name": "stdout",
     "output_type": "stream",
     "text": [
      "insert_data : 4,  finding_data : 1\n"
     ]
    },
    {
     "data": {
      "text/plain": [
       "[4, 1, 2, 3, 5]"
      ]
     },
     "execution_count": 4,
     "metadata": {},
     "output_type": "execute_result"
    }
   ],
   "source": [
    "i, p = 3, 3\n",
    "move = i - p\n",
    "insert_data = dataArray[i]\n",
    "finding_data = dataArray[picked[move]]\n",
    "print(f\"insert_data : {insert_data},  finding_data : {finding_data}\")\n",
    "\n",
    "deleteNode(insert_data)\n",
    "insertNode(finding_data, insert_data)\n",
    "\n",
    "printNodes(head)"
   ]
  },
  {
   "cell_type": "code",
   "execution_count": 23,
   "metadata": {},
   "outputs": [
    {
     "name": "stdout",
     "output_type": "stream",
     "text": [
      "1\n",
      "1\n",
      "2\n",
      "3\n",
      "4\n",
      "5\n"
     ]
    }
   ],
   "source": [
    "for row in memory:\n",
    "    print(row.data)"
   ]
  },
  {
   "cell_type": "code",
   "execution_count": 5,
   "metadata": {},
   "outputs": [
    {
     "name": "stdout",
     "output_type": "stream",
     "text": [
      "[1, 2, 3, 4, 5]\n"
     ]
    }
   ],
   "source": [
    "dataArray = []\n",
    "for row in memory:\n",
    "    dataArray.append(row.data)\n",
    "\n",
    "print(dataArray)"
   ]
  },
  {
   "cell_type": "code",
   "execution_count": 8,
   "metadata": {},
   "outputs": [
    {
     "name": "stdout",
     "output_type": "stream",
     "text": [
      "i : 0,  p : 0,  move : 0,  finding_data : 1,  insert_data : 1,    [1, 2, 3, 4, 5]\n",
      "\n",
      "i : 1,  p : 1,  move : 0,  finding_data : 1,  insert_data : 2,    [2, 1, 3, 4, 5]\n",
      "\n",
      "i : 2,  p : 1,  move : 1,  finding_data : 1,  insert_data : 3,    [2, 3, 1, 4, 5]\n",
      "\n",
      "i : 3,  p : 3,  move : 0,  finding_data : 2,  insert_data : 4,    [4, 2, 3, 1, 5]\n",
      "\n"
     ]
    }
   ],
   "source": [
    "for i, p in enumerate(picked):  \n",
    "    \n",
    "    move = i - p\n",
    "    finding_data = dataArray[move]\n",
    "    insert_data = dataArray[i]\n",
    "    \n",
    "    if i != move:\n",
    "        deleteNode(insert_data)\n",
    "        insertNode(finding_data, insert_data)\n",
    "    print(f\"i : {i},  p : {p},  move : {move},  finding_data : {finding_data},  insert_data : {insert_data}\",  end=',    ')    \n",
    "    print(printNodes(head))   "
   ]
  },
  {
   "cell_type": "code",
   "execution_count": 1,
   "metadata": {},
   "outputs": [
    {
     "ename": "NameError",
     "evalue": "name 'dataArray' is not defined",
     "output_type": "error",
     "traceback": [
      "\u001b[1;31m---------------------------------------------------------------------------\u001b[0m",
      "\u001b[1;31mNameError\u001b[0m                                 Traceback (most recent call last)",
      "Input \u001b[1;32mIn [1]\u001b[0m, in \u001b[0;36m<cell line: 1>\u001b[1;34m()\u001b[0m\n\u001b[1;32m----> 1\u001b[0m \u001b[43mdataArray\u001b[49m\n",
      "\u001b[1;31mNameError\u001b[0m: name 'dataArray' is not defined"
     ]
    }
   ],
   "source": [
    "dataArray"
   ]
  },
  {
   "cell_type": "code",
   "execution_count": null,
   "metadata": {},
   "outputs": [],
   "source": []
  },
  {
   "cell_type": "code",
   "execution_count": null,
   "metadata": {},
   "outputs": [],
   "source": []
  },
  {
   "cell_type": "code",
   "execution_count": null,
   "metadata": {},
   "outputs": [],
   "source": []
  },
  {
   "cell_type": "code",
   "execution_count": null,
   "metadata": {},
   "outputs": [],
   "source": []
  },
  {
   "cell_type": "code",
   "execution_count": null,
   "metadata": {},
   "outputs": [],
   "source": []
  },
  {
   "cell_type": "code",
   "execution_count": null,
   "metadata": {},
   "outputs": [],
   "source": []
  },
  {
   "cell_type": "code",
   "execution_count": null,
   "metadata": {},
   "outputs": [],
   "source": []
  },
  {
   "cell_type": "code",
   "execution_count": null,
   "metadata": {},
   "outputs": [],
   "source": []
  },
  {
   "cell_type": "markdown",
   "metadata": {},
   "source": [
    "#### 02/25/24 final version"
   ]
  },
  {
   "cell_type": "code",
   "execution_count": 21,
   "metadata": {},
   "outputs": [],
   "source": [
    "#-*- coding: utf-8 -*-\n",
    "\n",
    "\"\"\"\n",
    "5\n",
    "0 1 1 3 2\n",
    "\n",
    "4 2 5 3 1\n",
    "\"\"\"\n",
    "# 클래스와 함수 선언 부분\n",
    "class Node():\n",
    "    def __init__(self):\n",
    "        self.data = None\n",
    "        self.link = None\n",
    "        \n",
    "def printNodes(start):\n",
    "    global dataArray\n",
    "    dataArray = []\n",
    "    current = start\n",
    "    if current == None:\n",
    "        return\n",
    "    #print(current.data, end=' ')\n",
    "    dataArray.append(current.data)\n",
    "    while current.link != None:\n",
    "        current = current.link\n",
    "        #print(current.data, end=' ')\n",
    "        dataArray.append(current.data)\n",
    "    return dataArray\n",
    "        \n",
    "# 노드삽입(findData앞에 insertData를 삽입한다.)\n",
    "def insertNode(findData, insertData):\n",
    "    global memory, head, current, pre\n",
    "    if head.data == findData:   # 첫번째 위치에 데이터삽입\n",
    "        node = Node()\n",
    "        node.data = insertData\n",
    "        node.link = head\n",
    "        head = node\n",
    "        return\n",
    "    \n",
    "    current = head\n",
    "    while current.link != None: # 중간 위치에 데이터삽입\n",
    "        pre = current\n",
    "        current = current.link\n",
    "        if current.data == findData:\n",
    "            node = Node()\n",
    "            node.data = insertData\n",
    "            node.link = current\n",
    "            pre.link = node\n",
    "            return\n",
    "    node = Node()            # 마지막 위치에 데이터삽입\n",
    "    node.data = insertData\n",
    "    current.link = node\n",
    "        \n",
    "# 노드삭제\n",
    "def deleteNode(deleteData):\n",
    "    global memory, head, current, pre\n",
    "    if head.data == deleteData:  # 첫번째 위치에 데이터삭제\n",
    "        current = head\n",
    "        head = head.link\n",
    "        del(current)\n",
    "        return\n",
    "    \n",
    "    current = head               # 첫번째외의 위치에 데이터삭제\n",
    "    while current.link != None:\n",
    "        pre = current\n",
    "        current = current.link\n",
    "        if current.data == deleteData:\n",
    "            pre.link = current.link\n",
    "            del(current)\n",
    "            return      "
   ]
  },
  {
   "cell_type": "code",
   "execution_count": 22,
   "metadata": {},
   "outputs": [
    {
     "name": "stdout",
     "output_type": "stream",
     "text": [
      "N : 5\n",
      "picked : [0, 1, 1, 3, 2]\n",
      "dataArray : [1, 2, 3, 4, 5]\n"
     ]
    }
   ],
   "source": [
    "N = int(input())\n",
    "picked = list(map(int, input().split()))\n",
    "dataArray = [x for x in range(1, N+1)]\n",
    "print(f\"N : {N}\")\n",
    "print(f\"picked : {picked}\")\n",
    "print(f\"dataArray : {dataArray}\")"
   ]
  },
  {
   "cell_type": "code",
   "execution_count": 23,
   "metadata": {},
   "outputs": [
    {
     "data": {
      "text/plain": [
       "[1, 2, 3, 4, 5]"
      ]
     },
     "execution_count": 23,
     "metadata": {},
     "output_type": "execute_result"
    }
   ],
   "source": [
    "memory = []\n",
    "head, current, pre = None, None, None \n",
    "\n",
    "node = Node()\n",
    "node.data = dataArray[0]\n",
    "head = node\n",
    "memory.append(node)\n",
    "\n",
    "for data in dataArray[1:]:\n",
    "    pre = node\n",
    "    node = Node()\n",
    "    node.data = data\n",
    "    pre.link = node\n",
    "    memory.append(node)\n",
    "    \n",
    "printNodes(head)"
   ]
  },
  {
   "cell_type": "code",
   "execution_count": 24,
   "metadata": {},
   "outputs": [
    {
     "name": "stdout",
     "output_type": "stream",
     "text": [
      "4 2 5 3 1\n"
     ]
    }
   ],
   "source": [
    "for i, p in enumerate(picked):  \n",
    "    \n",
    "    move = i - p\n",
    "    finding_data = dataArray[move]\n",
    "    insert_data = dataArray[i]\n",
    "    \n",
    "    if i != move:\n",
    "        deleteNode(insert_data)\n",
    "        insertNode(finding_data, insert_data)\n",
    "    #print(f\"head_data : {head.data},  i : {i},  p : {p},  move : {move},  finding_data : {finding_data},  insert_data : {insert_data}\",  end=',    ')    \n",
    "    printNodes(head)\n",
    "    \n",
    "print(*printNodes(head))"
   ]
  },
  {
   "cell_type": "code",
   "execution_count": 16,
   "metadata": {},
   "outputs": [
    {
     "name": "stdout",
     "output_type": "stream",
     "text": [
      "5 3 2 4 1\n"
     ]
    }
   ],
   "source": [
    "for i, p in enumerate(picked):  \n",
    "    \n",
    "    move = i - p\n",
    "    finding_data = dataArray[move]\n",
    "    insert_data = dataArray[i]\n",
    "    \n",
    "    if i != move:\n",
    "        deleteNode(insert_data)\n",
    "        insertNode(finding_data, insert_data)\n",
    "    #print(f\"head_data : {head.data},  i : {i},  p : {p},  move : {move},  finding_data : {finding_data},  insert_data : {insert_data}\",  end=',    ')    \n",
    "print(*printNodes(head))   "
   ]
  },
  {
   "cell_type": "code",
   "execution_count": null,
   "metadata": {},
   "outputs": [],
   "source": []
  },
  {
   "cell_type": "code",
   "execution_count": null,
   "metadata": {},
   "outputs": [],
   "source": []
  },
  {
   "cell_type": "code",
   "execution_count": null,
   "metadata": {},
   "outputs": [],
   "source": []
  },
  {
   "cell_type": "code",
   "execution_count": null,
   "metadata": {},
   "outputs": [],
   "source": []
  },
  {
   "cell_type": "code",
   "execution_count": null,
   "metadata": {},
   "outputs": [],
   "source": []
  },
  {
   "cell_type": "code",
   "execution_count": null,
   "metadata": {},
   "outputs": [],
   "source": []
  },
  {
   "cell_type": "code",
   "execution_count": null,
   "metadata": {},
   "outputs": [],
   "source": []
  },
  {
   "cell_type": "code",
   "execution_count": 25,
   "metadata": {},
   "outputs": [
    {
     "name": "stdout",
     "output_type": "stream",
     "text": [
      "4 2 5 3 1\n"
     ]
    }
   ],
   "source": [
    "#-*- coding: utf-8 -*-\n",
    "\n",
    "\"\"\"\n",
    "5\n",
    "0 1 1 3 2\n",
    "\n",
    "4 2 5 3 1\n",
    "\"\"\"\n",
    "# 클래스와 함수 선언 부분\n",
    "class Node():\n",
    "    def __init__(self):\n",
    "        self.data = None\n",
    "        self.link = None\n",
    "        \n",
    "def printNodes(start):\n",
    "    global dataArray\n",
    "    dataArray = []\n",
    "    current = start\n",
    "    if current == None:\n",
    "        return\n",
    "    #print(current.data, end=' ')\n",
    "    dataArray.append(current.data)\n",
    "    while current.link != None:\n",
    "        current = current.link\n",
    "        #print(current.data, end=' ')\n",
    "        dataArray.append(current.data)\n",
    "    return dataArray\n",
    "        \n",
    "# 노드삽입(findData앞에 insertData를 삽입한다.)\n",
    "def insertNode(findData, insertData):\n",
    "    global memory, head, current, pre\n",
    "    if head.data == findData:   # 첫번째 위치에 데이터삽입\n",
    "        node = Node()\n",
    "        node.data = insertData\n",
    "        node.link = head\n",
    "        head = node\n",
    "        return\n",
    "    \n",
    "    current = head\n",
    "    while current.link != None: # 중간 위치에 데이터삽입\n",
    "        pre = current\n",
    "        current = current.link\n",
    "        if current.data == findData:\n",
    "            node = Node()\n",
    "            node.data = insertData\n",
    "            node.link = current\n",
    "            pre.link = node\n",
    "            return\n",
    "    node = Node()            # 마지막 위치에 데이터삽입\n",
    "    node.data = insertData\n",
    "    current.link = node\n",
    "        \n",
    "# 노드삭제\n",
    "def deleteNode(deleteData):\n",
    "    global memory, head, current, pre\n",
    "    if head.data == deleteData:  # 첫번째 위치에 데이터삭제\n",
    "        current = head\n",
    "        head = head.link\n",
    "        del(current)\n",
    "        return\n",
    "    \n",
    "    current = head               # 첫번째외의 위치에 데이터삭제\n",
    "    while current.link != None:\n",
    "        pre = current\n",
    "        current = current.link\n",
    "        if current.data == deleteData:\n",
    "            pre.link = current.link\n",
    "            del(current)\n",
    "            return \n",
    "        \n",
    "if __name__ == '__main__':       \n",
    "    N = int(input())\n",
    "    picked = list(map(int, input().split()))\n",
    "    dataArray = [x for x in range(1, N+1)]\n",
    "\n",
    "\n",
    "    memory = []\n",
    "    head, current, pre = None, None, None \n",
    "\n",
    "    node = Node()\n",
    "    node.data = dataArray[0]\n",
    "    head = node\n",
    "    memory.append(node)\n",
    "\n",
    "    for data in dataArray[1:]:\n",
    "        pre = node\n",
    "        node = Node()\n",
    "        node.data = data\n",
    "        pre.link = node\n",
    "        memory.append(node)\n",
    "\n",
    "    for i, p in enumerate(picked):  \n",
    "        \n",
    "        move = i - p\n",
    "        finding_data = dataArray[move]\n",
    "        insert_data = dataArray[i]\n",
    "        \n",
    "        if i != move:\n",
    "            deleteNode(insert_data)\n",
    "            insertNode(finding_data, insert_data)\n",
    "        #print(f\"head_data : {head.data},  i : {i},  p : {p},  move : {move},  finding_data : {finding_data},  insert_data : {insert_data}\",  end=',    ')    \n",
    "        printNodes(head)\n",
    "        \n",
    "    print(*printNodes(head))"
   ]
  },
  {
   "cell_type": "code",
   "execution_count": 26,
   "metadata": {},
   "outputs": [
    {
     "name": "stdout",
     "output_type": "stream",
     "text": [
      "4 2 5 3 1\n"
     ]
    }
   ],
   "source": [
    "#-*- coding: utf-8 -*-\n",
    "\n",
    "\"\"\"\n",
    "5\n",
    "0 1 1 3 2\n",
    "\n",
    "4 2 5 3 1\n",
    "\"\"\"\n",
    "# 클래스와 함수 선언 부분\n",
    "class Node():\n",
    "    def __init__(self):\n",
    "        self.data = None\n",
    "        self.link = None\n",
    "        \n",
    "def outputNodes(start):\n",
    "    global dataArray\n",
    "    dataArray = []\n",
    "    \n",
    "    current = start\n",
    "    if current == None:\n",
    "        return\n",
    "    #print(current.data, end=' ')\n",
    "    dataArray.append(current.data)\n",
    "    while current.link != None:\n",
    "        current = current.link\n",
    "        #print(current.data, end=' ')\n",
    "        dataArray.append(current.data)\n",
    "    return dataArray\n",
    "        \n",
    "# 노드삽입(findData앞에 insertData를 삽입한다.)\n",
    "def insertNode(findData, insertData):\n",
    "    global memory, head, current, pre\n",
    "    if head.data == findData:   # 첫번째 위치에 데이터삽입\n",
    "        node = Node()\n",
    "        node.data = insertData\n",
    "        node.link = head\n",
    "        head = node\n",
    "        return\n",
    "    \n",
    "    current = head\n",
    "    while current.link != None: # 중간 위치에 데이터삽입\n",
    "        pre = current\n",
    "        current = current.link\n",
    "        if current.data == findData:\n",
    "            node = Node()\n",
    "            node.data = insertData\n",
    "            node.link = current\n",
    "            pre.link = node\n",
    "            return\n",
    "    node = Node()            # 마지막 위치에 데이터삽입\n",
    "    node.data = insertData\n",
    "    current.link = node\n",
    "        \n",
    "# 노드삭제\n",
    "def deleteNode(deleteData):\n",
    "    global memory, head, current, pre\n",
    "    if head.data == deleteData:  # 첫번째 위치에 데이터삭제\n",
    "        current = head\n",
    "        head = head.link\n",
    "        del(current)\n",
    "        return\n",
    "    \n",
    "    current = head               # 첫번째외의 위치에 데이터삭제\n",
    "    while current.link != None:\n",
    "        pre = current\n",
    "        current = current.link\n",
    "        if current.data == deleteData:\n",
    "            pre.link = current.link\n",
    "            del(current)\n",
    "            return \n",
    "        \n",
    "if __name__ == '__main__':       \n",
    "    N = int(input())\n",
    "    picked = list(map(int, input().split()))\n",
    "    dataArray = [x for x in range(1, N+1)]\n",
    "\n",
    "\n",
    "    memory = []\n",
    "    head, current, pre = None, None, None \n",
    "\n",
    "    node = Node()\n",
    "    node.data = dataArray[0]\n",
    "    head = node\n",
    "    memory.append(node)\n",
    "\n",
    "    for data in dataArray[1:]:\n",
    "        pre = node\n",
    "        node = Node()\n",
    "        node.data = data\n",
    "        pre.link = node\n",
    "        memory.append(node)\n",
    "\n",
    "    for i, p in enumerate(picked):  \n",
    "        \n",
    "        move = i - p\n",
    "        finding_data = dataArray[move]\n",
    "        insert_data = dataArray[i]\n",
    "        \n",
    "        if i != move:\n",
    "            deleteNode(insert_data)\n",
    "            insertNode(finding_data, insert_data)\n",
    "        #print(f\"head_data : {head.data},  i : {i},  p : {p},  move : {move},  finding_data : {finding_data},  insert_data : {insert_data}\",  end=',    ')    \n",
    "        outputNodes(head)\n",
    "        \n",
    "    print(*outputNodes(head))"
   ]
  },
  {
   "cell_type": "code",
   "execution_count": 5,
   "metadata": {},
   "outputs": [
    {
     "name": "stdout",
     "output_type": "stream",
     "text": [
      "i : 1,  lst : [4, 4, 1, 5, 8, 6, 10, 7, 2, 9]\n",
      "i : 2,  lst : [1, 4, 1, 5, 8, 6, 10, 7, 2, 9]\n",
      "i : 3,  lst : [1, 4, 1, 5, 8, 6, 10, 7, 2, 9]\n",
      "i : 4,  lst : [1, 4, 1, 5, 8, 6, 10, 7, 2, 9]\n",
      "i : 5,  lst : [1, 4, 1, 5, 8, 8, 10, 7, 2, 9]\n",
      "i : 6,  lst : [1, 4, 1, 5, 8, 8, 10, 7, 2, 9]\n",
      "i : 7,  lst : [1, 4, 1, 5, 7, 8, 10, 7, 2, 9]\n",
      "i : 8,  lst : [1, 2, 4, 5, 7, 8, 10, 7, 2, 9]\n",
      "i : 9,  lst : [1, 2, 4, 5, 7, 8, 9, 10, 2, 9]\n"
     ]
    }
   ],
   "source": [
    "lst = [4, 3, 1, 5, 8, 6, 10, 7, 2, 9]\n",
    "\n",
    "cnt = 0\n",
    "for i in range(1, len(lst)):\n",
    "    for j in range(i):\n",
    "        if lst[j] > lst[i]:\n",
    "            lst[j+1] = lst[j]\n",
    "            lst[j] = lst[i]\n",
    "            cnt += 1\n",
    "            break\n",
    "    print(f\"i : {i},  lst : {lst}\")"
   ]
  },
  {
   "cell_type": "code",
   "execution_count": null,
   "metadata": {},
   "outputs": [],
   "source": [
    "lst = [4, 3, 1, 5, 8, 6, 10, 7, 2, 9]\n",
    "\n",
    "cnt = 0\n",
    "for i in range(1, len(lst)):\n",
    "    for j in range(i):\n",
    "        if lst[j] > lst[i]:\n",
    "            temp = lst[i]\n",
    "            for k in range(j, i):\n",
    "                lst[k+1] = lst[k]\n",
    "            lst[j] = temp\n",
    "    print(f\"i : {i},  lst : {lst}\")"
   ]
  }
 ],
 "metadata": {
  "kernelspec": {
   "display_name": "base",
   "language": "python",
   "name": "python3"
  },
  "language_info": {
   "codemirror_mode": {
    "name": "ipython",
    "version": 3
   },
   "file_extension": ".py",
   "mimetype": "text/x-python",
   "name": "python",
   "nbconvert_exporter": "python",
   "pygments_lexer": "ipython3",
   "version": "3.9.12"
  }
 },
 "nbformat": 4,
 "nbformat_minor": 2
}
