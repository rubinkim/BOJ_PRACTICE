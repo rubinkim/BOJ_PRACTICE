{
 "cells": [
  {
   "cell_type": "code",
   "execution_count": null,
   "metadata": {},
   "outputs": [],
   "source": [
    "TC = int(input())\n",
    "\n",
    "N1, M1 = map(int, input().split())\n",
    "arr1 = [[\"\"] * M1 for _ in range(N1)]\n",
    "for i in range(N1):\n",
    "    for j, x in enumerate(input()):\n",
    "        arr1[i][j] = x\n",
    "        \n",
    "N2, M2 = map(int, input().split())\n",
    "arr2 = [[\"\"] * M2 for _ in range(N2)]\n",
    "for i in range(N2):\n",
    "    for j, x in enumerate(input()):\n",
    "        arr2[i][j] = x\n",
    "        \n",
    "#print(TC)\n",
    "#print(N1, M1)\n",
    "\"\"\"\n",
    "for row in arr1:\n",
    "    print(row)\n",
    "print(N2, M2)\n",
    "for row in arr2:\n",
    "    print(row)\n",
    "    \n",
    "x = sum([sum([arr1[i][j] != 'W' for j in range(M1)]) for i in range(2)])\n",
    "print(x)\n",
    "\"\"\"\n",
    "\n",
    "def count_color(w, b, arr, n, m):\n",
    "    cnt = 0\n",
    "    cnt += sum([sum([arr[i][j] != 'W' for j in range(m)]) for i in range(w+1)])\n",
    "    cnt += sum([sum([arr[i][j] != 'B' for j in range(m)]) for i in range(w+1, b+1)])\n",
    "    cnt += sum([sum([arr[i][j] != 'R' for j in range(m)]) for i in range(b+1, n)])\n",
    "    return cnt\n",
    "\n",
    "#print(count_color(0, 1, arr2, N2, M2))\n",
    "\n",
    "cnt_lst = []\n",
    "for x in range(N1-2):\n",
    "    for y in range(x+1, N1-1):\n",
    "        #print(f\"x : {x},  y : {y},  cnt : {count_color(x, y, arr1, N1, M1)}\")\n",
    "        cnt_lst.append(count_color(x, y, arr1, N1, M1))\n",
    "print(f\"#1 {min(cnt_lst)}\")        \n",
    "\n",
    "cnt_lst = []\n",
    "for x in range(N2-2):\n",
    "    for y in range(x+1, N2-1):\n",
    "        #print(f\"x : {x},  y : {y},  cnt : {count_color(x, y, arr2, N2, M2)}\")\n",
    "        cnt_lst.append(count_color(x, y, arr2, N2, M2))\n",
    "print(f\"#1 {min(cnt_lst)}\")  "
   ]
  },
  {
   "cell_type": "code",
   "execution_count": null,
   "metadata": {},
   "outputs": [],
   "source": [
    "def count_color(w, b, arr, n, m):\n",
    "    cnt = 0\n",
    "    cnt += sum([sum([arr[i][j] != 'W' for j in range(m)]) for i in range(w+1)])\n",
    "    cnt += sum([sum([arr[i][j] != 'B' for j in range(m)]) for i in range(w+1, b+1)])\n",
    "    cnt += sum([sum([arr[i][j] != 'R' for j in range(m)]) for i in range(b+1, n)])\n",
    "    return cnt\n",
    "\n",
    "TC = int(input())\n",
    "for no in range(TC):\n",
    "    N, M = map(int, input().split())\n",
    "    arr = [[\"\"] * M for _ in range(N)]\n",
    "    for i in range(N):\n",
    "        for j, x in enumerate(input()):\n",
    "            arr[i][j] = x        \n",
    "\n",
    "    cnt_lst = []\n",
    "    for x in range(N-2):\n",
    "        for y in range(x+1, N-1):\n",
    "            cnt_lst.append(count_color(x, y, arr, N, M))\n",
    "    print(f\"#{no+1} {min(cnt_lst)}\")      "
   ]
  },
  {
   "cell_type": "code",
   "execution_count": 23,
   "metadata": {},
   "outputs": [
    {
     "name": "stdout",
     "output_type": "stream",
     "text": [
      "[1, 2, 3, 4, 6, 7]\n",
      "[1, 5, 2, 3, 4, 6, 7]\n"
     ]
    }
   ],
   "source": [
    "x = [1,2,3,4,5,6,7]\n",
    "y = []\n",
    "picked = 3\n",
    "idx = 4\n",
    "temp = x[idx]\n",
    "x.remove(temp)\n",
    "print(x)\n",
    "move_sp = idx - picked\n",
    "for i in range(len(x)+1):\n",
    "    if i < move_sp:\n",
    "        y.append(x[i])\n",
    "    elif i == move_sp:\n",
    "        y.append(temp)\n",
    "    else:\n",
    "        y.append(x[i-1])\n",
    "        \n",
    "print(y)"
   ]
  },
  {
   "cell_type": "code",
   "execution_count": null,
   "metadata": {},
   "outputs": [],
   "source": [
    "x = [1,2,3,4,5,6,7]\n",
    "y = []\n",
    "picked = 3\n",
    "idx = 4\n",
    "temp = x[idx]\n",
    "x.remove(temp)\n",
    "print(x)\n",
    "move_sp = idx - picked\n",
    "for i in range(len(x)+1):\n",
    "    if i < move_sp:\n",
    "        y.append(x[i])\n",
    "    elif i == move_sp:\n",
    "        y.append(temp)\n",
    "    else:\n",
    "        y.append(x[i-1])\n",
    "        \n",
    "print(y)"
   ]
  },
  {
   "cell_type": "code",
   "execution_count": 28,
   "metadata": {},
   "outputs": [
    {
     "name": "stdout",
     "output_type": "stream",
     "text": [
      "[1, 2, 3, 4, 5, 1, 2, 3, 4, 5, 1, 2, 3, 4, 5, 1, 2, 3, 4, 5, 1, 2, 3, 4, 5]\n"
     ]
    }
   ],
   "source": [
    "N = int(input())\n",
    "picked = list(map(int, input().split()))\n",
    "students = [x for x in range(1, N+1)]\n",
    "new_students = []\n",
    "\n",
    "for p in picked:\n",
    "    for i in range(len(students)):\n",
    "        temp = students[i]\n",
    "        #students.remove(students[i])\n",
    "        move = i - p\n",
    "        if i < move:\n",
    "            new_students.append(students[i])\n",
    "        elif i == move:\n",
    "            new_students.append(temp)\n",
    "        else:\n",
    "            new_students.append(students[i])\n",
    "            \n",
    "print(new_students)"
   ]
  },
  {
   "cell_type": "code",
   "execution_count": 36,
   "metadata": {},
   "outputs": [
    {
     "name": "stdout",
     "output_type": "stream",
     "text": [
      "students : [1, 2, 3, 4, 5]\n",
      "i : 0,  p : 0,  move : 0,  students : [1, 2, 3, 4, 5]\n",
      "i : 1,  p : 1,  move : 0,  students : [2, 1, 3, 4, 5]\n",
      "i : 2,  p : 1,  move : 1,  students : [2, 3, 1, 4, 5]\n",
      "i : 3,  p : 3,  move : 0,  students : [4, 3, 1, 2, 5]\n",
      "i : 4,  p : 2,  move : 2,  students : [4, 3, 5, 2, 1]\n"
     ]
    }
   ],
   "source": [
    "N = int(input())\n",
    "picked = list(map(int, input().split()))\n",
    "students = [x for x in range(1, N+1)]\n",
    "print(f\"students : {students}\")\n",
    "\n",
    "for i, p in enumerate(picked):\n",
    "    move = i - p    \n",
    "    students[i], students[i-p] = students[i-p], students[i]    \n",
    "    print(f\"i : {i},  p : {p},  move : {move},  students : {students}\")"
   ]
  },
  {
   "cell_type": "code",
   "execution_count": null,
   "metadata": {},
   "outputs": [],
   "source": [
    "N = int(input())\n",
    "picked = list(map(int, input().split()))\n",
    "students = [x for x in range(1, N+1)]\n",
    "print(f\"students : {students}\")\n",
    "\n",
    "for i, p in enumerate(picked):\n",
    "    move = i - p\n",
    "    temp = students[i]\n",
    "    students.remove(temp)\n",
    "    students.insert(move, temp)\n",
    "    print(students)\n",
    "    "
   ]
  }
 ],
 "metadata": {
  "kernelspec": {
   "display_name": "base",
   "language": "python",
   "name": "python3"
  },
  "language_info": {
   "codemirror_mode": {
    "name": "ipython",
    "version": 3
   },
   "file_extension": ".py",
   "mimetype": "text/x-python",
   "name": "python",
   "nbconvert_exporter": "python",
   "pygments_lexer": "ipython3",
   "version": "3.9.12"
  }
 },
 "nbformat": 4,
 "nbformat_minor": 2
}
