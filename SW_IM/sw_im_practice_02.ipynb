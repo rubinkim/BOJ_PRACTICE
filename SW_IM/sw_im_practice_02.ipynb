{
 "cells": [
  {
   "cell_type": "code",
   "execution_count": 40,
   "metadata": {},
   "outputs": [
    {
     "name": "stdout",
     "output_type": "stream",
     "text": [
      "8 8\n",
      "WBWBWBWB\n",
      "BWBWBWBW\n",
      "WBWBWBWB\n",
      "BWBBBWBW\n",
      "WBWBWBWB\n",
      "BWBWBWBW\n",
      "WBWBWBWB\n"
     ]
    }
   ],
   "source": [
    "with open(\"../data/1018_체스판.txt\") as f:\n",
    "    for _ in range(8):\n",
    "        print(f.readline().rstrip())"
   ]
  },
  {
   "cell_type": "code",
   "execution_count": 45,
   "metadata": {},
   "outputs": [
    {
     "name": "stdout",
     "output_type": "stream",
     "text": [
      "i : 0,  y : [[0, 0, 0, 0, 0, 0, 0, 0, 0], [0, 1, 2, 3, 4, 5, 6, 7, 8]]\n",
      "i : 1,  y : [[0, 0, 0, 0, 0, 0, 0, 0, 0], [0, 1, 2, 3, 4, 5, 6, 7, 8], [0, 2, 4, 6, 8, 10, 12, 14, 16]]\n",
      "i : 2,  y : [[0, 0, 0, 0, 0, 0, 0, 0, 0], [0, 1, 2, 3, 4, 5, 6, 7, 8], [0, 2, 4, 6, 8, 10, 12, 14, 16], [0, 3, 6, 9, 12, 15, 18, 21, 24]]\n",
      "i : 3,  y : [[0, 0, 0, 0, 0, 0, 0, 0, 0], [0, 1, 2, 3, 4, 5, 6, 7, 8], [0, 2, 4, 6, 8, 10, 12, 14, 16], [0, 3, 6, 9, 12, 15, 18, 21, 24], [0, 4, 8, 12, 15, 19, 23, 27, 31]]\n",
      "i : 4,  y : [[0, 0, 0, 0, 0, 0, 0, 0, 0], [0, 1, 2, 3, 4, 5, 6, 7, 8], [0, 2, 4, 6, 8, 10, 12, 14, 16], [0, 3, 6, 9, 12, 15, 18, 21, 24], [0, 4, 8, 12, 15, 19, 23, 27, 31], [0, 5, 10, 15, 19, 24, 29, 34, 39]]\n",
      "i : 5,  y : [[0, 0, 0, 0, 0, 0, 0, 0, 0], [0, 1, 2, 3, 4, 5, 6, 7, 8], [0, 2, 4, 6, 8, 10, 12, 14, 16], [0, 3, 6, 9, 12, 15, 18, 21, 24], [0, 4, 8, 12, 15, 19, 23, 27, 31], [0, 5, 10, 15, 19, 24, 29, 34, 39], [0, 6, 12, 18, 23, 29, 35, 41, 47]]\n",
      "i : 6,  y : [[0, 0, 0, 0, 0, 0, 0, 0, 0], [0, 1, 2, 3, 4, 5, 6, 7, 8], [0, 2, 4, 6, 8, 10, 12, 14, 16], [0, 3, 6, 9, 12, 15, 18, 21, 24], [0, 4, 8, 12, 15, 19, 23, 27, 31], [0, 5, 10, 15, 19, 24, 29, 34, 39], [0, 6, 12, 18, 23, 29, 35, 41, 47], [0, 7, 14, 21, 27, 34, 41, 48, 55]]\n",
      "i : 7,  y : [[0, 0, 0, 0, 0, 0, 0, 0, 0], [0, 1, 2, 3, 4, 5, 6, 7, 8], [0, 2, 4, 6, 8, 10, 12, 14, 16], [0, 3, 6, 9, 12, 15, 18, 21, 24], [0, 4, 8, 12, 15, 19, 23, 27, 31], [0, 5, 10, 15, 19, 24, 29, 34, 39], [0, 6, 12, 18, 23, 29, 35, 41, 47], [0, 7, 14, 21, 27, 34, 41, 48, 55], [0, 8, 16, 24, 31, 39, 47, 55, 63]]\n"
     ]
    }
   ],
   "source": [
    "from itertools import accumulate as acc\n",
    "\n",
    "with open(\"../data/1018_체스판.txt\") as f:\n",
    "    n, m = f.readline().rstrip().split()\n",
    "    n, m = int(n), int(m)\n",
    "    y = [[0]*(m+1)]\n",
    "    for i in range(n):\n",
    "        ac = [0]\n",
    "        ac.extend(acc([((s=='W')+i+j) % 2 for j, s in enumerate(f.readline().rstrip())]))\n",
    "        y.append([k + j for k, j in zip(ac, y[-1])])\n",
    "        print(f\"i : {i},  y : {y}\")"
   ]
  },
  {
   "cell_type": "code",
   "execution_count": 46,
   "metadata": {},
   "outputs": [
    {
     "name": "stdout",
     "output_type": "stream",
     "text": [
      "[0, 0, 0, 0, 0, 0, 0, 0, 0]\n",
      "[0, 1, 2, 3, 4, 5, 6, 7, 8]\n",
      "[0, 2, 4, 6, 8, 10, 12, 14, 16]\n",
      "[0, 3, 6, 9, 12, 15, 18, 21, 24]\n",
      "[0, 4, 8, 12, 15, 19, 23, 27, 31]\n",
      "[0, 5, 10, 15, 19, 24, 29, 34, 39]\n",
      "[0, 6, 12, 18, 23, 29, 35, 41, 47]\n",
      "[0, 7, 14, 21, 27, 34, 41, 48, 55]\n",
      "[0, 8, 16, 24, 31, 39, 47, 55, 63]\n"
     ]
    }
   ],
   "source": [
    "for row in y:\n",
    "    print(row)"
   ]
  },
  {
   "cell_type": "code",
   "execution_count": 47,
   "metadata": {},
   "outputs": [
    {
     "name": "stdout",
     "output_type": "stream",
     "text": [
      "1\n"
     ]
    }
   ],
   "source": [
    "res = 32\n",
    "for i in range(n-7):\n",
    "    for j in range(m-7):\n",
    "        u = y[i+8][j+8]-y[i+8][j]-y[i][j+8]+y[i][j]\n",
    "        res = min(res, u, 64-u)\n",
    "print(res)"
   ]
  },
  {
   "cell_type": "code",
   "execution_count": 10,
   "metadata": {},
   "outputs": [
    {
     "name": "stdout",
     "output_type": "stream",
     "text": [
      "[0, 1, 2, 3, 4, 5, 6, 7, 8]\n"
     ]
    }
   ],
   "source": [
    "from itertools import accumulate as acc\n",
    "\n",
    "ac = [0]\n",
    "x = 'WBWBWBWB'\n",
    "ac.extend(acc([((s=='W')+j) % 2 for j, s in enumerate(x.rstrip())]))\n",
    "print(ac)"
   ]
  },
  {
   "cell_type": "code",
   "execution_count": 11,
   "metadata": {},
   "outputs": [
    {
     "data": {
      "text/plain": [
       "[1, 1, 1, 1, 1, 1, 1, 1]"
      ]
     },
     "execution_count": 11,
     "metadata": {},
     "output_type": "execute_result"
    }
   ],
   "source": [
    "[((s=='W')+j) % 2 for j, s in enumerate(x.rstrip())]"
   ]
  },
  {
   "cell_type": "code",
   "execution_count": 30,
   "metadata": {},
   "outputs": [
    {
     "name": "stdout",
     "output_type": "stream",
     "text": [
      "s : W,  (s=='W') : True ,  j : 0,  (s=='W')+j : 1,  ((s=='W')+j)%2 : 1\n",
      "s : B,  (s=='W') : False,  j : 1,  (s=='W')+j : 1,  ((s=='W')+j)%2 : 1\n",
      "s : W,  (s=='W') : True ,  j : 2,  (s=='W')+j : 3,  ((s=='W')+j)%2 : 1\n",
      "s : B,  (s=='W') : False,  j : 3,  (s=='W')+j : 3,  ((s=='W')+j)%2 : 1\n",
      "s : W,  (s=='W') : True ,  j : 4,  (s=='W')+j : 5,  ((s=='W')+j)%2 : 1\n",
      "s : B,  (s=='W') : False,  j : 5,  (s=='W')+j : 5,  ((s=='W')+j)%2 : 1\n",
      "s : W,  (s=='W') : True ,  j : 6,  (s=='W')+j : 7,  ((s=='W')+j)%2 : 1\n",
      "s : B,  (s=='W') : False,  j : 7,  (s=='W')+j : 7,  ((s=='W')+j)%2 : 1\n"
     ]
    }
   ],
   "source": [
    "x = 'WBWBWBWB'\n",
    "for j, s in enumerate(x.rstrip()):\n",
    "    print(f\"s : {s},  (s=='W') : {str(s=='W'):<5},  j : {j},  (s=='W')+j : {(s=='W')+j},  ((s=='W')+j)%2 : {((s=='W')+j) % 2}\")"
   ]
  },
  {
   "cell_type": "code",
   "execution_count": 31,
   "metadata": {},
   "outputs": [
    {
     "name": "stdout",
     "output_type": "stream",
     "text": [
      "s : B,  (s=='W') : False,  j : 0,  (s=='W')+j : 0,  ((s=='W')+j)%2 : 0\n",
      "s : W,  (s=='W') : True ,  j : 1,  (s=='W')+j : 2,  ((s=='W')+j)%2 : 0\n",
      "s : B,  (s=='W') : False,  j : 2,  (s=='W')+j : 2,  ((s=='W')+j)%2 : 0\n",
      "s : W,  (s=='W') : True ,  j : 3,  (s=='W')+j : 4,  ((s=='W')+j)%2 : 0\n",
      "s : B,  (s=='W') : False,  j : 4,  (s=='W')+j : 4,  ((s=='W')+j)%2 : 0\n",
      "s : W,  (s=='W') : True ,  j : 5,  (s=='W')+j : 6,  ((s=='W')+j)%2 : 0\n",
      "s : B,  (s=='W') : False,  j : 6,  (s=='W')+j : 6,  ((s=='W')+j)%2 : 0\n",
      "s : W,  (s=='W') : True ,  j : 7,  (s=='W')+j : 8,  ((s=='W')+j)%2 : 0\n"
     ]
    }
   ],
   "source": [
    "y = 'BWBWBWBW'\n",
    "for j, s in enumerate(y.rstrip()):\n",
    "    print(f\"s : {s},  (s=='W') : {str(s=='W'):<5},  j : {j},  (s=='W')+j : {(s=='W')+j},  ((s=='W')+j)%2 : {((s=='W')+j) % 2}\")"
   ]
  },
  {
   "cell_type": "code",
   "execution_count": 33,
   "metadata": {},
   "outputs": [
    {
     "name": "stdout",
     "output_type": "stream",
     "text": [
      "[[0, 0, 0, 0, 0, 0, 0, 0, 0]]\n",
      "[0, 0, 0, 0, 0, 0, 0, 0, 0]\n"
     ]
    }
   ],
   "source": [
    "n, m = 8, 8\n",
    "y = [[0]*(m+1)]\n",
    "print(y)\n",
    "print(y[-1])"
   ]
  },
  {
   "cell_type": "code",
   "execution_count": 12,
   "metadata": {},
   "outputs": [
    {
     "data": {
      "text/plain": [
       "[0, 1, 0, 0]"
      ]
     },
     "execution_count": 12,
     "metadata": {},
     "output_type": "execute_result"
    }
   ],
   "source": [
    "list(map(int, input()))"
   ]
  },
  {
   "cell_type": "code",
   "execution_count": null,
   "metadata": {},
   "outputs": [],
   "source": [
    "n, m = map(int, input().split())\n",
    "arr = [[] for _ in range(n)]\n",
    "for i in range(n):\n",
    "    row = list(map(int, input()))\n",
    "    for j in range(m):\n",
    "        arr[i].append(row[j])  \n",
    "        \n",
    "for row in arr:\n",
    "    print(row) \n",
    "    \n",
    "lo, hi = 1, min(n, m)\n",
    "mid = (lo + hi) // 2\n",
    "print(f\"mid : {mid}\")\n",
    "ans = 1\n",
    "\n",
    "while lo <= hi:\n",
    "    for i in range(n-mid):\n",
    "        for j in range(m-mid):\n",
    "            if arr[i][j] == 1:\n",
    "                area_sum = sum([sum([arr[ii][jj] for jj in range(j, j+mid)]) for ii in range(i, i+mid)])                \n",
    "                if area_sum == mid ** 2:\n",
    "                    ans = max(ans, area_sum)\n",
    "                    print(f\"(i, j) {i, j},  area_sum : {area_sum}\")\n",
    "    if ans == mid ** 2:\n",
    "        lo = mid + 1\n",
    "    elif area_sum < mid ** 2:\n",
    "        hi = mid - 1\n",
    "    mid = (lo + hi) // 2\n",
    "    print(f\"mid : {mid}, hi : {hi}, lo : {lo}\")                \n",
    "\n",
    "print(ans)"
   ]
  },
  {
   "cell_type": "code",
   "execution_count": 1,
   "metadata": {},
   "outputs": [
    {
     "name": "stdout",
     "output_type": "stream",
     "text": [
      "i : 0,  j : 7\n",
      "i : 1,  j : 7\n",
      "i : 2,  j : 7\n",
      "i : 3,  j : 7\n",
      "i : 4,  j : 7\n",
      "i : 4,  j : 7\n",
      "i : 5,  j : 6\n",
      "i : 5,  j : 6\n",
      "i : 6,  j : 5\n",
      "i : 6,  j : 5\n",
      "i : 7,  j : 4\n",
      "i : 7,  j : 4\n",
      "i : 8,  j : 3\n",
      "i : 8,  j : 3\n",
      "i : 9,  j : 2\n",
      "i : 9,  j : 2\n"
     ]
    }
   ],
   "source": [
    "ans = 0\n",
    "for i in range(10):\n",
    "    for j in range(8):\n",
    "        if i + j == 11:\n",
    "            print(f\"i : {i},  j : {j}\")\n",
    "            break\n",
    "    print(f\"i : {i},  j : {j}\")"
   ]
  },
  {
   "cell_type": "code",
   "execution_count": 5,
   "metadata": {},
   "outputs": [
    {
     "name": "stdout",
     "output_type": "stream",
     "text": [
      "i : 4,  j : 7\n"
     ]
    }
   ],
   "source": [
    "ans = 0\n",
    "flag = False\n",
    "for i in range(10):\n",
    "    for j in range(8):\n",
    "        if i + j == 11:\n",
    "            print(f\"i : {i},  j : {j}\")\n",
    "            flag = True\n",
    "            break\n",
    "    if flag:\n",
    "        break\n",
    "    "
   ]
  },
  {
   "cell_type": "code",
   "execution_count": 11,
   "metadata": {},
   "outputs": [
    {
     "name": "stdout",
     "output_type": "stream",
     "text": [
      "i : 8,  j : 7\n"
     ]
    }
   ],
   "source": [
    "ans = 0\n",
    "for i in range(10):\n",
    "    for j in range(8):\n",
    "        if i + j == 15:\n",
    "            print(f\"i : {i},  j : {j}\")\n",
    "            break\n",
    "    else:\n",
    "        continue       # Continue if the inner loop wasn't broken\n",
    "    break              # Inner loop was broken, break the outer."
   ]
  },
  {
   "cell_type": "code",
   "execution_count": 1,
   "metadata": {},
   "outputs": [
    {
     "name": "stdout",
     "output_type": "stream",
     "text": [
      "[0, 0, 1, 1, 1, 0, 0, 0, 0, 0, 1, 0]\n",
      "[1, 0, 1, 0, 0, 1, 1, 1, 1, 1, 1, 0]\n",
      "[1, 1, 1, 0, 0, 1, 1, 1, 1, 1, 0, 0]\n",
      "[1, 1, 1, 0, 1, 1, 1, 1, 1, 1, 1, 0]\n",
      "[1, 1, 1, 1, 0, 1, 1, 1, 1, 1, 1, 0]\n",
      "[0, 1, 1, 0, 1, 1, 1, 1, 1, 1, 1, 0]\n",
      "[1, 1, 1, 1, 0, 0, 1, 1, 0, 1, 1, 0]\n",
      "[1, 0, 0, 1, 0, 0, 1, 0, 0, 0, 1, 0]\n",
      "25\n"
     ]
    }
   ],
   "source": [
    "\"\"\"\n",
    "8 12\n",
    "001110000010\n",
    "101001111110\n",
    "111001111100\n",
    "111011111110\n",
    "111101111110\n",
    "011011111110\n",
    "111100110110\n",
    "100100100010\n",
    "\"\"\"\n",
    "\n",
    "n, m = map(int, input().split())\n",
    "arr = [[] for _ in range(n)]\n",
    "for i in range(n):\n",
    "    row = list(map(int, input()))\n",
    "    for j in range(m):\n",
    "        arr[i].append(row[j])  \n",
    "        \n",
    "for row in arr:\n",
    "    print(row)   \n",
    "        \n",
    "dp = [[0] * m for _ in range(n)]\n",
    "ans = 0\n",
    "\n",
    "for j in range(m):\n",
    "    if arr[0][j] == 1:\n",
    "        dp[0][j] = 1\n",
    "\n",
    "for i in range(1, n):\n",
    "    if arr[i][0] == 1:\n",
    "        dp[i][0] = 1\n",
    "    for j in range(1, m):\n",
    "        if arr[i][j] == 1:\n",
    "            dp[i][j] = min(dp[i][j-1], dp[i-1][j], dp[i-1][j-1]) + 1\n",
    "\n",
    "for i in range(n):\n",
    "    for j in range(m):\n",
    "        ans = max(ans, dp[i][j])\n",
    "\n",
    "print(ans**2)"
   ]
  },
  {
   "cell_type": "code",
   "execution_count": 2,
   "metadata": {},
   "outputs": [
    {
     "name": "stdout",
     "output_type": "stream",
     "text": [
      "[0, 0, 1, 1, 1, 0, 0, 0, 0, 0, 1, 0]\n",
      "[1, 0, 1, 0, 0, 1, 1, 1, 1, 1, 1, 0]\n",
      "[1, 1, 1, 0, 0, 1, 2, 2, 2, 2, 0, 0]\n",
      "[1, 2, 2, 0, 1, 1, 2, 3, 3, 3, 1, 0]\n",
      "[1, 2, 3, 1, 0, 1, 2, 3, 4, 4, 2, 0]\n",
      "[0, 1, 2, 0, 1, 1, 2, 3, 4, 5, 3, 0]\n",
      "[1, 1, 2, 1, 0, 0, 1, 2, 0, 1, 2, 0]\n",
      "[1, 0, 0, 1, 0, 0, 1, 0, 0, 0, 1, 0]\n"
     ]
    }
   ],
   "source": [
    "for row in dp:\n",
    "    print(row)"
   ]
  },
  {
   "cell_type": "code",
   "execution_count": 2,
   "metadata": {},
   "outputs": [
    {
     "name": "stdout",
     "output_type": "stream",
     "text": [
      "[1, 2, 3, 4, 5, 6, 7, 8, 9, 10, 11, 12, 13] [1, 2, 3, 4, 5, 6, 7, 8, 9, 10, 11, 12, 13, 14, 15, 16, 17, 18, 19, 20, 21, 22, 23, 24, 25, 26, 27, 28, 29]\n"
     ]
    }
   ],
   "source": [
    "from itertools import combinations\n",
    "n, m = 13, 29\n",
    "lst1 = list(range(1, 14))\n",
    "lst2 = list(range(1, 30))\n",
    "print(lst1, lst2)"
   ]
  },
  {
   "cell_type": "code",
   "execution_count": 3,
   "metadata": {},
   "outputs": [
    {
     "name": "stdout",
     "output_type": "stream",
     "text": [
      "67863915\n",
      "lapse : 15.958999156951904\n"
     ]
    }
   ],
   "source": [
    "import time\n",
    "start = time.time()\n",
    "combi_lst = []\n",
    "\n",
    "for combi in combinations(lst2, 13):\n",
    "    combi_lst.append(combi)\n",
    "print(len(combi_lst))\n",
    "end = time.time()\n",
    "print(f\"lapse : {end - start}\")"
   ]
  },
  {
   "cell_type": "code",
   "execution_count": 5,
   "metadata": {},
   "outputs": [
    {
     "name": "stdout",
     "output_type": "stream",
     "text": [
      "67863915\n",
      "lapse : 7.377001762390137\n"
     ]
    }
   ],
   "source": [
    "import time\n",
    "start = time.time()\n",
    "cnt = 0\n",
    "for combi in combinations(lst2, 13):\n",
    "    cnt += 1\n",
    "print(cnt)\n",
    "end = time.time()\n",
    "print(f\"lapse : {end - start}\")"
   ]
  },
  {
   "cell_type": "code",
   "execution_count": 8,
   "metadata": {},
   "outputs": [
    {
     "name": "stdout",
     "output_type": "stream",
     "text": [
      "67863915\n"
     ]
    }
   ],
   "source": [
    "from math import factorial\n",
    "n, m = 13, 29\n",
    "ans = factorial(m)/(factorial(m-n)*factorial(n))\n",
    "print(int(ans))"
   ]
  },
  {
   "cell_type": "code",
   "execution_count": 1,
   "metadata": {},
   "outputs": [
    {
     "name": "stdout",
     "output_type": "stream",
     "text": [
      "3\n",
      "[1, 1, 1, 0]\n"
     ]
    }
   ],
   "source": [
    "x = int(input())\n",
    "lst = []\n",
    "while True:\n",
    "    if x == 1:\n",
    "        print(sum(lst))\n",
    "        break\n",
    "    lst.append(x%2)\n",
    "    x //= 2\n",
    "print(lst)"
   ]
  },
  {
   "cell_type": "code",
   "execution_count": 3,
   "metadata": {},
   "outputs": [
    {
     "data": {
      "text/plain": [
       "{'but', 'hesitate', 'i', \"won't\"}"
      ]
     },
     "execution_count": 3,
     "metadata": {},
     "output_type": "execute_result"
    }
   ],
   "source": [
    "x = {\"but\", \"i\", \"won't\", \"hesitate\"}\n",
    "x = list(x)\n",
    "x.sort()\n",
    "x = set(x)\n",
    "x"
   ]
  },
  {
   "cell_type": "code",
   "execution_count": 4,
   "metadata": {},
   "outputs": [
    {
     "data": {
      "text/plain": [
       "'b'"
      ]
     },
     "execution_count": 4,
     "metadata": {},
     "output_type": "execute_result"
    }
   ],
   "source": [
    "chr(98)"
   ]
  },
  {
   "cell_type": "code",
   "execution_count": 5,
   "metadata": {},
   "outputs": [
    {
     "name": "stdout",
     "output_type": "stream",
     "text": [
      "mobitel\n",
      "98\n",
      "b\n"
     ]
    }
   ],
   "source": [
    "word = input()\n",
    "print(word)\n",
    "min_ord = 1e5\n",
    "\n",
    "for ch in word:\n",
    "    min_ord = min(min_ord, ord(ch))\n",
    "#min_idx = word.index(ch(min_ch))\n",
    "print(min_ord)\n",
    "\n",
    "min_chr = chr(min_ord)\n",
    "print(min_chr)"
   ]
  },
  {
   "cell_type": "code",
   "execution_count": 1,
   "metadata": {},
   "outputs": [],
   "source": [
    "def is_leap(yr):\n",
    "    if yr % 4 == 0 and yr % 100 == 0 and yr % 400 == 0:\n",
    "        return True\n",
    "    elif yr % 4 == 0 and yr % 100 == 0 and yr % 400 != 0:\n",
    "        return False\n",
    "    elif yr % 4 == 0 and yr % 100 != 0:\n",
    "        return True\n",
    "    elif yr % 4 != 0:\n",
    "        return False\n",
    "    \n",
    "calendar_normal = {1:31, 2:28, 3:31, 4:30, 5:31, 6:30, 7:31, 8:31, 9:30, 10:31, 11:30, 12:31}\n",
    "calendar_leap = {1:31, 2:29, 3:31, 4:30, 5:31, 6:30, 7:31, 8:31, 9:30, 10:31, 11:30, 12:31}     "
   ]
  },
  {
   "cell_type": "code",
   "execution_count": 7,
   "metadata": {},
   "outputs": [
    {
     "data": {
      "text/plain": [
       "True"
      ]
     },
     "execution_count": 7,
     "metadata": {},
     "output_type": "execute_result"
    }
   ],
   "source": [
    "is_leap(2400)"
   ]
  },
  {
   "cell_type": "code",
   "execution_count": 23,
   "metadata": {},
   "outputs": [],
   "source": [
    "cnt = 0"
   ]
  },
  {
   "cell_type": "code",
   "execution_count": 22,
   "metadata": {},
   "outputs": [],
   "source": [
    "sy, sm, sd = map(int, input().split())     # 2008 12 27     2024 1 31   2024 11 30\n",
    "ey, em, ed = map(int, input().split())     # 2009 1 22"
   ]
  },
  {
   "cell_type": "code",
   "execution_count": 24,
   "metadata": {},
   "outputs": [
    {
     "name": "stdout",
     "output_type": "stream",
     "text": [
      "0, 29, 60, 90, 121, 151, 182, 213, 243, 274, 304, "
     ]
    }
   ],
   "source": [
    "if sy == ey:\n",
    "    if is_leap(sy):\n",
    "        for m in range(sm, em+1):\n",
    "            if m == sm and m == em:\n",
    "                cnt += ed - sd\n",
    "            elif m == sm and em > sm:\n",
    "                cnt += calendar_leap[m] - sd\n",
    "            if m > sm and m < em:\n",
    "                cnt += calendar_leap[m]\n",
    "            if m == em:\n",
    "                cnt += ed\n",
    "\n",
    "elif 0 < ey - sy < 1000:\n",
    "    for yr in range(sy, ey+1):\n",
    "        if yr == sy and is_leap(yr):\n",
    "            for m in range(sm, 13):\n",
    "                if m == sm:\n",
    "                    cnt += calendar_leap[m] - sd\n",
    "                else:\n",
    "                    cnt += calendar_leap[m]\n",
    "        elif yr == sy and not is_leap(yr):\n",
    "            for m in range(sm, 13):\n",
    "                if m == sm:\n",
    "                    cnt += calendar_normal[m] - sd\n",
    "                else:\n",
    "                    cnt += calendar_normal[m]\n",
    "                    \n",
    "        if sy < yr < ey and is_leap(yr):\n",
    "            cnt += sum(calendar_leap.values())\n",
    "        elif sy < yr < ey and not is_leap(yr):\n",
    "            cnt += sum(calendar_normal.values())\n",
    "            \n",
    "        if yr == ey and is_leap(yr):\n",
    "            for m in range(1, em+1):\n",
    "                if m != em:\n",
    "                    cnt += calendar_leap[m]\n",
    "                elif m == em:\n",
    "                    cnt += ed\n",
    "        elif yr == ey and not is_leap(yr):\n",
    "            for m in range(1, em+1):\n",
    "                if m != em:\n",
    "                    cnt += calendar_normal[m]\n",
    "                elif m == em:\n",
    "                    cnt += ed   \n",
    "                    \n",
    "elif ey - sy == 1000:\n",
    "    if em > sm:\n",
    "        cnt == \"gg\"\n",
    "    elif em == sm and ed >= sd:\n",
    "        cnt == \"gg\"\n",
    "    elif em == sm and ed < sd:\n",
    "        for yr in range(sy, ey+1):\n",
    "            if yr == sy and is_leap(yr):\n",
    "                for m in range(sm, 13):\n",
    "                    if m == sm:\n",
    "                        cnt += calendar_leap[m] - sd\n",
    "                    else:\n",
    "                        cnt += calendar_leap[m]\n",
    "            elif yr == sy and not is_leap(yr):\n",
    "                for m in range(sm, 13):\n",
    "                    if m == sm:\n",
    "                        cnt += calendar_normal[m] - sd\n",
    "                    else:\n",
    "                        cnt += calendar_normal[m]\n",
    "                        \n",
    "            if sy < yr < ey and is_leap(yr):\n",
    "                cnt += sum(calendar_leap.values())\n",
    "            elif sy < yr < ey and not is_leap(yr):\n",
    "                cnt += sum(calendar_normal.values())\n",
    "                \n",
    "            if yr == ey and is_leap(yr):\n",
    "                for m in range(1, em+1):\n",
    "                    if m != em:\n",
    "                        cnt += calendar_leap[m]\n",
    "                    elif m == em:\n",
    "                        cnt += ed\n",
    "            elif yr == ey and not is_leap(yr):\n",
    "                for m in range(1, em+1):\n",
    "                    if m != em:\n",
    "                        cnt += calendar_normal[m]\n",
    "                    elif m == em:\n",
    "                        cnt += ed\n",
    "\n",
    "elif ey - sy > 1000:\n",
    "    cnt == \"gg\"  "
   ]
  },
  {
   "cell_type": "code",
   "execution_count": 26,
   "metadata": {},
   "outputs": [
    {
     "data": {
      "text/plain": [
       "366"
      ]
     },
     "execution_count": 26,
     "metadata": {},
     "output_type": "execute_result"
    }
   ],
   "source": [
    "sum(calendar_leap.values())"
   ]
  },
  {
   "cell_type": "code",
   "execution_count": 20,
   "metadata": {},
   "outputs": [
    {
     "name": "stdout",
     "output_type": "stream",
     "text": [
      "274\n"
     ]
    }
   ],
   "source": [
    "print(cnt)"
   ]
  },
  {
   "cell_type": "code",
   "execution_count": 14,
   "metadata": {},
   "outputs": [
    {
     "name": "stdout",
     "output_type": "stream",
     "text": [
      "2\n"
     ]
    }
   ],
   "source": [
    "import math\n",
    "a, b, n = map(int, input().split())\n",
    "    \n",
    "ln_ans = math.log(a) + n * math.log(10) - math.log(b)\n",
    "ln_ans_above = math.floor(ln_ans)\n",
    "#print(f\"ln_ans : {ln_ans},   ln_ans_above : {ln_ans_above}\")\n",
    "\n",
    "dp = [1] * (ln_ans_above + 1)\n",
    "for i in range(1, ln_ans_above + 1):\n",
    "    dp[i] = dp[i-1] * math.exp(1)\n",
    "\n",
    "#print(f\"ln_ans : {ln_ans},   ln_ans_above : {ln_ans_above}\")\n",
    "ans = 1\n",
    "ans = ans * dp[ln_ans_above]\n",
    "ans = ans * math.exp(ln_ans - ln_ans_above)\n",
    "#print(f\"ans : {ans}\")\n",
    "\n",
    "ans = math.floor(ans)\n",
    "ans = str(ans)[-1]\n",
    "print(int(ans))"
   ]
  },
  {
   "cell_type": "code",
   "execution_count": 11,
   "metadata": {},
   "outputs": [
    {
     "data": {
      "text/plain": [
       "[1,\n",
       " 2.718281828459045,\n",
       " 7.3890560989306495,\n",
       " 20.085536923187664,\n",
       " 54.59815003314423,\n",
       " 148.41315910257657,\n",
       " 403.428793492735,\n",
       " 1096.6331584284583,\n",
       " 2980.9579870417274,\n",
       " 8103.0839275753815,\n",
       " 22026.465794806707,\n",
       " 59874.14171519779,\n",
       " 162754.79141900383]"
      ]
     },
     "execution_count": 11,
     "metadata": {},
     "output_type": "execute_result"
    }
   ],
   "source": [
    "dp"
   ]
  },
  {
   "cell_type": "code",
   "execution_count": 16,
   "metadata": {},
   "outputs": [
    {
     "name": "stdout",
     "output_type": "stream",
     "text": [
      "a : 25,  b : 7,  n : 5\n",
      "a/b : 3.5714285714285716\n",
      "\n",
      "a : 4\n",
      "\n",
      "a : 5\n",
      "a : 1\n",
      "a : 3\n",
      "a : 2\n",
      "2\n"
     ]
    }
   ],
   "source": [
    "a, b, n = map(int, input().split())\n",
    "print(f\"a : {a},  b : {b},  n : {n}\")\n",
    "print(f\"a/b : {a/b}\")\n",
    "print()\n",
    "\n",
    "a %= b\n",
    "print(f\"a : {a}\")\n",
    "print()\n",
    "\n",
    "for i in range(n-1):\n",
    "    a = (a*10) % b\n",
    "    print(f\"a : {a}\")\n",
    "\n",
    "print((a*10) // b)"
   ]
  },
  {
   "cell_type": "code",
   "execution_count": 8,
   "metadata": {},
   "outputs": [
    {
     "name": "stdout",
     "output_type": "stream",
     "text": [
      "a : 2,  b : 4,  n : 5\n",
      "a/b : 0.5\n",
      "\n",
      "a : 2\n",
      "a : 0\n",
      "a : 0\n",
      "a : 0\n",
      "a : 0\n",
      "a : 0\n"
     ]
    }
   ],
   "source": [
    "a, b, n = map(int, input().split())\n",
    "print(f\"a : {a},  b : {b},  n : {n}\")\n",
    "print(f\"a/b : {a/b}\")\n",
    "print()\n",
    "\n",
    "a = a % b\n",
    "print(f\"a : {a}\")\n",
    "\n",
    "for _ in range(n):\n",
    "    a = (a * 10) % b\n",
    "    print(f\"a : {a}\")\n",
    "    \n",
    "    "
   ]
  },
  {
   "cell_type": "code",
   "execution_count": 6,
   "metadata": {},
   "outputs": [
    {
     "data": {
      "text/plain": [
       "([['Helen Clark', 'B']], ['Helen Clark', 'B'], 'Helen Clark')"
      ]
     },
     "execution_count": 6,
     "metadata": {},
     "output_type": "execute_result"
    }
   ],
   "source": [
    "my_dict = {1: ['Helen Clark', 'B']}\n",
    "list(my_dict.values()), list(my_dict.values())[0], list(my_dict.values())[0][0]"
   ]
  },
  {
   "cell_type": "markdown",
   "metadata": {},
   "source": [
    "##### Sieve of Eratosthenes"
   ]
  },
  {
   "cell_type": "code",
   "execution_count": 1,
   "metadata": {},
   "outputs": [
    {
     "name": "stdout",
     "output_type": "stream",
     "text": [
      "2, 3, 5, 7, 11, 13, 17, 19, 23, 29, 31, 37, 41, 43, 47, 53, 59, 61, 67, 71, 73, 79, 83, 89, 97, 101, 103, 107, 109, 113, 127, 131, 137, 139, 149, 151, 157, 163, 167, 173, 179, 181, 191, 193, 197, 199, 211, 223, 227, 229, 233, 239, 241, 251, 257, 263, 269, 271, 277, 281, 283, 293, "
     ]
    }
   ],
   "source": [
    "import math\n",
    "n = int(input())\n",
    "array = [True] * (n+1)       # 처음엔 모든 수가 소수인것으로 초기화한다. 0과 1은 제외한다.\n",
    "\n",
    "for i in range(2, int(math.sqrt(n))+1):\n",
    "    j = 2                    # 배수값 j는 2부터 시작한다.\n",
    "    while i * j <= n:\n",
    "        array[i*j] = False\n",
    "        j += 1\n",
    "        \n",
    "for i in range(2, n+1):\n",
    "    if array[i]:\n",
    "        print(i, end=', ')"
   ]
  },
  {
   "cell_type": "code",
   "execution_count": null,
   "metadata": {},
   "outputs": [],
   "source": [
    "import math\n",
    "import sys\n",
    "input = sys.stdin.readline\n",
    "n = int(input())\n",
    "k = int(input())\n",
    "array = [True] * (n+1)\n",
    "\n",
    "cnt = 0\n",
    "for i in range(2, int(math.sqrt(n))+1):\n",
    "    j = 2\n",
    "    max_prime = 0\n",
    "    while i*j <= n:\n",
    "        if i*j > n:\n",
    "            break\n",
    "        if array[i*j]:\n",
    "            array[i*j] = False\n",
    "            if max_prime <= k:\n",
    "                max_prime = max(max_prime, j)\n",
    "    if max_prime:\n",
    "        cnt += 1  \n",
    "print(cnt)      "
   ]
  },
  {
   "cell_type": "code",
   "execution_count": 3,
   "metadata": {},
   "outputs": [
    {
     "data": {
      "text/plain": [
       "3"
      ]
     },
     "execution_count": 3,
     "metadata": {},
     "output_type": "execute_result"
    }
   ],
   "source": [
    "x = [2, 4, 6, 7]\n",
    "sum([i > 3 for i in x])"
   ]
  },
  {
   "cell_type": "code",
   "execution_count": 2,
   "metadata": {},
   "outputs": [
    {
     "name": "stdout",
     "output_type": "stream",
     "text": [
      "1550\n",
      "elapse time : 44.15657043457031\n"
     ]
    }
   ],
   "source": [
    "import math\n",
    "import sys\n",
    "import time\n",
    "\n",
    "start_time = time.time()\n",
    "#input = sys.stdin.readline\n",
    "n = int(input())\n",
    "k = int(input())\n",
    "array = [True] * (n+1)\n",
    "cnt = 0\n",
    "\n",
    "def is_prime(x):\n",
    "    for i in range(2, x):\n",
    "        if x % i == 0:\n",
    "            return False\n",
    "    return True\n",
    "\n",
    "def prime_factors(x):\n",
    "    lst = []\n",
    "    for i in range(2, x+1):\n",
    "        if is_prime(i) and x % i == 0:\n",
    "            lst.append(i)\n",
    "    return lst\n",
    "            \n",
    "cnt = 1\n",
    "for i in range(2, n+1):\n",
    "    if max(prime_factors(i)) <= k:\n",
    "        cnt += 1\n",
    "\n",
    "print(cnt)\n",
    "end_time = time.time()\n",
    "\n",
    "print(f\"elapse time : {end_time - start_time}\")   # n : 3000, k : 100  time elapse : 44.15657043457031"
   ]
  },
  {
   "cell_type": "code",
   "execution_count": 3,
   "metadata": {},
   "outputs": [
    {
     "name": "stdout",
     "output_type": "stream",
     "text": [
      "2 : [2]\n",
      "3 : [3]\n",
      "4 : [2]\n",
      "5 : [5]\n",
      "6 : [2, 3]\n",
      "7 : [7]\n",
      "8 : [2]\n",
      "9 : [3]\n",
      "10 : [2, 5]\n"
     ]
    }
   ],
   "source": [
    "for i in range(2, n+1):\n",
    "    print(f\"{i} : {prime_factors(i)}\")"
   ]
  },
  {
   "cell_type": "code",
   "execution_count": 3,
   "metadata": {},
   "outputs": [
    {
     "name": "stdout",
     "output_type": "stream",
     "text": [
      "time elapse : 3.5769994258880615\n"
     ]
    }
   ],
   "source": [
    "import time\n",
    "start = time.time()\n",
    "\n",
    "n = int(input())\n",
    "arr = [True] * (n+1)\n",
    "for i in range(2, n+1):\n",
    "    if arr[i]:\n",
    "        j = 2\n",
    "        while i * j <= n:\n",
    "            arr[i*j] = False\n",
    "            j += 1\n",
    "            \n",
    "lst = []\n",
    "for i in range(2, n+1):\n",
    "    if arr[i]:\n",
    "        lst.append(i)\n",
    "        \n",
    "end = time.time()\n",
    "print(f\"time elapse : {end - start}\")"
   ]
  },
  {
   "cell_type": "code",
   "execution_count": 4,
   "metadata": {},
   "outputs": [
    {
     "name": "stdout",
     "output_type": "stream",
     "text": [
      "[2, 3, 5, 7, 11, 13, 17, 19, 23, 29, 31, 37, 41, 43, 47, 53, 59, 61, 67, 71, 73, 79, 83, 89, 97, 101, 103, 107, 109, 113, 127, 131, 137, 139, 149, 151, 157, 163, 167, 173, 179, 181, 191, 193, 197, 199, 211, 223, 227, 229, 233, 239, 241, 251, 257, 263, 269, 271, 277, 281, 283, 293, 307, 311, 313, 317, 331, 337, 347, 349, 353, 359, 367, 373, 379, 383, 389, 397, 401, 409, 419, 421, 431, 433, 439, 443, 449, 457, 461, 463, 467, 479, 487, 491, 499, 503, 509, 521, 523, 541, 547, 557, 563, 569, 571, 577, 587, 593, 599, 601, 607, 613, 617, 619, 631, 641, 643, 647, 653, 659, 661, 673, 677, 683, 691, 701, 709, 719, 727, 733, 739, 743, 751, 757, 761, 769, 773, 787, 797, 809, 811, 821, 823, 827, 829, 839, 853, 857, 859, 863, 877, 881, 883, 887, 907, 911, 919, 929, 937, 941, 947, 953, 967, 971, 977, 983, 991, 997, 1009, 1013, 1019, 1021, 1031, 1033, 1039, 1049, 1051, 1061, 1063, 1069, 1087, 1091, 1093, 1097, 1103, 1109, 1117, 1123, 1129, 1151, 1153, 1163, 1171, 1181, 1187, 1193, 1201, 1213, 1217, 1223, 1229, 1231, 1237, 1249, 1259, 1277, 1279, 1283, 1289, 1291, 1297, 1301, 1303, 1307, 1319, 1321, 1327, 1361, 1367, 1373, 1381, 1399, 1409, 1423, 1427, 1429, 1433, 1439, 1447, 1451, 1453, 1459, 1471, 1481, 1483, 1487, 1489, 1493, 1499, 1511, 1523, 1531, 1543, 1549, 1553, 1559, 1567, 1571, 1579, 1583, 1597, 1601, 1607, 1609, 1613, 1619, 1621, 1627, 1637, 1657, 1663, 1667, 1669, 1693, 1697, 1699, 1709, 1721, 1723, 1733, 1741, 1747, 1753, 1759, 1777, 1783, 1787, 1789, 1801, 1811, 1823, 1831, 1847, 1861, 1867, 1871, 1873, 1877, 1879, 1889, 1901, 1907, 1913, 1931, 1933, 1949, 1951, 1973, 1979, 1987, 1993, 1997, 1999, 2003, 2011, 2017, 2027, 2029, 2039, 2053, 2063, 2069, 2081, 2083, 2087, 2089, 2099, 2111, 2113, 2129, 2131, 2137, 2141, 2143, 2153, 2161, 2179, 2203, 2207, 2213, 2221, 2237, 2239, 2243, 2251, 2267, 2269, 2273, 2281, 2287, 2293, 2297, 2309, 2311, 2333, 2339, 2341, 2347, 2351, 2357, 2371, 2377, 2381, 2383, 2389, 2393, 2399, 2411, 2417, 2423, 2437, 2441, 2447, 2459, 2467, 2473, 2477, 2503, 2521, 2531, 2539, 2543, 2549, 2551, 2557, 2579, 2591, 2593, 2609, 2617, 2621, 2633, 2647, 2657, 2659, 2663, 2671, 2677, 2683, 2687, 2689, 2693, 2699, 2707, 2711, 2713, 2719, 2729, 2731, 2741, 2749, 2753, 2767, 2777, 2789, 2791, 2797, 2801, 2803, 2819, 2833, 2837, 2843, 2851, 2857, 2861, 2879, 2887, 2897, 2903, 2909, 2917, 2927, 2939, 2953, 2957, 2963, 2969, 2971, 2999]\n"
     ]
    }
   ],
   "source": [
    "print(lst)"
   ]
  },
  {
   "cell_type": "code",
   "execution_count": 13,
   "metadata": {},
   "outputs": [
    {
     "name": "stdout",
     "output_type": "stream",
     "text": [
      "4\n"
     ]
    }
   ],
   "source": [
    "from collections import Counter\n",
    "lst = list(map(int, input()))     # 126549666\n",
    "#print(lst)\n",
    "\n",
    "num_dict = Counter(lst)\n",
    "#print(num_dict)\n",
    "\n",
    "for k, v in num_dict.items():\n",
    "    if num_dict[6] and num_dict[9]:\n",
    "        num_dict[6] += num_dict[9]\n",
    "        num_dict[6] = num_dict[6] // 2 + 1\n",
    "        num_dict[9] = 0\n",
    "    \n",
    "#print(num_dict)\n",
    "print(max(num_dict.values()))"
   ]
  },
  {
   "cell_type": "code",
   "execution_count": 19,
   "metadata": {},
   "outputs": [
    {
     "name": "stdout",
     "output_type": "stream",
     "text": [
      "[1, 2, 6, 5, 4, 9, 6, 6, 6]\n",
      "Counter({6: 4, 1: 1, 2: 1, 5: 1, 4: 1, 9: 1})\n"
     ]
    },
    {
     "ename": "RuntimeError",
     "evalue": "dictionary changed size during iteration",
     "output_type": "error",
     "traceback": [
      "\u001b[1;31m---------------------------------------------------------------------------\u001b[0m",
      "\u001b[1;31mRuntimeError\u001b[0m                              Traceback (most recent call last)",
      "Input \u001b[1;32mIn [19]\u001b[0m, in \u001b[0;36m<cell line: 8>\u001b[1;34m()\u001b[0m\n\u001b[0;32m      5\u001b[0m num_dict \u001b[38;5;241m=\u001b[39m Counter(lst)\n\u001b[0;32m      6\u001b[0m \u001b[38;5;28mprint\u001b[39m(num_dict)\n\u001b[1;32m----> 8\u001b[0m \u001b[38;5;28;01mfor\u001b[39;00m k, v \u001b[38;5;129;01min\u001b[39;00m num_dict\u001b[38;5;241m.\u001b[39mitems():\n\u001b[0;32m      9\u001b[0m     \u001b[38;5;28;01mif\u001b[39;00m num_dict[\u001b[38;5;241m6\u001b[39m] \u001b[38;5;129;01mand\u001b[39;00m num_dict[\u001b[38;5;241m9\u001b[39m]:\n\u001b[0;32m     10\u001b[0m         \u001b[38;5;28;01mif\u001b[39;00m (num_dict[\u001b[38;5;241m6\u001b[39m] \u001b[38;5;241m+\u001b[39m num_dict[\u001b[38;5;241m9\u001b[39m]) \u001b[38;5;241m%\u001b[39m \u001b[38;5;241m2\u001b[39m \u001b[38;5;241m==\u001b[39m \u001b[38;5;241m0\u001b[39m:\n",
      "\u001b[1;31mRuntimeError\u001b[0m: dictionary changed size during iteration"
     ]
    }
   ],
   "source": [
    "from collections import Counter\n",
    "lst = list(map(int, input()))     # 126549666\n",
    "print(lst)\n",
    "\n",
    "num_dict = Counter(lst)\n",
    "print(num_dict)\n",
    "\n",
    "for k, v in num_dict.items():\n",
    "    if num_dict[6] and num_dict[9]:\n",
    "        if (num_dict[6] + num_dict[9]) % 2 == 0:\n",
    "            num_dict[6] += num_dict[9]\n",
    "            num_dict[6] = num_dict[6] // 2\n",
    "            del num_dict[9]\n",
    "        elif (num_dict[6] + num_dict[9]) % 2 == 1:\n",
    "            num_dict[6] += num_dict[9]\n",
    "            num_dict[6] = num_dict[6] // 2 + 1\n",
    "            del num_dict[9]\n",
    "            \n",
    "    elif num_dict[6] and not num_dict[9]:\n",
    "        if num_dict[6] % 2 == 0:\n",
    "            num_dict[6] = num_dict[6] // 2\n",
    "        elif num_dict[6] % 2 == 1:\n",
    "            num_dict[6] = num_dict[6] // 2 + 1  \n",
    "    \n",
    "    elif not num_dict[6] and num_dict[9]:\n",
    "        if num_dict[9] % 2 == 0:\n",
    "            num_dict[9] = num_dict[9] // 2\n",
    "        elif num_dict[9] % 2 == 1:\n",
    "            num_dict[9] = num_dict[9] // 2 + 1\n",
    "            \n",
    "print(num_dict)\n",
    "print(max(num_dict.values()))"
   ]
  },
  {
   "cell_type": "code",
   "execution_count": 22,
   "metadata": {},
   "outputs": [
    {
     "name": "stdout",
     "output_type": "stream",
     "text": [
      "[1, 2, 6, 5, 4, 9, 6, 6, 6]\n",
      "Counter({6: 4, 1: 1, 2: 1, 5: 1, 4: 1, 9: 1})\n",
      "Counter({6: 3, 1: 1, 2: 1, 5: 1, 4: 1})\n",
      "3\n"
     ]
    }
   ],
   "source": [
    "from collections import Counter\n",
    "lst = list(map(int, input()))     # 126549666\n",
    "print(lst)\n",
    "\n",
    "num_dict = Counter(lst)\n",
    "print(num_dict)\n",
    "\n",
    "if num_dict[6] and num_dict[9]:\n",
    "    if (num_dict[6] + num_dict[9]) % 2 == 0:\n",
    "        num_dict[6] += num_dict[9]\n",
    "        num_dict[6] = num_dict[6] // 2\n",
    "        del num_dict[9]\n",
    "    elif (num_dict[6] + num_dict[9]) % 2 == 1:\n",
    "        num_dict[6] += num_dict[9]\n",
    "        num_dict[6] = num_dict[6] // 2 + 1\n",
    "        del num_dict[9]\n",
    "\n",
    "elif not num_dict[6] and num_dict[9]:\n",
    "    if num_dict[6] % 2 == 0:\n",
    "        num_dict[6] = num_dict[6] // 2\n",
    "    elif num_dict[6] % 2 == 1:\n",
    "        num_dict[6] = num_dict[6] // 2 + 1\n",
    "        \n",
    "elif num_dict[6] and not num_dict[9]:\n",
    "    if num_dict[9] % 2 == 0:\n",
    "        num_dict[9] = num_dict[9] // 2\n",
    "    elif num_dict[9] % 2 == 1:\n",
    "        num_dict[9] = num_dict[9] // 2 + 1\n",
    "            \n",
    "print(num_dict)\n",
    "print(max(num_dict.values()))"
   ]
  },
  {
   "cell_type": "code",
   "execution_count": null,
   "metadata": {},
   "outputs": [],
   "source": [
    "n, m = map(int, input().split())\n",
    "board = [[1] * 100 for _ in range(100)]\n",
    "for _ in range(n):\n",
    "    xd, yd, xu, yu = map(int, input().split())\n",
    "    for i in range(yd, yu+1):\n",
    "        for j in range(xd, xu+1):\n",
    "            board[i][j] += 1\n",
    "            \n",
    "ans = 0\n",
    "for i in range(100):\n",
    "    for j in range(100):\n",
    "        if board[i][j] > m:\n",
    "            ans += 1\n",
    "print(ans)"
   ]
  },
  {
   "cell_type": "code",
   "execution_count": 1,
   "metadata": {},
   "outputs": [
    {
     "name": "stdout",
     "output_type": "stream",
     "text": [
      "[1, 1, 1, 1, 1, 1, 1, 1, 1, 1, 1, 1, 1, 1, 1, 1, 1, 1, 1, 1]\n",
      "[1, 1, 1, 1, 1, 1, 1, 1, 1, 1, 1, 1, 1, 1, 1, 1, 1, 1, 1, 1]\n",
      "[1, 1, 1, 1, 1, 1, 1, 1, 1, 1, 1, 1, 1, 1, 1, 1, 1, 1, 1, 1]\n",
      "[1, 1, 1, 1, 1, 1, 1, 1, 1, 1, 1, 1, 1, 1, 1, 1, 1, 1, 1, 1]\n",
      "[1, 1, 1, 1, 1, 1, 1, 1, 1, 1, 1, 1, 1, 1, 1, 1, 1, 1, 1, 1]\n",
      "[1, 1, 1, 1, 1, 1, 1, 1, 1, 1, 1, 1, 1, 1, 1, 1, 1, 1, 1, 1]\n",
      "[1, 1, 1, 1, 1, 1, 1, 1, 1, 1, 1, 1, 1, 1, 1, 1, 1, 1, 1, 1]\n",
      "[1, 1, 1, 1, 1, 1, 1, 1, 1, 1, 1, 1, 1, 1, 1, 1, 1, 1, 1, 1]\n",
      "[1, 1, 1, 1, 1, 1, 1, 1, 1, 1, 1, 1, 1, 1, 1, 1, 1, 1, 1, 1]\n",
      "[1, 1, 1, 1, 1, 1, 1, 1, 1, 1, 1, 1, 1, 1, 1, 1, 1, 1, 1, 1]\n",
      "[1, 1, 1, 1, 1, 1, 1, 1, 1, 1, 1, 1, 1, 1, 1, 1, 1, 1, 1, 1]\n",
      "[1, 1, 1, 1, 1, 1, 1, 1, 1, 1, 1, 1, 1, 1, 1, 1, 1, 1, 1, 1]\n",
      "[1, 1, 1, 1, 1, 1, 1, 1, 1, 1, 1, 1, 1, 1, 1, 1, 1, 1, 1, 1]\n",
      "[1, 1, 1, 1, 1, 1, 1, 1, 1, 1, 1, 1, 1, 1, 1, 1, 1, 1, 1, 1]\n",
      "[1, 1, 1, 1, 1, 1, 1, 1, 1, 1, 1, 1, 1, 1, 1, 1, 1, 1, 1, 1]\n",
      "[1, 1, 1, 1, 1, 1, 1, 1, 1, 1, 1, 1, 1, 1, 1, 1, 1, 1, 1, 1]\n",
      "[1, 1, 1, 1, 1, 1, 1, 1, 1, 1, 1, 1, 1, 1, 1, 1, 1, 1, 1, 1]\n",
      "[1, 1, 1, 1, 1, 1, 1, 1, 1, 1, 1, 1, 1, 1, 1, 1, 1, 1, 1, 1]\n",
      "[1, 1, 1, 1, 1, 1, 1, 1, 1, 1, 1, 1, 1, 1, 1, 1, 1, 1, 1, 1]\n",
      "[1, 1, 1, 1, 1, 1, 1, 1, 1, 1, 1, 1, 1, 1, 1, 1, 1, 1, 1, 1]\n"
     ]
    }
   ],
   "source": [
    "board = [[1] * 20 for _ in range(20)]\n",
    "\n",
    "for row in board:\n",
    "    print(row)"
   ]
  },
  {
   "cell_type": "code",
   "execution_count": null,
   "metadata": {},
   "outputs": [],
   "source": [
    "n = int(input())\n",
    "arr = [[0] * n for _ in range(n)]\n",
    "\n",
    "for i in range(len(arr)):\n",
    "    row = input()\n",
    "    for j in range(len(row)):\n",
    "        arr[i][j] = row[j]\n",
    "    \n",
    "for i in range(n):\n",
    "    for j in range(len(row)):\n",
    "        if arr[i][j] == '.':\n",
    "            arr[i][j] = 0\n",
    "        elif arr[i][j] == 'X':\n",
    "            arr[i][j] = 1\n",
    "            \n",
    "for row in arr:\n",
    "    print(row)\n",
    "    \n",
    "print()\n",
    "\n",
    "arr_tr = list(map(list, zip(*arr)))\n",
    "    \n",
    "for row in arr_tr:\n",
    "    print(row)\n",
    "    \n",
    "col_cnt, mtt = 0, 0\n",
    "for i in range(n):\n",
    "    j = 0\n",
    "    while j < n:\n",
    "        if arr[i][j] == 0:\n",
    "            mtt += 1\n",
    "        if arr[i][j] == 1:\n",
    "            if mtt >= 2:\n",
    "                col_cnt += 1\n",
    "            mtt = 0\n",
    "        if j == n-1 and sum(arr[i]) >= 1:\n",
    "            if mtt >= 2:\n",
    "                col_cnt += 1\n",
    "                mtt = 0        \n",
    "        j += 1\n",
    "    mtt = 0\n",
    "\n",
    "for i in range(n):\n",
    "    if i == 0 and sum(arr[i]) == 0 and sum(arr[i+1]) >= 1:\n",
    "        col_cnt += 1\n",
    "    if 1 <= i <= n-2 and sum(arr[i]) == 0 and (sum(arr[i-1]) >= 1 or sum(arr[i+1]) >= 1):\n",
    "        col_cnt += 1\n",
    "    if i == n-1 and sum(arr[i]) == 0 and sum(arr[i-1]) >= 1:\n",
    "        col_cnt += 1\n",
    "     \n",
    "row_cnt, mtt = 0, 0\n",
    "for i in range(n):\n",
    "    j = 0\n",
    "    while j < n:\n",
    "        if arr_tr[i][j] == 0:\n",
    "            mtt += 1\n",
    "        if arr_tr[i][j] == 1:\n",
    "            if mtt >= 2:\n",
    "                row_cnt += 1\n",
    "            mtt = 0\n",
    "        if j == n-1 and sum(arr_tr[i]) >= 1:\n",
    "            if mtt >= 2:\n",
    "                row_cnt += 1\n",
    "                mtt = 0   \n",
    "        j += 1\n",
    "    mtt = 0\n",
    "\n",
    "for i in range(n):\n",
    "    if i == 0 and sum(arr_tr[i]) == 0 and sum(arr_tr[i+1]) >= 1:\n",
    "        row_cnt += 1\n",
    "    if 1 <= i <= n-2 and sum(arr_tr[i]) == 0 and (sum(arr_tr[i-1]) >= 1 or sum(arr_tr[i+1]) >= 1):\n",
    "        row_cnt += 1\n",
    "    if i == n-1 and sum(arr_tr[i]) == 0 and sum(arr_tr[i-1]) >= 1:\n",
    "        row_cnt += 1         \n",
    "    \n",
    "print(col_cnt, row_cnt)"
   ]
  },
  {
   "cell_type": "code",
   "execution_count": null,
   "metadata": {},
   "outputs": [],
   "source": [
    "n = int(input())\n",
    "arr = [[0] * n for _ in range(n)]\n",
    "\n",
    "for i in range(len(arr)):\n",
    "    row = input()\n",
    "    for j in range(len(row)):\n",
    "        arr[i][j] = row[j]\n",
    "    \n",
    "for i in range(n):\n",
    "    for j in range(len(row)):\n",
    "        if arr[i][j] == '.':\n",
    "            arr[i][j] = 0\n",
    "        elif arr[i][j] == 'X':\n",
    "            arr[i][j] = 1\n",
    "            \n",
    "arr_tr = list(map(list, zip(*arr)))\n",
    "    \n",
    "col_cnt, mtt = 0, 0\n",
    "for i in range(n):\n",
    "    j = 0\n",
    "    while j < n:\n",
    "        if arr[i][j] == 0:\n",
    "            mtt += 1\n",
    "        if arr[i][j] == 1:\n",
    "            if mtt >= 2:\n",
    "                col_cnt += 1\n",
    "            mtt = 0\n",
    "        if j == n-1 and sum(arr[i]) >= 1:\n",
    "            if mtt >= 2:\n",
    "                col_cnt += 1\n",
    "                mtt = 0        \n",
    "        j += 1\n",
    "    mtt = 0\n",
    "\n",
    "for i in range(n):\n",
    "    if i == 0 and sum(arr[i]) == 0 and sum(arr[i+1]) >= 1:\n",
    "        col_cnt += 1\n",
    "    if 1 <= i <= n-2 and sum(arr[i]) == 0 and (sum(arr[i-1]) >= 1 or sum(arr[i+1]) >= 1):\n",
    "        col_cnt += 1\n",
    "    if i == n-1 and sum(arr[i]) == 0 and sum(arr[i-1]) >= 1:\n",
    "        col_cnt += 1\n",
    "     \n",
    "row_cnt, mtt = 0, 0\n",
    "for i in range(n):\n",
    "    j = 0\n",
    "    while j < n:\n",
    "        if arr_tr[i][j] == 0:\n",
    "            mtt += 1\n",
    "        if arr_tr[i][j] == 1:\n",
    "            if mtt >= 2:\n",
    "                row_cnt += 1\n",
    "            mtt = 0\n",
    "        if j == n-1 and sum(arr_tr[i]) >= 1:\n",
    "            if mtt >= 2:\n",
    "                row_cnt += 1\n",
    "                mtt = 0   \n",
    "        j += 1\n",
    "    mtt = 0\n",
    "\n",
    "for i in range(n):\n",
    "    if i == 0 and sum(arr_tr[i]) == 0 and sum(arr_tr[i+1]) >= 1:\n",
    "        row_cnt += 1\n",
    "    if 1 <= i <= n-2 and sum(arr_tr[i]) == 0 and (sum(arr_tr[i-1]) >= 1 or sum(arr_tr[i+1]) >= 1):\n",
    "        row_cnt += 1\n",
    "    if i == n-1 and sum(arr_tr[i]) == 0 and sum(arr_tr[i-1]) >= 1:\n",
    "        row_cnt += 1         \n",
    "    \n",
    "print(col_cnt, row_cnt)"
   ]
  },
  {
   "cell_type": "code",
   "execution_count": null,
   "metadata": {},
   "outputs": [],
   "source": [
    "n = int(input())\n",
    "cache = [0] * (n+1)\n",
    "\n",
    "def cal_factorial(x):\n",
    "    if x <= 1:\n",
    "        return 1\n",
    "    else:\n",
    "        cache[x] = x * cal_factorial(x-1)\n",
    "    "
   ]
  }
 ],
 "metadata": {
  "kernelspec": {
   "display_name": "base",
   "language": "python",
   "name": "python3"
  },
  "language_info": {
   "codemirror_mode": {
    "name": "ipython",
    "version": 3
   },
   "file_extension": ".py",
   "mimetype": "text/x-python",
   "name": "python",
   "nbconvert_exporter": "python",
   "pygments_lexer": "ipython3",
   "version": "3.9.12"
  }
 },
 "nbformat": 4,
 "nbformat_minor": 2
}
