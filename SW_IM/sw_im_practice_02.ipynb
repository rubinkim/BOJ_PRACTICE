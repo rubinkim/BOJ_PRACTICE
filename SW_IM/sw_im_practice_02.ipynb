{
 "cells": [
  {
   "cell_type": "code",
   "execution_count": 7,
   "metadata": {},
   "outputs": [
    {
     "name": "stdout",
     "output_type": "stream",
     "text": [
      "8 8\n",
      "WBWBWBWB\n",
      "BWBWBWBW\n",
      "WBWBWBWB\n",
      "BWBBBWBW\n",
      "WBWBWBWB\n",
      "BWBWBWBW\n",
      "WBWBWBWB\n",
      "BWBWBWBW\n"
     ]
    }
   ],
   "source": [
    "with open(\"../data/1018_체스판.txt\") as f:\n",
    "    print(f.read())"
   ]
  },
  {
   "cell_type": "code",
   "execution_count": null,
   "metadata": {},
   "outputs": [],
   "source": [
    "with open(\"../data/1018_체스판.txt\") as f:\n",
    "    N, M = map(int, f.readline())\n",
    "    "
   ]
  },
  {
   "cell_type": "code",
   "execution_count": null,
   "metadata": {},
   "outputs": [],
   "source": [
    "from itertools import accumulate as acc\n",
    "\n",
    "ac = [0]\n",
    "ac.extend(acc([((s=='W')+j) % 2 for j, s in enumerate(input().rstrip())]))"
   ]
  }
 ],
 "metadata": {
  "kernelspec": {
   "display_name": "base",
   "language": "python",
   "name": "python3"
  },
  "language_info": {
   "codemirror_mode": {
    "name": "ipython",
    "version": 3
   },
   "file_extension": ".py",
   "mimetype": "text/x-python",
   "name": "python",
   "nbconvert_exporter": "python",
   "pygments_lexer": "ipython3",
   "version": "3.9.12"
  }
 },
 "nbformat": 4,
 "nbformat_minor": 2
}
