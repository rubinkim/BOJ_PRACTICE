{
 "cells": [
  {
   "cell_type": "code",
   "execution_count": 40,
   "metadata": {},
   "outputs": [
    {
     "name": "stdout",
     "output_type": "stream",
     "text": [
      "8 8\n",
      "WBWBWBWB\n",
      "BWBWBWBW\n",
      "WBWBWBWB\n",
      "BWBBBWBW\n",
      "WBWBWBWB\n",
      "BWBWBWBW\n",
      "WBWBWBWB\n"
     ]
    }
   ],
   "source": [
    "with open(\"../data/1018_체스판.txt\") as f:\n",
    "    for _ in range(8):\n",
    "        print(f.readline().rstrip())"
   ]
  },
  {
   "cell_type": "code",
   "execution_count": 45,
   "metadata": {},
   "outputs": [
    {
     "name": "stdout",
     "output_type": "stream",
     "text": [
      "i : 0,  y : [[0, 0, 0, 0, 0, 0, 0, 0, 0], [0, 1, 2, 3, 4, 5, 6, 7, 8]]\n",
      "i : 1,  y : [[0, 0, 0, 0, 0, 0, 0, 0, 0], [0, 1, 2, 3, 4, 5, 6, 7, 8], [0, 2, 4, 6, 8, 10, 12, 14, 16]]\n",
      "i : 2,  y : [[0, 0, 0, 0, 0, 0, 0, 0, 0], [0, 1, 2, 3, 4, 5, 6, 7, 8], [0, 2, 4, 6, 8, 10, 12, 14, 16], [0, 3, 6, 9, 12, 15, 18, 21, 24]]\n",
      "i : 3,  y : [[0, 0, 0, 0, 0, 0, 0, 0, 0], [0, 1, 2, 3, 4, 5, 6, 7, 8], [0, 2, 4, 6, 8, 10, 12, 14, 16], [0, 3, 6, 9, 12, 15, 18, 21, 24], [0, 4, 8, 12, 15, 19, 23, 27, 31]]\n",
      "i : 4,  y : [[0, 0, 0, 0, 0, 0, 0, 0, 0], [0, 1, 2, 3, 4, 5, 6, 7, 8], [0, 2, 4, 6, 8, 10, 12, 14, 16], [0, 3, 6, 9, 12, 15, 18, 21, 24], [0, 4, 8, 12, 15, 19, 23, 27, 31], [0, 5, 10, 15, 19, 24, 29, 34, 39]]\n",
      "i : 5,  y : [[0, 0, 0, 0, 0, 0, 0, 0, 0], [0, 1, 2, 3, 4, 5, 6, 7, 8], [0, 2, 4, 6, 8, 10, 12, 14, 16], [0, 3, 6, 9, 12, 15, 18, 21, 24], [0, 4, 8, 12, 15, 19, 23, 27, 31], [0, 5, 10, 15, 19, 24, 29, 34, 39], [0, 6, 12, 18, 23, 29, 35, 41, 47]]\n",
      "i : 6,  y : [[0, 0, 0, 0, 0, 0, 0, 0, 0], [0, 1, 2, 3, 4, 5, 6, 7, 8], [0, 2, 4, 6, 8, 10, 12, 14, 16], [0, 3, 6, 9, 12, 15, 18, 21, 24], [0, 4, 8, 12, 15, 19, 23, 27, 31], [0, 5, 10, 15, 19, 24, 29, 34, 39], [0, 6, 12, 18, 23, 29, 35, 41, 47], [0, 7, 14, 21, 27, 34, 41, 48, 55]]\n",
      "i : 7,  y : [[0, 0, 0, 0, 0, 0, 0, 0, 0], [0, 1, 2, 3, 4, 5, 6, 7, 8], [0, 2, 4, 6, 8, 10, 12, 14, 16], [0, 3, 6, 9, 12, 15, 18, 21, 24], [0, 4, 8, 12, 15, 19, 23, 27, 31], [0, 5, 10, 15, 19, 24, 29, 34, 39], [0, 6, 12, 18, 23, 29, 35, 41, 47], [0, 7, 14, 21, 27, 34, 41, 48, 55], [0, 8, 16, 24, 31, 39, 47, 55, 63]]\n"
     ]
    }
   ],
   "source": [
    "from itertools import accumulate as acc\n",
    "\n",
    "with open(\"../data/1018_체스판.txt\") as f:\n",
    "    n, m = f.readline().rstrip().split()\n",
    "    n, m = int(n), int(m)\n",
    "    y = [[0]*(m+1)]\n",
    "    for i in range(n):\n",
    "        ac = [0]\n",
    "        ac.extend(acc([((s=='W')+i+j) % 2 for j, s in enumerate(f.readline().rstrip())]))\n",
    "        y.append([k + j for k, j in zip(ac, y[-1])])\n",
    "        print(f\"i : {i},  y : {y}\")"
   ]
  },
  {
   "cell_type": "code",
   "execution_count": 46,
   "metadata": {},
   "outputs": [
    {
     "name": "stdout",
     "output_type": "stream",
     "text": [
      "[0, 0, 0, 0, 0, 0, 0, 0, 0]\n",
      "[0, 1, 2, 3, 4, 5, 6, 7, 8]\n",
      "[0, 2, 4, 6, 8, 10, 12, 14, 16]\n",
      "[0, 3, 6, 9, 12, 15, 18, 21, 24]\n",
      "[0, 4, 8, 12, 15, 19, 23, 27, 31]\n",
      "[0, 5, 10, 15, 19, 24, 29, 34, 39]\n",
      "[0, 6, 12, 18, 23, 29, 35, 41, 47]\n",
      "[0, 7, 14, 21, 27, 34, 41, 48, 55]\n",
      "[0, 8, 16, 24, 31, 39, 47, 55, 63]\n"
     ]
    }
   ],
   "source": [
    "for row in y:\n",
    "    print(row)"
   ]
  },
  {
   "cell_type": "code",
   "execution_count": 47,
   "metadata": {},
   "outputs": [
    {
     "name": "stdout",
     "output_type": "stream",
     "text": [
      "1\n"
     ]
    }
   ],
   "source": [
    "res = 32\n",
    "for i in range(n-7):\n",
    "    for j in range(m-7):\n",
    "        u = y[i+8][j+8]-y[i+8][j]-y[i][j+8]+y[i][j]\n",
    "        res = min(res, u, 64-u)\n",
    "print(res)"
   ]
  },
  {
   "cell_type": "code",
   "execution_count": 10,
   "metadata": {},
   "outputs": [
    {
     "name": "stdout",
     "output_type": "stream",
     "text": [
      "[0, 1, 2, 3, 4, 5, 6, 7, 8]\n"
     ]
    }
   ],
   "source": [
    "from itertools import accumulate as acc\n",
    "\n",
    "ac = [0]\n",
    "x = 'WBWBWBWB'\n",
    "ac.extend(acc([((s=='W')+j) % 2 for j, s in enumerate(x.rstrip())]))\n",
    "print(ac)"
   ]
  },
  {
   "cell_type": "code",
   "execution_count": 11,
   "metadata": {},
   "outputs": [
    {
     "data": {
      "text/plain": [
       "[1, 1, 1, 1, 1, 1, 1, 1]"
      ]
     },
     "execution_count": 11,
     "metadata": {},
     "output_type": "execute_result"
    }
   ],
   "source": [
    "[((s=='W')+j) % 2 for j, s in enumerate(x.rstrip())]"
   ]
  },
  {
   "cell_type": "code",
   "execution_count": 30,
   "metadata": {},
   "outputs": [
    {
     "name": "stdout",
     "output_type": "stream",
     "text": [
      "s : W,  (s=='W') : True ,  j : 0,  (s=='W')+j : 1,  ((s=='W')+j)%2 : 1\n",
      "s : B,  (s=='W') : False,  j : 1,  (s=='W')+j : 1,  ((s=='W')+j)%2 : 1\n",
      "s : W,  (s=='W') : True ,  j : 2,  (s=='W')+j : 3,  ((s=='W')+j)%2 : 1\n",
      "s : B,  (s=='W') : False,  j : 3,  (s=='W')+j : 3,  ((s=='W')+j)%2 : 1\n",
      "s : W,  (s=='W') : True ,  j : 4,  (s=='W')+j : 5,  ((s=='W')+j)%2 : 1\n",
      "s : B,  (s=='W') : False,  j : 5,  (s=='W')+j : 5,  ((s=='W')+j)%2 : 1\n",
      "s : W,  (s=='W') : True ,  j : 6,  (s=='W')+j : 7,  ((s=='W')+j)%2 : 1\n",
      "s : B,  (s=='W') : False,  j : 7,  (s=='W')+j : 7,  ((s=='W')+j)%2 : 1\n"
     ]
    }
   ],
   "source": [
    "x = 'WBWBWBWB'\n",
    "for j, s in enumerate(x.rstrip()):\n",
    "    print(f\"s : {s},  (s=='W') : {str(s=='W'):<5},  j : {j},  (s=='W')+j : {(s=='W')+j},  ((s=='W')+j)%2 : {((s=='W')+j) % 2}\")"
   ]
  },
  {
   "cell_type": "code",
   "execution_count": 31,
   "metadata": {},
   "outputs": [
    {
     "name": "stdout",
     "output_type": "stream",
     "text": [
      "s : B,  (s=='W') : False,  j : 0,  (s=='W')+j : 0,  ((s=='W')+j)%2 : 0\n",
      "s : W,  (s=='W') : True ,  j : 1,  (s=='W')+j : 2,  ((s=='W')+j)%2 : 0\n",
      "s : B,  (s=='W') : False,  j : 2,  (s=='W')+j : 2,  ((s=='W')+j)%2 : 0\n",
      "s : W,  (s=='W') : True ,  j : 3,  (s=='W')+j : 4,  ((s=='W')+j)%2 : 0\n",
      "s : B,  (s=='W') : False,  j : 4,  (s=='W')+j : 4,  ((s=='W')+j)%2 : 0\n",
      "s : W,  (s=='W') : True ,  j : 5,  (s=='W')+j : 6,  ((s=='W')+j)%2 : 0\n",
      "s : B,  (s=='W') : False,  j : 6,  (s=='W')+j : 6,  ((s=='W')+j)%2 : 0\n",
      "s : W,  (s=='W') : True ,  j : 7,  (s=='W')+j : 8,  ((s=='W')+j)%2 : 0\n"
     ]
    }
   ],
   "source": [
    "y = 'BWBWBWBW'\n",
    "for j, s in enumerate(y.rstrip()):\n",
    "    print(f\"s : {s},  (s=='W') : {str(s=='W'):<5},  j : {j},  (s=='W')+j : {(s=='W')+j},  ((s=='W')+j)%2 : {((s=='W')+j) % 2}\")"
   ]
  },
  {
   "cell_type": "code",
   "execution_count": 33,
   "metadata": {},
   "outputs": [
    {
     "name": "stdout",
     "output_type": "stream",
     "text": [
      "[[0, 0, 0, 0, 0, 0, 0, 0, 0]]\n",
      "[0, 0, 0, 0, 0, 0, 0, 0, 0]\n"
     ]
    }
   ],
   "source": [
    "n, m = 8, 8\n",
    "y = [[0]*(m+1)]\n",
    "print(y)\n",
    "print(y[-1])"
   ]
  },
  {
   "cell_type": "code",
   "execution_count": 12,
   "metadata": {},
   "outputs": [
    {
     "data": {
      "text/plain": [
       "[0, 1, 0, 0]"
      ]
     },
     "execution_count": 12,
     "metadata": {},
     "output_type": "execute_result"
    }
   ],
   "source": [
    "list(map(int, input()))"
   ]
  },
  {
   "cell_type": "code",
   "execution_count": null,
   "metadata": {},
   "outputs": [],
   "source": [
    "n, m = map(int, input().split())\n",
    "arr = [[] for _ in range(n)]\n",
    "for i in range(n):\n",
    "    row = list(map(int, input()))\n",
    "    for j in range(m):\n",
    "        arr[i].append(row[j])  \n",
    "        \n",
    "for row in arr:\n",
    "    print(row) \n",
    "    \n",
    "lo, hi = 1, min(n, m)\n",
    "mid = (lo + hi) // 2\n",
    "print(f\"mid : {mid}\")\n",
    "ans = 1\n",
    "\n",
    "while lo <= hi:\n",
    "    for i in range(n-mid):\n",
    "        for j in range(m-mid):\n",
    "            if arr[i][j] == 1:\n",
    "                area_sum = sum([sum([arr[ii][jj] for jj in range(j, j+mid)]) for ii in range(i, i+mid)])                \n",
    "                if area_sum == mid ** 2:\n",
    "                    ans = max(ans, area_sum)\n",
    "                    print(f\"(i, j) {i, j},  area_sum : {area_sum}\")\n",
    "    if ans == mid ** 2:\n",
    "        lo = mid + 1\n",
    "    elif area_sum < mid ** 2:\n",
    "        hi = mid - 1\n",
    "    mid = (lo + hi) // 2\n",
    "    print(f\"mid : {mid}, hi : {hi}, lo : {lo}\")                \n",
    "\n",
    "print(ans)"
   ]
  },
  {
   "cell_type": "code",
   "execution_count": 1,
   "metadata": {},
   "outputs": [
    {
     "name": "stdout",
     "output_type": "stream",
     "text": [
      "i : 0,  j : 7\n",
      "i : 1,  j : 7\n",
      "i : 2,  j : 7\n",
      "i : 3,  j : 7\n",
      "i : 4,  j : 7\n",
      "i : 4,  j : 7\n",
      "i : 5,  j : 6\n",
      "i : 5,  j : 6\n",
      "i : 6,  j : 5\n",
      "i : 6,  j : 5\n",
      "i : 7,  j : 4\n",
      "i : 7,  j : 4\n",
      "i : 8,  j : 3\n",
      "i : 8,  j : 3\n",
      "i : 9,  j : 2\n",
      "i : 9,  j : 2\n"
     ]
    }
   ],
   "source": [
    "ans = 0\n",
    "for i in range(10):\n",
    "    for j in range(8):\n",
    "        if i + j == 11:\n",
    "            print(f\"i : {i},  j : {j}\")\n",
    "            break\n",
    "    print(f\"i : {i},  j : {j}\")"
   ]
  },
  {
   "cell_type": "code",
   "execution_count": 5,
   "metadata": {},
   "outputs": [
    {
     "name": "stdout",
     "output_type": "stream",
     "text": [
      "i : 4,  j : 7\n"
     ]
    }
   ],
   "source": [
    "ans = 0\n",
    "flag = False\n",
    "for i in range(10):\n",
    "    for j in range(8):\n",
    "        if i + j == 11:\n",
    "            print(f\"i : {i},  j : {j}\")\n",
    "            flag = True\n",
    "            break\n",
    "    if flag:\n",
    "        break\n",
    "    "
   ]
  },
  {
   "cell_type": "code",
   "execution_count": 11,
   "metadata": {},
   "outputs": [
    {
     "name": "stdout",
     "output_type": "stream",
     "text": [
      "i : 8,  j : 7\n"
     ]
    }
   ],
   "source": [
    "ans = 0\n",
    "for i in range(10):\n",
    "    for j in range(8):\n",
    "        if i + j == 15:\n",
    "            print(f\"i : {i},  j : {j}\")\n",
    "            break\n",
    "    else:\n",
    "        continue       # Continue if the inner loop wasn't broken\n",
    "    break              # Inner loop was broken, break the outer."
   ]
  },
  {
   "cell_type": "code",
   "execution_count": 1,
   "metadata": {},
   "outputs": [
    {
     "name": "stdout",
     "output_type": "stream",
     "text": [
      "[0, 0, 1, 1, 1, 0, 0, 0, 0, 0, 1, 0]\n",
      "[1, 0, 1, 0, 0, 1, 1, 1, 1, 1, 1, 0]\n",
      "[1, 1, 1, 0, 0, 1, 1, 1, 1, 1, 0, 0]\n",
      "[1, 1, 1, 0, 1, 1, 1, 1, 1, 1, 1, 0]\n",
      "[1, 1, 1, 1, 0, 1, 1, 1, 1, 1, 1, 0]\n",
      "[0, 1, 1, 0, 1, 1, 1, 1, 1, 1, 1, 0]\n",
      "[1, 1, 1, 1, 0, 0, 1, 1, 0, 1, 1, 0]\n",
      "[1, 0, 0, 1, 0, 0, 1, 0, 0, 0, 1, 0]\n",
      "25\n"
     ]
    }
   ],
   "source": [
    "\"\"\"\n",
    "8 12\n",
    "001110000010\n",
    "101001111110\n",
    "111001111100\n",
    "111011111110\n",
    "111101111110\n",
    "011011111110\n",
    "111100110110\n",
    "100100100010\n",
    "\"\"\"\n",
    "\n",
    "n, m = map(int, input().split())\n",
    "arr = [[] for _ in range(n)]\n",
    "for i in range(n):\n",
    "    row = list(map(int, input()))\n",
    "    for j in range(m):\n",
    "        arr[i].append(row[j])  \n",
    "        \n",
    "for row in arr:\n",
    "    print(row)   \n",
    "        \n",
    "dp = [[0] * m for _ in range(n)]\n",
    "ans = 0\n",
    "\n",
    "for j in range(m):\n",
    "    if arr[0][j] == 1:\n",
    "        dp[0][j] = 1\n",
    "\n",
    "for i in range(1, n):\n",
    "    if arr[i][0] == 1:\n",
    "        dp[i][0] = 1\n",
    "    for j in range(1, m):\n",
    "        if arr[i][j] == 1:\n",
    "            dp[i][j] = min(dp[i][j-1], dp[i-1][j], dp[i-1][j-1]) + 1\n",
    "\n",
    "for i in range(n):\n",
    "    for j in range(m):\n",
    "        ans = max(ans, dp[i][j])\n",
    "\n",
    "print(ans**2)"
   ]
  },
  {
   "cell_type": "code",
   "execution_count": 2,
   "metadata": {},
   "outputs": [
    {
     "name": "stdout",
     "output_type": "stream",
     "text": [
      "[0, 0, 1, 1, 1, 0, 0, 0, 0, 0, 1, 0]\n",
      "[1, 0, 1, 0, 0, 1, 1, 1, 1, 1, 1, 0]\n",
      "[1, 1, 1, 0, 0, 1, 2, 2, 2, 2, 0, 0]\n",
      "[1, 2, 2, 0, 1, 1, 2, 3, 3, 3, 1, 0]\n",
      "[1, 2, 3, 1, 0, 1, 2, 3, 4, 4, 2, 0]\n",
      "[0, 1, 2, 0, 1, 1, 2, 3, 4, 5, 3, 0]\n",
      "[1, 1, 2, 1, 0, 0, 1, 2, 0, 1, 2, 0]\n",
      "[1, 0, 0, 1, 0, 0, 1, 0, 0, 0, 1, 0]\n"
     ]
    }
   ],
   "source": [
    "for row in dp:\n",
    "    print(row)"
   ]
  },
  {
   "cell_type": "code",
   "execution_count": 2,
   "metadata": {},
   "outputs": [
    {
     "name": "stdout",
     "output_type": "stream",
     "text": [
      "[1, 2, 3, 4, 5, 6, 7, 8, 9, 10, 11, 12, 13] [1, 2, 3, 4, 5, 6, 7, 8, 9, 10, 11, 12, 13, 14, 15, 16, 17, 18, 19, 20, 21, 22, 23, 24, 25, 26, 27, 28, 29]\n"
     ]
    }
   ],
   "source": [
    "from itertools import combinations\n",
    "n, m = 13, 29\n",
    "lst1 = list(range(1, 14))\n",
    "lst2 = list(range(1, 30))\n",
    "print(lst1, lst2)"
   ]
  },
  {
   "cell_type": "code",
   "execution_count": 3,
   "metadata": {},
   "outputs": [
    {
     "name": "stdout",
     "output_type": "stream",
     "text": [
      "67863915\n",
      "lapse : 15.958999156951904\n"
     ]
    }
   ],
   "source": [
    "import time\n",
    "start = time.time()\n",
    "combi_lst = []\n",
    "\n",
    "for combi in combinations(lst2, 13):\n",
    "    combi_lst.append(combi)\n",
    "print(len(combi_lst))\n",
    "end = time.time()\n",
    "print(f\"lapse : {end - start}\")"
   ]
  },
  {
   "cell_type": "code",
   "execution_count": 5,
   "metadata": {},
   "outputs": [
    {
     "name": "stdout",
     "output_type": "stream",
     "text": [
      "67863915\n",
      "lapse : 7.377001762390137\n"
     ]
    }
   ],
   "source": [
    "import time\n",
    "start = time.time()\n",
    "cnt = 0\n",
    "for combi in combinations(lst2, 13):\n",
    "    cnt += 1\n",
    "print(cnt)\n",
    "end = time.time()\n",
    "print(f\"lapse : {end - start}\")"
   ]
  },
  {
   "cell_type": "code",
   "execution_count": 8,
   "metadata": {},
   "outputs": [
    {
     "name": "stdout",
     "output_type": "stream",
     "text": [
      "67863915\n"
     ]
    }
   ],
   "source": [
    "from math import factorial\n",
    "n, m = 13, 29\n",
    "ans = factorial(m)/(factorial(m-n)*factorial(n))\n",
    "print(int(ans))"
   ]
  },
  {
   "cell_type": "code",
   "execution_count": 1,
   "metadata": {},
   "outputs": [
    {
     "name": "stdout",
     "output_type": "stream",
     "text": [
      "3\n",
      "[1, 1, 1, 0]\n"
     ]
    }
   ],
   "source": [
    "x = int(input())\n",
    "lst = []\n",
    "while True:\n",
    "    if x == 1:\n",
    "        print(sum(lst))\n",
    "        break\n",
    "    lst.append(x%2)\n",
    "    x //= 2\n",
    "print(lst)"
   ]
  },
  {
   "cell_type": "code",
   "execution_count": 3,
   "metadata": {},
   "outputs": [
    {
     "data": {
      "text/plain": [
       "{'but', 'hesitate', 'i', \"won't\"}"
      ]
     },
     "execution_count": 3,
     "metadata": {},
     "output_type": "execute_result"
    }
   ],
   "source": [
    "x = {\"but\", \"i\", \"won't\", \"hesitate\"}\n",
    "x = list(x)\n",
    "x.sort()\n",
    "x = set(x)\n",
    "x"
   ]
  },
  {
   "cell_type": "code",
   "execution_count": 4,
   "metadata": {},
   "outputs": [
    {
     "data": {
      "text/plain": [
       "'b'"
      ]
     },
     "execution_count": 4,
     "metadata": {},
     "output_type": "execute_result"
    }
   ],
   "source": [
    "chr(98)"
   ]
  },
  {
   "cell_type": "code",
   "execution_count": 5,
   "metadata": {},
   "outputs": [
    {
     "name": "stdout",
     "output_type": "stream",
     "text": [
      "mobitel\n",
      "98\n",
      "b\n"
     ]
    }
   ],
   "source": [
    "word = input()\n",
    "print(word)\n",
    "min_ord = 1e5\n",
    "\n",
    "for ch in word:\n",
    "    min_ord = min(min_ord, ord(ch))\n",
    "#min_idx = word.index(ch(min_ch))\n",
    "print(min_ord)\n",
    "\n",
    "min_chr = chr(min_ord)\n",
    "print(min_chr)"
   ]
  },
  {
   "cell_type": "code",
   "execution_count": 1,
   "metadata": {},
   "outputs": [],
   "source": [
    "def is_leap(yr):\n",
    "    if yr % 4 == 0 and yr % 100 == 0 and yr % 400 == 0:\n",
    "        return True\n",
    "    elif yr % 4 == 0 and yr % 100 == 0 and yr % 400 != 0:\n",
    "        return False\n",
    "    elif yr % 4 == 0 and yr % 100 != 0:\n",
    "        return True\n",
    "    elif yr % 4 != 0:\n",
    "        return False\n",
    "    \n",
    "calendar_normal = {1:31, 2:28, 3:31, 4:30, 5:31, 6:30, 7:31, 8:31, 9:30, 10:31, 11:30, 12:31}\n",
    "calendar_leap = {1:31, 2:29, 3:31, 4:30, 5:31, 6:30, 7:31, 8:31, 9:30, 10:31, 11:30, 12:31}     "
   ]
  },
  {
   "cell_type": "code",
   "execution_count": 7,
   "metadata": {},
   "outputs": [
    {
     "data": {
      "text/plain": [
       "True"
      ]
     },
     "execution_count": 7,
     "metadata": {},
     "output_type": "execute_result"
    }
   ],
   "source": [
    "is_leap(2400)"
   ]
  },
  {
   "cell_type": "code",
   "execution_count": 23,
   "metadata": {},
   "outputs": [],
   "source": [
    "cnt = 0"
   ]
  },
  {
   "cell_type": "code",
   "execution_count": 22,
   "metadata": {},
   "outputs": [],
   "source": [
    "sy, sm, sd = map(int, input().split())     # 2008 12 27     2024 1 31   2024 11 30\n",
    "ey, em, ed = map(int, input().split())     # 2009 1 22"
   ]
  },
  {
   "cell_type": "code",
   "execution_count": 24,
   "metadata": {},
   "outputs": [
    {
     "name": "stdout",
     "output_type": "stream",
     "text": [
      "0, 29, 60, 90, 121, 151, 182, 213, 243, 274, 304, "
     ]
    }
   ],
   "source": [
    "if sy == ey:\n",
    "    if is_leap(sy):\n",
    "        for m in range(sm, em+1):\n",
    "            if m == sm and m == em:\n",
    "                cnt += ed - sd\n",
    "            elif m == sm and em > sm:\n",
    "                cnt += calendar_leap[m] - sd\n",
    "            if m > sm and m < em:\n",
    "                cnt += calendar_leap[m]\n",
    "            if m == em:\n",
    "                cnt += ed\n",
    "\n",
    "elif 0 < ey - sy < 1000:\n",
    "    for yr in range(sy, ey+1):\n",
    "        if yr == sy and is_leap(yr):\n",
    "            for m in range(sm, 13):\n",
    "                if m == sm:\n",
    "                    cnt += calendar_leap[m] - sd\n",
    "                else:\n",
    "                    cnt += calendar_leap[m]\n",
    "        elif yr == sy and not is_leap(yr):\n",
    "            for m in range(sm, 13):\n",
    "                if m == sm:\n",
    "                    cnt += calendar_normal[m] - sd\n",
    "                else:\n",
    "                    cnt += calendar_normal[m]\n",
    "                    \n",
    "        if sy < yr < ey and is_leap(yr):\n",
    "            cnt += sum(calendar_leap.values())\n",
    "        elif sy < yr < ey and not is_leap(yr):\n",
    "            cnt += sum(calendar_normal.values())\n",
    "            \n",
    "        if yr == ey and is_leap(yr):\n",
    "            for m in range(1, em+1):\n",
    "                if m != em:\n",
    "                    cnt += calendar_leap[m]\n",
    "                elif m == em:\n",
    "                    cnt += ed\n",
    "        elif yr == ey and not is_leap(yr):\n",
    "            for m in range(1, em+1):\n",
    "                if m != em:\n",
    "                    cnt += calendar_normal[m]\n",
    "                elif m == em:\n",
    "                    cnt += ed   "
   ]
  },
  {
   "cell_type": "code",
   "execution_count": 26,
   "metadata": {},
   "outputs": [
    {
     "data": {
      "text/plain": [
       "366"
      ]
     },
     "execution_count": 26,
     "metadata": {},
     "output_type": "execute_result"
    }
   ],
   "source": [
    "sum(calendar_leap.values())"
   ]
  },
  {
   "cell_type": "code",
   "execution_count": 20,
   "metadata": {},
   "outputs": [
    {
     "name": "stdout",
     "output_type": "stream",
     "text": [
      "274\n"
     ]
    }
   ],
   "source": [
    "print(cnt)"
   ]
  }
 ],
 "metadata": {
  "kernelspec": {
   "display_name": "base",
   "language": "python",
   "name": "python3"
  },
  "language_info": {
   "codemirror_mode": {
    "name": "ipython",
    "version": 3
   },
   "file_extension": ".py",
   "mimetype": "text/x-python",
   "name": "python",
   "nbconvert_exporter": "python",
   "pygments_lexer": "ipython3",
   "version": "3.9.12"
  }
 },
 "nbformat": 4,
 "nbformat_minor": 2
}
