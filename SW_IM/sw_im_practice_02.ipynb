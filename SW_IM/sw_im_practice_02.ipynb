{
 "cells": [
  {
   "cell_type": "code",
   "execution_count": 40,
   "metadata": {},
   "outputs": [
    {
     "name": "stdout",
     "output_type": "stream",
     "text": [
      "8 8\n",
      "WBWBWBWB\n",
      "BWBWBWBW\n",
      "WBWBWBWB\n",
      "BWBBBWBW\n",
      "WBWBWBWB\n",
      "BWBWBWBW\n",
      "WBWBWBWB\n"
     ]
    }
   ],
   "source": [
    "with open(\"../data/1018_체스판.txt\") as f:\n",
    "    for _ in range(8):\n",
    "        print(f.readline().rstrip())"
   ]
  },
  {
   "cell_type": "code",
   "execution_count": 42,
   "metadata": {},
   "outputs": [
    {
     "name": "stdout",
     "output_type": "stream",
     "text": [
      "i : 0,  y : [[0, 0, 0, 0, 0, 0, 0, 0, 0], [0, 1, 2, 3, 4, 5, 6, 7, 8]]\n",
      "i : 1,  y : [[0, 0, 0, 0, 0, 0, 0, 0, 0], [0, 1, 2, 3, 4, 5, 6, 7, 8], [0, 2, 4, 6, 8, 10, 12, 14, 16]]\n",
      "i : 2,  y : [[0, 0, 0, 0, 0, 0, 0, 0, 0], [0, 1, 2, 3, 4, 5, 6, 7, 8], [0, 2, 4, 6, 8, 10, 12, 14, 16], [0, 3, 6, 9, 12, 15, 18, 21, 24]]\n",
      "i : 3,  y : [[0, 0, 0, 0, 0, 0, 0, 0, 0], [0, 1, 2, 3, 4, 5, 6, 7, 8], [0, 2, 4, 6, 8, 10, 12, 14, 16], [0, 3, 6, 9, 12, 15, 18, 21, 24], [0, 4, 8, 12, 15, 19, 23, 27, 31]]\n",
      "i : 4,  y : [[0, 0, 0, 0, 0, 0, 0, 0, 0], [0, 1, 2, 3, 4, 5, 6, 7, 8], [0, 2, 4, 6, 8, 10, 12, 14, 16], [0, 3, 6, 9, 12, 15, 18, 21, 24], [0, 4, 8, 12, 15, 19, 23, 27, 31], [0, 5, 10, 15, 19, 24, 29, 34, 39]]\n",
      "i : 5,  y : [[0, 0, 0, 0, 0, 0, 0, 0, 0], [0, 1, 2, 3, 4, 5, 6, 7, 8], [0, 2, 4, 6, 8, 10, 12, 14, 16], [0, 3, 6, 9, 12, 15, 18, 21, 24], [0, 4, 8, 12, 15, 19, 23, 27, 31], [0, 5, 10, 15, 19, 24, 29, 34, 39], [0, 6, 12, 18, 23, 29, 35, 41, 47]]\n",
      "i : 6,  y : [[0, 0, 0, 0, 0, 0, 0, 0, 0], [0, 1, 2, 3, 4, 5, 6, 7, 8], [0, 2, 4, 6, 8, 10, 12, 14, 16], [0, 3, 6, 9, 12, 15, 18, 21, 24], [0, 4, 8, 12, 15, 19, 23, 27, 31], [0, 5, 10, 15, 19, 24, 29, 34, 39], [0, 6, 12, 18, 23, 29, 35, 41, 47], [0, 7, 14, 21, 27, 34, 41, 48, 55]]\n",
      "i : 7,  y : [[0, 0, 0, 0, 0, 0, 0, 0, 0], [0, 1, 2, 3, 4, 5, 6, 7, 8], [0, 2, 4, 6, 8, 10, 12, 14, 16], [0, 3, 6, 9, 12, 15, 18, 21, 24], [0, 4, 8, 12, 15, 19, 23, 27, 31], [0, 5, 10, 15, 19, 24, 29, 34, 39], [0, 6, 12, 18, 23, 29, 35, 41, 47], [0, 7, 14, 21, 27, 34, 41, 48, 55], [0, 8, 16, 24, 31, 39, 47, 55, 63]]\n"
     ]
    }
   ],
   "source": [
    "from itertools import accumulate as acc\n",
    "\n",
    "with open(\"../data/1018_체스판.txt\") as f:\n",
    "    n, m = f.readline().rstrip().split()\n",
    "    n, m = int(n), int(m)\n",
    "    y = [[0]*(m+1)]\n",
    "    for i in range(n):\n",
    "        ac = [0]\n",
    "        ac.extend(acc([((s=='W')+i+j) % 2 for j, s in enumerate(f.readline().rstrip())]))\n",
    "        y.append([k + j for k, j in zip(ac, y[-1])])\n",
    "        print(f\"i : {i},  y : {y}\")"
   ]
  },
  {
   "cell_type": "code",
   "execution_count": 44,
   "metadata": {},
   "outputs": [
    {
     "name": "stdout",
     "output_type": "stream",
     "text": [
      "i : 0,  y : [[0, 0, 0, 0, 0, 0, 0, 0, 0], [0, 1, 2, 3, 4, 5, 6, 7, 8]]\n",
      "i : 1,  y : [[0, 0, 0, 0, 0, 0, 0, 0, 0], [0, 1, 2, 3, 4, 5, 6, 7, 8], [0, 1, 2, 3, 4, 5, 6, 7, 8]]\n",
      "i : 2,  y : [[0, 0, 0, 0, 0, 0, 0, 0, 0], [0, 1, 2, 3, 4, 5, 6, 7, 8], [0, 1, 2, 3, 4, 5, 6, 7, 8], [0, 2, 4, 6, 8, 10, 12, 14, 16]]\n",
      "i : 3,  y : [[0, 0, 0, 0, 0, 0, 0, 0, 0], [0, 1, 2, 3, 4, 5, 6, 7, 8], [0, 1, 2, 3, 4, 5, 6, 7, 8], [0, 2, 4, 6, 8, 10, 12, 14, 16], [0, 2, 4, 6, 9, 11, 13, 15, 17]]\n",
      "i : 4,  y : [[0, 0, 0, 0, 0, 0, 0, 0, 0], [0, 1, 2, 3, 4, 5, 6, 7, 8], [0, 1, 2, 3, 4, 5, 6, 7, 8], [0, 2, 4, 6, 8, 10, 12, 14, 16], [0, 2, 4, 6, 9, 11, 13, 15, 17], [0, 3, 6, 9, 13, 16, 19, 22, 25]]\n",
      "i : 5,  y : [[0, 0, 0, 0, 0, 0, 0, 0, 0], [0, 1, 2, 3, 4, 5, 6, 7, 8], [0, 1, 2, 3, 4, 5, 6, 7, 8], [0, 2, 4, 6, 8, 10, 12, 14, 16], [0, 2, 4, 6, 9, 11, 13, 15, 17], [0, 3, 6, 9, 13, 16, 19, 22, 25], [0, 3, 6, 9, 13, 16, 19, 22, 25]]\n",
      "i : 6,  y : [[0, 0, 0, 0, 0, 0, 0, 0, 0], [0, 1, 2, 3, 4, 5, 6, 7, 8], [0, 1, 2, 3, 4, 5, 6, 7, 8], [0, 2, 4, 6, 8, 10, 12, 14, 16], [0, 2, 4, 6, 9, 11, 13, 15, 17], [0, 3, 6, 9, 13, 16, 19, 22, 25], [0, 3, 6, 9, 13, 16, 19, 22, 25], [0, 4, 8, 12, 17, 21, 25, 29, 33]]\n",
      "i : 7,  y : [[0, 0, 0, 0, 0, 0, 0, 0, 0], [0, 1, 2, 3, 4, 5, 6, 7, 8], [0, 1, 2, 3, 4, 5, 6, 7, 8], [0, 2, 4, 6, 8, 10, 12, 14, 16], [0, 2, 4, 6, 9, 11, 13, 15, 17], [0, 3, 6, 9, 13, 16, 19, 22, 25], [0, 3, 6, 9, 13, 16, 19, 22, 25], [0, 4, 8, 12, 17, 21, 25, 29, 33], [0, 4, 8, 12, 17, 21, 25, 29, 33]]\n"
     ]
    }
   ],
   "source": [
    "from itertools import accumulate as acc\n",
    "\n",
    "with open(\"../data/1018_체스판.txt\") as f:\n",
    "    n, m = f.readline().rstrip().split()\n",
    "    n, m = int(n), int(m)\n",
    "    y = [[0]*(m+1)]\n",
    "    for i in range(n):\n",
    "        ac = [0]\n",
    "        ac.extend(acc([((s=='W')+j) % 2 for j, s in enumerate(f.readline().rstrip())]))\n",
    "        y.append([k + j for k, j in zip(ac, y[-1])])\n",
    "        print(f\"i : {i},  y : {y}\")"
   ]
  },
  {
   "cell_type": "code",
   "execution_count": 43,
   "metadata": {},
   "outputs": [
    {
     "name": "stdout",
     "output_type": "stream",
     "text": [
      "[0, 0, 0, 0, 0, 0, 0, 0, 0]\n",
      "[0, 1, 2, 3, 4, 5, 6, 7, 8]\n",
      "[0, 2, 4, 6, 8, 10, 12, 14, 16]\n",
      "[0, 3, 6, 9, 12, 15, 18, 21, 24]\n",
      "[0, 4, 8, 12, 15, 19, 23, 27, 31]\n",
      "[0, 5, 10, 15, 19, 24, 29, 34, 39]\n",
      "[0, 6, 12, 18, 23, 29, 35, 41, 47]\n",
      "[0, 7, 14, 21, 27, 34, 41, 48, 55]\n",
      "[0, 8, 16, 24, 31, 39, 47, 55, 63]\n"
     ]
    }
   ],
   "source": [
    "for row in y:\n",
    "    print(row)"
   ]
  },
  {
   "cell_type": "code",
   "execution_count": 10,
   "metadata": {},
   "outputs": [
    {
     "name": "stdout",
     "output_type": "stream",
     "text": [
      "[0, 1, 2, 3, 4, 5, 6, 7, 8]\n"
     ]
    }
   ],
   "source": [
    "from itertools import accumulate as acc\n",
    "\n",
    "ac = [0]\n",
    "x = 'WBWBWBWB'\n",
    "ac.extend(acc([((s=='W')+j) % 2 for j, s in enumerate(x.rstrip())]))\n",
    "print(ac)"
   ]
  },
  {
   "cell_type": "code",
   "execution_count": 11,
   "metadata": {},
   "outputs": [
    {
     "data": {
      "text/plain": [
       "[1, 1, 1, 1, 1, 1, 1, 1]"
      ]
     },
     "execution_count": 11,
     "metadata": {},
     "output_type": "execute_result"
    }
   ],
   "source": [
    "[((s=='W')+j) % 2 for j, s in enumerate(x.rstrip())]"
   ]
  },
  {
   "cell_type": "code",
   "execution_count": 30,
   "metadata": {},
   "outputs": [
    {
     "name": "stdout",
     "output_type": "stream",
     "text": [
      "s : W,  (s=='W') : True ,  j : 0,  (s=='W')+j : 1,  ((s=='W')+j)%2 : 1\n",
      "s : B,  (s=='W') : False,  j : 1,  (s=='W')+j : 1,  ((s=='W')+j)%2 : 1\n",
      "s : W,  (s=='W') : True ,  j : 2,  (s=='W')+j : 3,  ((s=='W')+j)%2 : 1\n",
      "s : B,  (s=='W') : False,  j : 3,  (s=='W')+j : 3,  ((s=='W')+j)%2 : 1\n",
      "s : W,  (s=='W') : True ,  j : 4,  (s=='W')+j : 5,  ((s=='W')+j)%2 : 1\n",
      "s : B,  (s=='W') : False,  j : 5,  (s=='W')+j : 5,  ((s=='W')+j)%2 : 1\n",
      "s : W,  (s=='W') : True ,  j : 6,  (s=='W')+j : 7,  ((s=='W')+j)%2 : 1\n",
      "s : B,  (s=='W') : False,  j : 7,  (s=='W')+j : 7,  ((s=='W')+j)%2 : 1\n"
     ]
    }
   ],
   "source": [
    "x = 'WBWBWBWB'\n",
    "for j, s in enumerate(x.rstrip()):\n",
    "    print(f\"s : {s},  (s=='W') : {str(s=='W'):<5},  j : {j},  (s=='W')+j : {(s=='W')+j},  ((s=='W')+j)%2 : {((s=='W')+j) % 2}\")"
   ]
  },
  {
   "cell_type": "code",
   "execution_count": 31,
   "metadata": {},
   "outputs": [
    {
     "name": "stdout",
     "output_type": "stream",
     "text": [
      "s : B,  (s=='W') : False,  j : 0,  (s=='W')+j : 0,  ((s=='W')+j)%2 : 0\n",
      "s : W,  (s=='W') : True ,  j : 1,  (s=='W')+j : 2,  ((s=='W')+j)%2 : 0\n",
      "s : B,  (s=='W') : False,  j : 2,  (s=='W')+j : 2,  ((s=='W')+j)%2 : 0\n",
      "s : W,  (s=='W') : True ,  j : 3,  (s=='W')+j : 4,  ((s=='W')+j)%2 : 0\n",
      "s : B,  (s=='W') : False,  j : 4,  (s=='W')+j : 4,  ((s=='W')+j)%2 : 0\n",
      "s : W,  (s=='W') : True ,  j : 5,  (s=='W')+j : 6,  ((s=='W')+j)%2 : 0\n",
      "s : B,  (s=='W') : False,  j : 6,  (s=='W')+j : 6,  ((s=='W')+j)%2 : 0\n",
      "s : W,  (s=='W') : True ,  j : 7,  (s=='W')+j : 8,  ((s=='W')+j)%2 : 0\n"
     ]
    }
   ],
   "source": [
    "y = 'BWBWBWBW'\n",
    "for j, s in enumerate(y.rstrip()):\n",
    "    print(f\"s : {s},  (s=='W') : {str(s=='W'):<5},  j : {j},  (s=='W')+j : {(s=='W')+j},  ((s=='W')+j)%2 : {((s=='W')+j) % 2}\")"
   ]
  },
  {
   "cell_type": "code",
   "execution_count": 33,
   "metadata": {},
   "outputs": [
    {
     "name": "stdout",
     "output_type": "stream",
     "text": [
      "[[0, 0, 0, 0, 0, 0, 0, 0, 0]]\n",
      "[0, 0, 0, 0, 0, 0, 0, 0, 0]\n"
     ]
    }
   ],
   "source": [
    "n, m = 8, 8\n",
    "y = [[0]*(m+1)]\n",
    "print(y)\n",
    "print(y[-1])"
   ]
  }
 ],
 "metadata": {
  "kernelspec": {
   "display_name": "base",
   "language": "python",
   "name": "python3"
  },
  "language_info": {
   "codemirror_mode": {
    "name": "ipython",
    "version": 3
   },
   "file_extension": ".py",
   "mimetype": "text/x-python",
   "name": "python",
   "nbconvert_exporter": "python",
   "pygments_lexer": "ipython3",
   "version": "3.9.12"
  }
 },
 "nbformat": 4,
 "nbformat_minor": 2
}
