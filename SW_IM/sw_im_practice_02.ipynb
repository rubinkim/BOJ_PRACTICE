{
 "cells": [
  {
   "cell_type": "code",
   "execution_count": 7,
   "metadata": {},
   "outputs": [
    {
     "name": "stdout",
     "output_type": "stream",
     "text": [
      "8 8\n",
      "WBWBWBWB\n",
      "BWBWBWBW\n",
      "WBWBWBWB\n",
      "BWBBBWBW\n",
      "WBWBWBWB\n",
      "BWBWBWBW\n",
      "WBWBWBWB\n",
      "BWBWBWBW\n"
     ]
    }
   ],
   "source": [
    "with open(\"../data/1018_체스판.txt\") as f:\n",
    "    print(f.read())"
   ]
  },
  {
   "cell_type": "code",
   "execution_count": null,
   "metadata": {},
   "outputs": [],
   "source": [
    "with open(\"../data/1018_체스판.txt\") as f:\n",
    "    N, M = map(int, f.readline())\n",
    "    "
   ]
  },
  {
   "cell_type": "code",
   "execution_count": 10,
   "metadata": {},
   "outputs": [
    {
     "name": "stdout",
     "output_type": "stream",
     "text": [
      "[0, 1, 2, 3, 4, 5, 6, 7, 8]\n"
     ]
    }
   ],
   "source": [
    "from itertools import accumulate as acc\n",
    "\n",
    "ac = [0]\n",
    "x = 'WBWBWBWB'\n",
    "ac.extend(acc([((s=='W')+j) % 2 for j, s in enumerate(x.rstrip())]))\n",
    "print(ac)"
   ]
  },
  {
   "cell_type": "code",
   "execution_count": 11,
   "metadata": {},
   "outputs": [
    {
     "data": {
      "text/plain": [
       "[1, 1, 1, 1, 1, 1, 1, 1]"
      ]
     },
     "execution_count": 11,
     "metadata": {},
     "output_type": "execute_result"
    }
   ],
   "source": [
    "[((s=='W')+j) % 2 for j, s in enumerate(x.rstrip())]"
   ]
  },
  {
   "cell_type": "code",
   "execution_count": 30,
   "metadata": {},
   "outputs": [
    {
     "name": "stdout",
     "output_type": "stream",
     "text": [
      "s : W,  (s=='W') : True ,  j : 0,  (s=='W')+j : 1,  ((s=='W')+j)%2 : 1\n",
      "s : B,  (s=='W') : False,  j : 1,  (s=='W')+j : 1,  ((s=='W')+j)%2 : 1\n",
      "s : W,  (s=='W') : True ,  j : 2,  (s=='W')+j : 3,  ((s=='W')+j)%2 : 1\n",
      "s : B,  (s=='W') : False,  j : 3,  (s=='W')+j : 3,  ((s=='W')+j)%2 : 1\n",
      "s : W,  (s=='W') : True ,  j : 4,  (s=='W')+j : 5,  ((s=='W')+j)%2 : 1\n",
      "s : B,  (s=='W') : False,  j : 5,  (s=='W')+j : 5,  ((s=='W')+j)%2 : 1\n",
      "s : W,  (s=='W') : True ,  j : 6,  (s=='W')+j : 7,  ((s=='W')+j)%2 : 1\n",
      "s : B,  (s=='W') : False,  j : 7,  (s=='W')+j : 7,  ((s=='W')+j)%2 : 1\n"
     ]
    }
   ],
   "source": [
    "x = 'WBWBWBWB'\n",
    "for j, s in enumerate(x.rstrip()):\n",
    "    print(f\"s : {s},  (s=='W') : {str(s=='W'):<5},  j : {j},  (s=='W')+j : {(s=='W')+j},  ((s=='W')+j)%2 : {((s=='W')+j) % 2}\")"
   ]
  },
  {
   "cell_type": "code",
   "execution_count": 31,
   "metadata": {},
   "outputs": [
    {
     "name": "stdout",
     "output_type": "stream",
     "text": [
      "s : B,  (s=='W') : False,  j : 0,  (s=='W')+j : 0,  ((s=='W')+j)%2 : 0\n",
      "s : W,  (s=='W') : True ,  j : 1,  (s=='W')+j : 2,  ((s=='W')+j)%2 : 0\n",
      "s : B,  (s=='W') : False,  j : 2,  (s=='W')+j : 2,  ((s=='W')+j)%2 : 0\n",
      "s : W,  (s=='W') : True ,  j : 3,  (s=='W')+j : 4,  ((s=='W')+j)%2 : 0\n",
      "s : B,  (s=='W') : False,  j : 4,  (s=='W')+j : 4,  ((s=='W')+j)%2 : 0\n",
      "s : W,  (s=='W') : True ,  j : 5,  (s=='W')+j : 6,  ((s=='W')+j)%2 : 0\n",
      "s : B,  (s=='W') : False,  j : 6,  (s=='W')+j : 6,  ((s=='W')+j)%2 : 0\n",
      "s : W,  (s=='W') : True ,  j : 7,  (s=='W')+j : 8,  ((s=='W')+j)%2 : 0\n"
     ]
    }
   ],
   "source": [
    "y = 'BWBWBWBW'\n",
    "for j, s in enumerate(y.rstrip()):\n",
    "    print(f\"s : {s},  (s=='W') : {str(s=='W'):<5},  j : {j},  (s=='W')+j : {(s=='W')+j},  ((s=='W')+j)%2 : {((s=='W')+j) % 2}\")"
   ]
  }
 ],
 "metadata": {
  "kernelspec": {
   "display_name": "base",
   "language": "python",
   "name": "python3"
  },
  "language_info": {
   "codemirror_mode": {
    "name": "ipython",
    "version": 3
   },
   "file_extension": ".py",
   "mimetype": "text/x-python",
   "name": "python",
   "nbconvert_exporter": "python",
   "pygments_lexer": "ipython3",
   "version": "3.9.12"
  }
 },
 "nbformat": 4,
 "nbformat_minor": 2
}
