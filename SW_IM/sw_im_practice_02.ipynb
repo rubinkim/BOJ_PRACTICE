{
 "cells": [
  {
   "cell_type": "code",
   "execution_count": null,
   "metadata": {},
   "outputs": [],
   "source": [
    "with open(\"/data/\")"
   ]
  },
  {
   "cell_type": "code",
   "execution_count": null,
   "metadata": {},
   "outputs": [],
   "source": [
    "bingo = []\n",
    "calls = []\n",
    "\n",
    "with open(\"../data/2578_빙고.txt\") as f:\n",
    "    for i in range(10):\n",
    "        line = f.readline()\n",
    "        if i < 5:\n",
    "            bingo.append(list(map(int, line.split())))\n",
    "        else:\n",
    "            calls.extend(list(map(int, line.split())))        \n",
    "        \n",
    "for row in bingo:\n",
    "    print(row)\n",
    "print()\n",
    "print(calls)"
   ]
  }
 ],
 "metadata": {
  "language_info": {
   "name": "python"
  }
 },
 "nbformat": 4,
 "nbformat_minor": 2
}
