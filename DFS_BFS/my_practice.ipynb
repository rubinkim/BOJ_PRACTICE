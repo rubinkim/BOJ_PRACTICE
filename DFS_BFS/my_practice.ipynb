{
 "cells": [
  {
   "cell_type": "code",
   "execution_count": 4,
   "metadata": {},
   "outputs": [
    {
     "name": "stdout",
     "output_type": "stream",
     "text": [
      "[False, False, False]\n",
      "[False, False, False]\n",
      "[False, False, False]\n",
      "[False, False, False]\n",
      "\n",
      "[False, False, False]\n",
      "[False, False, False]\n",
      "[False, True, False]\n",
      "[False, False, False]\n"
     ]
    }
   ],
   "source": [
    "x = [[False] * 3 for _ in range(4)]\n",
    "for row in x:\n",
    "    print(row)\n",
    "print()\n",
    "    \n",
    "x[2][1] = True\n",
    "\n",
    "for row in x:\n",
    "    print(row)"
   ]
  },
  {
   "cell_type": "code",
   "execution_count": null,
   "metadata": {},
   "outputs": [],
   "source": [
    "from collections import deque\n",
    "\n",
    "r, c = map(int, input().split())\n",
    "graph = [[0] * c for _ in range(r)]\n",
    "for i in range(r):    \n",
    "    for j, x in enumerate(input()):\n",
    "        graph[i][j] = x\n",
    "\n",
    "for row in graph:\n",
    "    print(row)\n",
    "print()\n",
    "    \n",
    "visited = [[False] * c for _ in range(r)]\n",
    "path = []\n",
    "cnt = 0\n",
    "\n",
    "def logest_path(graph, start_x, start_y):\n",
    "    global visited, path, cnt\n",
    "    dx, dy = [-1, 1, 0, 0], [0, 0, -1, 1]\n",
    "    \n",
    "    if start_x <= -1 or start_x >= r or start_y <= -1 or start_y >= c:\n",
    "        return False\n",
    "    if graph[start_x][start_y] not in path and not visited[start_x][start_y]:\n",
    "        q = deque()\n",
    "        q.append((start_x, start_y))\n",
    "        path.append(graph[start_x][start_y])\n",
    "        visited[start_x][start_y] = True\n",
    "        cnt += 1\n",
    "\n",
    "        while q:\n",
    "            x, y = q.pop()\n",
    "            for i in range(4):\n",
    "                nx = x + dx[i]\n",
    "                ny = y + dy[i]\n",
    "                if nx <= -1 or nx >= r or ny <= -1 or ny >= c:\n",
    "                    continue\n",
    "                if graph[nx][ny] not in path and not visited[nx][ny]:\n",
    "                    path.append(graph[nx][ny])\n",
    "                    q.append((nx, ny))\n",
    "                    visited[nx][ny] = True\n",
    "                    cnt += 1\n",
    "\n",
    "        return True\n",
    "    return False\n",
    "\n",
    "logest_path(graph, 0, 0)\n",
    "print(path)\n",
    "print(cnt)"
   ]
  },
  {
   "cell_type": "code",
   "execution_count": null,
   "metadata": {},
   "outputs": [],
   "source": [
    "from collections import deque\n",
    "\n",
    "r, c = map(int, input().split())\n",
    "graph = [[0] * c for _ in range(r)]\n",
    "for i in range(r):    \n",
    "    for j, x in enumerate(input()):\n",
    "        graph[i][j] = x\n",
    "\n",
    "for row in graph:\n",
    "    print(row)\n",
    "print()\n",
    "    \n",
    "visited = [[False] * c for _ in range(r)]\n",
    "path = []\n",
    "cnt = 0\n",
    "\n",
    "def logest_path(graph, start_x, start_y, num):\n",
    "    global visited, path, cnt\n",
    "    dx, dy = [-1, 1, 0, 0], [0, 0, -1, 1]\n",
    "    \n",
    "    if start_x <= -1 or start_x >= r or start_y <= -1 or start_y >= c:\n",
    "        return False\n",
    "    if graph[start_x][start_y] not in path and not visited[start_x][start_y]:\n",
    "\n",
    "        path.append(graph[start_x][start_y])\n",
    "        visited[start_x][start_y] = True\n",
    "        cnt += 1\n",
    "        \n",
    "        for i in range(4):\n",
    "            nx = start_x + dx[i]\n",
    "            ny = start_y + dy[i]\n",
    "            if nx <= -1 or nx >= r or ny <= -1 or ny >= c:\n",
    "                continue\n",
    "            if graph[nx][ny] not in path and not visited[nx][ny]:\n",
    "                logest_path(graph, nx, ny, num+1)\n",
    "\n",
    "\n",
    "        return True\n",
    "    return False\n",
    "\n",
    "logest_path(graph, 0, 0, cnt)\n",
    "print(path)\n",
    "print(cnt)"
   ]
  },
  {
   "cell_type": "markdown",
   "metadata": {},
   "source": [
    "#### 1987_알파벹"
   ]
  },
  {
   "cell_type": "code",
   "execution_count": 65,
   "metadata": {},
   "outputs": [
    {
     "name": "stdout",
     "output_type": "stream",
     "text": [
      "r : 3,  c : 6\n",
      "['H', 'F', 'D', 'F', 'F', 'B']\n",
      "['A', 'J', 'H', 'G', 'D', 'H']\n",
      "['D', 'G', 'A', 'G', 'E', 'H']\n"
     ]
    }
   ],
   "source": [
    "with open(\"../data/1987_알파벹.txt\", \"r\") as input:\n",
    "    r, c = map(int, input.readline().rstrip().split())\n",
    "    print(f\"r : {r},  c : {c}\")\n",
    "    \n",
    "    graph = [[0] * c for _ in range(r)]\n",
    "    for i in range(r):\n",
    "        row = input.readline().rstrip()\n",
    "        for j in range(c):\n",
    "            graph[i][j] = row[j]\n",
    "            \n",
    "    for row in graph:\n",
    "        print(row)   "
   ]
  },
  {
   "cell_type": "code",
   "execution_count": 66,
   "metadata": {},
   "outputs": [],
   "source": [
    "path = []\n",
    "visited = [[False] * c for _ in range(r)]"
   ]
  },
  {
   "cell_type": "code",
   "execution_count": 67,
   "metadata": {},
   "outputs": [],
   "source": [
    "def dfs(graph, start_x, start_y, depth):\n",
    "    global visited, path \n",
    "    dx, dy = [0, 1, -1, 0], [1, 0, 0, -1]\n",
    "    \n",
    "    for k in range(2):\n",
    "        max = 1\n",
    "        path.append(graph[start_x][start_y])       \n",
    "        visited = [[False] * c for _ in range(r)]\n",
    "        visited[start_x][start_y] = True\n",
    "        print(f\"{graph[start_x][start_y]} -->\", end=' ')\n",
    "            \n",
    "        for i in range(4):    \n",
    "            sub_path = []    \n",
    "            nx, ny = start_x + dx[i], start_y + dy[i]\n",
    "            if nx <= -1 or nx >= r or ny <= -1 or ny >= c:\n",
    "                continue\n",
    "            if graph[nx][ny] in path:\n",
    "                continue\n",
    "            if visited[nx][ny]:\n",
    "                continue\n",
    "            sub_path.append(graph[nx][ny])\n",
    "            path.extend(sub_path)\n",
    "            max += 1\n",
    "            #print(f\" {graph[nx][ny]} --> \", end=' ')\n",
    "            dfs(graph, nx, ny, depth+1)\n",
    "        print(f\"max : {max} \")\n",
    "        "
   ]
  },
  {
   "cell_type": "code",
   "execution_count": 72,
   "metadata": {},
   "outputs": [
    {
     "name": "stdout",
     "output_type": "stream",
     "text": [
      "H --> max : 1 \n",
      "H --> max : 1 \n"
     ]
    },
    {
     "data": {
      "text/plain": [
       "10"
      ]
     },
     "execution_count": 72,
     "metadata": {},
     "output_type": "execute_result"
    }
   ],
   "source": [
    "dfs(graph, 0, 0, 0)\n",
    "max"
   ]
  },
  {
   "cell_type": "code",
   "execution_count": 13,
   "metadata": {},
   "outputs": [
    {
     "name": "stdout",
     "output_type": "stream",
     "text": [
      "['I', 'E', 'F', 'C', 'J']\n",
      "['F', 'H', 'F', 'K', 'C']\n",
      "['F', 'F', 'A', 'L', 'F']\n",
      "['H', 'F', 'G', 'C', 'F']\n",
      "['H', 'M', 'C', 'H', 'H']\n"
     ]
    }
   ],
   "source": [
    "for row in graph:\n",
    "    print(row)"
   ]
  },
  {
   "cell_type": "markdown",
   "metadata": {},
   "source": [
    "#### 1987_연습"
   ]
  },
  {
   "cell_type": "code",
   "execution_count": 3,
   "metadata": {},
   "outputs": [
    {
     "name": "stdout",
     "output_type": "stream",
     "text": [
      "r : 7,  c : 10\n",
      "[0, 1, 1, 1, 0, 0, 0, 0, 1, 0]\n",
      "[0, 1, 0, 1, 1, 1, 1, 0, 1, 0]\n",
      "[0, 1, 1, 1, 0, 0, 1, 0, 0, 1]\n",
      "[0, 0, 0, 1, 0, 0, 1, 1, 1, 1]\n",
      "[0, 1, 1, 1, 0, 0, 0, 1, 0, 0]\n",
      "[0, 1, 0, 0, 0, 0, 1, 0, 0, 0]\n",
      "[0, 0, 0, 1, 0, 0, 0, 0, 1, 1]\n"
     ]
    }
   ],
   "source": [
    "with open(\"../data/1987_연습.txt\", \"r\") as input:\n",
    "    r, c = map(int, input.readline().split())\n",
    "    graph = [[0] * c for _ in range(r)]\n",
    "    for i in range(r):\n",
    "        row = list(map(int, input.readline().rstrip()))\n",
    "        for j in range(c):\n",
    "            graph[i][j] = row[j]\n",
    "    print(f\"r : {r},  c : {c}\")\n",
    "    for row in graph:\n",
    "        print(row)"
   ]
  },
  {
   "cell_type": "code",
   "execution_count": 4,
   "metadata": {},
   "outputs": [],
   "source": [
    "visited = [[False] * c for _ in range(r)]"
   ]
  },
  {
   "cell_type": "code",
   "execution_count": 5,
   "metadata": {},
   "outputs": [],
   "source": [
    "from collections import deque\n",
    "\n",
    "def dfs_deque(graph, start_x, start_y, depth):\n",
    "    global visited\n",
    "    dx, dy = [-1, 1, 0, 0], [0, 0, -1, 1]    \n",
    "    \n",
    "    if graph[start_x][start_y] == 1 and not visited[start_x][start_y]:\n",
    "        q = deque([(start_x, start_y)])\n",
    "        visited[start_x][start_y] = True\n",
    "        depth += 1\n",
    "        print(f\"{(start_x, start_y)} --> \", end='')\n",
    "        \n",
    "        while q:\n",
    "            x, y = q.pop()\n",
    "            for i in range(4):\n",
    "                nx = x + dx[i]\n",
    "                ny = y + dy[i]\n",
    "                if nx <= -1 or nx >= r or ny <= -1 or ny >= c:\n",
    "                    continue\n",
    "                if graph[nx][ny] == 0: \n",
    "                    continue\n",
    "                if visited[nx][ny]:\n",
    "                    continue\n",
    "                q.append((nx, ny))\n",
    "                visited[nx][ny] = True\n",
    "                depth += 1\n",
    "                print(f\"{(nx, ny)} --> \", end='')\n",
    "        return True\n",
    "    print(f\"depth : {depth}\")\n",
    "    return False "
   ]
  },
  {
   "cell_type": "code",
   "execution_count": 6,
   "metadata": {},
   "outputs": [
    {
     "name": "stdout",
     "output_type": "stream",
     "text": [
      "(0, 1) --> (1, 1) --> (0, 2) --> (0, 3) --> (1, 3) --> (2, 3) --> (1, 4) --> (1, 5) --> (1, 6) --> (2, 6) --> (3, 6) --> (3, 7) --> (4, 7) --> (3, 8) --> (3, 9) --> (2, 9) --> (3, 3) --> (2, 2) --> (2, 1) --> (4, 3) --> (4, 2) --> (4, 1) --> (5, 1) --> "
     ]
    },
    {
     "data": {
      "text/plain": [
       "True"
      ]
     },
     "execution_count": 6,
     "metadata": {},
     "output_type": "execute_result"
    }
   ],
   "source": [
    "dfs_deque(graph, 0, 1, 0)"
   ]
  },
  {
   "cell_type": "code",
   "execution_count": 7,
   "metadata": {},
   "outputs": [
    {
     "name": "stdout",
     "output_type": "stream",
     "text": [
      "[0, 1, 1, 1, 0, 0, 0, 0, 1, 0]\n",
      "[0, 1, 0, 1, 1, 1, 1, 0, 1, 0]\n",
      "[0, 1, 1, 1, 0, 0, 1, 0, 0, 1]\n",
      "[0, 0, 0, 1, 0, 0, 1, 1, 1, 1]\n",
      "[0, 1, 1, 1, 0, 0, 0, 1, 0, 0]\n",
      "[0, 1, 0, 0, 0, 0, 1, 0, 0, 0]\n",
      "[0, 0, 0, 1, 0, 0, 0, 0, 1, 1]\n"
     ]
    }
   ],
   "source": [
    "for row in graph:\n",
    "    print(row)"
   ]
  },
  {
   "cell_type": "code",
   "execution_count": 19,
   "metadata": {},
   "outputs": [
    {
     "name": "stdout",
     "output_type": "stream",
     "text": [
      "[False, True, True, True, False, False, False, False, False, False]\n",
      "[False, True, False, True, True, True, True, False, False, False]\n",
      "[False, True, True, True, False, False, True, False, False, True]\n",
      "[False, False, False, True, False, False, True, True, True, True]\n",
      "[False, True, True, True, False, False, False, True, False, False]\n",
      "[False, True, False, False, False, False, False, False, False, False]\n",
      "[False, False, False, False, False, False, False, False, False, False]\n"
     ]
    }
   ],
   "source": [
    "for row in visited:\n",
    "    print(row)"
   ]
  },
  {
   "cell_type": "code",
   "execution_count": null,
   "metadata": {},
   "outputs": [],
   "source": []
  },
  {
   "cell_type": "markdown",
   "metadata": {},
   "source": [
    "#### updated_version_1"
   ]
  },
  {
   "cell_type": "code",
   "execution_count": 1,
   "metadata": {},
   "outputs": [
    {
     "name": "stdout",
     "output_type": "stream",
     "text": [
      "r : 7,  c : 10\n",
      "[0, 1, 1, 1, 0, 0, 0, 0, 1, 0]\n",
      "[0, 1, 0, 1, 1, 1, 1, 0, 1, 0]\n",
      "[0, 1, 1, 1, 0, 0, 1, 0, 0, 1]\n",
      "[0, 0, 0, 1, 0, 0, 1, 1, 1, 1]\n",
      "[0, 1, 1, 1, 0, 0, 0, 1, 0, 0]\n",
      "[0, 1, 0, 0, 0, 0, 1, 0, 0, 0]\n",
      "[0, 0, 0, 1, 0, 0, 0, 0, 1, 1]\n"
     ]
    }
   ],
   "source": [
    "with open(\"../data/1987_연습.txt\", \"r\") as input:\n",
    "    r, c = map(int, input.readline().split())\n",
    "    graph = [[0] * c for _ in range(r)]\n",
    "    for i in range(r):\n",
    "        row = list(map(int, input.readline().rstrip()))\n",
    "        for j in range(c):\n",
    "            graph[i][j] = row[j]\n",
    "    print(f\"r : {r},  c : {c}\")\n",
    "    for row in graph:\n",
    "        print(row)"
   ]
  },
  {
   "cell_type": "code",
   "execution_count": 2,
   "metadata": {},
   "outputs": [],
   "source": [
    "cnt = 0\n",
    "visited = [[False] * c for _ in range(r)]"
   ]
  },
  {
   "cell_type": "code",
   "execution_count": 3,
   "metadata": {},
   "outputs": [],
   "source": [
    "from collections import deque\n",
    "\n",
    "def dfs_deque(graph, start_x, start_y, depth):\n",
    "    global cnt, visited\n",
    "    dx, dy = [-1, 1, 0, 0], [0, 0, -1, 1]    \n",
    "    \n",
    "    if graph[start_x][start_y] == 1 and not visited[start_x][start_y]:\n",
    "        q = deque([(start_x, start_y)])\n",
    "        visited[start_x][start_y] = True\n",
    "        depth += 1\n",
    "        print(f\"{(start_x, start_y)} --> \", end='')\n",
    "        \n",
    "        while q:\n",
    "            x, y = q.pop()\n",
    "            no_farther = 0\n",
    "            for i in range(4):\n",
    "                nx = x + dx[i]\n",
    "                ny = y + dy[i]\n",
    "                if nx <= -1 or nx >= r or ny <= -1 or ny >= c:\n",
    "                    continue\n",
    "                if graph[nx][ny] == 0: \n",
    "                    no_farther += 1\n",
    "                    continue\n",
    "                if visited[nx][ny]:\n",
    "                    no_farther += 1\n",
    "                    continue\n",
    "                q.append((nx, ny))\n",
    "                visited[nx][ny] = True\n",
    "                depth += 1\n",
    "                print(f\"{(nx, ny)} --> \", end='')\n",
    "            if no_farther == 4:\n",
    "                visited = [[False] * c for _ in range(r)]\n",
    "                visited[start_x][start_y] = True \n",
    "                break               \n",
    "        return True\n",
    "    print(f\"depth : {depth}\")\n",
    "    return False "
   ]
  },
  {
   "cell_type": "code",
   "execution_count": 4,
   "metadata": {},
   "outputs": [
    {
     "name": "stdout",
     "output_type": "stream",
     "text": [
      "(0, 1) --> (1, 1) --> (0, 2) --> (0, 3) --> (1, 3) --> (2, 3) --> (1, 4) --> (1, 5) --> (1, 6) --> (2, 6) --> (3, 6) --> (3, 7) --> (4, 7) --> (3, 8) --> (3, 9) --> (2, 9) --> "
     ]
    },
    {
     "data": {
      "text/plain": [
       "True"
      ]
     },
     "execution_count": 4,
     "metadata": {},
     "output_type": "execute_result"
    }
   ],
   "source": [
    "dfs_deque(graph, 0, 1, 0)"
   ]
  },
  {
   "cell_type": "code",
   "execution_count": 6,
   "metadata": {},
   "outputs": [
    {
     "name": "stdout",
     "output_type": "stream",
     "text": [
      "[0, 1, 1, 1, 0, 0, 0, 0, 1, 0]\n",
      "[0, 1, 0, 1, 1, 1, 1, 0, 1, 0]\n",
      "[0, 1, 1, 1, 0, 0, 1, 0, 0, 1]\n",
      "[0, 0, 0, 1, 0, 0, 1, 1, 1, 1]\n",
      "[0, 1, 1, 1, 0, 0, 0, 1, 0, 0]\n",
      "[0, 1, 0, 0, 0, 0, 1, 0, 0, 0]\n",
      "[0, 0, 0, 1, 0, 0, 0, 0, 1, 1]\n"
     ]
    }
   ],
   "source": [
    "for row in graph:\n",
    "    print(row)"
   ]
  },
  {
   "cell_type": "markdown",
   "metadata": {},
   "source": [
    "#### updated_version_2"
   ]
  },
  {
   "cell_type": "code",
   "execution_count": 88,
   "metadata": {},
   "outputs": [
    {
     "name": "stdout",
     "output_type": "stream",
     "text": [
      "r : 7,  c : 10\n",
      "[0, 1, 1, 1, 0, 0, 0, 0, 1, 0]\n",
      "[0, 1, 0, 1, 1, 1, 1, 0, 1, 0]\n",
      "[0, 1, 1, 1, 0, 0, 1, 0, 0, 1]\n",
      "[0, 0, 0, 1, 0, 0, 1, 1, 1, 1]\n",
      "[0, 1, 1, 1, 0, 0, 0, 1, 0, 0]\n",
      "[0, 1, 0, 0, 0, 0, 1, 0, 0, 0]\n",
      "[0, 0, 0, 1, 0, 0, 0, 0, 1, 1]\n"
     ]
    }
   ],
   "source": [
    "with open(\"../data/1987_연습.txt\", \"r\") as input:\n",
    "    r, c = map(int, input.readline().split())\n",
    "    graph = [[0] * c for _ in range(r)]\n",
    "    for i in range(r):\n",
    "        row = list(map(int, input.readline().rstrip()))\n",
    "        for j in range(c):\n",
    "            graph[i][j] = row[j]\n",
    "    print(f\"r : {r},  c : {c}\")\n",
    "    for row in graph:\n",
    "        print(row)"
   ]
  },
  {
   "cell_type": "code",
   "execution_count": 89,
   "metadata": {},
   "outputs": [],
   "source": [
    "cnt = 0\n",
    "path = []\n",
    "visited = [[False] * c for _ in range(r)]"
   ]
  },
  {
   "cell_type": "code",
   "execution_count": 90,
   "metadata": {},
   "outputs": [],
   "source": [
    "from collections import deque\n",
    "\n",
    "def dfs_deque(graph, start_x, start_y, depth):\n",
    "    global cnt, path, visited\n",
    "    dx, dy = [-1, 1, 0, 0], [0, 0, -1, 1]    \n",
    "    \n",
    "    if graph[start_x][start_y] == 1 and not visited[start_x][start_y]:\n",
    "        q = deque([(start_x, start_y)])\n",
    "        path.append((start_x, start_y))\n",
    "        visited[start_x][start_y] = True\n",
    "        depth += 1\n",
    "        #path.append((start_x, start_y))\n",
    "        #print(f\"{(start_x, start_y)} --> \", end='')\n",
    "        \n",
    "        while q:\n",
    "            x, y = q.pop()\n",
    "            #path.append((x, y))\n",
    "            print(f\"(x, y) : {(x, y)}\")\n",
    "            \n",
    "            no_farther = 0\n",
    "            \n",
    "            for i in range(4):\n",
    "                nx = x + dx[i]\n",
    "                ny = y + dy[i]\n",
    "\n",
    "                sub_path = []\n",
    "                \n",
    "                if nx <= -1 or nx >= r or ny <= -1 or ny >= c:\n",
    "                    no_farther += 1\n",
    "                    print(f\"{(nx, ny)} : out of border\")\n",
    "                    continue\n",
    "                if graph[nx][ny] == 0: \n",
    "                    no_farther += 1\n",
    "                    print(f\"{(nx, ny)} : zero cell\")\n",
    "                    continue\n",
    "                if visited[nx][ny]:\n",
    "                    no_farther += 1\n",
    "                    print(f\"{(nx, ny)} : visited\")\n",
    "                    continue\n",
    "                if graph[nx][ny] == 1 and not visited[nx][ny]:\n",
    "                    q.append((nx, ny))\n",
    "                    path.append((nx, ny))\n",
    "                    visited[nx][ny] = True\n",
    "                    #sub_path.append((nx, ny))\n",
    "                    #path.extend(sub_path)\n",
    "                    depth += 1\n",
    "                    #print(f\"{(nx, ny)} --> \", end='')\n",
    "                    #print(f\"no_farther : {no_farther}\")\n",
    "                    #print(f\"path : {path}\")\n",
    "                \n",
    "                if no_farther >= 4:\n",
    "                    q.pop()\n",
    "                    visited = [[False] * c for _ in range(r)]\n",
    "                    visited[start_x][start_y] = True \n",
    "                    path = [(start_x, start_y)]\n",
    "                    break\n",
    "            print(f\"no_farther : {no_farther}\")\n",
    "            print(f\"path : {path}\")\n",
    "            print()               \n",
    "        return True\n",
    "    #print(f\"depth : {depth}\")\n",
    "    return False "
   ]
  },
  {
   "cell_type": "code",
   "execution_count": 91,
   "metadata": {},
   "outputs": [
    {
     "name": "stdout",
     "output_type": "stream",
     "text": [
      "[0, 1, 1, 1, 0, 0, 0, 0, 1, 0]\n",
      "[0, 1, 0, 1, 1, 1, 1, 0, 1, 0]\n",
      "[0, 1, 1, 1, 0, 0, 1, 0, 0, 1]\n",
      "[0, 0, 0, 1, 0, 0, 1, 1, 1, 1]\n",
      "[0, 1, 1, 1, 0, 0, 0, 1, 0, 0]\n",
      "[0, 1, 0, 0, 0, 0, 1, 0, 0, 0]\n",
      "[0, 0, 0, 1, 0, 0, 0, 0, 1, 1]\n"
     ]
    }
   ],
   "source": [
    "for row in graph:\n",
    "    print(row)"
   ]
  },
  {
   "cell_type": "code",
   "execution_count": 92,
   "metadata": {},
   "outputs": [
    {
     "name": "stdout",
     "output_type": "stream",
     "text": [
      "(x, y) : (0, 1)\n",
      "(-1, 1) : out of border\n",
      "(0, 0) : zero cell\n",
      "no_farther : 2\n",
      "path : [(0, 1), (1, 1), (0, 2)]\n",
      "\n",
      "(x, y) : (0, 2)\n",
      "(-1, 2) : out of border\n",
      "(1, 2) : zero cell\n",
      "(0, 1) : visited\n",
      "no_farther : 3\n",
      "path : [(0, 1), (1, 1), (0, 2), (0, 3)]\n",
      "\n",
      "(x, y) : (0, 3)\n",
      "(-1, 3) : out of border\n",
      "(0, 2) : visited\n",
      "(0, 4) : zero cell\n",
      "no_farther : 3\n",
      "path : [(0, 1), (1, 1), (0, 2), (0, 3), (1, 3)]\n",
      "\n",
      "(x, y) : (1, 3)\n",
      "(0, 3) : visited\n",
      "(1, 2) : zero cell\n",
      "no_farther : 2\n",
      "path : [(0, 1), (1, 1), (0, 2), (0, 3), (1, 3), (2, 3), (1, 4)]\n",
      "\n",
      "(x, y) : (1, 4)\n",
      "(0, 4) : zero cell\n",
      "(2, 4) : zero cell\n",
      "(1, 3) : visited\n",
      "no_farther : 3\n",
      "path : [(0, 1), (1, 1), (0, 2), (0, 3), (1, 3), (2, 3), (1, 4), (1, 5)]\n",
      "\n",
      "(x, y) : (1, 5)\n",
      "(0, 5) : zero cell\n",
      "(2, 5) : zero cell\n",
      "(1, 4) : visited\n",
      "no_farther : 3\n",
      "path : [(0, 1), (1, 1), (0, 2), (0, 3), (1, 3), (2, 3), (1, 4), (1, 5), (1, 6)]\n",
      "\n",
      "(x, y) : (1, 6)\n",
      "(0, 6) : zero cell\n",
      "(1, 5) : visited\n",
      "(1, 7) : zero cell\n",
      "no_farther : 3\n",
      "path : [(0, 1), (1, 1), (0, 2), (0, 3), (1, 3), (2, 3), (1, 4), (1, 5), (1, 6), (2, 6)]\n",
      "\n",
      "(x, y) : (2, 6)\n",
      "(1, 6) : visited\n",
      "(2, 5) : zero cell\n",
      "(2, 7) : zero cell\n",
      "no_farther : 3\n",
      "path : [(0, 1), (1, 1), (0, 2), (0, 3), (1, 3), (2, 3), (1, 4), (1, 5), (1, 6), (2, 6), (3, 6)]\n",
      "\n",
      "(x, y) : (3, 6)\n",
      "(2, 6) : visited\n",
      "(4, 6) : zero cell\n",
      "(3, 5) : zero cell\n",
      "no_farther : 3\n",
      "path : [(0, 1), (1, 1), (0, 2), (0, 3), (1, 3), (2, 3), (1, 4), (1, 5), (1, 6), (2, 6), (3, 6), (3, 7)]\n",
      "\n",
      "(x, y) : (3, 7)\n",
      "(2, 7) : zero cell\n",
      "(3, 6) : visited\n",
      "no_farther : 2\n",
      "path : [(0, 1), (1, 1), (0, 2), (0, 3), (1, 3), (2, 3), (1, 4), (1, 5), (1, 6), (2, 6), (3, 6), (3, 7), (4, 7), (3, 8)]\n",
      "\n",
      "(x, y) : (3, 8)\n",
      "(2, 8) : zero cell\n",
      "(4, 8) : zero cell\n",
      "(3, 7) : visited\n",
      "no_farther : 3\n",
      "path : [(0, 1), (1, 1), (0, 2), (0, 3), (1, 3), (2, 3), (1, 4), (1, 5), (1, 6), (2, 6), (3, 6), (3, 7), (4, 7), (3, 8), (3, 9)]\n",
      "\n",
      "(x, y) : (3, 9)\n",
      "(4, 9) : zero cell\n",
      "(3, 8) : visited\n",
      "(3, 10) : out of border\n",
      "no_farther : 3\n",
      "path : [(0, 1), (1, 1), (0, 2), (0, 3), (1, 3), (2, 3), (1, 4), (1, 5), (1, 6), (2, 6), (3, 6), (3, 7), (4, 7), (3, 8), (3, 9), (2, 9)]\n",
      "\n",
      "(x, y) : (2, 9)\n",
      "(1, 9) : zero cell\n",
      "(3, 9) : visited\n",
      "(2, 8) : zero cell\n",
      "(2, 10) : out of border\n",
      "no_farther : 4\n",
      "path : [(0, 1), (1, 1), (0, 2), (0, 3), (1, 3), (2, 3), (1, 4), (1, 5), (1, 6), (2, 6), (3, 6), (3, 7), (4, 7), (3, 8), (3, 9), (2, 9)]\n",
      "\n",
      "(x, y) : (4, 7)\n",
      "(3, 7) : visited\n",
      "(5, 7) : zero cell\n",
      "(4, 6) : zero cell\n",
      "(4, 8) : zero cell\n",
      "no_farther : 4\n",
      "path : [(0, 1), (1, 1), (0, 2), (0, 3), (1, 3), (2, 3), (1, 4), (1, 5), (1, 6), (2, 6), (3, 6), (3, 7), (4, 7), (3, 8), (3, 9), (2, 9)]\n",
      "\n",
      "(x, y) : (2, 3)\n",
      "(1, 3) : visited\n",
      "(2, 4) : zero cell\n",
      "no_farther : 2\n",
      "path : [(0, 1), (1, 1), (0, 2), (0, 3), (1, 3), (2, 3), (1, 4), (1, 5), (1, 6), (2, 6), (3, 6), (3, 7), (4, 7), (3, 8), (3, 9), (2, 9), (3, 3), (2, 2)]\n",
      "\n",
      "(x, y) : (2, 2)\n",
      "(1, 2) : zero cell\n",
      "(3, 2) : zero cell\n",
      "(2, 3) : visited\n",
      "no_farther : 3\n",
      "path : [(0, 1), (1, 1), (0, 2), (0, 3), (1, 3), (2, 3), (1, 4), (1, 5), (1, 6), (2, 6), (3, 6), (3, 7), (4, 7), (3, 8), (3, 9), (2, 9), (3, 3), (2, 2), (2, 1)]\n",
      "\n",
      "(x, y) : (2, 1)\n",
      "(1, 1) : visited\n",
      "(3, 1) : zero cell\n",
      "(2, 0) : zero cell\n",
      "(2, 2) : visited\n",
      "no_farther : 4\n",
      "path : [(0, 1), (1, 1), (0, 2), (0, 3), (1, 3), (2, 3), (1, 4), (1, 5), (1, 6), (2, 6), (3, 6), (3, 7), (4, 7), (3, 8), (3, 9), (2, 9), (3, 3), (2, 2), (2, 1)]\n",
      "\n",
      "(x, y) : (3, 3)\n",
      "(2, 3) : visited\n",
      "(3, 2) : zero cell\n",
      "(3, 4) : zero cell\n",
      "no_farther : 3\n",
      "path : [(0, 1), (1, 1), (0, 2), (0, 3), (1, 3), (2, 3), (1, 4), (1, 5), (1, 6), (2, 6), (3, 6), (3, 7), (4, 7), (3, 8), (3, 9), (2, 9), (3, 3), (2, 2), (2, 1), (4, 3)]\n",
      "\n",
      "(x, y) : (4, 3)\n",
      "(3, 3) : visited\n",
      "(5, 3) : zero cell\n",
      "(4, 4) : zero cell\n",
      "no_farther : 3\n",
      "path : [(0, 1), (1, 1), (0, 2), (0, 3), (1, 3), (2, 3), (1, 4), (1, 5), (1, 6), (2, 6), (3, 6), (3, 7), (4, 7), (3, 8), (3, 9), (2, 9), (3, 3), (2, 2), (2, 1), (4, 3), (4, 2)]\n",
      "\n",
      "(x, y) : (4, 2)\n",
      "(3, 2) : zero cell\n",
      "(5, 2) : zero cell\n",
      "(4, 3) : visited\n",
      "no_farther : 3\n",
      "path : [(0, 1), (1, 1), (0, 2), (0, 3), (1, 3), (2, 3), (1, 4), (1, 5), (1, 6), (2, 6), (3, 6), (3, 7), (4, 7), (3, 8), (3, 9), (2, 9), (3, 3), (2, 2), (2, 1), (4, 3), (4, 2), (4, 1)]\n",
      "\n",
      "(x, y) : (4, 1)\n",
      "(3, 1) : zero cell\n",
      "(4, 0) : zero cell\n",
      "(4, 2) : visited\n",
      "no_farther : 3\n",
      "path : [(0, 1), (1, 1), (0, 2), (0, 3), (1, 3), (2, 3), (1, 4), (1, 5), (1, 6), (2, 6), (3, 6), (3, 7), (4, 7), (3, 8), (3, 9), (2, 9), (3, 3), (2, 2), (2, 1), (4, 3), (4, 2), (4, 1), (5, 1)]\n",
      "\n",
      "(x, y) : (5, 1)\n",
      "(4, 1) : visited\n",
      "(6, 1) : zero cell\n",
      "(5, 0) : zero cell\n",
      "(5, 2) : zero cell\n",
      "no_farther : 4\n",
      "path : [(0, 1), (1, 1), (0, 2), (0, 3), (1, 3), (2, 3), (1, 4), (1, 5), (1, 6), (2, 6), (3, 6), (3, 7), (4, 7), (3, 8), (3, 9), (2, 9), (3, 3), (2, 2), (2, 1), (4, 3), (4, 2), (4, 1), (5, 1)]\n",
      "\n",
      "(x, y) : (1, 1)\n",
      "(0, 1) : visited\n",
      "(2, 1) : visited\n",
      "(1, 0) : zero cell\n",
      "(1, 2) : zero cell\n",
      "no_farther : 4\n",
      "path : [(0, 1), (1, 1), (0, 2), (0, 3), (1, 3), (2, 3), (1, 4), (1, 5), (1, 6), (2, 6), (3, 6), (3, 7), (4, 7), (3, 8), (3, 9), (2, 9), (3, 3), (2, 2), (2, 1), (4, 3), (4, 2), (4, 1), (5, 1)]\n",
      "\n"
     ]
    },
    {
     "data": {
      "text/plain": [
       "True"
      ]
     },
     "execution_count": 92,
     "metadata": {},
     "output_type": "execute_result"
    }
   ],
   "source": [
    "dfs_deque(graph, 0, 1, 0)    # up down left right"
   ]
  },
  {
   "cell_type": "code",
   "execution_count": 67,
   "metadata": {},
   "outputs": [
    {
     "name": "stdout",
     "output_type": "stream",
     "text": [
      "[0, 1, 1, 1, 0, 0, 0, 0, 1, 0]\n",
      "[0, 1, 0, 1, 1, 1, 1, 0, 1, 0]\n",
      "[0, 1, 1, 1, 0, 0, 1, 0, 0, 1]\n",
      "[0, 0, 0, 1, 0, 0, 1, 1, 1, 1]\n",
      "[0, 1, 1, 1, 0, 0, 0, 1, 0, 0]\n",
      "[0, 1, 0, 0, 0, 0, 1, 0, 0, 0]\n",
      "[0, 0, 0, 1, 0, 0, 0, 0, 1, 1]\n"
     ]
    }
   ],
   "source": [
    "for row in graph:\n",
    "    print(row)"
   ]
  },
  {
   "cell_type": "code",
   "execution_count": null,
   "metadata": {},
   "outputs": [],
   "source": []
  },
  {
   "cell_type": "code",
   "execution_count": null,
   "metadata": {},
   "outputs": [],
   "source": []
  },
  {
   "cell_type": "code",
   "execution_count": null,
   "metadata": {},
   "outputs": [],
   "source": []
  },
  {
   "cell_type": "code",
   "execution_count": null,
   "metadata": {},
   "outputs": [],
   "source": [
    "import sys\n",
    "input = sys.stdin.readline\n",
    "\n",
    "r, c = map(int, input().rstrip().split())\n",
    "graph = []\n",
    "for _ in range(r):    \n",
    "    graph.append(list(input()))\n",
    "path = []\n",
    "max_length = 0\n",
    "\n",
    "def dfs_recursion(start_x, start_y, depth):\n",
    "    global max_length\n",
    "    dx, dy = [-1, 1, 0, 0], [0, 0, -1, 1]\n",
    "    \n",
    "    path.append(graph[start_x][start_y])        \n",
    "    max_length = max(max_length, len(path))\n",
    "    \n",
    "    for i in range(4):\n",
    "        nx, ny = start_x + dx[i], start_y + dy[i]\n",
    "        if nx <= -1 or nx >= r or ny <= -1 or ny >= c:\n",
    "            continue\n",
    "        if graph[nx][ny] not in path:\n",
    "            dfs_recursion(nx, ny, depth+1)            \n",
    "            path.pop()\n",
    "            \n",
    "dfs_recursion(0, 0, 0)\n",
    "print(max_length)  "
   ]
  },
  {
   "cell_type": "code",
   "execution_count": 1,
   "metadata": {},
   "outputs": [
    {
     "data": {
      "text/plain": [
       "3"
      ]
     },
     "execution_count": 1,
     "metadata": {},
     "output_type": "execute_result"
    }
   ],
   "source": [
    "import sys\n",
    "sys.setrecursionlimit(10000)\n",
    "input = sys.stdin.readline\n",
    "\n",
    "r, c = map(int, input().rstrip().split())\n",
    "graph = []\n",
    "for _ in range(r):    \n",
    "    graph.append(list(input()))\n",
    "path = set()\n",
    "max_length = 0\n",
    "\n",
    "def dfs_recursion(start_x, start_y, depth):\n",
    "    global max_length\n",
    "    dx, dy = [-1, 1, 0, 0], [0, 0, -1, 1]    \n",
    "    \n",
    "    path.add(graph[start_x][start_y])\n",
    "    max_length = max(max_length, len(path))\n",
    "    #print(path)\n",
    "    \n",
    "    for i in range(4):\n",
    "        nx, ny = start_x + dx[i], start_y + dy[i]\n",
    "        if nx <= -1 or nx >= r or ny <= -1 or ny >= c:\n",
    "            continue\n",
    "        if graph[nx][ny] not in path:            \n",
    "            dfs_recursion(nx, ny, depth+1)            \n",
    "            path.remove(graph[nx][ny])\n",
    "            \n",
    "dfs_recursion(0, 0, 1)\n",
    "print(max_length)"
   ]
  },
  {
   "cell_type": "code",
   "execution_count": 2,
   "metadata": {},
   "outputs": [
    {
     "data": {
      "text/plain": [
       "True"
      ]
     },
     "execution_count": 2,
     "metadata": {},
     "output_type": "execute_result"
    }
   ],
   "source": [
    "x =  [3, 5, 6]\n",
    "y = 9\n",
    "all([y - x[i] > 0 for i in range(len(x))])"
   ]
  },
  {
   "cell_type": "markdown",
   "metadata": {},
   "source": [
    "#### 9663_N_Queen"
   ]
  },
  {
   "cell_type": "code",
   "execution_count": 12,
   "metadata": {},
   "outputs": [
    {
     "ename": "UnboundLocalError",
     "evalue": "local variable 'i' referenced before assignment",
     "output_type": "error",
     "traceback": [
      "\u001b[1;31m---------------------------------------------------------------------------\u001b[0m",
      "\u001b[1;31mUnboundLocalError\u001b[0m                         Traceback (most recent call last)",
      "Input \u001b[1;32mIn [12]\u001b[0m, in \u001b[0;36m<cell line: 31>\u001b[1;34m()\u001b[0m\n\u001b[0;32m     27\u001b[0m             \u001b[38;5;28;01mif\u001b[39;00m pruning(row):\n\u001b[0;32m     28\u001b[0m                 nQueen(row\u001b[38;5;241m+\u001b[39m\u001b[38;5;241m1\u001b[39m)\n\u001b[1;32m---> 31\u001b[0m \u001b[43mnQueen\u001b[49m\u001b[43m(\u001b[49m\u001b[38;5;241;43m0\u001b[39;49m\u001b[43m)\u001b[49m\n\u001b[0;32m     32\u001b[0m \u001b[38;5;28mprint\u001b[39m(cnt)\n",
      "Input \u001b[1;32mIn [12]\u001b[0m, in \u001b[0;36mnQueen\u001b[1;34m(row)\u001b[0m\n\u001b[0;32m     26\u001b[0m board[row] \u001b[38;5;241m=\u001b[39m i            \n\u001b[0;32m     27\u001b[0m \u001b[38;5;28;01mif\u001b[39;00m pruning(row):\n\u001b[1;32m---> 28\u001b[0m     \u001b[43mnQueen\u001b[49m\u001b[43m(\u001b[49m\u001b[43mrow\u001b[49m\u001b[38;5;241;43m+\u001b[39;49m\u001b[38;5;241;43m1\u001b[39;49m\u001b[43m)\u001b[49m\n",
      "Input \u001b[1;32mIn [12]\u001b[0m, in \u001b[0;36mnQueen\u001b[1;34m(row)\u001b[0m\n\u001b[0;32m     26\u001b[0m board[row] \u001b[38;5;241m=\u001b[39m i            \n\u001b[0;32m     27\u001b[0m \u001b[38;5;28;01mif\u001b[39;00m pruning(row):\n\u001b[1;32m---> 28\u001b[0m     \u001b[43mnQueen\u001b[49m\u001b[43m(\u001b[49m\u001b[43mrow\u001b[49m\u001b[38;5;241;43m+\u001b[39;49m\u001b[38;5;241;43m1\u001b[39;49m\u001b[43m)\u001b[49m\n",
      "    \u001b[1;31m[... skipping similar frames: nQueen at line 28 (5 times)]\u001b[0m\n",
      "Input \u001b[1;32mIn [12]\u001b[0m, in \u001b[0;36mnQueen\u001b[1;34m(row)\u001b[0m\n\u001b[0;32m     26\u001b[0m board[row] \u001b[38;5;241m=\u001b[39m i            \n\u001b[0;32m     27\u001b[0m \u001b[38;5;28;01mif\u001b[39;00m pruning(row):\n\u001b[1;32m---> 28\u001b[0m     \u001b[43mnQueen\u001b[49m\u001b[43m(\u001b[49m\u001b[43mrow\u001b[49m\u001b[38;5;241;43m+\u001b[39;49m\u001b[38;5;241;43m1\u001b[39;49m\u001b[43m)\u001b[49m\n",
      "Input \u001b[1;32mIn [12]\u001b[0m, in \u001b[0;36mnQueen\u001b[1;34m(row)\u001b[0m\n\u001b[0;32m     19\u001b[0m cnt \u001b[38;5;241m+\u001b[39m\u001b[38;5;241m=\u001b[39m \u001b[38;5;241m1\u001b[39m\n\u001b[0;32m     20\u001b[0m \u001b[38;5;28;01mif\u001b[39;00m cnt \u001b[38;5;129;01mnot\u001b[39;00m \u001b[38;5;129;01min\u001b[39;00m queens_dict:\n\u001b[1;32m---> 21\u001b[0m     queens_dict[cnt] \u001b[38;5;241m=\u001b[39m [(row, \u001b[43mi\u001b[49m)]\n\u001b[0;32m     22\u001b[0m \u001b[38;5;28;01melse\u001b[39;00m:\n\u001b[0;32m     23\u001b[0m     queens_dict[cnt]\u001b[38;5;241m.\u001b[39mappend((row, i)) \n",
      "\u001b[1;31mUnboundLocalError\u001b[0m: local variable 'i' referenced before assignment"
     ]
    }
   ],
   "source": [
    "#import sys\n",
    "#input = sys.stdin.readline\n",
    "\n",
    "\n",
    "N = int(input())\n",
    "cnt = 0\n",
    "board = [0]*N\n",
    "queens_dict = {}\n",
    "\n",
    "def pruning(row):\n",
    "    for i in range(row):\n",
    "        if board[i] == board[row] or abs(board[row]-board[i]) == abs(row-i):\n",
    "            return False\n",
    "    return True\n",
    "\n",
    "def nQueen(row):\n",
    "    global cnt,board\n",
    "    if row == N: # N개의 퀸을 다 놓은 경우 정답 카운트\n",
    "        cnt += 1\n",
    "    else:\n",
    "        for i in range(N): # N개의 col에 대해            \n",
    "            board[row] = i            \n",
    "            if pruning(row): \n",
    "                nQueen(row+1)                \n",
    "\n",
    "nQueen(0)\n",
    "print(cnt)"
   ]
  },
  {
   "cell_type": "code",
   "execution_count": 9,
   "metadata": {},
   "outputs": [
    {
     "name": "stdout",
     "output_type": "stream",
     "text": [
      "k : 0,  v : [(0, 0), (1, 2), (2, 4), (3, 1), (4, 3), (4, 7), (3, 6), (4, 1), (5, 3), (6, 5), (4, 3), (3, 7), (4, 1), (5, 3), (6, 5), (4, 3), (2, 5), (3, 1), (4, 6), (5, 4), (3, 7), (4, 1), (5, 3), (5, 4), (2, 6), (3, 1), (4, 3), (5, 7), (4, 7), (5, 4), (2, 7), (3, 1), (4, 3), (4, 6), (3, 5), (4, 1), (4, 3), (5, 1), (6, 4), (1, 3), (2, 1), (3, 4), (4, 2), (4, 7), (3, 6), (4, 2), (3, 7), (4, 2), (5, 6), (4, 5), (5, 2), (2, 5), (3, 2), (3, 7), (4, 1), (5, 4), (6, 2), (5, 6), (6, 2), (4, 2), (5, 4), (5, 6), (2, 6), (3, 2), (4, 5), (5, 1), (6, 4), (4, 7), (5, 1), (6, 4), (3, 4), (4, 1), (4, 2), (4, 7), (5, 1), (2, 7), (3, 2), (3, 4), (4, 1), (4, 2), (1, 4), (2, 1), (3, 5), (4, 2), (5, 6), (6, 3), (3, 7), (4, 2), (5, 6), (6, 3), (4, 5), (5, 2), (5, 3), (2, 6), (3, 1), (4, 3), (5, 7), (4, 5), (5, 2), (5, 7), (2, 7), (3, 1), (4, 3), (5, 6), (6, 2), (4, 6), (5, 2), (6, 5), (3, 5), (4, 2), (5, 6), (6, 1), (7, 3)]\n",
      "k : 1,  v : [(4, 3), (5, 1), (5, 6), (1, 5), (2, 1), (3, 4), (4, 6), (5, 3), (4, 7), (5, 3), (3, 6), (2, 3), (3, 1), (4, 6), (5, 2), (5, 4), (6, 2), (4, 7), (5, 2), (5, 4), (6, 2), (3, 6), (2, 7), (3, 1), (4, 3), (5, 6), (6, 2), (4, 6), (5, 2), (3, 2), (4, 6), (5, 3), (6, 1), (7, 4)]\n",
      "k : 2,  v : [(3, 4), (4, 1), (5, 3), (4, 6), (5, 3), (1, 6), (2, 1), (3, 5), (4, 2), (4, 7), (3, 7), (4, 2), (4, 5), (5, 3), (2, 3), (3, 1), (4, 7), (5, 4), (6, 2), (3, 5), (4, 2), (5, 4), (4, 7), (5, 1), (6, 4), (7, 2)]\n",
      "k : 3,  v : [(5, 4), (3, 7), (4, 2), (5, 4), (2, 4), (3, 1), (4, 5), (4, 7), (3, 2), (4, 5), (5, 3), (4, 7), (5, 3), (3, 7), (4, 1), (5, 3), (6, 5), (7, 2)]\n",
      "k : 4,  v : [(4, 5), (5, 3), (1, 7), (2, 1), (3, 4), (4, 2), (4, 6), (3, 6), (4, 2), (2, 3), (3, 1), (4, 6), (5, 2), (6, 5), (5, 4), (3, 6), (4, 2), (2, 4), (3, 1), (4, 3), (5, 6), (4, 5), (5, 2), (3, 2), (4, 5), (3, 6), (4, 1), (4, 3), (2, 5), (3, 1), (4, 6), (5, 4), (3, 2), (4, 6), (5, 1), (6, 3), (0, 1), (1, 3), (2, 0), (3, 2), (4, 4), (4, 7), (5, 5), (3, 6), (4, 4), (5, 2), (6, 5), (3, 7), (4, 4), (5, 2), (6, 5), (2, 5), (3, 0), (4, 2), (5, 4), (6, 6), (4, 4), (3, 2), (4, 4), (3, 7), (4, 2), (5, 0), (6, 6), (7, 4)]\n",
      "k : 5,  v : [(5, 4), (6, 6), (4, 4), (5, 0), (2, 6), (3, 0), (4, 2), (5, 4), (5, 5), (4, 7), (5, 4), (5, 5), (3, 2), (4, 7), (5, 5), (6, 0), (2, 7), (3, 0), (4, 2), (5, 5), (4, 4), (3, 2), (4, 4), (1, 4), (2, 0), (3, 3), (4, 6), (5, 2), (6, 5), (3, 5), (4, 3), (3, 7), (4, 3), (2, 2), (3, 0), (4, 3), (5, 7), (4, 6), (5, 3), (6, 5), (3, 5), (4, 3), (3, 7), (4, 3), (2, 6), (3, 0), (4, 2), (5, 5), (5, 7), (6, 5), (7, 3)]\n",
      "k : 6,  v : [(4, 3), (5, 5), (5, 7), (3, 3), (4, 0), (5, 2), (6, 5), (5, 7), (6, 5), (7, 2)]\n",
      "k : 7,  v : [(2, 7), (3, 0), (4, 2), (5, 5), (4, 3), (5, 5), (6, 2), (4, 6), (5, 3), (6, 5), (3, 3), (4, 0), (5, 2), (6, 5), (4, 6), (5, 2), (6, 5), (3, 5), (4, 0), (5, 2), (6, 6), (4, 2), (4, 3), (1, 5), (2, 0), (3, 2), (4, 4), (5, 7), (6, 3), (4, 6), (4, 7), (3, 6), (4, 3), (5, 7), (6, 2), (7, 4)]\n",
      "k : 8,  v : [(4, 4), (5, 2), (5, 7), (2, 2), (3, 0), (4, 3), (5, 7), (6, 4), (4, 6), (5, 3), (5, 4), (4, 7), (5, 3), (5, 4), (3, 6), (4, 3), (5, 0), (6, 4), (5, 7), (6, 4), (2, 7), (3, 0), (4, 3), (4, 4), (4, 6), (5, 3), (3, 2), (4, 0), (5, 3), (6, 6), (7, 4)]\n",
      "k : 9,  v : [(4, 4), (4, 6), (5, 3), (1, 6), (2, 0), (3, 2), (4, 4), (5, 7), (6, 3), (4, 7), (5, 5), (6, 3), (3, 3), (4, 7), (5, 4), (6, 2), (3, 5), (4, 7), (5, 4), (3, 7), (4, 4), (2, 2), (3, 0), (4, 7), (5, 3), (5, 4), (3, 5), (4, 7), (5, 0), (6, 3), (6, 4), (5, 4), (6, 0), (7, 3)]\n",
      "k : 10,  v : [(3, 7), (2, 4), (3, 0), (4, 7), (5, 3), (5, 5), (6, 2), (3, 2), (4, 0), (5, 3), (5, 5), (6, 3), (4, 7), (5, 3), (5, 5), (6, 3), (3, 7), (4, 0), (5, 3), (6, 5), (7, 2)]\n",
      "k : 11,  v : [(1, 7), (2, 0), (3, 2), (4, 6), (3, 3), (4, 6), (5, 2), (6, 5), (5, 4), (3, 6), (4, 3), (5, 5), (2, 2), (3, 0), (4, 3), (4, 6), (5, 4), (3, 6), (4, 3), (5, 0), (6, 4), (2, 4), (3, 0), (4, 3), (5, 5), (3, 2), (4, 0), (5, 5), (6, 3), (3, 6), (4, 0), (5, 2), (6, 5), (5, 5), (4, 3), (5, 0), (5, 5), (2, 5), (3, 0), (4, 2), (5, 4), (6, 6), (7, 3)]\n",
      "k : 12,  v : [(4, 6), (5, 4), (3, 2), (4, 0), (4, 6), (3, 3), (4, 0), (5, 4), (4, 6), (5, 0), (5, 4), (0, 2), (1, 0), (2, 3), (3, 1), (4, 4), (4, 7), (5, 5), (3, 6), (4, 4), (5, 1), (3, 7), (4, 4), (5, 1), (2, 5), (3, 1), (4, 4), (5, 6), (6, 3), (3, 3), (4, 1), (5, 6), (6, 4), (3, 7), (4, 1), (5, 3), (6, 6), (5, 6), (4, 4), (5, 1), (6, 3), (5, 6), (6, 3), (2, 6), (3, 1), (4, 5), (4, 7), (5, 5), (6, 3), (3, 3), (4, 1), (4, 5), (4, 7), (3, 4), (4, 1), (5, 5), (4, 7), (5, 1), (6, 3), (7, 5)]\n",
      "k : 13,  v : [(5, 5), (6, 3), (2, 7), (3, 1), (4, 4), (5, 6), (3, 3), (4, 1), (5, 6), (6, 4), (3, 4), (4, 1), (5, 3), (6, 6), (5, 5), (1, 4), (2, 1), (3, 3), (4, 0), (5, 6), (4, 5), (3, 7), (4, 0), (5, 3), (6, 6), (5, 6), (6, 3), (7, 5)]\n",
      "k : 14,  v : [(4, 5), (5, 3), (6, 0), (6, 6), (7, 0)]\n",
      "k : 15,  v : [(2, 6), (3, 0), (4, 3), (5, 1), (6, 7), (7, 5)]\n",
      "k : 16,  v : [(5, 5), (6, 7), (4, 5), (5, 1), (3, 1), (4, 3), (5, 5), (6, 0), (6, 7), (4, 5), (3, 3), (4, 0), (4, 5), (2, 7), (3, 0), (4, 3), (5, 1), (6, 6), (5, 5), (5, 6), (3, 1), (4, 3), (5, 5), (6, 0), (5, 6), (6, 0), (3, 3), (4, 0), (5, 6), (6, 1), (7, 5)]\n",
      "k : 17,  v : [(1, 5), (2, 1), (3, 4), (4, 0), (5, 3), (6, 6), (4, 7), (5, 0), (6, 3), (6, 6), (7, 3)]\n",
      "k : 18,  v : [(5, 3), (6, 6), (3, 6), (4, 0), (5, 3), (6, 7), (7, 4)]\n",
      "k : 19,  v : [(4, 4), (5, 0), (6, 7), (7, 3)]\n",
      "k : 20,  v : [(2, 3), (3, 0), (4, 4), (4, 7), (5, 4), (6, 1), (6, 6), (7, 1)]\n",
      "k : 21,  v : [(3, 1), (4, 4), (4, 7), (5, 4), (6, 6), (7, 0)]\n",
      "k : 22,  v : [(3, 6), (4, 0), (4, 4), (2, 7), (3, 0), (4, 3), (5, 6), (6, 4), (7, 1)]\n",
      "k : 23,  v : [(4, 4), (5, 6), (6, 1), (7, 3)]\n",
      "k : 24,  v : [(3, 1), (4, 3), (5, 0), (6, 6), (7, 4)]\n",
      "k : 25,  v : [(5, 6), (4, 4), (5, 0), (5, 6), (3, 4), (4, 0), (5, 3), (6, 6), (4, 1), (5, 3), (6, 6), (1, 6), (2, 1), (3, 3), (4, 0), (4, 5), (5, 0), (6, 4), (4, 7), (5, 0), (6, 4), (3, 7), (4, 0), (5, 3), (4, 4), (5, 0), (6, 3), (7, 5)]\n",
      "k : 26,  v : [(4, 5), (5, 0), (5, 3), (6, 0), (7, 4)]\n",
      "k : 27,  v : [(2, 3), (3, 0), (4, 4), (5, 1), (6, 5), (4, 7), (5, 1), (6, 4), (5, 4), (5, 5), (3, 1), (4, 4), (4, 7), (5, 4), (6, 0), (5, 5), (6, 0), (3, 7), (4, 0), (5, 4), (4, 4), (5, 1), (6, 5), (1, 7), (2, 1), (3, 3), (4, 0), (5, 6), (6, 4), (4, 5), (5, 0), (6, 4), (3, 4), (4, 0), (5, 5), (6, 3), (3, 6), (4, 0), (5, 5), (2, 3), (3, 0), (3, 1), (3, 6), (4, 0), (5, 5), (6, 1), (7, 4)]\n",
      "k : 28,  v : [(2, 5), (3, 0), (3, 1), (3, 3), (4, 0), (5, 4), (5, 6), (6, 4), (4, 1), (5, 4), (5, 6), (6, 4), (0, 3), (1, 0), (2, 2), (3, 4), (4, 1), (5, 7), (4, 6), (5, 1), (3, 5), (4, 1), (5, 6), (6, 4), (3, 7), (4, 1), (5, 6), (4, 5), (5, 1), (2, 4), (3, 1), (4, 5), (5, 2), (6, 6), (3, 7), (4, 1), (5, 6), (6, 2), (7, 5)]\n",
      "k : 29,  v : [(4, 5), (5, 2), (6, 6), (7, 1)]\n",
      "k : 30,  v : [(2, 6), (3, 1), (4, 5), (5, 2), (5, 7), (3, 4), (4, 1), (5, 5), (5, 7), (4, 2), (5, 5), (5, 7), (2, 7), (3, 1), (4, 4), (5, 2), (5, 6), (4, 6), (5, 2), (3, 4), (4, 1), (5, 5), (6, 2), (4, 2), (5, 5), (4, 6), (5, 1), (3, 5), (4, 1), (5, 6), (6, 4), (4, 2), (5, 6), (6, 1), (1, 1), (2, 4), (3, 2), (4, 0), (5, 6), (4, 5), (3, 7), (4, 0), (5, 2), (6, 5), (5, 6), (4, 5), (5, 0), (6, 2), (7, 6)]\n",
      "k : 31,  v : [(5, 2), (2, 6), (3, 2), (4, 0), (5, 7), (6, 4), (4, 5), (5, 7), (6, 0), (7, 4)]\n",
      "k : 32,  v : [(6, 4), (7, 0)]\n",
      "k : 33,  v : [(3, 4), (4, 0), (5, 7), (6, 5), (7, 2)]\n",
      "k : 34,  v : [(4, 2), (5, 0), (6, 5), (5, 7), (6, 5), (2, 7), (3, 2), (4, 0), (5, 6), (6, 4), (4, 6), (3, 4), (4, 0), (4, 2), (5, 0), (6, 5), (4, 6), (5, 0), (6, 2), (7, 5)]\n",
      "k : 35,  v : [(6, 5), (3, 5), (4, 0), (5, 2), (6, 4), (7, 6)]\n",
      "k : 36,  v : [(5, 6), (6, 4), (4, 2), (5, 0), (5, 6), (1, 5), (2, 0), (3, 2), (4, 4), (5, 6), (6, 1), (5, 7), (6, 1), (4, 6), (3, 4), (4, 1), (5, 7), (6, 2), (7, 6)]\n",
      "k : 37,  v : [(4, 6), (2, 2), (3, 4), (4, 1), (5, 7), (4, 6), (5, 0), (2, 7), (3, 1), (4, 4), (5, 0), (5, 2), (5, 6), (4, 6), (5, 0), (6, 2), (7, 4)]\n",
      "k : 38,  v : [(5, 2), (3, 2), (4, 0), (5, 6), (6, 1), (6, 4), (7, 1)]\n",
      "k : 39,  v : [(4, 4), (5, 6), (6, 1), (4, 6), (3, 4), (4, 0), (4, 1), (4, 6), (5, 0), (6, 2), (1, 6), (2, 0), (3, 2), (4, 4), (5, 1), (6, 7), (5, 7), (4, 5), (5, 1), (5, 7), (3, 5), (4, 1), (5, 4), (6, 7), (3, 7), (4, 1), (5, 4), (6, 2), (4, 4), (5, 1), (6, 5), (7, 2)]\n",
      "k : 40,  v : [(4, 5), (5, 1), (2, 2), (3, 5), (4, 1), (5, 4), (6, 0), (6, 7), (3, 7), (4, 1), (5, 4), (6, 0), (7, 5)]\n",
      "k : 41,  v : [(4, 5), (5, 0), (5, 1), (2, 4), (3, 1), (4, 5), (5, 0), (6, 2), (7, 7)]\n",
      "k : 42,  v : [(3, 2), (4, 0), (5, 5), (6, 7), (7, 1)]\n",
      "k : 43,  v : [(4, 5), (3, 7), (4, 0), (4, 1), (4, 5), (5, 0), (6, 2), (1, 7), (2, 0), (3, 2), (4, 5), (5, 1), (6, 6), (7, 4)]\n",
      "k : 44,  v : [(4, 6), (5, 1), (3, 4), (4, 1), (5, 5), (4, 6), (5, 1), (6, 5), (7, 2)]\n",
      "k : 45,  v : [(2, 2), (3, 4), (4, 1), (4, 6), (5, 0), (6, 5), (5, 1), (6, 5), (2, 4), (3, 1), (4, 5), (5, 0), (6, 6), (5, 2), (6, 6), (3, 2), (4, 0), (5, 5), (6, 1), (5, 6), (6, 1), (7, 5)]\n",
      "k : 46,  v : [(4, 5), (0, 4), (1, 0), (2, 3), (3, 5), (4, 2), (4, 7), (5, 1), (6, 6), (7, 2)]\n",
      "k : 47,  v : [(5, 2), (6, 6), (3, 6), (4, 2), (5, 5), (6, 1), (5, 7), (6, 1), (2, 5), (3, 3), (4, 1), (5, 6), (6, 2), (5, 7), (6, 2), (4, 6), (2, 7), (3, 3), (4, 1), (5, 6), (6, 2), (7, 5)]\n",
      "k : 48,  v : [(4, 6), (5, 2), (3, 5), (4, 1), (5, 6), (4, 2), (5, 6), (6, 1), (7, 3)]\n",
      "k : 49,  v : [(1, 1), (2, 3), (3, 0), (4, 2), (5, 7), (6, 5), (4, 6), (4, 7), (3, 5), (4, 2), (4, 7), (5, 2), (6, 0), (7, 6)]\n",
      "k : 50,  v : [(3, 6), (4, 2), (5, 7), (6, 5), (7, 0)]\n",
      "k : 51,  v : [(2, 5), (3, 0), (4, 2), (5, 6), (5, 7), (4, 6), (5, 3), (6, 7), (7, 2)]\n",
      "k : 52,  v : [(3, 2), (4, 6), (5, 3), (6, 0), (6, 7), (2, 7), (3, 0), (4, 2), (5, 6), (4, 3), (5, 6), (6, 2), (7, 5)]\n",
      "k : 53,  v : [(4, 6), (5, 3), (6, 5), (3, 2), (4, 6), (5, 3), (6, 0), (3, 5), (4, 2), (5, 0), (5, 6), (4, 3), (5, 0), (5, 6), (6, 0), (1, 2), (2, 0), (3, 3), (4, 1), (5, 7), (6, 5), (4, 6), (4, 7), (3, 5), (4, 1), (4, 3), (5, 1), (6, 6), (4, 7), (5, 1), (6, 3), (7, 6)]\n",
      "k : 54,  v : [(6, 6), (3, 6), (4, 1), (5, 5), (5, 7), (6, 5), (7, 3)]\n",
      "k : 55,  v : [(4, 3), (5, 1), (5, 5), (5, 7), (2, 5), (3, 3), (4, 1), (5, 7), (4, 6), (5, 0), (2, 7), (3, 3), (4, 1), (4, 6), (5, 0), (6, 5), (7, 1)]\n",
      "k : 56,  v : [(3, 5), (4, 1), (4, 3), (5, 0), (6, 6), (5, 1), (6, 6), (1, 6), (2, 0), (3, 2), (4, 5), (5, 1), (5, 7), (4, 7), (5, 1), (6, 3), (5, 5), (6, 3), (7, 1)]\n",
      "k : 57,  v : [(3, 3), (4, 1), (5, 7), (6, 2), (6, 5), (7, 2)]\n",
      "k : 58,  v : [(4, 5), (5, 7), (6, 2), (4, 7), (3, 5), (4, 1), (4, 7), (5, 1), (6, 3), (2, 1), (3, 3), (4, 5), (5, 0), (6, 2), (5, 7), (6, 2), (4, 7), (5, 0), (6, 2), (7, 5)]\n",
      "k : 59,  v : [(3, 5), (4, 2), (5, 0), (6, 3), (7, 7)]\n",
      "k : 60,  v : [(6, 7), (7, 3)]\n",
      "k : 61,  v : [(4, 7), (5, 0), (6, 3), (2, 3), (3, 0), (4, 2), (5, 5), (5, 7), (6, 5), (7, 1)]\n",
      "k : 62,  v : [(4, 7), (5, 1), (5, 5), (6, 2), (3, 5), (4, 2), (4, 7), (5, 1), (1, 7), (2, 0), (3, 2), (4, 5), (5, 1), (6, 6), (4, 6), (5, 1), (6, 3), (3, 3), (4, 1), (5, 6), (4, 5), (5, 2), (4, 6), (5, 2), (6, 5), (3, 6), (4, 1), (5, 5), (4, 3), (5, 1), (5, 5), (2, 1), (3, 3), (4, 5), (5, 0), (5, 2), (4, 6), (5, 0), (5, 2), (3, 6), (4, 2), (5, 0), (5, 5), (2, 3), (3, 0), (4, 2), (5, 5), (6, 1), (7, 6)]\n",
      "k : 63,  v : [(4, 6), (5, 1), (6, 5), (7, 2)]\n",
      "k : 64,  v : [(3, 6), (4, 2), (5, 5), (6, 1), (2, 5), (3, 0), (4, 2), (5, 6), (4, 6), (5, 1), (3, 2), (4, 6), (5, 1), (6, 3), (3, 3), (4, 1), (5, 6), (4, 6), (5, 0), (0, 5), (1, 0), (2, 2), (3, 4), (4, 6), (5, 1), (6, 3), (5, 3), (4, 7), (5, 1), (6, 3), (5, 3), (3, 6), (3, 7), (2, 4), (3, 1), (4, 7), (5, 2), (6, 6), (7, 3)]\n",
      "k : 65,  v : [(3, 6), (3, 7), (2, 6), (3, 1), (4, 7), (5, 2), (3, 3), (4, 7), (5, 2), (6, 4), (3, 4), (4, 2), (5, 7), (6, 3), (4, 7), (5, 1), (6, 3), (1, 1), (2, 4), (3, 0), (4, 3), (5, 6), (6, 2), (4, 7), (5, 3), (3, 6), (4, 0), (5, 2), (6, 7), (5, 3), (6, 7), (4, 3), (3, 7), (4, 0), (5, 2), (5, 3), (5, 6), (6, 3), (4, 3), (5, 6), (6, 2), (2, 6), (3, 0), (4, 2), (5, 4), (6, 7), (7, 3)]\n",
      "k : 66,  v : [(5, 7), (4, 3), (5, 7), (6, 4), (7, 2)]\n",
      "k : 67,  v : [(4, 7), (5, 4), (3, 4), (4, 0), (5, 7), (6, 3), (4, 2), (5, 7), (6, 3), (4, 7), (1, 2), (2, 0), (3, 3), (4, 6), (5, 4), (6, 1), (4, 7), (5, 4), (6, 1), (3, 6), (4, 3), (5, 1), (5, 7), (4, 4), (5, 1), (5, 7), (6, 1), (7, 3)]\n",
      "k : 68,  v : [(3, 7), (4, 3), (5, 1), (6, 6), (7, 4)]\n",
      "k : 69,  v : [(4, 4), (5, 1), (6, 3), (7, 6)]\n",
      "k : 70,  v : [(2, 4), (3, 1), (4, 3), (4, 7), (3, 6), (4, 0), (5, 3), (6, 1), (7, 7)]\n",
      "k : 71,  v : [(4, 3), (3, 7), (4, 0), (5, 3), (6, 1), (7, 6)]\n",
      "k : 72,  v : [(6, 6), (4, 3), (2, 6), (3, 1), (4, 3), (5, 7), (6, 0), (7, 4)]\n",
      "k : 73,  v : [(4, 7), (5, 4), (6, 0), (7, 3)]\n",
      "k : 74,  v : [(3, 3), (4, 0), (5, 4), (6, 1), (5, 7), (6, 1), (7, 4)]\n",
      "k : 75,  v : [(6, 4), (4, 7), (5, 4), (6, 1), (1, 3), (2, 0), (3, 4), (4, 7), (5, 1), (6, 6), (7, 2)]\n",
      "k : 76,  v : [(3, 6), (4, 4), (5, 1), (6, 7), (5, 2), (6, 7), (3, 7), (4, 4), (5, 1), (5, 2), (5, 6), (6, 1), (2, 1), (3, 4), (4, 2), (4, 7), (3, 6), (4, 2), (4, 4), (5, 2), (6, 0), (6, 7), (3, 7), (4, 2), (5, 6), (4, 4), (5, 2), (6, 0), (5, 6), (6, 0), (7, 2)]\n",
      "k : 77,  v : [(2, 6), (3, 0), (4, 2), (5, 4), (6, 1), (7, 7)]\n",
      "k : 78,  v : [(6, 7), (4, 7), (5, 1), (6, 4), (7, 2)]\n",
      "k : 79,  v : [(5, 4), (6, 1), (3, 4), (4, 2), (4, 7), (5, 1), (1, 7), (2, 0), (3, 3), (4, 6), (5, 2), (5, 4), (6, 1), (3, 4), (4, 6), (5, 1), (6, 3), (3, 6), (4, 3), (5, 1), (2, 1), (3, 3), (4, 0), (5, 2), (6, 4), (5, 6), (6, 4), (7, 2)]\n",
      "k : 80,  v : [(4, 6), (5, 2), (3, 4), (4, 0), (4, 2), (4, 6), (3, 6), (4, 0), (5, 2), (6, 4), (4, 2), (2, 2), (3, 0), (4, 3), (5, 1), (6, 4), (5, 6), (6, 4), (4, 6), (5, 1), (5, 4), (6, 1), (3, 4), (4, 6), (5, 1), (6, 3), (3, 6), (4, 3), (5, 1), (6, 4), (2, 4), (3, 0), (4, 3), (5, 6), (3, 1), (4, 3), (5, 6), (3, 6), (4, 0), (5, 2), (4, 3), (0, 6), (1, 0), (2, 2), (3, 4), (4, 1), (5, 3), (5, 7), (4, 7), (5, 3), (3, 5), (4, 1), (4, 7), (3, 7), (4, 1), (5, 3), (4, 5), (5, 3), (6, 1), (7, 4)]\n",
      "k : 81,  v : [(2, 3), (3, 1), (4, 4), (5, 2), (5, 7), (4, 7), (5, 2), (5, 5), (6, 2), (3, 5), (4, 7), (5, 2), (6, 4), (3, 7), (4, 4), (5, 2), (2, 5), (3, 1), (4, 4), (5, 7), (6, 3), (3, 7), (4, 1), (5, 3), (4, 4), (2, 7), (3, 1), (4, 4), (5, 2), (3, 4), (4, 1), (5, 3), (5, 5), (6, 2), (3, 5), (4, 1), (1, 1), (2, 3), (3, 0), (4, 7), (5, 4), (6, 2), (7, 5)]\n",
      "k : 82,  v : [(3, 5), (4, 0), (5, 2), (6, 4), (5, 4), (4, 7), (5, 2), (6, 4), (5, 4), (3, 7), (4, 0), (5, 2), (6, 5), (5, 4), (2, 5), (3, 0), (3, 2), (4, 0), (5, 3), (6, 7), (7, 4)]\n",
      "k : 83,  v : [(5, 7), (6, 3), (6, 4), (3, 7), (4, 0), (5, 3), (5, 4), (2, 7), (3, 0), (4, 3), (3, 2), (4, 0), (5, 3), (3, 4), (4, 0), (5, 3), (6, 5), (3, 5), (4, 0), (5, 2), (6, 4), (4, 3), (5, 0), (6, 4), (1, 2), (2, 0), (3, 5), (4, 1), (5, 4), (4, 3), (4, 7), (5, 4), (6, 1), (7, 3)]\n",
      "k : 84,  v : [(3, 7), (4, 1), (5, 4), (4, 3), (4, 4), (2, 5), (3, 1), (4, 4), (5, 0), (6, 3), (5, 7), (6, 3), (3, 7), (4, 0), (5, 3), (5, 4), (4, 1), (5, 3), (5, 4), (4, 4), (5, 0), (6, 3), (2, 7), (3, 1), (4, 3), (5, 0), (5, 5), (4, 4), (5, 0), (6, 5), (7, 3)]\n",
      "k : 85,  v : [(3, 5), (4, 0), (4, 1), (4, 3), (5, 0), (6, 4), (1, 3), (2, 0), (3, 2), (4, 4), (4, 5), (4, 7), (5, 5), (6, 1), (3, 4), (4, 1), (5, 5), (6, 2), (4, 7), (5, 5), (6, 2), (3, 7), (4, 1), (5, 4), (6, 2), (4, 4), (5, 2), (6, 5), (4, 5), (5, 2), (2, 1), (3, 4), (4, 7), (5, 0), (6, 2), (7, 5)]\n",
      "k : 86,  v : [(5, 5), (6, 2), (3, 7), (4, 4), (5, 0), (5, 2), (4, 5), (5, 0), (6, 2), (7, 4)]\n",
      "k : 87,  v : [(5, 2), (2, 5), (3, 0), (4, 4), (3, 2), (4, 4), (3, 7), (4, 1), (5, 4), (6, 2), (4, 4), (5, 0), (2, 7), (3, 0), (4, 4), (3, 2), (4, 4), (3, 4), (4, 1), (5, 5), (6, 2), (1, 4), (2, 0), (3, 5), (4, 3), (3, 7), (4, 3), (4, 5), (5, 2), (2, 1), (3, 5), (4, 0), (5, 2), (6, 7), (3, 7), (4, 0), (5, 2), (5, 3), (4, 5), (5, 2), (5, 3), (2, 2), (3, 0), (4, 3), (5, 7), (4, 5), (5, 3), (6, 1), (5, 7), (6, 1), (7, 3)]\n",
      "k : 88,  v : [(3, 5), (4, 3), (3, 7), (4, 3), (4, 5), (5, 3), (6, 1), (2, 7), (3, 0), (4, 3), (5, 5), (6, 2), (3, 1), (4, 3), (5, 5), (6, 2), (3, 5), (4, 0), (5, 2), (4, 3), (0, 7), (1, 0), (2, 2), (3, 5), (4, 1), (5, 6), (6, 4), (3, 6), (4, 1), (5, 3), (2, 3), (3, 1), (4, 4), (4, 6), (3, 5), (4, 2), (3, 6), (4, 2), (5, 5), (4, 4), (5, 1), (2, 4), (3, 1), (4, 5), (3, 6), (4, 1), (5, 3), (5, 5), (6, 2), (2, 6), (3, 1), (4, 5), (3, 3), (4, 1), (4, 5), (1, 1), (2, 3), (3, 0), (4, 2), (5, 4), (4, 6), (5, 4), (6, 2), (7, 5)]\n",
      "k : 89,  v : [(3, 5), (4, 0), (5, 4), (4, 2), (5, 4), (3, 6), (4, 0), (4, 2), (2, 4), (3, 0), (4, 5), (5, 3), (3, 2), (4, 0), (5, 3), (5, 6), (6, 3), (7, 5)]\n",
      "k : 90,  v : [(4, 5), (5, 3), (3, 6), (4, 0), (5, 3), (6, 5), (2, 6), (3, 0), (4, 2), (5, 4), (4, 5), (3, 2), (4, 0), (4, 5), (1, 2), (2, 0), (3, 3), (4, 1), (5, 4), (4, 6), (5, 4), (3, 5), (4, 1), (5, 4), (6, 6), (7, 3)]\n",
      "k : 91,  v : [(3, 6), (4, 1), (5, 5), (4, 4), (5, 1), (6, 5), (2, 4), (3, 1), (3, 6), (4, 0), (5, 3), (6, 5), (5, 5), (4, 1), (5, 3), (6, 5), (5, 5), (2, 6), (3, 1), (3, 3), (4, 0), (5, 4), (4, 1), (5, 4), (1, 3), (2, 0), (3, 2), (4, 4), (5, 1), (5, 6), (4, 5), (5, 1), (6, 6), (7, 4)]\n",
      "k : 92,  v : [(3, 6), (4, 1), (5, 5), (6, 2), (4, 4), (5, 1), (6, 5), (2, 1), (3, 6), (4, 2), (5, 0), (5, 5), (4, 4), (5, 0), (2, 6), (3, 0), (4, 2), (5, 4), (5, 5), (4, 5), (5, 1), (6, 4), (3, 2), (4, 5), (5, 1), (6, 4), (1, 4), (2, 0), (3, 3), (4, 5), (4, 6), (3, 5), (2, 1), (3, 3), (4, 0), (5, 6), (4, 5), (4, 6), (3, 5), (4, 0), (5, 6), (6, 3), (4, 2), (5, 6), (6, 3), (2, 2), (3, 0), (4, 5), (5, 1), (5, 3), (4, 6), (5, 1), (6, 5), (5, 3), (6, 5), (3, 5), (2, 6), (3, 0), (4, 2), (5, 5), (4, 5), (5, 1), (3, 1), (4, 5), (3, 3), (4, 0), (4, 5), (1, 5), (2, 0), (3, 2), (4, 4), (5, 6), (6, 3), (4, 6), (3, 6), (4, 1), (4, 4), (2, 1), (3, 6), (4, 0), (5, 3), (4, 4), (5, 0), (2, 2), (3, 0), (4, 6), (5, 3), (5, 4), (3, 6), (4, 1), (5, 3), (2, 3), (3, 0), (4, 4), (4, 6), (5, 4), (6, 2), (3, 1), (4, 4), (4, 6), (5, 4), (6, 2), (3, 6), (4, 0), (4, 4)]\n"
     ]
    }
   ],
   "source": [
    "for k, v in queens_dict.items():\n",
    "    print(f\"k : {k},  v : {v}\")"
   ]
  },
  {
   "cell_type": "code",
   "execution_count": 11,
   "metadata": {},
   "outputs": [
    {
     "data": {
      "text/plain": [
       "113"
      ]
     },
     "execution_count": 11,
     "metadata": {},
     "output_type": "execute_result"
    }
   ],
   "source": [
    "len(queens_dict[0])"
   ]
  }
 ],
 "metadata": {
  "kernelspec": {
   "display_name": "base",
   "language": "python",
   "name": "python3"
  },
  "language_info": {
   "codemirror_mode": {
    "name": "ipython",
    "version": 3
   },
   "file_extension": ".py",
   "mimetype": "text/x-python",
   "name": "python",
   "nbconvert_exporter": "python",
   "pygments_lexer": "ipython3",
   "version": "3.9.12"
  }
 },
 "nbformat": 4,
 "nbformat_minor": 2
}
