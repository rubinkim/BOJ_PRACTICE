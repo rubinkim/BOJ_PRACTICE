{
 "cells": [
  {
   "cell_type": "code",
   "execution_count": 4,
   "metadata": {},
   "outputs": [
    {
     "name": "stdout",
     "output_type": "stream",
     "text": [
      "[False, False, False]\n",
      "[False, False, False]\n",
      "[False, False, False]\n",
      "[False, False, False]\n",
      "\n",
      "[False, False, False]\n",
      "[False, False, False]\n",
      "[False, True, False]\n",
      "[False, False, False]\n"
     ]
    }
   ],
   "source": [
    "x = [[False] * 3 for _ in range(4)]\n",
    "for row in x:\n",
    "    print(row)\n",
    "print()\n",
    "    \n",
    "x[2][1] = True\n",
    "\n",
    "for row in x:\n",
    "    print(row)"
   ]
  }
 ],
 "metadata": {
  "kernelspec": {
   "display_name": "base",
   "language": "python",
   "name": "python3"
  },
  "language_info": {
   "codemirror_mode": {
    "name": "ipython",
    "version": 3
   },
   "file_extension": ".py",
   "mimetype": "text/x-python",
   "name": "python",
   "nbconvert_exporter": "python",
   "pygments_lexer": "ipython3",
   "version": "3.9.12"
  }
 },
 "nbformat": 4,
 "nbformat_minor": 2
}
