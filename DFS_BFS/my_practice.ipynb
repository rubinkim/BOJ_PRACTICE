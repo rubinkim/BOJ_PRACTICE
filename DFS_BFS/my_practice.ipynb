{
 "cells": [
  {
   "cell_type": "code",
   "execution_count": 4,
   "metadata": {},
   "outputs": [
    {
     "name": "stdout",
     "output_type": "stream",
     "text": [
      "[False, False, False]\n",
      "[False, False, False]\n",
      "[False, False, False]\n",
      "[False, False, False]\n",
      "\n",
      "[False, False, False]\n",
      "[False, False, False]\n",
      "[False, True, False]\n",
      "[False, False, False]\n"
     ]
    }
   ],
   "source": [
    "x = [[False] * 3 for _ in range(4)]\n",
    "for row in x:\n",
    "    print(row)\n",
    "print()\n",
    "    \n",
    "x[2][1] = True\n",
    "\n",
    "for row in x:\n",
    "    print(row)"
   ]
  },
  {
   "cell_type": "code",
   "execution_count": null,
   "metadata": {},
   "outputs": [],
   "source": [
    "from collections import deque\n",
    "\n",
    "r, c = map(int, input().split())\n",
    "graph = [[0] * c for _ in range(r)]\n",
    "for i in range(r):    \n",
    "    for j, x in enumerate(input()):\n",
    "        graph[i][j] = x\n",
    "\n",
    "for row in graph:\n",
    "    print(row)\n",
    "print()\n",
    "    \n",
    "visited = [[False] * c for _ in range(r)]\n",
    "path = []\n",
    "cnt = 0\n",
    "\n",
    "def logest_path(graph, start_x, start_y):\n",
    "    global visited, path, cnt\n",
    "    dx, dy = [-1, 1, 0, 0], [0, 0, -1, 1]\n",
    "    \n",
    "    if start_x <= -1 or start_x >= r or start_y <= -1 or start_y >= c:\n",
    "        return False\n",
    "    if graph[start_x][start_y] not in path and not visited[start_x][start_y]:\n",
    "        q = deque()\n",
    "        q.append((start_x, start_y))\n",
    "        path.append(graph[start_x][start_y])\n",
    "        visited[start_x][start_y] = True\n",
    "        cnt += 1\n",
    "\n",
    "        while q:\n",
    "            x, y = q.pop()\n",
    "            for i in range(4):\n",
    "                nx = x + dx[i]\n",
    "                ny = y + dy[i]\n",
    "                if nx <= -1 or nx >= r or ny <= -1 or ny >= c:\n",
    "                    continue\n",
    "                if graph[nx][ny] not in path and not visited[nx][ny]:\n",
    "                    path.append(graph[nx][ny])\n",
    "                    q.append((nx, ny))\n",
    "                    visited[nx][ny] = True\n",
    "                    cnt += 1\n",
    "\n",
    "        return True\n",
    "    return False\n",
    "\n",
    "logest_path(graph, 0, 0)\n",
    "print(path)\n",
    "print(cnt)"
   ]
  },
  {
   "cell_type": "code",
   "execution_count": null,
   "metadata": {},
   "outputs": [],
   "source": [
    "from collections import deque\n",
    "\n",
    "r, c = map(int, input().split())\n",
    "graph = [[0] * c for _ in range(r)]\n",
    "for i in range(r):    \n",
    "    for j, x in enumerate(input()):\n",
    "        graph[i][j] = x\n",
    "\n",
    "for row in graph:\n",
    "    print(row)\n",
    "print()\n",
    "    \n",
    "visited = [[False] * c for _ in range(r)]\n",
    "path = []\n",
    "cnt = 0\n",
    "\n",
    "def logest_path(graph, start_x, start_y, num):\n",
    "    global visited, path, cnt\n",
    "    dx, dy = [-1, 1, 0, 0], [0, 0, -1, 1]\n",
    "    \n",
    "    if start_x <= -1 or start_x >= r or start_y <= -1 or start_y >= c:\n",
    "        return False\n",
    "    if graph[start_x][start_y] not in path and not visited[start_x][start_y]:\n",
    "\n",
    "        path.append(graph[start_x][start_y])\n",
    "        visited[start_x][start_y] = True\n",
    "        cnt += 1\n",
    "        \n",
    "        for i in range(4):\n",
    "            nx = start_x + dx[i]\n",
    "            ny = start_y + dy[i]\n",
    "            if nx <= -1 or nx >= r or ny <= -1 or ny >= c:\n",
    "                continue\n",
    "            if graph[nx][ny] not in path and not visited[nx][ny]:\n",
    "                logest_path(graph, nx, ny, num+1)\n",
    "\n",
    "\n",
    "        return True\n",
    "    return False\n",
    "\n",
    "logest_path(graph, 0, 0, cnt)\n",
    "print(path)\n",
    "print(cnt)"
   ]
  },
  {
   "cell_type": "markdown",
   "metadata": {},
   "source": [
    "#### 1987_알파벹"
   ]
  },
  {
   "cell_type": "code",
   "execution_count": 65,
   "metadata": {},
   "outputs": [
    {
     "name": "stdout",
     "output_type": "stream",
     "text": [
      "r : 3,  c : 6\n",
      "['H', 'F', 'D', 'F', 'F', 'B']\n",
      "['A', 'J', 'H', 'G', 'D', 'H']\n",
      "['D', 'G', 'A', 'G', 'E', 'H']\n"
     ]
    }
   ],
   "source": [
    "with open(\"../data/1987_알파벹.txt\", \"r\") as input:\n",
    "    r, c = map(int, input.readline().rstrip().split())\n",
    "    print(f\"r : {r},  c : {c}\")\n",
    "    \n",
    "    graph = [[0] * c for _ in range(r)]\n",
    "    for i in range(r):\n",
    "        row = input.readline().rstrip()\n",
    "        for j in range(c):\n",
    "            graph[i][j] = row[j]\n",
    "            \n",
    "    for row in graph:\n",
    "        print(row)   "
   ]
  },
  {
   "cell_type": "code",
   "execution_count": 66,
   "metadata": {},
   "outputs": [],
   "source": [
    "path = []\n",
    "visited = [[False] * c for _ in range(r)]"
   ]
  },
  {
   "cell_type": "code",
   "execution_count": 67,
   "metadata": {},
   "outputs": [],
   "source": [
    "def dfs(graph, start_x, start_y, depth):\n",
    "    global visited, path \n",
    "    dx, dy = [0, 1, -1, 0], [1, 0, 0, -1]\n",
    "    \n",
    "    for k in range(2):\n",
    "        max = 1\n",
    "        path.append(graph[start_x][start_y])       \n",
    "        visited = [[False] * c for _ in range(r)]\n",
    "        visited[start_x][start_y] = True\n",
    "        print(f\"{graph[start_x][start_y]} -->\", end=' ')\n",
    "            \n",
    "        for i in range(4):    \n",
    "            sub_path = []    \n",
    "            nx, ny = start_x + dx[i], start_y + dy[i]\n",
    "            if nx <= -1 or nx >= r or ny <= -1 or ny >= c:\n",
    "                continue\n",
    "            if graph[nx][ny] in path:\n",
    "                continue\n",
    "            if visited[nx][ny]:\n",
    "                continue\n",
    "            sub_path.append(graph[nx][ny])\n",
    "            path.extend(sub_path)\n",
    "            max += 1\n",
    "            #print(f\" {graph[nx][ny]} --> \", end=' ')\n",
    "            dfs(graph, nx, ny, depth+1)\n",
    "        print(f\"max : {max} \")\n",
    "        "
   ]
  },
  {
   "cell_type": "code",
   "execution_count": 72,
   "metadata": {},
   "outputs": [
    {
     "name": "stdout",
     "output_type": "stream",
     "text": [
      "H --> max : 1 \n",
      "H --> max : 1 \n"
     ]
    },
    {
     "data": {
      "text/plain": [
       "10"
      ]
     },
     "execution_count": 72,
     "metadata": {},
     "output_type": "execute_result"
    }
   ],
   "source": [
    "dfs(graph, 0, 0, 0)\n",
    "max"
   ]
  },
  {
   "cell_type": "code",
   "execution_count": 13,
   "metadata": {},
   "outputs": [
    {
     "name": "stdout",
     "output_type": "stream",
     "text": [
      "['I', 'E', 'F', 'C', 'J']\n",
      "['F', 'H', 'F', 'K', 'C']\n",
      "['F', 'F', 'A', 'L', 'F']\n",
      "['H', 'F', 'G', 'C', 'F']\n",
      "['H', 'M', 'C', 'H', 'H']\n"
     ]
    }
   ],
   "source": [
    "for row in graph:\n",
    "    print(row)"
   ]
  },
  {
   "cell_type": "markdown",
   "metadata": {},
   "source": [
    "#### 1987_연습"
   ]
  },
  {
   "cell_type": "code",
   "execution_count": 3,
   "metadata": {},
   "outputs": [
    {
     "name": "stdout",
     "output_type": "stream",
     "text": [
      "r : 7,  c : 10\n",
      "[0, 1, 1, 1, 0, 0, 0, 0, 1, 0]\n",
      "[0, 1, 0, 1, 1, 1, 1, 0, 1, 0]\n",
      "[0, 1, 1, 1, 0, 0, 1, 0, 0, 1]\n",
      "[0, 0, 0, 1, 0, 0, 1, 1, 1, 1]\n",
      "[0, 1, 1, 1, 0, 0, 0, 1, 0, 0]\n",
      "[0, 1, 0, 0, 0, 0, 1, 0, 0, 0]\n",
      "[0, 0, 0, 1, 0, 0, 0, 0, 1, 1]\n"
     ]
    }
   ],
   "source": [
    "with open(\"../data/1987_연습.txt\", \"r\") as input:\n",
    "    r, c = map(int, input.readline().split())\n",
    "    graph = [[0] * c for _ in range(r)]\n",
    "    for i in range(r):\n",
    "        row = list(map(int, input.readline().rstrip()))\n",
    "        for j in range(c):\n",
    "            graph[i][j] = row[j]\n",
    "    print(f\"r : {r},  c : {c}\")\n",
    "    for row in graph:\n",
    "        print(row)"
   ]
  },
  {
   "cell_type": "code",
   "execution_count": 4,
   "metadata": {},
   "outputs": [],
   "source": [
    "visited = [[False] * c for _ in range(r)]"
   ]
  },
  {
   "cell_type": "code",
   "execution_count": 5,
   "metadata": {},
   "outputs": [],
   "source": [
    "from collections import deque\n",
    "\n",
    "def dfs_deque(graph, start_x, start_y, depth):\n",
    "    global visited\n",
    "    dx, dy = [-1, 1, 0, 0], [0, 0, -1, 1]    \n",
    "    \n",
    "    if graph[start_x][start_y] == 1 and not visited[start_x][start_y]:\n",
    "        q = deque([(start_x, start_y)])\n",
    "        visited[start_x][start_y] = True\n",
    "        depth += 1\n",
    "        print(f\"{(start_x, start_y)} --> \", end='')\n",
    "        \n",
    "        while q:\n",
    "            x, y = q.pop()\n",
    "            for i in range(4):\n",
    "                nx = x + dx[i]\n",
    "                ny = y + dy[i]\n",
    "                if nx <= -1 or nx >= r or ny <= -1 or ny >= c:\n",
    "                    continue\n",
    "                if graph[nx][ny] == 0: \n",
    "                    continue\n",
    "                if visited[nx][ny]:\n",
    "                    continue\n",
    "                q.append((nx, ny))\n",
    "                visited[nx][ny] = True\n",
    "                depth += 1\n",
    "                print(f\"{(nx, ny)} --> \", end='')\n",
    "        return True\n",
    "    print(f\"depth : {depth}\")\n",
    "    return False "
   ]
  },
  {
   "cell_type": "code",
   "execution_count": 6,
   "metadata": {},
   "outputs": [
    {
     "name": "stdout",
     "output_type": "stream",
     "text": [
      "(0, 1) --> (1, 1) --> (0, 2) --> (0, 3) --> (1, 3) --> (2, 3) --> (1, 4) --> (1, 5) --> (1, 6) --> (2, 6) --> (3, 6) --> (3, 7) --> (4, 7) --> (3, 8) --> (3, 9) --> (2, 9) --> (3, 3) --> (2, 2) --> (2, 1) --> (4, 3) --> (4, 2) --> (4, 1) --> (5, 1) --> "
     ]
    },
    {
     "data": {
      "text/plain": [
       "True"
      ]
     },
     "execution_count": 6,
     "metadata": {},
     "output_type": "execute_result"
    }
   ],
   "source": [
    "dfs_deque(graph, 0, 1, 0)"
   ]
  },
  {
   "cell_type": "code",
   "execution_count": 7,
   "metadata": {},
   "outputs": [
    {
     "name": "stdout",
     "output_type": "stream",
     "text": [
      "[0, 1, 1, 1, 0, 0, 0, 0, 1, 0]\n",
      "[0, 1, 0, 1, 1, 1, 1, 0, 1, 0]\n",
      "[0, 1, 1, 1, 0, 0, 1, 0, 0, 1]\n",
      "[0, 0, 0, 1, 0, 0, 1, 1, 1, 1]\n",
      "[0, 1, 1, 1, 0, 0, 0, 1, 0, 0]\n",
      "[0, 1, 0, 0, 0, 0, 1, 0, 0, 0]\n",
      "[0, 0, 0, 1, 0, 0, 0, 0, 1, 1]\n"
     ]
    }
   ],
   "source": [
    "for row in graph:\n",
    "    print(row)"
   ]
  },
  {
   "cell_type": "code",
   "execution_count": 19,
   "metadata": {},
   "outputs": [
    {
     "name": "stdout",
     "output_type": "stream",
     "text": [
      "[False, True, True, True, False, False, False, False, False, False]\n",
      "[False, True, False, True, True, True, True, False, False, False]\n",
      "[False, True, True, True, False, False, True, False, False, True]\n",
      "[False, False, False, True, False, False, True, True, True, True]\n",
      "[False, True, True, True, False, False, False, True, False, False]\n",
      "[False, True, False, False, False, False, False, False, False, False]\n",
      "[False, False, False, False, False, False, False, False, False, False]\n"
     ]
    }
   ],
   "source": [
    "for row in visited:\n",
    "    print(row)"
   ]
  },
  {
   "cell_type": "code",
   "execution_count": null,
   "metadata": {},
   "outputs": [],
   "source": []
  },
  {
   "cell_type": "markdown",
   "metadata": {},
   "source": [
    "#### updated_version_1"
   ]
  },
  {
   "cell_type": "code",
   "execution_count": 1,
   "metadata": {},
   "outputs": [
    {
     "name": "stdout",
     "output_type": "stream",
     "text": [
      "r : 7,  c : 10\n",
      "[0, 1, 1, 1, 0, 0, 0, 0, 1, 0]\n",
      "[0, 1, 0, 1, 1, 1, 1, 0, 1, 0]\n",
      "[0, 1, 1, 1, 0, 0, 1, 0, 0, 1]\n",
      "[0, 0, 0, 1, 0, 0, 1, 1, 1, 1]\n",
      "[0, 1, 1, 1, 0, 0, 0, 1, 0, 0]\n",
      "[0, 1, 0, 0, 0, 0, 1, 0, 0, 0]\n",
      "[0, 0, 0, 1, 0, 0, 0, 0, 1, 1]\n"
     ]
    }
   ],
   "source": [
    "with open(\"../data/1987_연습.txt\", \"r\") as input:\n",
    "    r, c = map(int, input.readline().split())\n",
    "    graph = [[0] * c for _ in range(r)]\n",
    "    for i in range(r):\n",
    "        row = list(map(int, input.readline().rstrip()))\n",
    "        for j in range(c):\n",
    "            graph[i][j] = row[j]\n",
    "    print(f\"r : {r},  c : {c}\")\n",
    "    for row in graph:\n",
    "        print(row)"
   ]
  },
  {
   "cell_type": "code",
   "execution_count": 2,
   "metadata": {},
   "outputs": [],
   "source": [
    "cnt = 0\n",
    "visited = [[False] * c for _ in range(r)]"
   ]
  },
  {
   "cell_type": "code",
   "execution_count": 3,
   "metadata": {},
   "outputs": [],
   "source": [
    "from collections import deque\n",
    "\n",
    "def dfs_deque(graph, start_x, start_y, depth):\n",
    "    global cnt, visited\n",
    "    dx, dy = [-1, 1, 0, 0], [0, 0, -1, 1]    \n",
    "    \n",
    "    if graph[start_x][start_y] == 1 and not visited[start_x][start_y]:\n",
    "        q = deque([(start_x, start_y)])\n",
    "        visited[start_x][start_y] = True\n",
    "        depth += 1\n",
    "        print(f\"{(start_x, start_y)} --> \", end='')\n",
    "        \n",
    "        while q:\n",
    "            x, y = q.pop()\n",
    "            no_farther = 0\n",
    "            for i in range(4):\n",
    "                nx = x + dx[i]\n",
    "                ny = y + dy[i]\n",
    "                if nx <= -1 or nx >= r or ny <= -1 or ny >= c:\n",
    "                    continue\n",
    "                if graph[nx][ny] == 0: \n",
    "                    no_farther += 1\n",
    "                    continue\n",
    "                if visited[nx][ny]:\n",
    "                    no_farther += 1\n",
    "                    continue\n",
    "                q.append((nx, ny))\n",
    "                visited[nx][ny] = True\n",
    "                depth += 1\n",
    "                print(f\"{(nx, ny)} --> \", end='')\n",
    "            if no_farther == 4:\n",
    "                visited = [[False] * c for _ in range(r)]\n",
    "                visited[start_x][start_y] = True \n",
    "                break               \n",
    "        return True\n",
    "    print(f\"depth : {depth}\")\n",
    "    return False "
   ]
  },
  {
   "cell_type": "code",
   "execution_count": 4,
   "metadata": {},
   "outputs": [
    {
     "name": "stdout",
     "output_type": "stream",
     "text": [
      "(0, 1) --> (1, 1) --> (0, 2) --> (0, 3) --> (1, 3) --> (2, 3) --> (1, 4) --> (1, 5) --> (1, 6) --> (2, 6) --> (3, 6) --> (3, 7) --> (4, 7) --> (3, 8) --> (3, 9) --> (2, 9) --> "
     ]
    },
    {
     "data": {
      "text/plain": [
       "True"
      ]
     },
     "execution_count": 4,
     "metadata": {},
     "output_type": "execute_result"
    }
   ],
   "source": [
    "dfs_deque(graph, 0, 1, 0)"
   ]
  },
  {
   "cell_type": "code",
   "execution_count": 6,
   "metadata": {},
   "outputs": [
    {
     "name": "stdout",
     "output_type": "stream",
     "text": [
      "[0, 1, 1, 1, 0, 0, 0, 0, 1, 0]\n",
      "[0, 1, 0, 1, 1, 1, 1, 0, 1, 0]\n",
      "[0, 1, 1, 1, 0, 0, 1, 0, 0, 1]\n",
      "[0, 0, 0, 1, 0, 0, 1, 1, 1, 1]\n",
      "[0, 1, 1, 1, 0, 0, 0, 1, 0, 0]\n",
      "[0, 1, 0, 0, 0, 0, 1, 0, 0, 0]\n",
      "[0, 0, 0, 1, 0, 0, 0, 0, 1, 1]\n"
     ]
    }
   ],
   "source": [
    "for row in graph:\n",
    "    print(row)"
   ]
  },
  {
   "cell_type": "markdown",
   "metadata": {},
   "source": [
    "#### updated_version_2"
   ]
  },
  {
   "cell_type": "code",
   "execution_count": 88,
   "metadata": {},
   "outputs": [
    {
     "name": "stdout",
     "output_type": "stream",
     "text": [
      "r : 7,  c : 10\n",
      "[0, 1, 1, 1, 0, 0, 0, 0, 1, 0]\n",
      "[0, 1, 0, 1, 1, 1, 1, 0, 1, 0]\n",
      "[0, 1, 1, 1, 0, 0, 1, 0, 0, 1]\n",
      "[0, 0, 0, 1, 0, 0, 1, 1, 1, 1]\n",
      "[0, 1, 1, 1, 0, 0, 0, 1, 0, 0]\n",
      "[0, 1, 0, 0, 0, 0, 1, 0, 0, 0]\n",
      "[0, 0, 0, 1, 0, 0, 0, 0, 1, 1]\n"
     ]
    }
   ],
   "source": [
    "with open(\"../data/1987_연습.txt\", \"r\") as input:\n",
    "    r, c = map(int, input.readline().split())\n",
    "    graph = [[0] * c for _ in range(r)]\n",
    "    for i in range(r):\n",
    "        row = list(map(int, input.readline().rstrip()))\n",
    "        for j in range(c):\n",
    "            graph[i][j] = row[j]\n",
    "    print(f\"r : {r},  c : {c}\")\n",
    "    for row in graph:\n",
    "        print(row)"
   ]
  },
  {
   "cell_type": "code",
   "execution_count": 89,
   "metadata": {},
   "outputs": [],
   "source": [
    "cnt = 0\n",
    "path = []\n",
    "visited = [[False] * c for _ in range(r)]"
   ]
  },
  {
   "cell_type": "code",
   "execution_count": 90,
   "metadata": {},
   "outputs": [],
   "source": [
    "from collections import deque\n",
    "\n",
    "def dfs_deque(graph, start_x, start_y, depth):\n",
    "    global cnt, path, visited\n",
    "    dx, dy = [-1, 1, 0, 0], [0, 0, -1, 1]    \n",
    "    \n",
    "    if graph[start_x][start_y] == 1 and not visited[start_x][start_y]:\n",
    "        q = deque([(start_x, start_y)])\n",
    "        path.append((start_x, start_y))\n",
    "        visited[start_x][start_y] = True\n",
    "        depth += 1\n",
    "        #path.append((start_x, start_y))\n",
    "        #print(f\"{(start_x, start_y)} --> \", end='')\n",
    "        \n",
    "        while q:\n",
    "            x, y = q.pop()\n",
    "            #path.append((x, y))\n",
    "            print(f\"(x, y) : {(x, y)}\")\n",
    "            \n",
    "            no_farther = 0\n",
    "            \n",
    "            for i in range(4):\n",
    "                nx = x + dx[i]\n",
    "                ny = y + dy[i]\n",
    "\n",
    "                sub_path = []\n",
    "                \n",
    "                if nx <= -1 or nx >= r or ny <= -1 or ny >= c:\n",
    "                    no_farther += 1\n",
    "                    print(f\"{(nx, ny)} : out of border\")\n",
    "                    continue\n",
    "                if graph[nx][ny] == 0: \n",
    "                    no_farther += 1\n",
    "                    print(f\"{(nx, ny)} : zero cell\")\n",
    "                    continue\n",
    "                if visited[nx][ny]:\n",
    "                    no_farther += 1\n",
    "                    print(f\"{(nx, ny)} : visited\")\n",
    "                    continue\n",
    "                if graph[nx][ny] == 1 and not visited[nx][ny]:\n",
    "                    q.append((nx, ny))\n",
    "                    path.append((nx, ny))\n",
    "                    visited[nx][ny] = True\n",
    "                    #sub_path.append((nx, ny))\n",
    "                    #path.extend(sub_path)\n",
    "                    depth += 1\n",
    "                    #print(f\"{(nx, ny)} --> \", end='')\n",
    "                    #print(f\"no_farther : {no_farther}\")\n",
    "                    #print(f\"path : {path}\")\n",
    "                \n",
    "                if no_farther >= 4:\n",
    "                    q.pop()\n",
    "                    visited = [[False] * c for _ in range(r)]\n",
    "                    visited[start_x][start_y] = True \n",
    "                    path = [(start_x, start_y)]\n",
    "                    break\n",
    "            print(f\"no_farther : {no_farther}\")\n",
    "            print(f\"path : {path}\")\n",
    "            print()               \n",
    "        return True\n",
    "    #print(f\"depth : {depth}\")\n",
    "    return False "
   ]
  },
  {
   "cell_type": "code",
   "execution_count": 91,
   "metadata": {},
   "outputs": [
    {
     "name": "stdout",
     "output_type": "stream",
     "text": [
      "[0, 1, 1, 1, 0, 0, 0, 0, 1, 0]\n",
      "[0, 1, 0, 1, 1, 1, 1, 0, 1, 0]\n",
      "[0, 1, 1, 1, 0, 0, 1, 0, 0, 1]\n",
      "[0, 0, 0, 1, 0, 0, 1, 1, 1, 1]\n",
      "[0, 1, 1, 1, 0, 0, 0, 1, 0, 0]\n",
      "[0, 1, 0, 0, 0, 0, 1, 0, 0, 0]\n",
      "[0, 0, 0, 1, 0, 0, 0, 0, 1, 1]\n"
     ]
    }
   ],
   "source": [
    "for row in graph:\n",
    "    print(row)"
   ]
  },
  {
   "cell_type": "code",
   "execution_count": 92,
   "metadata": {},
   "outputs": [
    {
     "name": "stdout",
     "output_type": "stream",
     "text": [
      "(x, y) : (0, 1)\n",
      "(-1, 1) : out of border\n",
      "(0, 0) : zero cell\n",
      "no_farther : 2\n",
      "path : [(0, 1), (1, 1), (0, 2)]\n",
      "\n",
      "(x, y) : (0, 2)\n",
      "(-1, 2) : out of border\n",
      "(1, 2) : zero cell\n",
      "(0, 1) : visited\n",
      "no_farther : 3\n",
      "path : [(0, 1), (1, 1), (0, 2), (0, 3)]\n",
      "\n",
      "(x, y) : (0, 3)\n",
      "(-1, 3) : out of border\n",
      "(0, 2) : visited\n",
      "(0, 4) : zero cell\n",
      "no_farther : 3\n",
      "path : [(0, 1), (1, 1), (0, 2), (0, 3), (1, 3)]\n",
      "\n",
      "(x, y) : (1, 3)\n",
      "(0, 3) : visited\n",
      "(1, 2) : zero cell\n",
      "no_farther : 2\n",
      "path : [(0, 1), (1, 1), (0, 2), (0, 3), (1, 3), (2, 3), (1, 4)]\n",
      "\n",
      "(x, y) : (1, 4)\n",
      "(0, 4) : zero cell\n",
      "(2, 4) : zero cell\n",
      "(1, 3) : visited\n",
      "no_farther : 3\n",
      "path : [(0, 1), (1, 1), (0, 2), (0, 3), (1, 3), (2, 3), (1, 4), (1, 5)]\n",
      "\n",
      "(x, y) : (1, 5)\n",
      "(0, 5) : zero cell\n",
      "(2, 5) : zero cell\n",
      "(1, 4) : visited\n",
      "no_farther : 3\n",
      "path : [(0, 1), (1, 1), (0, 2), (0, 3), (1, 3), (2, 3), (1, 4), (1, 5), (1, 6)]\n",
      "\n",
      "(x, y) : (1, 6)\n",
      "(0, 6) : zero cell\n",
      "(1, 5) : visited\n",
      "(1, 7) : zero cell\n",
      "no_farther : 3\n",
      "path : [(0, 1), (1, 1), (0, 2), (0, 3), (1, 3), (2, 3), (1, 4), (1, 5), (1, 6), (2, 6)]\n",
      "\n",
      "(x, y) : (2, 6)\n",
      "(1, 6) : visited\n",
      "(2, 5) : zero cell\n",
      "(2, 7) : zero cell\n",
      "no_farther : 3\n",
      "path : [(0, 1), (1, 1), (0, 2), (0, 3), (1, 3), (2, 3), (1, 4), (1, 5), (1, 6), (2, 6), (3, 6)]\n",
      "\n",
      "(x, y) : (3, 6)\n",
      "(2, 6) : visited\n",
      "(4, 6) : zero cell\n",
      "(3, 5) : zero cell\n",
      "no_farther : 3\n",
      "path : [(0, 1), (1, 1), (0, 2), (0, 3), (1, 3), (2, 3), (1, 4), (1, 5), (1, 6), (2, 6), (3, 6), (3, 7)]\n",
      "\n",
      "(x, y) : (3, 7)\n",
      "(2, 7) : zero cell\n",
      "(3, 6) : visited\n",
      "no_farther : 2\n",
      "path : [(0, 1), (1, 1), (0, 2), (0, 3), (1, 3), (2, 3), (1, 4), (1, 5), (1, 6), (2, 6), (3, 6), (3, 7), (4, 7), (3, 8)]\n",
      "\n",
      "(x, y) : (3, 8)\n",
      "(2, 8) : zero cell\n",
      "(4, 8) : zero cell\n",
      "(3, 7) : visited\n",
      "no_farther : 3\n",
      "path : [(0, 1), (1, 1), (0, 2), (0, 3), (1, 3), (2, 3), (1, 4), (1, 5), (1, 6), (2, 6), (3, 6), (3, 7), (4, 7), (3, 8), (3, 9)]\n",
      "\n",
      "(x, y) : (3, 9)\n",
      "(4, 9) : zero cell\n",
      "(3, 8) : visited\n",
      "(3, 10) : out of border\n",
      "no_farther : 3\n",
      "path : [(0, 1), (1, 1), (0, 2), (0, 3), (1, 3), (2, 3), (1, 4), (1, 5), (1, 6), (2, 6), (3, 6), (3, 7), (4, 7), (3, 8), (3, 9), (2, 9)]\n",
      "\n",
      "(x, y) : (2, 9)\n",
      "(1, 9) : zero cell\n",
      "(3, 9) : visited\n",
      "(2, 8) : zero cell\n",
      "(2, 10) : out of border\n",
      "no_farther : 4\n",
      "path : [(0, 1), (1, 1), (0, 2), (0, 3), (1, 3), (2, 3), (1, 4), (1, 5), (1, 6), (2, 6), (3, 6), (3, 7), (4, 7), (3, 8), (3, 9), (2, 9)]\n",
      "\n",
      "(x, y) : (4, 7)\n",
      "(3, 7) : visited\n",
      "(5, 7) : zero cell\n",
      "(4, 6) : zero cell\n",
      "(4, 8) : zero cell\n",
      "no_farther : 4\n",
      "path : [(0, 1), (1, 1), (0, 2), (0, 3), (1, 3), (2, 3), (1, 4), (1, 5), (1, 6), (2, 6), (3, 6), (3, 7), (4, 7), (3, 8), (3, 9), (2, 9)]\n",
      "\n",
      "(x, y) : (2, 3)\n",
      "(1, 3) : visited\n",
      "(2, 4) : zero cell\n",
      "no_farther : 2\n",
      "path : [(0, 1), (1, 1), (0, 2), (0, 3), (1, 3), (2, 3), (1, 4), (1, 5), (1, 6), (2, 6), (3, 6), (3, 7), (4, 7), (3, 8), (3, 9), (2, 9), (3, 3), (2, 2)]\n",
      "\n",
      "(x, y) : (2, 2)\n",
      "(1, 2) : zero cell\n",
      "(3, 2) : zero cell\n",
      "(2, 3) : visited\n",
      "no_farther : 3\n",
      "path : [(0, 1), (1, 1), (0, 2), (0, 3), (1, 3), (2, 3), (1, 4), (1, 5), (1, 6), (2, 6), (3, 6), (3, 7), (4, 7), (3, 8), (3, 9), (2, 9), (3, 3), (2, 2), (2, 1)]\n",
      "\n",
      "(x, y) : (2, 1)\n",
      "(1, 1) : visited\n",
      "(3, 1) : zero cell\n",
      "(2, 0) : zero cell\n",
      "(2, 2) : visited\n",
      "no_farther : 4\n",
      "path : [(0, 1), (1, 1), (0, 2), (0, 3), (1, 3), (2, 3), (1, 4), (1, 5), (1, 6), (2, 6), (3, 6), (3, 7), (4, 7), (3, 8), (3, 9), (2, 9), (3, 3), (2, 2), (2, 1)]\n",
      "\n",
      "(x, y) : (3, 3)\n",
      "(2, 3) : visited\n",
      "(3, 2) : zero cell\n",
      "(3, 4) : zero cell\n",
      "no_farther : 3\n",
      "path : [(0, 1), (1, 1), (0, 2), (0, 3), (1, 3), (2, 3), (1, 4), (1, 5), (1, 6), (2, 6), (3, 6), (3, 7), (4, 7), (3, 8), (3, 9), (2, 9), (3, 3), (2, 2), (2, 1), (4, 3)]\n",
      "\n",
      "(x, y) : (4, 3)\n",
      "(3, 3) : visited\n",
      "(5, 3) : zero cell\n",
      "(4, 4) : zero cell\n",
      "no_farther : 3\n",
      "path : [(0, 1), (1, 1), (0, 2), (0, 3), (1, 3), (2, 3), (1, 4), (1, 5), (1, 6), (2, 6), (3, 6), (3, 7), (4, 7), (3, 8), (3, 9), (2, 9), (3, 3), (2, 2), (2, 1), (4, 3), (4, 2)]\n",
      "\n",
      "(x, y) : (4, 2)\n",
      "(3, 2) : zero cell\n",
      "(5, 2) : zero cell\n",
      "(4, 3) : visited\n",
      "no_farther : 3\n",
      "path : [(0, 1), (1, 1), (0, 2), (0, 3), (1, 3), (2, 3), (1, 4), (1, 5), (1, 6), (2, 6), (3, 6), (3, 7), (4, 7), (3, 8), (3, 9), (2, 9), (3, 3), (2, 2), (2, 1), (4, 3), (4, 2), (4, 1)]\n",
      "\n",
      "(x, y) : (4, 1)\n",
      "(3, 1) : zero cell\n",
      "(4, 0) : zero cell\n",
      "(4, 2) : visited\n",
      "no_farther : 3\n",
      "path : [(0, 1), (1, 1), (0, 2), (0, 3), (1, 3), (2, 3), (1, 4), (1, 5), (1, 6), (2, 6), (3, 6), (3, 7), (4, 7), (3, 8), (3, 9), (2, 9), (3, 3), (2, 2), (2, 1), (4, 3), (4, 2), (4, 1), (5, 1)]\n",
      "\n",
      "(x, y) : (5, 1)\n",
      "(4, 1) : visited\n",
      "(6, 1) : zero cell\n",
      "(5, 0) : zero cell\n",
      "(5, 2) : zero cell\n",
      "no_farther : 4\n",
      "path : [(0, 1), (1, 1), (0, 2), (0, 3), (1, 3), (2, 3), (1, 4), (1, 5), (1, 6), (2, 6), (3, 6), (3, 7), (4, 7), (3, 8), (3, 9), (2, 9), (3, 3), (2, 2), (2, 1), (4, 3), (4, 2), (4, 1), (5, 1)]\n",
      "\n",
      "(x, y) : (1, 1)\n",
      "(0, 1) : visited\n",
      "(2, 1) : visited\n",
      "(1, 0) : zero cell\n",
      "(1, 2) : zero cell\n",
      "no_farther : 4\n",
      "path : [(0, 1), (1, 1), (0, 2), (0, 3), (1, 3), (2, 3), (1, 4), (1, 5), (1, 6), (2, 6), (3, 6), (3, 7), (4, 7), (3, 8), (3, 9), (2, 9), (3, 3), (2, 2), (2, 1), (4, 3), (4, 2), (4, 1), (5, 1)]\n",
      "\n"
     ]
    },
    {
     "data": {
      "text/plain": [
       "True"
      ]
     },
     "execution_count": 92,
     "metadata": {},
     "output_type": "execute_result"
    }
   ],
   "source": [
    "dfs_deque(graph, 0, 1, 0)    # up down left right"
   ]
  },
  {
   "cell_type": "code",
   "execution_count": 67,
   "metadata": {},
   "outputs": [
    {
     "name": "stdout",
     "output_type": "stream",
     "text": [
      "[0, 1, 1, 1, 0, 0, 0, 0, 1, 0]\n",
      "[0, 1, 0, 1, 1, 1, 1, 0, 1, 0]\n",
      "[0, 1, 1, 1, 0, 0, 1, 0, 0, 1]\n",
      "[0, 0, 0, 1, 0, 0, 1, 1, 1, 1]\n",
      "[0, 1, 1, 1, 0, 0, 0, 1, 0, 0]\n",
      "[0, 1, 0, 0, 0, 0, 1, 0, 0, 0]\n",
      "[0, 0, 0, 1, 0, 0, 0, 0, 1, 1]\n"
     ]
    }
   ],
   "source": [
    "for row in graph:\n",
    "    print(row)"
   ]
  },
  {
   "cell_type": "code",
   "execution_count": null,
   "metadata": {},
   "outputs": [],
   "source": []
  },
  {
   "cell_type": "code",
   "execution_count": null,
   "metadata": {},
   "outputs": [],
   "source": []
  },
  {
   "cell_type": "code",
   "execution_count": null,
   "metadata": {},
   "outputs": [],
   "source": []
  },
  {
   "cell_type": "code",
   "execution_count": null,
   "metadata": {},
   "outputs": [],
   "source": [
    "import sys\n",
    "input = sys.stdin.readline\n",
    "\n",
    "r, c = map(int, input().rstrip().split())\n",
    "graph = []\n",
    "for _ in range(r):    \n",
    "    graph.append(list(input()))\n",
    "path = []\n",
    "max_length = 0\n",
    "\n",
    "def dfs_recursion(start_x, start_y, depth):\n",
    "    global max_length\n",
    "    dx, dy = [-1, 1, 0, 0], [0, 0, -1, 1]\n",
    "    \n",
    "    path.append(graph[start_x][start_y])        \n",
    "    max_length = max(max_length, len(path))\n",
    "    \n",
    "    for i in range(4):\n",
    "        nx, ny = start_x + dx[i], start_y + dy[i]\n",
    "        if nx <= -1 or nx >= r or ny <= -1 or ny >= c:\n",
    "            continue\n",
    "        if graph[nx][ny] not in path:\n",
    "            dfs_recursion(nx, ny, depth+1)            \n",
    "            path.pop()\n",
    "            \n",
    "dfs_recursion(0, 0, 0)\n",
    "print(max_length)  "
   ]
  },
  {
   "cell_type": "code",
   "execution_count": 1,
   "metadata": {},
   "outputs": [
    {
     "data": {
      "text/plain": [
       "3"
      ]
     },
     "execution_count": 1,
     "metadata": {},
     "output_type": "execute_result"
    }
   ],
   "source": [
    "import sys\n",
    "sys.setrecursionlimit(10000)\n",
    "input = sys.stdin.readline\n",
    "\n",
    "r, c = map(int, input().rstrip().split())\n",
    "graph = []\n",
    "for _ in range(r):    \n",
    "    graph.append(list(input()))\n",
    "path = set()\n",
    "max_length = 0\n",
    "\n",
    "def dfs_recursion(start_x, start_y, depth):\n",
    "    global max_length\n",
    "    dx, dy = [-1, 1, 0, 0], [0, 0, -1, 1]    \n",
    "    \n",
    "    path.add(graph[start_x][start_y])\n",
    "    max_length = max(max_length, len(path))\n",
    "    #print(path)\n",
    "    \n",
    "    for i in range(4):\n",
    "        nx, ny = start_x + dx[i], start_y + dy[i]\n",
    "        if nx <= -1 or nx >= r or ny <= -1 or ny >= c:\n",
    "            continue\n",
    "        if graph[nx][ny] not in path:            \n",
    "            dfs_recursion(nx, ny, depth+1)            \n",
    "            path.remove(graph[nx][ny])\n",
    "            \n",
    "dfs_recursion(0, 0, 1)\n",
    "print(max_length)"
   ]
  },
  {
   "cell_type": "code",
   "execution_count": 2,
   "metadata": {},
   "outputs": [
    {
     "data": {
      "text/plain": [
       "True"
      ]
     },
     "execution_count": 2,
     "metadata": {},
     "output_type": "execute_result"
    }
   ],
   "source": [
    "x =  [3, 5, 6]\n",
    "y = 9\n",
    "all([y - x[i] > 0 for i in range(len(x))])"
   ]
  },
  {
   "cell_type": "markdown",
   "metadata": {},
   "source": [
    "#### 9663_N_Queen"
   ]
  },
  {
   "cell_type": "code",
   "execution_count": 20,
   "metadata": {},
   "outputs": [
    {
     "name": "stdout",
     "output_type": "stream",
     "text": [
      "10\n"
     ]
    }
   ],
   "source": [
    "#import sys\n",
    "#input = sys.stdin.readline\n",
    "\n",
    "\n",
    "N = int(input())\n",
    "cnt = 0\n",
    "board = [0]*N\n",
    "queens_dict = {}\n",
    "\n",
    "def pruning(row):\n",
    "    global queens_dict\n",
    "    for i in range(row):\n",
    "        if board[i] == board[row] or abs(board[row]-board[i]) == abs(row-i):\n",
    "            return False\n",
    "    return True\n",
    "\n",
    "def nQueen(row):\n",
    "    global cnt,board\n",
    "    if row == N: # N개의 퀸을 다 놓은 경우 정답 카운트\n",
    "        cnt += 1\n",
    "    else:\n",
    "        for i in range(N): # N개의 col에 대해            \n",
    "            board[row] = i            \n",
    "            if pruning(row):\n",
    "                if cnt not in queens_dict:\n",
    "                    queens_dict[cnt] = [(row, i)]\n",
    "                else:\n",
    "                    queens_dict[cnt].append((row, i))  \n",
    "                nQueen(row+1)                \n",
    "\n",
    "nQueen(0)\n",
    "print(cnt)"
   ]
  },
  {
   "cell_type": "code",
   "execution_count": 21,
   "metadata": {},
   "outputs": [
    {
     "name": "stdout",
     "output_type": "stream",
     "text": [
      "k : 0,  v : [(0, 0), (1, 2), (2, 4), (3, 1), (4, 3)]\n",
      "k : 1,  v : [(1, 3), (2, 1), (3, 4), (4, 2)]\n",
      "k : 2,  v : [(1, 4), (2, 1), (0, 1), (1, 3), (2, 0), (3, 2), (4, 4)]\n",
      "k : 3,  v : [(1, 4), (2, 0), (3, 3), (2, 2), (3, 0), (4, 3)]\n",
      "k : 4,  v : [(0, 2), (1, 0), (2, 3), (3, 1), (4, 4)]\n",
      "k : 5,  v : [(1, 4), (2, 1), (3, 3), (4, 0)]\n",
      "k : 6,  v : [(0, 3), (1, 0), (2, 2), (3, 4), (4, 1)]\n",
      "k : 7,  v : [(2, 4), (3, 1), (1, 1), (2, 4), (3, 2), (4, 0)]\n",
      "k : 8,  v : [(0, 4), (1, 0), (2, 3), (1, 1), (2, 3), (3, 0), (4, 2)]\n",
      "k : 9,  v : [(1, 2), (2, 0), (3, 3), (4, 1)]\n"
     ]
    }
   ],
   "source": [
    "for k, v in queens_dict.items():\n",
    "    print(f\"k : {k},  v : {v}\")"
   ]
  },
  {
   "cell_type": "code",
   "execution_count": null,
   "metadata": {},
   "outputs": [],
   "source": []
  },
  {
   "cell_type": "code",
   "execution_count": null,
   "metadata": {},
   "outputs": [],
   "source": []
  },
  {
   "cell_type": "code",
   "execution_count": 6,
   "metadata": {},
   "outputs": [
    {
     "name": "stdout",
     "output_type": "stream",
     "text": [
      "10\n"
     ]
    }
   ],
   "source": [
    "n = int(input())\n",
    "answer = 0\n",
    "board = [0]*n\n",
    "queens_dict = {}\n",
    "\n",
    "def pruning(row):\n",
    "    for j in range(row):\n",
    "        if board[j] == board[row] or abs(board[row]-board[j]) == abs(row-j):\n",
    "            return False\n",
    "    return True\n",
    "\n",
    "def nQueen(row):\n",
    "    global answer,board\n",
    "    if row == n: # N개의 퀸을 다 놓은 경우 정답 카운트\n",
    "        answer += 1\n",
    "    else:\n",
    "        for i in range(n): # N개의 col에 대해\n",
    "            board[row] = i\n",
    "\n",
    "            if pruning(row):                \n",
    "                if answer not in queens_dict:\n",
    "                    queens_dict[answer] = [(row, i)]\n",
    "                else:\n",
    "                    queens_dict[answer].append((row, i))\n",
    "                nQueen(row+1)            \n",
    "                if answer not in queens_dict:\n",
    "                    queens_dict[answer] = [(row, i)]\n",
    "                else:\n",
    "                    if queens_dict[answer]:\n",
    "                        queens_dict[answer].pop()            \n",
    "\n",
    "nQueen(0)\n",
    "print(answer)"
   ]
  },
  {
   "cell_type": "code",
   "execution_count": 7,
   "metadata": {},
   "outputs": [
    {
     "name": "stdout",
     "output_type": "stream",
     "text": [
      "0 [(0, 0), (1, 2), (2, 4), (3, 1), (4, 3)]\n",
      "1 [(1, 3), (2, 1), (3, 4), (4, 2)]\n",
      "2 [(0, 1), (1, 3), (2, 0), (3, 2), (4, 4)]\n",
      "3 [(1, 4), (2, 2), (3, 0), (4, 3)]\n",
      "4 [(0, 2), (1, 0), (2, 3), (3, 1), (4, 4)]\n",
      "5 [(1, 4), (2, 1), (3, 3), (4, 0)]\n",
      "6 [(0, 3), (1, 0), (2, 2), (3, 4), (4, 1)]\n",
      "7 [(1, 1), (2, 4), (3, 2), (4, 0)]\n",
      "8 [(0, 4), (1, 1), (2, 3), (3, 0), (4, 2)]\n",
      "9 [(1, 2), (2, 0), (3, 3), (4, 1)]\n",
      "10 []\n"
     ]
    }
   ],
   "source": [
    "for k, v in queens_dict.items():\n",
    "    print(k, v)"
   ]
  },
  {
   "cell_type": "code",
   "execution_count": null,
   "metadata": {},
   "outputs": [],
   "source": []
  },
  {
   "cell_type": "markdown",
   "metadata": {},
   "source": [
    "#### 나의 변형된 버전"
   ]
  },
  {
   "cell_type": "code",
   "execution_count": 40,
   "metadata": {},
   "outputs": [],
   "source": [
    "n = int(input())\n",
    "cnt = 0\n",
    "board = [[0] * n for _ in range(n)]\n",
    "queens_dict = {}"
   ]
  },
  {
   "cell_type": "code",
   "execution_count": 41,
   "metadata": {},
   "outputs": [],
   "source": [
    "def pruning(row, col):\n",
    "    for j in range(row):\n",
    "        if row - j <= -1 or col - j <= -1 or col + j >= n:\n",
    "            return False\n",
    "        if row - j >= 0 and col - j >= 0 and col + j <= n-1:\n",
    "            if board[row][col] == 1 and board[j][col] == 1:\n",
    "                return False\n",
    "            if board[row][col] == 1 and board[row][col - j] == 1:\n",
    "                return False\n",
    "            if board[row][col] == 1 and board[row][col + j] == 1:\n",
    "                return False\n",
    "            if board[row][col] == 1 and board[row - j][col - j] == 1:\n",
    "                return False\n",
    "            if board[row][col] == 1 and board[row - j][col + j] == 1:\n",
    "                return False\n",
    "            if sum([board[j][i] for i in range(n)]) >= 2:\n",
    "                return False\n",
    "            board[j]\n",
    "    return True "
   ]
  },
  {
   "cell_type": "code",
   "execution_count": null,
   "metadata": {},
   "outputs": [],
   "source": [
    "def pruning(row, col):\n",
    "    for j in range(row):\n",
    "        if row - j <= -1 or col - j <= -1 or col + j >= n:\n",
    "            return False\n",
    "        if row - j >= 0 and col - j >= 0 and col + j <= n-1:\n",
    "            if board[row][col] == 1 and board[j][col] == 1:\n",
    "                return False\n",
    "            if board[row][col] == 1 and board[row][col - j] == 1:\n",
    "                return False\n",
    "            if board[row][col] == 1 and board[row][col + j] == 1:\n",
    "                return False\n",
    "            if board[row][col] == 1 and board[row - j][col - j] == 1:\n",
    "                return False\n",
    "            if board[row][col] == 1 and board[row - j][col + j] == 1:\n",
    "                return False\n",
    "            if sum([board[j][i] for i in range(n)]) >= 2:\n",
    "                return False\n",
    "            board[j]\n",
    "    return True "
   ]
  },
  {
   "cell_type": "code",
   "execution_count": 42,
   "metadata": {},
   "outputs": [],
   "source": [
    "def nQueen(row):\n",
    "    global cnt, board, queens_dict\n",
    "    if row == n:\n",
    "        cnt += 1\n",
    "    else:\n",
    "        for i in range(n):\n",
    "            board[row][i] = 1\n",
    "            if pruning(row, i):\n",
    "                if cnt not in queens_dict:\n",
    "                    queens_dict[cnt] = [(row, i)]\n",
    "                else:\n",
    "                    queens_dict[cnt].append((row, i))\n",
    "                nQueen(row + 1)\n",
    "                #board[row][i] = 0\n",
    "                if cnt not in queens_dict:\n",
    "                    queens_dict[cnt] = [(row, i)]\n",
    "                else: queens_dict[cnt].pop()"
   ]
  },
  {
   "cell_type": "code",
   "execution_count": 43,
   "metadata": {},
   "outputs": [],
   "source": [
    "nQueen(0)"
   ]
  },
  {
   "cell_type": "code",
   "execution_count": 44,
   "metadata": {},
   "outputs": [
    {
     "name": "stdout",
     "output_type": "stream",
     "text": [
      "0\n"
     ]
    }
   ],
   "source": [
    "print(cnt)"
   ]
  },
  {
   "cell_type": "code",
   "execution_count": 45,
   "metadata": {},
   "outputs": [
    {
     "name": "stdout",
     "output_type": "stream",
     "text": [
      "0 []\n"
     ]
    }
   ],
   "source": [
    "for k, v in queens_dict.items():\n",
    "    print(k, v)"
   ]
  },
  {
   "cell_type": "code",
   "execution_count": null,
   "metadata": {},
   "outputs": [],
   "source": []
  },
  {
   "cell_type": "code",
   "execution_count": null,
   "metadata": {},
   "outputs": [],
   "source": []
  },
  {
   "cell_type": "code",
   "execution_count": null,
   "metadata": {},
   "outputs": [],
   "source": []
  },
  {
   "cell_type": "code",
   "execution_count": 46,
   "metadata": {},
   "outputs": [],
   "source": [
    "n = int(input())\n",
    "cnt = 0\n",
    "board = [[0] * n for _ in range(n)]\n",
    "queens_dict = {}"
   ]
  },
  {
   "cell_type": "code",
   "execution_count": null,
   "metadata": {},
   "outputs": [],
   "source": [
    "def queen_location(row, col): \n",
    "    for j in range(n):\n",
    "        if j != col and board[row][j] == 1:\n",
    "            return False\n",
    "\n",
    "    "
   ]
  },
  {
   "cell_type": "code",
   "execution_count": null,
   "metadata": {},
   "outputs": [],
   "source": [
    "for i in range(n):\n",
    "    queen_location(i)"
   ]
  },
  {
   "cell_type": "markdown",
   "metadata": {},
   "source": [
    "#### 9663_nQueen : 02/01/24"
   ]
  },
  {
   "cell_type": "code",
   "execution_count": 37,
   "metadata": {},
   "outputs": [],
   "source": [
    "n = int(input())\n",
    "board = [[0] * n for _ in range(n)]\n",
    "ans =  0\n",
    "queens_dict = {}"
   ]
  },
  {
   "cell_type": "code",
   "execution_count": 2,
   "metadata": {},
   "outputs": [],
   "source": [
    "def pruning(row, col):\n",
    "    for j in range(row):\n",
    "        if col - (row - j) <= -1 or col + (row - j) >= n:\n",
    "            return False\n",
    "        else:\n",
    "            if board[row][col] == board[j][col]:\n",
    "                return False\n",
    "            if board[row][col] == board[j][col - (row - j)] or board[row][col] == board[j][col + (row - j)]:\n",
    "                return False\n",
    "    return True"
   ]
  },
  {
   "cell_type": "code",
   "execution_count": 38,
   "metadata": {},
   "outputs": [],
   "source": [
    "def pruning(row, col):\n",
    "    for j in range(row):\n",
    "        if col - (row - j) <= -1 or col + (row - j) >= n:\n",
    "            return False\n",
    "        else:\n",
    "            if board[row][col] == 1 and board[j][col] == 1:\n",
    "                return False\n",
    "            if (board[row][col] == 1 and board[j][col - (row - j)] == 1) or (board[row][col] == 1 and board[j][col + (row - j)] == 1):\n",
    "                return False\n",
    "    return True"
   ]
  },
  {
   "cell_type": "code",
   "execution_count": 39,
   "metadata": {},
   "outputs": [],
   "source": [
    "def nQueen(row):\n",
    "    global board, ans\n",
    "    if row == n:\n",
    "        ans += 1\n",
    "    else:\n",
    "        for i in range(n):\n",
    "            board[row][i] = 1\n",
    "            if pruning(row, i) == True:\n",
    "                if ans not in queens_dict:\n",
    "                    queens_dict[ans] = [(row, i)]\n",
    "                else:\n",
    "                    queens_dict[ans].append((row, i))\n",
    "                nQueen(row+1)\n",
    "                if ans not in queens_dict:\n",
    "                    queens_dict[ans] = [(row, i)]\n",
    "                else:\n",
    "                    if queens_dict[ans]:\n",
    "                        queens_dict[ans].pop()"
   ]
  },
  {
   "cell_type": "code",
   "execution_count": 40,
   "metadata": {},
   "outputs": [
    {
     "name": "stdout",
     "output_type": "stream",
     "text": [
      "0\n"
     ]
    }
   ],
   "source": [
    "nQueen(0)\n",
    "print(ans)"
   ]
  },
  {
   "cell_type": "code",
   "execution_count": 41,
   "metadata": {},
   "outputs": [
    {
     "name": "stdout",
     "output_type": "stream",
     "text": [
      "[1, 1, 1, 1, 1]\n",
      "[1, 1, 1, 1, 1]\n",
      "[1, 1, 1, 1, 1]\n",
      "[0, 0, 0, 0, 0]\n",
      "[0, 0, 0, 0, 0]\n"
     ]
    }
   ],
   "source": [
    "for row in board:\n",
    "    print(row)"
   ]
  },
  {
   "cell_type": "code",
   "execution_count": 42,
   "metadata": {},
   "outputs": [
    {
     "name": "stdout",
     "output_type": "stream",
     "text": [
      "0 []\n"
     ]
    }
   ],
   "source": [
    "for k, v in queens_dict.items():\n",
    "    print(k, v)"
   ]
  },
  {
   "cell_type": "code",
   "execution_count": null,
   "metadata": {},
   "outputs": [],
   "source": []
  },
  {
   "cell_type": "code",
   "execution_count": null,
   "metadata": {},
   "outputs": [],
   "source": []
  },
  {
   "cell_type": "code",
   "execution_count": null,
   "metadata": {},
   "outputs": [],
   "source": []
  },
  {
   "cell_type": "code",
   "execution_count": null,
   "metadata": {},
   "outputs": [],
   "source": []
  },
  {
   "cell_type": "markdown",
   "metadata": {},
   "source": [
    "#### 02/04/24"
   ]
  },
  {
   "cell_type": "code",
   "execution_count": 9,
   "metadata": {},
   "outputs": [],
   "source": [
    "def nQueen(row, col):\n",
    "    global n, cnt, board, ans\n",
    "    \n",
    "\n",
    "         \n",
    "    if row == n:\n",
    "        cnt += 1\n",
    "        \n",
    "        \n",
    "    else:\n",
    "        \n",
    "        if (row, col) not in ans:\n",
    "            ans.append((row, col)) \n",
    "            visited[row][col] = True\n",
    "            print(ans)\n",
    "    \n",
    "        k = 1\n",
    "        while row+k <= n-1:\n",
    "            visited[row+k][col] = True\n",
    "            k += 1\n",
    "        \n",
    "        \n",
    "        \n",
    "        \n",
    "        for j in range(n):\n",
    "            if col == 0 and j not in [0, 1] and (row+1, j) not in ans and not visited[row+1][j]:\n",
    "                ans.append((row+1, j))\n",
    "                visited[row+1][j] = True\n",
    "                print(ans)\n",
    "                nQueen(row+1, j)\n",
    "                ans.pop()\n",
    "                visited[row+1][j] = False\n",
    "                \n",
    "            if 1 <= col <= n-1 and j not in [col-1, col, col+1] and (row+1, j) not in ans and not visited[row+1][j]:\n",
    "                ans.append((row+1, j))\n",
    "                visited[row+1][j] = True\n",
    "                print(ans)\n",
    "                nQueen(row+1, j)\n",
    "                ans.pop()\n",
    "                visited[row+1][j] = False\n",
    "                \n",
    "            if col == n-1 and j not in [n-2, n-1] and (row+1, j) not in ans and not visited[row+1][j]:\n",
    "                ans.append((row+1, j))\n",
    "                visited[row+1][j] = True\n",
    "                print(ans)\n",
    "                nQueen(row+1, j)\n",
    "                ans.pop()\n",
    "                visited[row+1][j] = False"
   ]
  },
  {
   "cell_type": "code",
   "execution_count": 10,
   "metadata": {},
   "outputs": [
    {
     "name": "stdout",
     "output_type": "stream",
     "text": [
      "[(0, 2)]\n",
      "[(0, 2), (1, 0)]\n",
      "[(0, 2), (1, 0), (2, 3)]\n",
      "[(0, 2), (1, 0), (2, 3), (3, 1)]\n",
      "[(0, 2), (1, 0), (2, 3), (3, 1), (4, 4)]\n"
     ]
    },
    {
     "ename": "IndexError",
     "evalue": "list index out of range",
     "output_type": "error",
     "traceback": [
      "\u001b[1;31m---------------------------------------------------------------------------\u001b[0m",
      "\u001b[1;31mIndexError\u001b[0m                                Traceback (most recent call last)",
      "Input \u001b[1;32mIn [10]\u001b[0m, in \u001b[0;36m<cell line: 6>\u001b[1;34m()\u001b[0m\n\u001b[0;32m      4\u001b[0m visited \u001b[38;5;241m=\u001b[39m [[\u001b[38;5;28;01mFalse\u001b[39;00m] \u001b[38;5;241m*\u001b[39m n \u001b[38;5;28;01mfor\u001b[39;00m _ \u001b[38;5;129;01min\u001b[39;00m \u001b[38;5;28mrange\u001b[39m(n)]\n\u001b[0;32m      5\u001b[0m ans \u001b[38;5;241m=\u001b[39m []\n\u001b[1;32m----> 6\u001b[0m \u001b[43mnQueen\u001b[49m\u001b[43m(\u001b[49m\u001b[38;5;241;43m0\u001b[39;49m\u001b[43m,\u001b[49m\u001b[43m \u001b[49m\u001b[38;5;241;43m2\u001b[39;49m\u001b[43m)\u001b[49m\n",
      "Input \u001b[1;32mIn [9]\u001b[0m, in \u001b[0;36mnQueen\u001b[1;34m(row, col)\u001b[0m\n\u001b[0;32m     36\u001b[0m visited[row\u001b[38;5;241m+\u001b[39m\u001b[38;5;241m1\u001b[39m][j] \u001b[38;5;241m=\u001b[39m \u001b[38;5;28;01mTrue\u001b[39;00m\n\u001b[0;32m     37\u001b[0m \u001b[38;5;28mprint\u001b[39m(ans)\n\u001b[1;32m---> 38\u001b[0m \u001b[43mnQueen\u001b[49m\u001b[43m(\u001b[49m\u001b[43mrow\u001b[49m\u001b[38;5;241;43m+\u001b[39;49m\u001b[38;5;241;43m1\u001b[39;49m\u001b[43m,\u001b[49m\u001b[43m \u001b[49m\u001b[43mj\u001b[49m\u001b[43m)\u001b[49m\n\u001b[0;32m     39\u001b[0m ans\u001b[38;5;241m.\u001b[39mpop()\n\u001b[0;32m     40\u001b[0m visited[row\u001b[38;5;241m+\u001b[39m\u001b[38;5;241m1\u001b[39m][j] \u001b[38;5;241m=\u001b[39m \u001b[38;5;28;01mFalse\u001b[39;00m\n",
      "Input \u001b[1;32mIn [9]\u001b[0m, in \u001b[0;36mnQueen\u001b[1;34m(row, col)\u001b[0m\n\u001b[0;32m     28\u001b[0m visited[row\u001b[38;5;241m+\u001b[39m\u001b[38;5;241m1\u001b[39m][j] \u001b[38;5;241m=\u001b[39m \u001b[38;5;28;01mTrue\u001b[39;00m\n\u001b[0;32m     29\u001b[0m \u001b[38;5;28mprint\u001b[39m(ans)\n\u001b[1;32m---> 30\u001b[0m \u001b[43mnQueen\u001b[49m\u001b[43m(\u001b[49m\u001b[43mrow\u001b[49m\u001b[38;5;241;43m+\u001b[39;49m\u001b[38;5;241;43m1\u001b[39;49m\u001b[43m,\u001b[49m\u001b[43m \u001b[49m\u001b[43mj\u001b[49m\u001b[43m)\u001b[49m\n\u001b[0;32m     31\u001b[0m ans\u001b[38;5;241m.\u001b[39mpop()\n\u001b[0;32m     32\u001b[0m visited[row\u001b[38;5;241m+\u001b[39m\u001b[38;5;241m1\u001b[39m][j] \u001b[38;5;241m=\u001b[39m \u001b[38;5;28;01mFalse\u001b[39;00m\n",
      "Input \u001b[1;32mIn [9]\u001b[0m, in \u001b[0;36mnQueen\u001b[1;34m(row, col)\u001b[0m\n\u001b[0;32m     36\u001b[0m visited[row\u001b[38;5;241m+\u001b[39m\u001b[38;5;241m1\u001b[39m][j] \u001b[38;5;241m=\u001b[39m \u001b[38;5;28;01mTrue\u001b[39;00m\n\u001b[0;32m     37\u001b[0m \u001b[38;5;28mprint\u001b[39m(ans)\n\u001b[1;32m---> 38\u001b[0m \u001b[43mnQueen\u001b[49m\u001b[43m(\u001b[49m\u001b[43mrow\u001b[49m\u001b[38;5;241;43m+\u001b[39;49m\u001b[38;5;241;43m1\u001b[39;49m\u001b[43m,\u001b[49m\u001b[43m \u001b[49m\u001b[43mj\u001b[49m\u001b[43m)\u001b[49m\n\u001b[0;32m     39\u001b[0m ans\u001b[38;5;241m.\u001b[39mpop()\n\u001b[0;32m     40\u001b[0m visited[row\u001b[38;5;241m+\u001b[39m\u001b[38;5;241m1\u001b[39m][j] \u001b[38;5;241m=\u001b[39m \u001b[38;5;28;01mFalse\u001b[39;00m\n",
      "Input \u001b[1;32mIn [9]\u001b[0m, in \u001b[0;36mnQueen\u001b[1;34m(row, col)\u001b[0m\n\u001b[0;32m     36\u001b[0m visited[row\u001b[38;5;241m+\u001b[39m\u001b[38;5;241m1\u001b[39m][j] \u001b[38;5;241m=\u001b[39m \u001b[38;5;28;01mTrue\u001b[39;00m\n\u001b[0;32m     37\u001b[0m \u001b[38;5;28mprint\u001b[39m(ans)\n\u001b[1;32m---> 38\u001b[0m \u001b[43mnQueen\u001b[49m\u001b[43m(\u001b[49m\u001b[43mrow\u001b[49m\u001b[38;5;241;43m+\u001b[39;49m\u001b[38;5;241;43m1\u001b[39;49m\u001b[43m,\u001b[49m\u001b[43m \u001b[49m\u001b[43mj\u001b[49m\u001b[43m)\u001b[49m\n\u001b[0;32m     39\u001b[0m ans\u001b[38;5;241m.\u001b[39mpop()\n\u001b[0;32m     40\u001b[0m visited[row\u001b[38;5;241m+\u001b[39m\u001b[38;5;241m1\u001b[39m][j] \u001b[38;5;241m=\u001b[39m \u001b[38;5;28;01mFalse\u001b[39;00m\n",
      "Input \u001b[1;32mIn [9]\u001b[0m, in \u001b[0;36mnQueen\u001b[1;34m(row, col)\u001b[0m\n\u001b[0;32m     31\u001b[0m     ans\u001b[38;5;241m.\u001b[39mpop()\n\u001b[0;32m     32\u001b[0m     visited[row\u001b[38;5;241m+\u001b[39m\u001b[38;5;241m1\u001b[39m][j] \u001b[38;5;241m=\u001b[39m \u001b[38;5;28;01mFalse\u001b[39;00m\n\u001b[1;32m---> 34\u001b[0m \u001b[38;5;28;01mif\u001b[39;00m \u001b[38;5;241m1\u001b[39m \u001b[38;5;241m<\u001b[39m\u001b[38;5;241m=\u001b[39m col \u001b[38;5;241m<\u001b[39m\u001b[38;5;241m=\u001b[39m n\u001b[38;5;241m-\u001b[39m\u001b[38;5;241m1\u001b[39m \u001b[38;5;129;01mand\u001b[39;00m j \u001b[38;5;129;01mnot\u001b[39;00m \u001b[38;5;129;01min\u001b[39;00m [col\u001b[38;5;241m-\u001b[39m\u001b[38;5;241m1\u001b[39m, col, col\u001b[38;5;241m+\u001b[39m\u001b[38;5;241m1\u001b[39m] \u001b[38;5;129;01mand\u001b[39;00m (row\u001b[38;5;241m+\u001b[39m\u001b[38;5;241m1\u001b[39m, j) \u001b[38;5;129;01mnot\u001b[39;00m \u001b[38;5;129;01min\u001b[39;00m ans \u001b[38;5;129;01mand\u001b[39;00m \u001b[38;5;129;01mnot\u001b[39;00m \u001b[43mvisited\u001b[49m\u001b[43m[\u001b[49m\u001b[43mrow\u001b[49m\u001b[38;5;241;43m+\u001b[39;49m\u001b[38;5;241;43m1\u001b[39;49m\u001b[43m]\u001b[49m[j]:\n\u001b[0;32m     35\u001b[0m     ans\u001b[38;5;241m.\u001b[39mappend((row\u001b[38;5;241m+\u001b[39m\u001b[38;5;241m1\u001b[39m, j))\n\u001b[0;32m     36\u001b[0m     visited[row\u001b[38;5;241m+\u001b[39m\u001b[38;5;241m1\u001b[39m][j] \u001b[38;5;241m=\u001b[39m \u001b[38;5;28;01mTrue\u001b[39;00m\n",
      "\u001b[1;31mIndexError\u001b[0m: list index out of range"
     ]
    }
   ],
   "source": [
    "n = int(input())\n",
    "cnt = 0\n",
    "board = [[0] * n for _ in range(n)]\n",
    "visited = [[False] * n for _ in range(n)]\n",
    "ans = []\n",
    "nQueen(0, 2)"
   ]
  },
  {
   "cell_type": "code",
   "execution_count": 12,
   "metadata": {},
   "outputs": [
    {
     "name": "stdout",
     "output_type": "stream",
     "text": [
      "[False, False, True, False, False]\n",
      "[True, False, True, False, False]\n",
      "[True, False, True, True, False]\n",
      "[True, True, True, True, False]\n",
      "[True, True, True, True, True]\n"
     ]
    }
   ],
   "source": [
    "for row in visited:\n",
    "    print(row)"
   ]
  }
 ],
 "metadata": {
  "kernelspec": {
   "display_name": "base",
   "language": "python",
   "name": "python3"
  },
  "language_info": {
   "codemirror_mode": {
    "name": "ipython",
    "version": 3
   },
   "file_extension": ".py",
   "mimetype": "text/x-python",
   "name": "python",
   "nbconvert_exporter": "python",
   "pygments_lexer": "ipython3",
   "version": "3.9.12"
  }
 },
 "nbformat": 4,
 "nbformat_minor": 2
}
