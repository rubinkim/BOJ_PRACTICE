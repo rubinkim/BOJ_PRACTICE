{
 "cells": [
  {
   "cell_type": "code",
   "execution_count": 4,
   "metadata": {},
   "outputs": [
    {
     "name": "stdout",
     "output_type": "stream",
     "text": [
      "[False, False, False]\n",
      "[False, False, False]\n",
      "[False, False, False]\n",
      "[False, False, False]\n",
      "\n",
      "[False, False, False]\n",
      "[False, False, False]\n",
      "[False, True, False]\n",
      "[False, False, False]\n"
     ]
    }
   ],
   "source": [
    "x = [[False] * 3 for _ in range(4)]\n",
    "for row in x:\n",
    "    print(row)\n",
    "print()\n",
    "    \n",
    "x[2][1] = True\n",
    "\n",
    "for row in x:\n",
    "    print(row)"
   ]
  },
  {
   "cell_type": "code",
   "execution_count": null,
   "metadata": {},
   "outputs": [],
   "source": [
    "from collections import deque\n",
    "\n",
    "r, c = map(int, input().split())\n",
    "graph = [[0] * c for _ in range(r)]\n",
    "for i in range(r):    \n",
    "    for j, x in enumerate(input()):\n",
    "        graph[i][j] = x\n",
    "\n",
    "for row in graph:\n",
    "    print(row)\n",
    "print()\n",
    "    \n",
    "visited = [[False] * c for _ in range(r)]\n",
    "path = []\n",
    "cnt = 0\n",
    "\n",
    "def logest_path(graph, start_x, start_y):\n",
    "    global visited, path, cnt\n",
    "    dx, dy = [-1, 1, 0, 0], [0, 0, -1, 1]\n",
    "    \n",
    "    if start_x <= -1 or start_x >= r or start_y <= -1 or start_y >= c:\n",
    "        return False\n",
    "    if graph[start_x][start_y] not in path and not visited[start_x][start_y]:\n",
    "        q = deque()\n",
    "        q.append((start_x, start_y))\n",
    "        path.append(graph[start_x][start_y])\n",
    "        visited[start_x][start_y] = True\n",
    "        cnt += 1\n",
    "\n",
    "        while q:\n",
    "            x, y = q.pop()\n",
    "            for i in range(4):\n",
    "                nx = x + dx[i]\n",
    "                ny = y + dy[i]\n",
    "                if nx <= -1 or nx >= r or ny <= -1 or ny >= c:\n",
    "                    continue\n",
    "                if graph[nx][ny] not in path and not visited[nx][ny]:\n",
    "                    path.append(graph[nx][ny])\n",
    "                    q.append((nx, ny))\n",
    "                    visited[nx][ny] = True\n",
    "                    cnt += 1\n",
    "\n",
    "        return True\n",
    "    return False\n",
    "\n",
    "logest_path(graph, 0, 0)\n",
    "print(path)\n",
    "print(cnt)"
   ]
  },
  {
   "cell_type": "code",
   "execution_count": null,
   "metadata": {},
   "outputs": [],
   "source": [
    "from collections import deque\n",
    "\n",
    "r, c = map(int, input().split())\n",
    "graph = [[0] * c for _ in range(r)]\n",
    "for i in range(r):    \n",
    "    for j, x in enumerate(input()):\n",
    "        graph[i][j] = x\n",
    "\n",
    "for row in graph:\n",
    "    print(row)\n",
    "print()\n",
    "    \n",
    "visited = [[False] * c for _ in range(r)]\n",
    "path = []\n",
    "cnt = 0\n",
    "\n",
    "def logest_path(graph, start_x, start_y, num):\n",
    "    global visited, path, cnt\n",
    "    dx, dy = [-1, 1, 0, 0], [0, 0, -1, 1]\n",
    "    \n",
    "    if start_x <= -1 or start_x >= r or start_y <= -1 or start_y >= c:\n",
    "        return False\n",
    "    if graph[start_x][start_y] not in path and not visited[start_x][start_y]:\n",
    "\n",
    "        path.append(graph[start_x][start_y])\n",
    "        visited[start_x][start_y] = True\n",
    "        cnt += 1\n",
    "        \n",
    "        for i in range(4):\n",
    "            nx = start_x + dx[i]\n",
    "            ny = start_y + dy[i]\n",
    "            if nx <= -1 or nx >= r or ny <= -1 or ny >= c:\n",
    "                continue\n",
    "            if graph[nx][ny] not in path and not visited[nx][ny]:\n",
    "                logest_path(graph, nx, ny, num+1)\n",
    "\n",
    "\n",
    "        return True\n",
    "    return False\n",
    "\n",
    "logest_path(graph, 0, 0, cnt)\n",
    "print(path)\n",
    "print(cnt)"
   ]
  },
  {
   "cell_type": "markdown",
   "metadata": {},
   "source": [
    "#### 1987_알파벹"
   ]
  },
  {
   "cell_type": "code",
   "execution_count": 65,
   "metadata": {},
   "outputs": [
    {
     "name": "stdout",
     "output_type": "stream",
     "text": [
      "r : 3,  c : 6\n",
      "['H', 'F', 'D', 'F', 'F', 'B']\n",
      "['A', 'J', 'H', 'G', 'D', 'H']\n",
      "['D', 'G', 'A', 'G', 'E', 'H']\n"
     ]
    }
   ],
   "source": [
    "with open(\"../data/1987_알파벹.txt\", \"r\") as input:\n",
    "    r, c = map(int, input.readline().rstrip().split())\n",
    "    print(f\"r : {r},  c : {c}\")\n",
    "    \n",
    "    graph = [[0] * c for _ in range(r)]\n",
    "    for i in range(r):\n",
    "        row = input.readline().rstrip()\n",
    "        for j in range(c):\n",
    "            graph[i][j] = row[j]\n",
    "            \n",
    "    for row in graph:\n",
    "        print(row)   "
   ]
  },
  {
   "cell_type": "code",
   "execution_count": 66,
   "metadata": {},
   "outputs": [],
   "source": [
    "path = []\n",
    "visited = [[False] * c for _ in range(r)]"
   ]
  },
  {
   "cell_type": "code",
   "execution_count": 67,
   "metadata": {},
   "outputs": [],
   "source": [
    "def dfs(graph, start_x, start_y, depth):\n",
    "    global visited, path \n",
    "    dx, dy = [0, 1, -1, 0], [1, 0, 0, -1]\n",
    "    \n",
    "    for k in range(2):\n",
    "        max = 1\n",
    "        path.append(graph[start_x][start_y])       \n",
    "        visited = [[False] * c for _ in range(r)]\n",
    "        visited[start_x][start_y] = True\n",
    "        print(f\"{graph[start_x][start_y]} -->\", end=' ')\n",
    "            \n",
    "        for i in range(4):    \n",
    "            sub_path = []    \n",
    "            nx, ny = start_x + dx[i], start_y + dy[i]\n",
    "            if nx <= -1 or nx >= r or ny <= -1 or ny >= c:\n",
    "                continue\n",
    "            if graph[nx][ny] in path:\n",
    "                continue\n",
    "            if visited[nx][ny]:\n",
    "                continue\n",
    "            sub_path.append(graph[nx][ny])\n",
    "            path.extend(sub_path)\n",
    "            max += 1\n",
    "            #print(f\" {graph[nx][ny]} --> \", end=' ')\n",
    "            dfs(graph, nx, ny, depth+1)\n",
    "        print(f\"max : {max} \")\n",
    "        "
   ]
  },
  {
   "cell_type": "code",
   "execution_count": 72,
   "metadata": {},
   "outputs": [
    {
     "name": "stdout",
     "output_type": "stream",
     "text": [
      "H --> max : 1 \n",
      "H --> max : 1 \n"
     ]
    },
    {
     "data": {
      "text/plain": [
       "10"
      ]
     },
     "execution_count": 72,
     "metadata": {},
     "output_type": "execute_result"
    }
   ],
   "source": [
    "dfs(graph, 0, 0, 0)\n",
    "max"
   ]
  },
  {
   "cell_type": "code",
   "execution_count": 13,
   "metadata": {},
   "outputs": [
    {
     "name": "stdout",
     "output_type": "stream",
     "text": [
      "['I', 'E', 'F', 'C', 'J']\n",
      "['F', 'H', 'F', 'K', 'C']\n",
      "['F', 'F', 'A', 'L', 'F']\n",
      "['H', 'F', 'G', 'C', 'F']\n",
      "['H', 'M', 'C', 'H', 'H']\n"
     ]
    }
   ],
   "source": [
    "for row in graph:\n",
    "    print(row)"
   ]
  },
  {
   "cell_type": "markdown",
   "metadata": {},
   "source": [
    "#### 1987_연습"
   ]
  },
  {
   "cell_type": "code",
   "execution_count": 3,
   "metadata": {},
   "outputs": [
    {
     "name": "stdout",
     "output_type": "stream",
     "text": [
      "r : 7,  c : 10\n",
      "[0, 1, 1, 1, 0, 0, 0, 0, 1, 0]\n",
      "[0, 1, 0, 1, 1, 1, 1, 0, 1, 0]\n",
      "[0, 1, 1, 1, 0, 0, 1, 0, 0, 1]\n",
      "[0, 0, 0, 1, 0, 0, 1, 1, 1, 1]\n",
      "[0, 1, 1, 1, 0, 0, 0, 1, 0, 0]\n",
      "[0, 1, 0, 0, 0, 0, 1, 0, 0, 0]\n",
      "[0, 0, 0, 1, 0, 0, 0, 0, 1, 1]\n"
     ]
    }
   ],
   "source": [
    "with open(\"../data/1987_연습.txt\", \"r\") as input:\n",
    "    r, c = map(int, input.readline().split())\n",
    "    graph = [[0] * c for _ in range(r)]\n",
    "    for i in range(r):\n",
    "        row = list(map(int, input.readline().rstrip()))\n",
    "        for j in range(c):\n",
    "            graph[i][j] = row[j]\n",
    "    print(f\"r : {r},  c : {c}\")\n",
    "    for row in graph:\n",
    "        print(row)"
   ]
  },
  {
   "cell_type": "code",
   "execution_count": 4,
   "metadata": {},
   "outputs": [],
   "source": [
    "visited = [[False] * c for _ in range(r)]"
   ]
  },
  {
   "cell_type": "code",
   "execution_count": 5,
   "metadata": {},
   "outputs": [],
   "source": [
    "from collections import deque\n",
    "\n",
    "def dfs_deque(graph, start_x, start_y, depth):\n",
    "    global visited\n",
    "    dx, dy = [-1, 1, 0, 0], [0, 0, -1, 1]    \n",
    "    \n",
    "    if graph[start_x][start_y] == 1 and not visited[start_x][start_y]:\n",
    "        q = deque([(start_x, start_y)])\n",
    "        visited[start_x][start_y] = True\n",
    "        depth += 1\n",
    "        print(f\"{(start_x, start_y)} --> \", end='')\n",
    "        \n",
    "        while q:\n",
    "            x, y = q.pop()\n",
    "            for i in range(4):\n",
    "                nx = x + dx[i]\n",
    "                ny = y + dy[i]\n",
    "                if nx <= -1 or nx >= r or ny <= -1 or ny >= c:\n",
    "                    continue\n",
    "                if graph[nx][ny] == 0: \n",
    "                    continue\n",
    "                if visited[nx][ny]:\n",
    "                    continue\n",
    "                q.append((nx, ny))\n",
    "                visited[nx][ny] = True\n",
    "                depth += 1\n",
    "                print(f\"{(nx, ny)} --> \", end='')\n",
    "        return True\n",
    "    print(f\"depth : {depth}\")\n",
    "    return False "
   ]
  },
  {
   "cell_type": "code",
   "execution_count": 6,
   "metadata": {},
   "outputs": [
    {
     "name": "stdout",
     "output_type": "stream",
     "text": [
      "(0, 1) --> (1, 1) --> (0, 2) --> (0, 3) --> (1, 3) --> (2, 3) --> (1, 4) --> (1, 5) --> (1, 6) --> (2, 6) --> (3, 6) --> (3, 7) --> (4, 7) --> (3, 8) --> (3, 9) --> (2, 9) --> (3, 3) --> (2, 2) --> (2, 1) --> (4, 3) --> (4, 2) --> (4, 1) --> (5, 1) --> "
     ]
    },
    {
     "data": {
      "text/plain": [
       "True"
      ]
     },
     "execution_count": 6,
     "metadata": {},
     "output_type": "execute_result"
    }
   ],
   "source": [
    "dfs_deque(graph, 0, 1, 0)"
   ]
  },
  {
   "cell_type": "code",
   "execution_count": 7,
   "metadata": {},
   "outputs": [
    {
     "name": "stdout",
     "output_type": "stream",
     "text": [
      "[0, 1, 1, 1, 0, 0, 0, 0, 1, 0]\n",
      "[0, 1, 0, 1, 1, 1, 1, 0, 1, 0]\n",
      "[0, 1, 1, 1, 0, 0, 1, 0, 0, 1]\n",
      "[0, 0, 0, 1, 0, 0, 1, 1, 1, 1]\n",
      "[0, 1, 1, 1, 0, 0, 0, 1, 0, 0]\n",
      "[0, 1, 0, 0, 0, 0, 1, 0, 0, 0]\n",
      "[0, 0, 0, 1, 0, 0, 0, 0, 1, 1]\n"
     ]
    }
   ],
   "source": [
    "for row in graph:\n",
    "    print(row)"
   ]
  },
  {
   "cell_type": "code",
   "execution_count": 19,
   "metadata": {},
   "outputs": [
    {
     "name": "stdout",
     "output_type": "stream",
     "text": [
      "[False, True, True, True, False, False, False, False, False, False]\n",
      "[False, True, False, True, True, True, True, False, False, False]\n",
      "[False, True, True, True, False, False, True, False, False, True]\n",
      "[False, False, False, True, False, False, True, True, True, True]\n",
      "[False, True, True, True, False, False, False, True, False, False]\n",
      "[False, True, False, False, False, False, False, False, False, False]\n",
      "[False, False, False, False, False, False, False, False, False, False]\n"
     ]
    }
   ],
   "source": [
    "for row in visited:\n",
    "    print(row)"
   ]
  },
  {
   "cell_type": "code",
   "execution_count": null,
   "metadata": {},
   "outputs": [],
   "source": []
  },
  {
   "cell_type": "markdown",
   "metadata": {},
   "source": [
    "#### updated_version_1"
   ]
  },
  {
   "cell_type": "code",
   "execution_count": 1,
   "metadata": {},
   "outputs": [
    {
     "name": "stdout",
     "output_type": "stream",
     "text": [
      "r : 7,  c : 10\n",
      "[0, 1, 1, 1, 0, 0, 0, 0, 1, 0]\n",
      "[0, 1, 0, 1, 1, 1, 1, 0, 1, 0]\n",
      "[0, 1, 1, 1, 0, 0, 1, 0, 0, 1]\n",
      "[0, 0, 0, 1, 0, 0, 1, 1, 1, 1]\n",
      "[0, 1, 1, 1, 0, 0, 0, 1, 0, 0]\n",
      "[0, 1, 0, 0, 0, 0, 1, 0, 0, 0]\n",
      "[0, 0, 0, 1, 0, 0, 0, 0, 1, 1]\n"
     ]
    }
   ],
   "source": [
    "with open(\"../data/1987_연습.txt\", \"r\") as input:\n",
    "    r, c = map(int, input.readline().split())\n",
    "    graph = [[0] * c for _ in range(r)]\n",
    "    for i in range(r):\n",
    "        row = list(map(int, input.readline().rstrip()))\n",
    "        for j in range(c):\n",
    "            graph[i][j] = row[j]\n",
    "    print(f\"r : {r},  c : {c}\")\n",
    "    for row in graph:\n",
    "        print(row)"
   ]
  },
  {
   "cell_type": "code",
   "execution_count": 2,
   "metadata": {},
   "outputs": [],
   "source": [
    "cnt = 0\n",
    "visited = [[False] * c for _ in range(r)]"
   ]
  },
  {
   "cell_type": "code",
   "execution_count": 3,
   "metadata": {},
   "outputs": [],
   "source": [
    "from collections import deque\n",
    "\n",
    "def dfs_deque(graph, start_x, start_y, depth):\n",
    "    global cnt, visited\n",
    "    dx, dy = [-1, 1, 0, 0], [0, 0, -1, 1]    \n",
    "    \n",
    "    if graph[start_x][start_y] == 1 and not visited[start_x][start_y]:\n",
    "        q = deque([(start_x, start_y)])\n",
    "        visited[start_x][start_y] = True\n",
    "        depth += 1\n",
    "        print(f\"{(start_x, start_y)} --> \", end='')\n",
    "        \n",
    "        while q:\n",
    "            x, y = q.pop()\n",
    "            no_farther = 0\n",
    "            for i in range(4):\n",
    "                nx = x + dx[i]\n",
    "                ny = y + dy[i]\n",
    "                if nx <= -1 or nx >= r or ny <= -1 or ny >= c:\n",
    "                    continue\n",
    "                if graph[nx][ny] == 0: \n",
    "                    no_farther += 1\n",
    "                    continue\n",
    "                if visited[nx][ny]:\n",
    "                    no_farther += 1\n",
    "                    continue\n",
    "                q.append((nx, ny))\n",
    "                visited[nx][ny] = True\n",
    "                depth += 1\n",
    "                print(f\"{(nx, ny)} --> \", end='')\n",
    "            if no_farther == 4:\n",
    "                visited = [[False] * c for _ in range(r)]\n",
    "                visited[start_x][start_y] = True \n",
    "                break               \n",
    "        return True\n",
    "    print(f\"depth : {depth}\")\n",
    "    return False "
   ]
  },
  {
   "cell_type": "code",
   "execution_count": 4,
   "metadata": {},
   "outputs": [
    {
     "name": "stdout",
     "output_type": "stream",
     "text": [
      "(0, 1) --> (1, 1) --> (0, 2) --> (0, 3) --> (1, 3) --> (2, 3) --> (1, 4) --> (1, 5) --> (1, 6) --> (2, 6) --> (3, 6) --> (3, 7) --> (4, 7) --> (3, 8) --> (3, 9) --> (2, 9) --> "
     ]
    },
    {
     "data": {
      "text/plain": [
       "True"
      ]
     },
     "execution_count": 4,
     "metadata": {},
     "output_type": "execute_result"
    }
   ],
   "source": [
    "dfs_deque(graph, 0, 1, 0)"
   ]
  },
  {
   "cell_type": "code",
   "execution_count": 6,
   "metadata": {},
   "outputs": [
    {
     "name": "stdout",
     "output_type": "stream",
     "text": [
      "[0, 1, 1, 1, 0, 0, 0, 0, 1, 0]\n",
      "[0, 1, 0, 1, 1, 1, 1, 0, 1, 0]\n",
      "[0, 1, 1, 1, 0, 0, 1, 0, 0, 1]\n",
      "[0, 0, 0, 1, 0, 0, 1, 1, 1, 1]\n",
      "[0, 1, 1, 1, 0, 0, 0, 1, 0, 0]\n",
      "[0, 1, 0, 0, 0, 0, 1, 0, 0, 0]\n",
      "[0, 0, 0, 1, 0, 0, 0, 0, 1, 1]\n"
     ]
    }
   ],
   "source": [
    "for row in graph:\n",
    "    print(row)"
   ]
  },
  {
   "cell_type": "markdown",
   "metadata": {},
   "source": [
    "#### updated_version_2"
   ]
  },
  {
   "cell_type": "code",
   "execution_count": 47,
   "metadata": {},
   "outputs": [
    {
     "name": "stdout",
     "output_type": "stream",
     "text": [
      "r : 7,  c : 10\n",
      "[0, 1, 1, 1, 0, 0, 0, 0, 1, 0]\n",
      "[0, 1, 0, 1, 1, 1, 1, 0, 1, 0]\n",
      "[0, 1, 1, 1, 0, 0, 1, 0, 0, 1]\n",
      "[0, 0, 0, 1, 0, 0, 1, 1, 1, 1]\n",
      "[0, 1, 1, 1, 0, 0, 0, 1, 0, 0]\n",
      "[0, 1, 0, 0, 0, 0, 1, 0, 0, 0]\n",
      "[0, 0, 0, 1, 0, 0, 0, 0, 1, 1]\n"
     ]
    }
   ],
   "source": [
    "with open(\"../data/1987_연습.txt\", \"r\") as input:\n",
    "    r, c = map(int, input.readline().split())\n",
    "    graph = [[0] * c for _ in range(r)]\n",
    "    for i in range(r):\n",
    "        row = list(map(int, input.readline().rstrip()))\n",
    "        for j in range(c):\n",
    "            graph[i][j] = row[j]\n",
    "    print(f\"r : {r},  c : {c}\")\n",
    "    for row in graph:\n",
    "        print(row)"
   ]
  },
  {
   "cell_type": "code",
   "execution_count": 48,
   "metadata": {},
   "outputs": [],
   "source": [
    "cnt = 0\n",
    "path = []\n",
    "visited = [[False] * c for _ in range(r)]"
   ]
  },
  {
   "cell_type": "code",
   "execution_count": 49,
   "metadata": {},
   "outputs": [],
   "source": [
    "from collections import deque\n",
    "\n",
    "def dfs_deque(graph, start_x, start_y, depth):\n",
    "    global cnt, path, visited\n",
    "    dx, dy = [-1, 1, 0, 0], [0, 0, -1, 1]    \n",
    "    \n",
    "    if graph[start_x][start_y] == 1 and not visited[start_x][start_y]:\n",
    "        q = deque([(start_x, start_y)])\n",
    "        visited[start_x][start_y] = True\n",
    "        depth += 1\n",
    "        #path.append((start_x, start_y))\n",
    "        #print(f\"{(start_x, start_y)} --> \", end='')\n",
    "        \n",
    "        while q:\n",
    "            x, y = q.pop()\n",
    "            path.append((x, y))\n",
    "            #print(f\"(x, y) : {(x, y)}\")\n",
    "            \n",
    "            no_farther = 0\n",
    "            \n",
    "            for i in range(4):\n",
    "                nx = x + dx[i]\n",
    "                ny = y + dy[i]\n",
    "\n",
    "                sub_path = []\n",
    "                \n",
    "                if nx <= -1 or nx >= r or ny <= -1 or ny >= c:\n",
    "                    no_farther += 1\n",
    "                    print(f\"{(nx, ny)} : out of border\")\n",
    "                    continue\n",
    "                if graph[nx][ny] == 0: \n",
    "                    no_farther += 1\n",
    "                    print(f\"{(nx, ny)} : zero cell\")\n",
    "                    continue\n",
    "                if visited[nx][ny]:\n",
    "                    no_farther += 1\n",
    "                    print(f\"{(nx, ny)} : visited\")\n",
    "                    continue\n",
    "                if graph[nx][ny] == 1 and not visited[nx][ny]:\n",
    "                    q.append((nx, ny))\n",
    "                    visited[nx][ny] = True\n",
    "                    #sub_path.append((nx, ny))\n",
    "                    #path.extend(sub_path)\n",
    "                    depth += 1\n",
    "                    #print(f\"{(nx, ny)} --> \", end='')\n",
    "                \n",
    "                if no_farther >= 4:\n",
    "                    q.pop()\n",
    "                    visited = [[False] * c for _ in range(r)]\n",
    "                    visited[start_x][start_y] = True \n",
    "                    path = [(start_x, start_y)]\n",
    "                    break\n",
    "                print(f\"no_farther : {no_farther}\")\n",
    "                print(f\"path : {path}\")\n",
    "                print()               \n",
    "        return True\n",
    "    #print(f\"depth : {depth}\")\n",
    "    return False "
   ]
  },
  {
   "cell_type": "code",
   "execution_count": 50,
   "metadata": {},
   "outputs": [
    {
     "name": "stdout",
     "output_type": "stream",
     "text": [
      "[0, 1, 1, 1, 0, 0, 0, 0, 1, 0]\n",
      "[0, 1, 0, 1, 1, 1, 1, 0, 1, 0]\n",
      "[0, 1, 1, 1, 0, 0, 1, 0, 0, 1]\n",
      "[0, 0, 0, 1, 0, 0, 1, 1, 1, 1]\n",
      "[0, 1, 1, 1, 0, 0, 0, 1, 0, 0]\n",
      "[0, 1, 0, 0, 0, 0, 1, 0, 0, 0]\n",
      "[0, 0, 0, 1, 0, 0, 0, 0, 1, 1]\n"
     ]
    }
   ],
   "source": [
    "for row in graph:\n",
    "    print(row)"
   ]
  },
  {
   "cell_type": "code",
   "execution_count": 51,
   "metadata": {},
   "outputs": [
    {
     "name": "stdout",
     "output_type": "stream",
     "text": [
      "(x, y) : (0, 1)\n",
      "(-1, 1) : out of border\n",
      "no_farther : 1\n",
      "path : [(0, 1), (1, 1)]\n",
      "\n",
      "(0, 0) : zero cell\n",
      "no_farther : 2\n",
      "path : [(0, 1), (1, 1), (0, 2)]\n",
      "\n",
      "(x, y) : (0, 2)\n",
      "(-1, 2) : out of border\n",
      "(1, 2) : zero cell\n",
      "(0, 1) : visited\n",
      "no_farther : 3\n",
      "path : [(0, 1), (1, 1), (0, 2), (0, 3)]\n",
      "\n",
      "(x, y) : (0, 3)\n",
      "(-1, 3) : out of border\n",
      "no_farther : 1\n",
      "path : [(0, 1), (1, 1), (0, 2), (0, 3), (1, 3)]\n",
      "\n",
      "(0, 2) : visited\n",
      "(0, 4) : zero cell\n",
      "(x, y) : (1, 3)\n",
      "(0, 3) : visited\n",
      "no_farther : 1\n",
      "path : [(0, 1), (1, 1), (0, 2), (0, 3), (1, 3), (2, 3)]\n",
      "\n",
      "(1, 2) : zero cell\n",
      "no_farther : 2\n",
      "path : [(0, 1), (1, 1), (0, 2), (0, 3), (1, 3), (2, 3), (1, 4)]\n",
      "\n",
      "(x, y) : (1, 4)\n",
      "(0, 4) : zero cell\n",
      "(2, 4) : zero cell\n",
      "(1, 3) : visited\n",
      "no_farther : 3\n",
      "path : [(0, 1), (1, 1), (0, 2), (0, 3), (1, 3), (2, 3), (1, 4), (1, 5)]\n",
      "\n",
      "(x, y) : (1, 5)\n",
      "(0, 5) : zero cell\n",
      "(2, 5) : zero cell\n",
      "(1, 4) : visited\n",
      "no_farther : 3\n",
      "path : [(0, 1), (1, 1), (0, 2), (0, 3), (1, 3), (2, 3), (1, 4), (1, 5), (1, 6)]\n",
      "\n",
      "(x, y) : (1, 6)\n",
      "(0, 6) : zero cell\n",
      "no_farther : 1\n",
      "path : [(0, 1), (1, 1), (0, 2), (0, 3), (1, 3), (2, 3), (1, 4), (1, 5), (1, 6), (2, 6)]\n",
      "\n",
      "(1, 5) : visited\n",
      "(1, 7) : zero cell\n",
      "(x, y) : (2, 6)\n",
      "(1, 6) : visited\n",
      "no_farther : 1\n",
      "path : [(0, 1), (1, 1), (0, 2), (0, 3), (1, 3), (2, 3), (1, 4), (1, 5), (1, 6), (2, 6), (3, 6)]\n",
      "\n",
      "(2, 5) : zero cell\n",
      "(2, 7) : zero cell\n",
      "(x, y) : (3, 6)\n",
      "(2, 6) : visited\n",
      "(4, 6) : zero cell\n",
      "(3, 5) : zero cell\n",
      "no_farther : 3\n",
      "path : [(0, 1), (1, 1), (0, 2), (0, 3), (1, 3), (2, 3), (1, 4), (1, 5), (1, 6), (2, 6), (3, 6), (3, 7)]\n",
      "\n",
      "(x, y) : (3, 7)\n",
      "(2, 7) : zero cell\n",
      "no_farther : 1\n",
      "path : [(0, 1), (1, 1), (0, 2), (0, 3), (1, 3), (2, 3), (1, 4), (1, 5), (1, 6), (2, 6), (3, 6), (3, 7), (4, 7)]\n",
      "\n",
      "(3, 6) : visited\n",
      "no_farther : 2\n",
      "path : [(0, 1), (1, 1), (0, 2), (0, 3), (1, 3), (2, 3), (1, 4), (1, 5), (1, 6), (2, 6), (3, 6), (3, 7), (4, 7), (3, 8)]\n",
      "\n",
      "(x, y) : (3, 8)\n",
      "(2, 8) : zero cell\n",
      "(4, 8) : zero cell\n",
      "(3, 7) : visited\n",
      "no_farther : 3\n",
      "path : [(0, 1), (1, 1), (0, 2), (0, 3), (1, 3), (2, 3), (1, 4), (1, 5), (1, 6), (2, 6), (3, 6), (3, 7), (4, 7), (3, 8), (3, 9)]\n",
      "\n",
      "(x, y) : (3, 9)\n",
      "no_farther : 0\n",
      "path : [(0, 1), (1, 1), (0, 2), (0, 3), (1, 3), (2, 3), (1, 4), (1, 5), (1, 6), (2, 6), (3, 6), (3, 7), (4, 7), (3, 8), (3, 9), (2, 9)]\n",
      "\n",
      "(4, 9) : zero cell\n",
      "(3, 8) : visited\n",
      "(3, 10) : out of border\n",
      "(x, y) : (2, 9)\n",
      "(1, 9) : zero cell\n",
      "(3, 9) : visited\n",
      "(2, 8) : zero cell\n",
      "(2, 10) : out of border\n",
      "(x, y) : (4, 7)\n",
      "(3, 7) : visited\n",
      "(5, 7) : zero cell\n",
      "(4, 6) : zero cell\n",
      "(4, 8) : zero cell\n",
      "(x, y) : (2, 3)\n",
      "(1, 3) : visited\n",
      "no_farther : 1\n",
      "path : [(0, 1), (1, 1), (0, 2), (0, 3), (1, 3), (2, 3), (1, 4), (1, 5), (1, 6), (2, 6), (3, 6), (3, 7), (4, 7), (3, 8), (3, 9), (2, 9), (3, 3)]\n",
      "\n",
      "no_farther : 1\n",
      "path : [(0, 1), (1, 1), (0, 2), (0, 3), (1, 3), (2, 3), (1, 4), (1, 5), (1, 6), (2, 6), (3, 6), (3, 7), (4, 7), (3, 8), (3, 9), (2, 9), (3, 3), (2, 2)]\n",
      "\n",
      "(2, 4) : zero cell\n",
      "(x, y) : (2, 2)\n",
      "(1, 2) : zero cell\n",
      "(3, 2) : zero cell\n",
      "no_farther : 2\n",
      "path : [(0, 1), (1, 1), (0, 2), (0, 3), (1, 3), (2, 3), (1, 4), (1, 5), (1, 6), (2, 6), (3, 6), (3, 7), (4, 7), (3, 8), (3, 9), (2, 9), (3, 3), (2, 2), (2, 1)]\n",
      "\n",
      "(2, 3) : visited\n",
      "(x, y) : (2, 1)\n",
      "(1, 1) : visited\n",
      "(3, 1) : zero cell\n",
      "(2, 0) : zero cell\n",
      "(2, 2) : visited\n",
      "(x, y) : (3, 3)\n",
      "(2, 3) : visited\n",
      "no_farther : 1\n",
      "path : [(0, 1), (1, 1), (0, 2), (0, 3), (1, 3), (2, 3), (1, 4), (1, 5), (1, 6), (2, 6), (3, 6), (3, 7), (4, 7), (3, 8), (3, 9), (2, 9), (3, 3), (2, 2), (2, 1), (4, 3)]\n",
      "\n",
      "(3, 2) : zero cell\n",
      "(3, 4) : zero cell\n",
      "(x, y) : (4, 3)\n",
      "(3, 3) : visited\n",
      "(5, 3) : zero cell\n",
      "no_farther : 2\n",
      "path : [(0, 1), (1, 1), (0, 2), (0, 3), (1, 3), (2, 3), (1, 4), (1, 5), (1, 6), (2, 6), (3, 6), (3, 7), (4, 7), (3, 8), (3, 9), (2, 9), (3, 3), (2, 2), (2, 1), (4, 3), (4, 2)]\n",
      "\n",
      "(4, 4) : zero cell\n",
      "(x, y) : (4, 2)\n",
      "(3, 2) : zero cell\n",
      "(5, 2) : zero cell\n",
      "no_farther : 2\n",
      "path : [(0, 1), (1, 1), (0, 2), (0, 3), (1, 3), (2, 3), (1, 4), (1, 5), (1, 6), (2, 6), (3, 6), (3, 7), (4, 7), (3, 8), (3, 9), (2, 9), (3, 3), (2, 2), (2, 1), (4, 3), (4, 2), (4, 1)]\n",
      "\n",
      "(4, 3) : visited\n",
      "(x, y) : (4, 1)\n",
      "(3, 1) : zero cell\n",
      "no_farther : 1\n",
      "path : [(0, 1), (1, 1), (0, 2), (0, 3), (1, 3), (2, 3), (1, 4), (1, 5), (1, 6), (2, 6), (3, 6), (3, 7), (4, 7), (3, 8), (3, 9), (2, 9), (3, 3), (2, 2), (2, 1), (4, 3), (4, 2), (4, 1), (5, 1)]\n",
      "\n",
      "(4, 0) : zero cell\n",
      "(4, 2) : visited\n",
      "(x, y) : (5, 1)\n",
      "(4, 1) : visited\n",
      "(6, 1) : zero cell\n",
      "(5, 0) : zero cell\n",
      "(5, 2) : zero cell\n",
      "(x, y) : (1, 1)\n",
      "(0, 1) : visited\n",
      "(2, 1) : visited\n",
      "(1, 0) : zero cell\n",
      "(1, 2) : zero cell\n"
     ]
    },
    {
     "data": {
      "text/plain": [
       "True"
      ]
     },
     "execution_count": 51,
     "metadata": {},
     "output_type": "execute_result"
    }
   ],
   "source": [
    "dfs_deque(graph, 0, 1, 0)    # up down left right"
   ]
  },
  {
   "cell_type": "code",
   "execution_count": 53,
   "metadata": {},
   "outputs": [
    {
     "name": "stdout",
     "output_type": "stream",
     "text": [
      "[0, 1, 1, 1, 0, 0, 0, 0, 1, 0]\n",
      "[0, 1, 0, 1, 1, 1, 1, 0, 1, 0]\n",
      "[0, 1, 1, 1, 0, 0, 1, 0, 0, 1]\n",
      "[0, 0, 0, 1, 0, 0, 1, 1, 1, 1]\n",
      "[0, 1, 1, 1, 0, 0, 0, 1, 0, 0]\n",
      "[0, 1, 0, 0, 0, 0, 1, 0, 0, 0]\n",
      "[0, 0, 0, 1, 0, 0, 0, 0, 1, 1]\n"
     ]
    }
   ],
   "source": [
    "for row in graph:\n",
    "    print(row)"
   ]
  },
  {
   "cell_type": "code",
   "execution_count": null,
   "metadata": {},
   "outputs": [],
   "source": []
  },
  {
   "cell_type": "markdown",
   "metadata": {},
   "source": [
    "#### updated_version_3"
   ]
  },
  {
   "cell_type": "code",
   "execution_count": 34,
   "metadata": {},
   "outputs": [
    {
     "name": "stdout",
     "output_type": "stream",
     "text": [
      "r : 7,  c : 10\n",
      "[0, 1, 1, 1, 0, 0, 0, 0, 1, 0]\n",
      "[0, 1, 0, 1, 1, 1, 1, 0, 1, 0]\n",
      "[0, 1, 1, 1, 0, 0, 1, 0, 0, 1]\n",
      "[0, 0, 0, 1, 0, 0, 1, 1, 1, 1]\n",
      "[0, 1, 1, 1, 0, 0, 0, 1, 0, 0]\n",
      "[0, 1, 0, 0, 0, 0, 1, 0, 0, 0]\n",
      "[0, 0, 0, 1, 0, 0, 0, 0, 1, 1]\n"
     ]
    }
   ],
   "source": [
    "with open(\"../data/1987_연습.txt\", \"r\") as input:\n",
    "    r, c = map(int, input.readline().split())\n",
    "    graph = [[0] * c for _ in range(r)]\n",
    "    for i in range(r):\n",
    "        row = list(map(int, input.readline().rstrip()))\n",
    "        for j in range(c):\n",
    "            graph[i][j] = row[j]\n",
    "    print(f\"r : {r},  c : {c}\")\n",
    "    for row in graph:\n",
    "        print(row)"
   ]
  },
  {
   "cell_type": "code",
   "execution_count": 35,
   "metadata": {},
   "outputs": [],
   "source": [
    "cnt = 0\n",
    "path = []\n",
    "visited = [[False] * c for _ in range(r)]"
   ]
  },
  {
   "cell_type": "code",
   "execution_count": null,
   "metadata": {},
   "outputs": [],
   "source": [
    "def dfs_deque(graph, start_x, start_y, depth):\n",
    "    global cnt, path, visited\n",
    "    dx, dy = [-1, 1, 0, 0], [0, 0, -1, 1]    \n",
    "    \n",
    "    if graph[start_x][start_y] == 1 and not visited[start_x][start_y]:        \n",
    "        visited[start_x][start_y] = True\n",
    "        depth += 1\n",
    "        path.append((start_x, start_y))\n",
    "        print(f\"{(start_x, start_y)} --> \", end='')        \n",
    "            \n",
    "        no_farther = 0\n",
    "        for i in range(4):\n",
    "            nx = start_x + dx[i]\n",
    "            ny = start_y + dy[i]\n",
    "            if nx <= -1 or nx >= r or ny <= -1 or ny >= c:\n",
    "                continue\n",
    "            if graph[nx][ny] == 0: \n",
    "                no_farther += 1\n",
    "                continue\n",
    "            if visited[nx][ny]:\n",
    "                no_farther += 1\n",
    "                continue\n",
    "            q.append((nx, ny))\n",
    "            visited[nx][ny] = True\n",
    "            depth += 1\n",
    "            print(f\"{(nx, ny)} --> \", end='')\n",
    "        if no_farther == 4:\n",
    "            visited = [[False] * c for _ in range(r)]\n",
    "            visited[start_x][start_y] = True\n",
    "            #path = [(start_x, start_y)]\n",
    "            break\n",
    "        path = [(start_x, start_y)]\n",
    "        #print(\"path : {path}\")\n",
    "        print()               \n",
    "    return True\n",
    "    #print(f\"depth : {depth}\")\n",
    "    return False "
   ]
  }
 ],
 "metadata": {
  "kernelspec": {
   "display_name": "base",
   "language": "python",
   "name": "python3"
  },
  "language_info": {
   "codemirror_mode": {
    "name": "ipython",
    "version": 3
   },
   "file_extension": ".py",
   "mimetype": "text/x-python",
   "name": "python",
   "nbconvert_exporter": "python",
   "pygments_lexer": "ipython3",
   "version": "3.9.12"
  }
 },
 "nbformat": 4,
 "nbformat_minor": 2
}
