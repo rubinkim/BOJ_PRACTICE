{
 "cells": [
  {
   "cell_type": "code",
   "execution_count": 34,
   "metadata": {},
   "outputs": [],
   "source": [
    "n = int(input())\n",
    "board = [[0] * n for _ in range(n)]\n",
    "ans = []\n",
    "cnt = 0"
   ]
  },
  {
   "cell_type": "code",
   "execution_count": 35,
   "metadata": {},
   "outputs": [],
   "source": [
    "def pruning(row, col):\n",
    "    for j in range(row):\n",
    "        if col - row + j <= -1 or col + row - j >= n:\n",
    "            return False\n",
    "        else:\n",
    "            if (board[row][col] == 1 and board[j][col] == 1) or (board[row][col] == 1 and board[j][col - row + j] == 1) or (board[row][col] == 1 and board[j][col + row - j] == 1):\n",
    "                print(f\"j : {j}, col : {col}, row : {row}, col-row+j : {col-row+j}, col+row-j : {col+row-j}\")\n",
    "                return False\n",
    "    return True"
   ]
  },
  {
   "cell_type": "code",
   "execution_count": 36,
   "metadata": {},
   "outputs": [],
   "source": [
    "def nQueen(row):\n",
    "    global board, ans, cnt\n",
    "    if row == n:\n",
    "        ans += 1\n",
    "    else:\n",
    "        for i in range(n):\n",
    "            board[row][i] = 1\n",
    "            if pruning(row, i):\n",
    "                if (row, i) not in ans:\n",
    "                    board[row][i] = 1\n",
    "                    ans.append((row, i))\n",
    "                    nQueen(row + 1)\n",
    "                    ans.pop()        "
   ]
  },
  {
   "cell_type": "code",
   "execution_count": 37,
   "metadata": {},
   "outputs": [
    {
     "name": "stdout",
     "output_type": "stream",
     "text": [
      "j : 0, col : 1, row : 1, col-row+j : 0, col+row-j : 2\n",
      "j : 0, col : 2, row : 2, col-row+j : 0, col+row-j : 4\n",
      "j : 0, col : 2, row : 2, col-row+j : 0, col+row-j : 4\n",
      "j : 0, col : 1, row : 1, col-row+j : 0, col+row-j : 2\n",
      "j : 0, col : 2, row : 1, col-row+j : 1, col+row-j : 3\n",
      "j : 0, col : 2, row : 2, col-row+j : 0, col+row-j : 4\n",
      "j : 0, col : 1, row : 1, col-row+j : 0, col+row-j : 2\n",
      "j : 0, col : 2, row : 1, col-row+j : 1, col+row-j : 3\n",
      "j : 0, col : 3, row : 1, col-row+j : 2, col+row-j : 4\n",
      "j : 0, col : 1, row : 1, col-row+j : 0, col+row-j : 2\n",
      "j : 0, col : 2, row : 1, col-row+j : 1, col+row-j : 3\n",
      "j : 0, col : 3, row : 1, col-row+j : 2, col+row-j : 4\n",
      "j : 0, col : 1, row : 1, col-row+j : 0, col+row-j : 2\n",
      "j : 0, col : 2, row : 1, col-row+j : 1, col+row-j : 3\n",
      "j : 0, col : 3, row : 1, col-row+j : 2, col+row-j : 4\n",
      "[]\n",
      "0\n"
     ]
    }
   ],
   "source": [
    "nQueen(0)\n",
    "print(ans)\n",
    "print(cnt)"
   ]
  },
  {
   "cell_type": "code",
   "execution_count": 38,
   "metadata": {},
   "outputs": [
    {
     "name": "stdout",
     "output_type": "stream",
     "text": [
      "[1, 1, 1, 1, 1]\n",
      "[1, 1, 1, 1, 1]\n",
      "[1, 1, 1, 1, 1]\n",
      "[0, 0, 0, 0, 0]\n",
      "[0, 0, 0, 0, 0]\n"
     ]
    }
   ],
   "source": [
    "for row in board:\n",
    "    print(row)"
   ]
  },
  {
   "cell_type": "code",
   "execution_count": null,
   "metadata": {},
   "outputs": [],
   "source": []
  },
  {
   "cell_type": "markdown",
   "metadata": {},
   "source": [
    "#### 14888 연산자 끼워넣기"
   ]
  },
  {
   "cell_type": "code",
   "execution_count": null,
   "metadata": {},
   "outputs": [],
   "source": [
    "\"\"\"\n",
    "6\n",
    "1 2 3 4 5 6\n",
    "2 1 1 1\n",
    "\"\"\""
   ]
  },
  {
   "cell_type": "code",
   "execution_count": 44,
   "metadata": {},
   "outputs": [
    {
     "name": "stdout",
     "output_type": "stream",
     "text": [
      "['+', '+', '-', '*', '%']\n"
     ]
    }
   ],
   "source": [
    "N = int(input())      # 숫자의 개수\n",
    "nums = list(map(int, input().split()))   # N개로 구성된 숫자들의 배열\n",
    "\n",
    "ops = ['+', '-', '*', '%'] \n",
    "op_nums = list(map(int, input().split()))   # '+', '-', '*', '%' 연산자들의 개수\n",
    "operators = []\n",
    "for i in range(len(ops)):\n",
    "    for _ in range(op_nums[i]):\n",
    "        operators.append(ops[i])\n",
    "    \n",
    "print(operators)"
   ]
  },
  {
   "cell_type": "code",
   "execution_count": 45,
   "metadata": {},
   "outputs": [
    {
     "name": "stdout",
     "output_type": "stream",
     "text": [
      "('+', '+', '-', '*', '%')\n",
      "('+', '+', '-', '%', '*')\n",
      "('+', '+', '*', '-', '%')\n",
      "('+', '+', '*', '%', '-')\n",
      "('+', '+', '%', '-', '*')\n",
      "('+', '+', '%', '*', '-')\n",
      "('+', '-', '+', '*', '%')\n",
      "('+', '-', '+', '%', '*')\n",
      "('+', '-', '*', '+', '%')\n",
      "('+', '-', '*', '%', '+')\n",
      "('+', '-', '%', '+', '*')\n",
      "('+', '-', '%', '*', '+')\n",
      "('+', '*', '+', '-', '%')\n",
      "('+', '*', '+', '%', '-')\n",
      "('+', '*', '-', '+', '%')\n",
      "('+', '*', '-', '%', '+')\n",
      "('+', '*', '%', '+', '-')\n",
      "('+', '*', '%', '-', '+')\n",
      "('+', '%', '+', '-', '*')\n",
      "('+', '%', '+', '*', '-')\n",
      "('+', '%', '-', '+', '*')\n",
      "('+', '%', '-', '*', '+')\n",
      "('+', '%', '*', '+', '-')\n",
      "('+', '%', '*', '-', '+')\n",
      "('-', '+', '+', '*', '%')\n",
      "('-', '+', '+', '%', '*')\n",
      "('-', '+', '*', '+', '%')\n",
      "('-', '+', '*', '%', '+')\n",
      "('-', '+', '%', '+', '*')\n",
      "('-', '+', '%', '*', '+')\n",
      "('-', '*', '+', '+', '%')\n",
      "('-', '*', '+', '%', '+')\n",
      "('-', '*', '%', '+', '+')\n",
      "('-', '%', '+', '+', '*')\n",
      "('-', '%', '+', '*', '+')\n",
      "('-', '%', '*', '+', '+')\n",
      "('*', '+', '+', '-', '%')\n",
      "('*', '+', '+', '%', '-')\n",
      "('*', '+', '-', '+', '%')\n",
      "('*', '+', '-', '%', '+')\n",
      "('*', '+', '%', '+', '-')\n",
      "('*', '+', '%', '-', '+')\n",
      "('*', '-', '+', '+', '%')\n",
      "('*', '-', '+', '%', '+')\n",
      "('*', '-', '%', '+', '+')\n",
      "('*', '%', '+', '+', '-')\n",
      "('*', '%', '+', '-', '+')\n",
      "('*', '%', '-', '+', '+')\n",
      "('%', '+', '+', '-', '*')\n",
      "('%', '+', '+', '*', '-')\n",
      "('%', '+', '-', '+', '*')\n",
      "('%', '+', '-', '*', '+')\n",
      "('%', '+', '*', '+', '-')\n",
      "('%', '+', '*', '-', '+')\n",
      "('%', '-', '+', '+', '*')\n",
      "('%', '-', '+', '*', '+')\n",
      "('%', '-', '*', '+', '+')\n",
      "('%', '*', '+', '+', '-')\n",
      "('%', '*', '+', '-', '+')\n",
      "('%', '*', '-', '+', '+')\n"
     ]
    }
   ],
   "source": [
    "from itertools import permutations\n",
    "\n",
    "op_list = []\n",
    "for i in permutations(operators, len(operators)):\n",
    "    if i not in op_list:\n",
    "        op_list.append(i)\n",
    "\n",
    "for i in op_list:\n",
    "    print(i)"
   ]
  },
  {
   "cell_type": "code",
   "execution_count": 42,
   "metadata": {},
   "outputs": [],
   "source": [
    "def op_rule(a, b, op):\n",
    "    if op == '+':\n",
    "        ans = a + b\n",
    "    elif op == '-':\n",
    "        ans = a - b\n",
    "    elif op == '*':\n",
    "        ans = a * b\n",
    "    else:\n",
    "        ans = a % b\n",
    "    return ans"
   ]
  },
  {
   "cell_type": "code",
   "execution_count": 66,
   "metadata": {},
   "outputs": [],
   "source": [
    "ans_dict = {}\n",
    "\n",
    "def dfs(n):\n",
    "    ans = [0] * (N-1)\n",
    "    ans[0] = nums[0]\n",
    "    if n == N:\n",
    "        max = max(ans_dict[N-1])\n",
    "        min = min(ans_dict[N-1])        \n",
    "        return\n",
    "    \n",
    "    for j in range(len(op_list)):\n",
    "        if op_list[j][n] == '+':\n",
    "            if (n+1) not in ans_dict:\n",
    "                ans_dict[n+1] = [nums[n+1] + ans[n]]\n",
    "            else:\n",
    "                ans_dict[n+1].append(nums[n+1] + ans[n])\n",
    "        elif op_list[j][n] == '-':\n",
    "            if (n+1) not in ans_dict:\n",
    "                ans_dict[n+1] = [nums[n+1] - ans[n]]\n",
    "            else:\n",
    "                ans_dict[n+1].append(nums[n+1] - ans[n])\n",
    "        elif op_list[j][n] == '*':\n",
    "            if (n+1) not in ans_dict:\n",
    "                ans_dict[n+1] = [nums[n+1] * ans[n]]\n",
    "            else:\n",
    "                ans_dict[n+1].append(nums[n+1] * ans[n])\n",
    "        else:\n",
    "            if (n+1) not in ans_dict:\n",
    "                ans_dict[n+1] = [nums[n+1] % ans[n]]\n",
    "            else:\n",
    "                ans_dict[n+1].append(nums[n+1] % ans[n])\n",
    "        \n",
    "\n",
    "            \n",
    "        dfs(n+1)          "
   ]
  },
  {
   "cell_type": "code",
   "execution_count": 67,
   "metadata": {},
   "outputs": [
    {
     "ename": "ZeroDivisionError",
     "evalue": "integer division or modulo by zero",
     "output_type": "error",
     "traceback": [
      "\u001b[1;31m---------------------------------------------------------------------------\u001b[0m",
      "\u001b[1;31mZeroDivisionError\u001b[0m                         Traceback (most recent call last)",
      "Input \u001b[1;32mIn [67]\u001b[0m, in \u001b[0;36m<cell line: 1>\u001b[1;34m()\u001b[0m\n\u001b[1;32m----> 1\u001b[0m \u001b[43mdfs\u001b[49m\u001b[43m(\u001b[49m\u001b[38;5;241;43m0\u001b[39;49m\u001b[43m)\u001b[49m\n",
      "Input \u001b[1;32mIn [66]\u001b[0m, in \u001b[0;36mdfs\u001b[1;34m(n)\u001b[0m\n\u001b[0;32m     30\u001b[0m     \u001b[38;5;28;01melse\u001b[39;00m:\n\u001b[0;32m     31\u001b[0m         ans_dict[n\u001b[38;5;241m+\u001b[39m\u001b[38;5;241m1\u001b[39m]\u001b[38;5;241m.\u001b[39mappend(nums[n\u001b[38;5;241m+\u001b[39m\u001b[38;5;241m1\u001b[39m] \u001b[38;5;241m%\u001b[39m ans[n])\n\u001b[1;32m---> 35\u001b[0m \u001b[43mdfs\u001b[49m\u001b[43m(\u001b[49m\u001b[43mn\u001b[49m\u001b[38;5;241;43m+\u001b[39;49m\u001b[38;5;241;43m1\u001b[39;49m\u001b[43m)\u001b[49m\n",
      "Input \u001b[1;32mIn [66]\u001b[0m, in \u001b[0;36mdfs\u001b[1;34m(n)\u001b[0m\n\u001b[0;32m     30\u001b[0m     \u001b[38;5;28;01melse\u001b[39;00m:\n\u001b[0;32m     31\u001b[0m         ans_dict[n\u001b[38;5;241m+\u001b[39m\u001b[38;5;241m1\u001b[39m]\u001b[38;5;241m.\u001b[39mappend(nums[n\u001b[38;5;241m+\u001b[39m\u001b[38;5;241m1\u001b[39m] \u001b[38;5;241m%\u001b[39m ans[n])\n\u001b[1;32m---> 35\u001b[0m \u001b[43mdfs\u001b[49m\u001b[43m(\u001b[49m\u001b[43mn\u001b[49m\u001b[38;5;241;43m+\u001b[39;49m\u001b[38;5;241;43m1\u001b[39;49m\u001b[43m)\u001b[49m\n",
      "    \u001b[1;31m[... skipping similar frames: dfs at line 35 (1 times)]\u001b[0m\n",
      "Input \u001b[1;32mIn [66]\u001b[0m, in \u001b[0;36mdfs\u001b[1;34m(n)\u001b[0m\n\u001b[0;32m     30\u001b[0m     \u001b[38;5;28;01melse\u001b[39;00m:\n\u001b[0;32m     31\u001b[0m         ans_dict[n\u001b[38;5;241m+\u001b[39m\u001b[38;5;241m1\u001b[39m]\u001b[38;5;241m.\u001b[39mappend(nums[n\u001b[38;5;241m+\u001b[39m\u001b[38;5;241m1\u001b[39m] \u001b[38;5;241m%\u001b[39m ans[n])\n\u001b[1;32m---> 35\u001b[0m \u001b[43mdfs\u001b[49m\u001b[43m(\u001b[49m\u001b[43mn\u001b[49m\u001b[38;5;241;43m+\u001b[39;49m\u001b[38;5;241;43m1\u001b[39;49m\u001b[43m)\u001b[49m\n",
      "Input \u001b[1;32mIn [66]\u001b[0m, in \u001b[0;36mdfs\u001b[1;34m(n)\u001b[0m\n\u001b[0;32m     27\u001b[0m \u001b[38;5;28;01melse\u001b[39;00m:\n\u001b[0;32m     28\u001b[0m     \u001b[38;5;28;01mif\u001b[39;00m (n\u001b[38;5;241m+\u001b[39m\u001b[38;5;241m1\u001b[39m) \u001b[38;5;129;01mnot\u001b[39;00m \u001b[38;5;129;01min\u001b[39;00m ans_dict:\n\u001b[1;32m---> 29\u001b[0m         ans_dict[n\u001b[38;5;241m+\u001b[39m\u001b[38;5;241m1\u001b[39m] \u001b[38;5;241m=\u001b[39m [\u001b[43mnums\u001b[49m\u001b[43m[\u001b[49m\u001b[43mn\u001b[49m\u001b[38;5;241;43m+\u001b[39;49m\u001b[38;5;241;43m1\u001b[39;49m\u001b[43m]\u001b[49m\u001b[43m \u001b[49m\u001b[38;5;241;43m%\u001b[39;49m\u001b[43m \u001b[49m\u001b[43mans\u001b[49m\u001b[43m[\u001b[49m\u001b[43mn\u001b[49m\u001b[43m]\u001b[49m]\n\u001b[0;32m     30\u001b[0m     \u001b[38;5;28;01melse\u001b[39;00m:\n\u001b[0;32m     31\u001b[0m         ans_dict[n\u001b[38;5;241m+\u001b[39m\u001b[38;5;241m1\u001b[39m]\u001b[38;5;241m.\u001b[39mappend(nums[n\u001b[38;5;241m+\u001b[39m\u001b[38;5;241m1\u001b[39m] \u001b[38;5;241m%\u001b[39m ans[n])\n",
      "\u001b[1;31mZeroDivisionError\u001b[0m: integer division or modulo by zero"
     ]
    }
   ],
   "source": [
    "dfs(0)"
   ]
  },
  {
   "cell_type": "code",
   "execution_count": null,
   "metadata": {},
   "outputs": [],
   "source": []
  },
  {
   "cell_type": "code",
   "execution_count": null,
   "metadata": {},
   "outputs": [],
   "source": [
    "N = int(input())                              # 숫자의 개수\n",
    "nums = list(map(int, input().split()))        # 크기가 N인 숫자배열\n",
    "ops = ['+', '-', '*', '%']                    # 연산자의 종류\n",
    "op_nums = list(map(int, input().split()))     # 4종류인 연산자들의 크기들의 배열 = N - 1\n"
   ]
  }
 ],
 "metadata": {
  "kernelspec": {
   "display_name": "base",
   "language": "python",
   "name": "python3"
  },
  "language_info": {
   "codemirror_mode": {
    "name": "ipython",
    "version": 3
   },
   "file_extension": ".py",
   "mimetype": "text/x-python",
   "name": "python",
   "nbconvert_exporter": "python",
   "pygments_lexer": "ipython3",
   "version": "3.9.12"
  }
 },
 "nbformat": 4,
 "nbformat_minor": 2
}
