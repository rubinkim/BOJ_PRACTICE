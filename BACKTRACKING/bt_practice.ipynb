{
 "cells": [
  {
   "cell_type": "code",
   "execution_count": 34,
   "metadata": {},
   "outputs": [],
   "source": [
    "n = int(input())\n",
    "board = [[0] * n for _ in range(n)]\n",
    "ans = []\n",
    "cnt = 0"
   ]
  },
  {
   "cell_type": "code",
   "execution_count": 35,
   "metadata": {},
   "outputs": [],
   "source": [
    "def pruning(row, col):\n",
    "    for j in range(row):\n",
    "        if col - row + j <= -1 or col + row - j >= n:\n",
    "            return False\n",
    "        else:\n",
    "            if (board[row][col] == 1 and board[j][col] == 1) or (board[row][col] == 1 and board[j][col - row + j] == 1) or (board[row][col] == 1 and board[j][col + row - j] == 1):\n",
    "                print(f\"j : {j}, col : {col}, row : {row}, col-row+j : {col-row+j}, col+row-j : {col+row-j}\")\n",
    "                return False\n",
    "    return True"
   ]
  },
  {
   "cell_type": "code",
   "execution_count": 36,
   "metadata": {},
   "outputs": [],
   "source": [
    "def nQueen(row):\n",
    "    global board, ans, cnt\n",
    "    if row == n:\n",
    "        ans += 1\n",
    "    else:\n",
    "        for i in range(n):\n",
    "            board[row][i] = 1\n",
    "            if pruning(row, i):\n",
    "                if (row, i) not in ans:\n",
    "                    board[row][i] = 1\n",
    "                    ans.append((row, i))\n",
    "                    nQueen(row + 1)\n",
    "                    ans.pop()        "
   ]
  },
  {
   "cell_type": "code",
   "execution_count": 37,
   "metadata": {},
   "outputs": [
    {
     "name": "stdout",
     "output_type": "stream",
     "text": [
      "j : 0, col : 1, row : 1, col-row+j : 0, col+row-j : 2\n",
      "j : 0, col : 2, row : 2, col-row+j : 0, col+row-j : 4\n",
      "j : 0, col : 2, row : 2, col-row+j : 0, col+row-j : 4\n",
      "j : 0, col : 1, row : 1, col-row+j : 0, col+row-j : 2\n",
      "j : 0, col : 2, row : 1, col-row+j : 1, col+row-j : 3\n",
      "j : 0, col : 2, row : 2, col-row+j : 0, col+row-j : 4\n",
      "j : 0, col : 1, row : 1, col-row+j : 0, col+row-j : 2\n",
      "j : 0, col : 2, row : 1, col-row+j : 1, col+row-j : 3\n",
      "j : 0, col : 3, row : 1, col-row+j : 2, col+row-j : 4\n",
      "j : 0, col : 1, row : 1, col-row+j : 0, col+row-j : 2\n",
      "j : 0, col : 2, row : 1, col-row+j : 1, col+row-j : 3\n",
      "j : 0, col : 3, row : 1, col-row+j : 2, col+row-j : 4\n",
      "j : 0, col : 1, row : 1, col-row+j : 0, col+row-j : 2\n",
      "j : 0, col : 2, row : 1, col-row+j : 1, col+row-j : 3\n",
      "j : 0, col : 3, row : 1, col-row+j : 2, col+row-j : 4\n",
      "[]\n",
      "0\n"
     ]
    }
   ],
   "source": [
    "nQueen(0)\n",
    "print(ans)\n",
    "print(cnt)"
   ]
  },
  {
   "cell_type": "code",
   "execution_count": 38,
   "metadata": {},
   "outputs": [
    {
     "name": "stdout",
     "output_type": "stream",
     "text": [
      "[1, 1, 1, 1, 1]\n",
      "[1, 1, 1, 1, 1]\n",
      "[1, 1, 1, 1, 1]\n",
      "[0, 0, 0, 0, 0]\n",
      "[0, 0, 0, 0, 0]\n"
     ]
    }
   ],
   "source": [
    "for row in board:\n",
    "    print(row)"
   ]
  },
  {
   "cell_type": "code",
   "execution_count": null,
   "metadata": {},
   "outputs": [],
   "source": []
  },
  {
   "cell_type": "markdown",
   "metadata": {},
   "source": [
    "#### 14888 연산자 끼워넣기"
   ]
  },
  {
   "cell_type": "code",
   "execution_count": null,
   "metadata": {},
   "outputs": [],
   "source": [
    "\"\"\"\n",
    "6\n",
    "1 2 3 4 5 6\n",
    "2 1 1 1\n",
    "\"\"\""
   ]
  },
  {
   "cell_type": "code",
   "execution_count": 44,
   "metadata": {},
   "outputs": [
    {
     "name": "stdout",
     "output_type": "stream",
     "text": [
      "['+', '+', '-', '*', '%']\n"
     ]
    }
   ],
   "source": [
    "N = int(input())      # 숫자의 개수\n",
    "nums = list(map(int, input().split()))   # N개로 구성된 숫자들의 배열\n",
    "\n",
    "ops = ['+', '-', '*', '%'] \n",
    "op_nums = list(map(int, input().split()))   # '+', '-', '*', '%' 연산자들의 개수\n",
    "operators = []\n",
    "for i in range(len(ops)):\n",
    "    for _ in range(op_nums[i]):\n",
    "        operators.append(ops[i])\n",
    "    \n",
    "print(operators)"
   ]
  },
  {
   "cell_type": "code",
   "execution_count": 45,
   "metadata": {},
   "outputs": [
    {
     "name": "stdout",
     "output_type": "stream",
     "text": [
      "('+', '+', '-', '*', '%')\n",
      "('+', '+', '-', '%', '*')\n",
      "('+', '+', '*', '-', '%')\n",
      "('+', '+', '*', '%', '-')\n",
      "('+', '+', '%', '-', '*')\n",
      "('+', '+', '%', '*', '-')\n",
      "('+', '-', '+', '*', '%')\n",
      "('+', '-', '+', '%', '*')\n",
      "('+', '-', '*', '+', '%')\n",
      "('+', '-', '*', '%', '+')\n",
      "('+', '-', '%', '+', '*')\n",
      "('+', '-', '%', '*', '+')\n",
      "('+', '*', '+', '-', '%')\n",
      "('+', '*', '+', '%', '-')\n",
      "('+', '*', '-', '+', '%')\n",
      "('+', '*', '-', '%', '+')\n",
      "('+', '*', '%', '+', '-')\n",
      "('+', '*', '%', '-', '+')\n",
      "('+', '%', '+', '-', '*')\n",
      "('+', '%', '+', '*', '-')\n",
      "('+', '%', '-', '+', '*')\n",
      "('+', '%', '-', '*', '+')\n",
      "('+', '%', '*', '+', '-')\n",
      "('+', '%', '*', '-', '+')\n",
      "('-', '+', '+', '*', '%')\n",
      "('-', '+', '+', '%', '*')\n",
      "('-', '+', '*', '+', '%')\n",
      "('-', '+', '*', '%', '+')\n",
      "('-', '+', '%', '+', '*')\n",
      "('-', '+', '%', '*', '+')\n",
      "('-', '*', '+', '+', '%')\n",
      "('-', '*', '+', '%', '+')\n",
      "('-', '*', '%', '+', '+')\n",
      "('-', '%', '+', '+', '*')\n",
      "('-', '%', '+', '*', '+')\n",
      "('-', '%', '*', '+', '+')\n",
      "('*', '+', '+', '-', '%')\n",
      "('*', '+', '+', '%', '-')\n",
      "('*', '+', '-', '+', '%')\n",
      "('*', '+', '-', '%', '+')\n",
      "('*', '+', '%', '+', '-')\n",
      "('*', '+', '%', '-', '+')\n",
      "('*', '-', '+', '+', '%')\n",
      "('*', '-', '+', '%', '+')\n",
      "('*', '-', '%', '+', '+')\n",
      "('*', '%', '+', '+', '-')\n",
      "('*', '%', '+', '-', '+')\n",
      "('*', '%', '-', '+', '+')\n",
      "('%', '+', '+', '-', '*')\n",
      "('%', '+', '+', '*', '-')\n",
      "('%', '+', '-', '+', '*')\n",
      "('%', '+', '-', '*', '+')\n",
      "('%', '+', '*', '+', '-')\n",
      "('%', '+', '*', '-', '+')\n",
      "('%', '-', '+', '+', '*')\n",
      "('%', '-', '+', '*', '+')\n",
      "('%', '-', '*', '+', '+')\n",
      "('%', '*', '+', '+', '-')\n",
      "('%', '*', '+', '-', '+')\n",
      "('%', '*', '-', '+', '+')\n"
     ]
    }
   ],
   "source": [
    "from itertools import permutations\n",
    "\n",
    "op_list = []\n",
    "for i in permutations(operators, len(operators)):\n",
    "    if i not in op_list:\n",
    "        op_list.append(i)\n",
    "\n",
    "for i in op_list:\n",
    "    print(i)"
   ]
  },
  {
   "cell_type": "code",
   "execution_count": 42,
   "metadata": {},
   "outputs": [],
   "source": [
    "def op_rule(a, b, op):\n",
    "    if op == '+':\n",
    "        ans = a + b\n",
    "    elif op == '-':\n",
    "        ans = a - b\n",
    "    elif op == '*':\n",
    "        ans = a * b\n",
    "    else:\n",
    "        ans = a % b\n",
    "    return ans"
   ]
  },
  {
   "cell_type": "code",
   "execution_count": 66,
   "metadata": {},
   "outputs": [],
   "source": [
    "ans_dict = {}\n",
    "\n",
    "def dfs(n):\n",
    "    ans = [0] * (N-1)\n",
    "    ans[0] = nums[0]\n",
    "    if n == N:\n",
    "        max = max(ans_dict[N-1])\n",
    "        min = min(ans_dict[N-1])        \n",
    "        return\n",
    "    \n",
    "    for j in range(len(op_list)):\n",
    "        if op_list[j][n] == '+':\n",
    "            if (n+1) not in ans_dict:\n",
    "                ans_dict[n+1] = [nums[n+1] + ans[n]]\n",
    "            else:\n",
    "                ans_dict[n+1].append(nums[n+1] + ans[n])\n",
    "        elif op_list[j][n] == '-':\n",
    "            if (n+1) not in ans_dict:\n",
    "                ans_dict[n+1] = [nums[n+1] - ans[n]]\n",
    "            else:\n",
    "                ans_dict[n+1].append(nums[n+1] - ans[n])\n",
    "        elif op_list[j][n] == '*':\n",
    "            if (n+1) not in ans_dict:\n",
    "                ans_dict[n+1] = [nums[n+1] * ans[n]]\n",
    "            else:\n",
    "                ans_dict[n+1].append(nums[n+1] * ans[n])\n",
    "        else:\n",
    "            if (n+1) not in ans_dict:\n",
    "                ans_dict[n+1] = [nums[n+1] % ans[n]]\n",
    "            else:\n",
    "                ans_dict[n+1].append(nums[n+1] % ans[n])\n",
    "        \n",
    "\n",
    "            \n",
    "        dfs(n+1)          "
   ]
  },
  {
   "cell_type": "code",
   "execution_count": 67,
   "metadata": {},
   "outputs": [
    {
     "ename": "ZeroDivisionError",
     "evalue": "integer division or modulo by zero",
     "output_type": "error",
     "traceback": [
      "\u001b[1;31m---------------------------------------------------------------------------\u001b[0m",
      "\u001b[1;31mZeroDivisionError\u001b[0m                         Traceback (most recent call last)",
      "Input \u001b[1;32mIn [67]\u001b[0m, in \u001b[0;36m<cell line: 1>\u001b[1;34m()\u001b[0m\n\u001b[1;32m----> 1\u001b[0m \u001b[43mdfs\u001b[49m\u001b[43m(\u001b[49m\u001b[38;5;241;43m0\u001b[39;49m\u001b[43m)\u001b[49m\n",
      "Input \u001b[1;32mIn [66]\u001b[0m, in \u001b[0;36mdfs\u001b[1;34m(n)\u001b[0m\n\u001b[0;32m     30\u001b[0m     \u001b[38;5;28;01melse\u001b[39;00m:\n\u001b[0;32m     31\u001b[0m         ans_dict[n\u001b[38;5;241m+\u001b[39m\u001b[38;5;241m1\u001b[39m]\u001b[38;5;241m.\u001b[39mappend(nums[n\u001b[38;5;241m+\u001b[39m\u001b[38;5;241m1\u001b[39m] \u001b[38;5;241m%\u001b[39m ans[n])\n\u001b[1;32m---> 35\u001b[0m \u001b[43mdfs\u001b[49m\u001b[43m(\u001b[49m\u001b[43mn\u001b[49m\u001b[38;5;241;43m+\u001b[39;49m\u001b[38;5;241;43m1\u001b[39;49m\u001b[43m)\u001b[49m\n",
      "Input \u001b[1;32mIn [66]\u001b[0m, in \u001b[0;36mdfs\u001b[1;34m(n)\u001b[0m\n\u001b[0;32m     30\u001b[0m     \u001b[38;5;28;01melse\u001b[39;00m:\n\u001b[0;32m     31\u001b[0m         ans_dict[n\u001b[38;5;241m+\u001b[39m\u001b[38;5;241m1\u001b[39m]\u001b[38;5;241m.\u001b[39mappend(nums[n\u001b[38;5;241m+\u001b[39m\u001b[38;5;241m1\u001b[39m] \u001b[38;5;241m%\u001b[39m ans[n])\n\u001b[1;32m---> 35\u001b[0m \u001b[43mdfs\u001b[49m\u001b[43m(\u001b[49m\u001b[43mn\u001b[49m\u001b[38;5;241;43m+\u001b[39;49m\u001b[38;5;241;43m1\u001b[39;49m\u001b[43m)\u001b[49m\n",
      "    \u001b[1;31m[... skipping similar frames: dfs at line 35 (1 times)]\u001b[0m\n",
      "Input \u001b[1;32mIn [66]\u001b[0m, in \u001b[0;36mdfs\u001b[1;34m(n)\u001b[0m\n\u001b[0;32m     30\u001b[0m     \u001b[38;5;28;01melse\u001b[39;00m:\n\u001b[0;32m     31\u001b[0m         ans_dict[n\u001b[38;5;241m+\u001b[39m\u001b[38;5;241m1\u001b[39m]\u001b[38;5;241m.\u001b[39mappend(nums[n\u001b[38;5;241m+\u001b[39m\u001b[38;5;241m1\u001b[39m] \u001b[38;5;241m%\u001b[39m ans[n])\n\u001b[1;32m---> 35\u001b[0m \u001b[43mdfs\u001b[49m\u001b[43m(\u001b[49m\u001b[43mn\u001b[49m\u001b[38;5;241;43m+\u001b[39;49m\u001b[38;5;241;43m1\u001b[39;49m\u001b[43m)\u001b[49m\n",
      "Input \u001b[1;32mIn [66]\u001b[0m, in \u001b[0;36mdfs\u001b[1;34m(n)\u001b[0m\n\u001b[0;32m     27\u001b[0m \u001b[38;5;28;01melse\u001b[39;00m:\n\u001b[0;32m     28\u001b[0m     \u001b[38;5;28;01mif\u001b[39;00m (n\u001b[38;5;241m+\u001b[39m\u001b[38;5;241m1\u001b[39m) \u001b[38;5;129;01mnot\u001b[39;00m \u001b[38;5;129;01min\u001b[39;00m ans_dict:\n\u001b[1;32m---> 29\u001b[0m         ans_dict[n\u001b[38;5;241m+\u001b[39m\u001b[38;5;241m1\u001b[39m] \u001b[38;5;241m=\u001b[39m [\u001b[43mnums\u001b[49m\u001b[43m[\u001b[49m\u001b[43mn\u001b[49m\u001b[38;5;241;43m+\u001b[39;49m\u001b[38;5;241;43m1\u001b[39;49m\u001b[43m]\u001b[49m\u001b[43m \u001b[49m\u001b[38;5;241;43m%\u001b[39;49m\u001b[43m \u001b[49m\u001b[43mans\u001b[49m\u001b[43m[\u001b[49m\u001b[43mn\u001b[49m\u001b[43m]\u001b[49m]\n\u001b[0;32m     30\u001b[0m     \u001b[38;5;28;01melse\u001b[39;00m:\n\u001b[0;32m     31\u001b[0m         ans_dict[n\u001b[38;5;241m+\u001b[39m\u001b[38;5;241m1\u001b[39m]\u001b[38;5;241m.\u001b[39mappend(nums[n\u001b[38;5;241m+\u001b[39m\u001b[38;5;241m1\u001b[39m] \u001b[38;5;241m%\u001b[39m ans[n])\n",
      "\u001b[1;31mZeroDivisionError\u001b[0m: integer division or modulo by zero"
     ]
    }
   ],
   "source": [
    "dfs(0)"
   ]
  },
  {
   "cell_type": "code",
   "execution_count": null,
   "metadata": {},
   "outputs": [],
   "source": []
  },
  {
   "cell_type": "code",
   "execution_count": null,
   "metadata": {},
   "outputs": [],
   "source": [
    "\"\"\"\n",
    "6\n",
    "1 2 3 4 5 6\n",
    "2 1 1 1\n",
    "\"\"\""
   ]
  },
  {
   "cell_type": "code",
   "execution_count": 38,
   "metadata": {},
   "outputs": [
    {
     "name": "stdout",
     "output_type": "stream",
     "text": [
      "N : 6\n",
      "nums : [1, 2, 3, 4, 5, 6]\n",
      "op_nums : [2, 1, 1, 1]\n",
      "operators : ['+', '+', '-', '*', '//']\n"
     ]
    }
   ],
   "source": [
    "N = int(input())                              # 숫자의 개수\n",
    "nums = list(map(int, input().split()))        # 크기가 N인 숫자배열\n",
    "ops = ['+', '-', '*', '//']                    # 연산자의 종류\n",
    "op_nums = list(map(int, input().split()))     # 4종류인 연산자들의 크기들의 배열 = N - 1\n",
    "\n",
    "operators = []                                # 크기가 N-1인 연산자배열\n",
    "for i in range(len(ops)):\n",
    "    for _ in range(op_nums[i]):\n",
    "        operators.append(ops[i])\n",
    "        \n",
    "print(f\"N : {N}\")\n",
    "print(f\"nums : {nums}\")\n",
    "print(f\"op_nums : {op_nums}\")\n",
    "print(f\"operators : {operators}\")"
   ]
  },
  {
   "cell_type": "code",
   "execution_count": 39,
   "metadata": {},
   "outputs": [
    {
     "name": "stdout",
     "output_type": "stream",
     "text": [
      "number of op_list : 60\n",
      "\n",
      "('+', '+', '-', '*', '//')\n",
      "('+', '+', '-', '//', '*')\n",
      "('+', '+', '*', '-', '//')\n",
      "('+', '+', '*', '//', '-')\n",
      "('+', '+', '//', '-', '*')\n",
      "('+', '+', '//', '*', '-')\n",
      "('+', '-', '+', '*', '//')\n",
      "('+', '-', '+', '//', '*')\n",
      "('+', '-', '*', '+', '//')\n",
      "('+', '-', '*', '//', '+')\n",
      "('+', '-', '//', '+', '*')\n",
      "('+', '-', '//', '*', '+')\n",
      "('+', '*', '+', '-', '//')\n",
      "('+', '*', '+', '//', '-')\n",
      "('+', '*', '-', '+', '//')\n",
      "('+', '*', '-', '//', '+')\n",
      "('+', '*', '//', '+', '-')\n",
      "('+', '*', '//', '-', '+')\n",
      "('+', '//', '+', '-', '*')\n",
      "('+', '//', '+', '*', '-')\n",
      "('+', '//', '-', '+', '*')\n",
      "('+', '//', '-', '*', '+')\n",
      "('+', '//', '*', '+', '-')\n",
      "('+', '//', '*', '-', '+')\n",
      "('-', '+', '+', '*', '//')\n",
      "('-', '+', '+', '//', '*')\n",
      "('-', '+', '*', '+', '//')\n",
      "('-', '+', '*', '//', '+')\n",
      "('-', '+', '//', '+', '*')\n",
      "('-', '+', '//', '*', '+')\n",
      "('-', '*', '+', '+', '//')\n",
      "('-', '*', '+', '//', '+')\n",
      "('-', '*', '//', '+', '+')\n",
      "('-', '//', '+', '+', '*')\n",
      "('-', '//', '+', '*', '+')\n",
      "('-', '//', '*', '+', '+')\n",
      "('*', '+', '+', '-', '//')\n",
      "('*', '+', '+', '//', '-')\n",
      "('*', '+', '-', '+', '//')\n",
      "('*', '+', '-', '//', '+')\n",
      "('*', '+', '//', '+', '-')\n",
      "('*', '+', '//', '-', '+')\n",
      "('*', '-', '+', '+', '//')\n",
      "('*', '-', '+', '//', '+')\n",
      "('*', '-', '//', '+', '+')\n",
      "('*', '//', '+', '+', '-')\n",
      "('*', '//', '+', '-', '+')\n",
      "('*', '//', '-', '+', '+')\n",
      "('//', '+', '+', '-', '*')\n",
      "('//', '+', '+', '*', '-')\n",
      "('//', '+', '-', '+', '*')\n",
      "('//', '+', '-', '*', '+')\n",
      "('//', '+', '*', '+', '-')\n",
      "('//', '+', '*', '-', '+')\n",
      "('//', '-', '+', '+', '*')\n",
      "('//', '-', '+', '*', '+')\n",
      "('//', '-', '*', '+', '+')\n",
      "('//', '*', '+', '+', '-')\n",
      "('//', '*', '+', '-', '+')\n",
      "('//', '*', '-', '+', '+')\n"
     ]
    }
   ],
   "source": [
    "from itertools import permutations\n",
    "\n",
    "op_list = []\n",
    "for i in permutations(operators, len(operators)):\n",
    "    if i not in op_list:\n",
    "        op_list.append(i)\n",
    "\n",
    "print(f\"number of op_list : {len(op_list)}\")\n",
    "print()\n",
    "        \n",
    "for i in op_list:\n",
    "    print(i)"
   ]
  },
  {
   "cell_type": "code",
   "execution_count": 40,
   "metadata": {},
   "outputs": [],
   "source": [
    "ans_list = []\n",
    "\n",
    "def dfs(n, i):                            # n : 현재 작업중인 숫자의 nums 리스트에서의 index   i : 현재 작업중인 연산자배열의 op_list에서의 인덱스\n",
    "    global ans_list, ans\n",
    "    \n",
    "    if n == N-1:\n",
    "        ans_list.append(ans)\n",
    "        return    \n",
    "    else:\n",
    "        if op_list[i][n] == '+':\n",
    "            ans += nums[n+1]\n",
    "        elif op_list[i][n] == '-':\n",
    "            ans -= nums[n+1]\n",
    "        elif op_list[i][n] == '*':\n",
    "            ans *= nums[n+1]\n",
    "        elif op_list[i][n] == '//':\n",
    "            if ans < 0:\n",
    "                ans = -((-ans) // nums[n+1])\n",
    "            else:\n",
    "                ans = ans // nums[n+1]\n",
    "    print(f\"n : {n}, ans : {ans}\")        \n",
    "    dfs(n+1, i)"
   ]
  },
  {
   "cell_type": "code",
   "execution_count": 41,
   "metadata": {},
   "outputs": [
    {
     "name": "stdout",
     "output_type": "stream",
     "text": [
      "n : 0, ans : 3\n",
      "n : 1, ans : 6\n",
      "n : 2, ans : 2\n",
      "n : 3, ans : 10\n",
      "n : 4, ans : 1\n"
     ]
    }
   ],
   "source": [
    "dfs(0, 0)"
   ]
  },
  {
   "cell_type": "code",
   "execution_count": 42,
   "metadata": {},
   "outputs": [
    {
     "data": {
      "text/plain": [
       "1"
      ]
     },
     "execution_count": 42,
     "metadata": {},
     "output_type": "execute_result"
    }
   ],
   "source": [
    "ans"
   ]
  },
  {
   "cell_type": "code",
   "execution_count": 43,
   "metadata": {},
   "outputs": [
    {
     "name": "stdout",
     "output_type": "stream",
     "text": [
      "n : 0, ans : 3\n",
      "n : 1, ans : 6\n",
      "n : 2, ans : 2\n",
      "n : 3, ans : 10\n",
      "n : 4, ans : 1\n",
      "i : 0,  ans : 1\n",
      "n : 0, ans : 3\n",
      "n : 1, ans : 6\n",
      "n : 2, ans : 2\n",
      "n : 3, ans : 0\n",
      "n : 4, ans : 0\n",
      "i : 1,  ans : 0\n",
      "n : 0, ans : 3\n",
      "n : 1, ans : 6\n",
      "n : 2, ans : 24\n",
      "n : 3, ans : 19\n",
      "n : 4, ans : 3\n",
      "i : 2,  ans : 3\n",
      "n : 0, ans : 3\n",
      "n : 1, ans : 6\n",
      "n : 2, ans : 24\n",
      "n : 3, ans : 4\n",
      "n : 4, ans : -2\n",
      "i : 3,  ans : -2\n",
      "n : 0, ans : 3\n",
      "n : 1, ans : 6\n",
      "n : 2, ans : 1\n",
      "n : 3, ans : -4\n",
      "n : 4, ans : -24\n",
      "i : 4,  ans : -24\n",
      "n : 0, ans : 3\n",
      "n : 1, ans : 6\n",
      "n : 2, ans : 1\n",
      "n : 3, ans : 5\n",
      "n : 4, ans : -1\n",
      "i : 5,  ans : -1\n",
      "n : 0, ans : 3\n",
      "n : 1, ans : 0\n",
      "n : 2, ans : 4\n",
      "n : 3, ans : 20\n",
      "n : 4, ans : 3\n",
      "i : 6,  ans : 3\n",
      "n : 0, ans : 3\n",
      "n : 1, ans : 0\n",
      "n : 2, ans : 4\n",
      "n : 3, ans : 0\n",
      "n : 4, ans : 0\n",
      "i : 7,  ans : 0\n",
      "n : 0, ans : 3\n",
      "n : 1, ans : 0\n",
      "n : 2, ans : 0\n",
      "n : 3, ans : 5\n",
      "n : 4, ans : 0\n",
      "i : 8,  ans : 0\n",
      "n : 0, ans : 3\n",
      "n : 1, ans : 0\n",
      "n : 2, ans : 0\n",
      "n : 3, ans : 0\n",
      "n : 4, ans : 6\n",
      "i : 9,  ans : 6\n",
      "n : 0, ans : 3\n",
      "n : 1, ans : 0\n",
      "n : 2, ans : 0\n",
      "n : 3, ans : 5\n",
      "n : 4, ans : 30\n",
      "i : 10,  ans : 30\n",
      "n : 0, ans : 3\n",
      "n : 1, ans : 0\n",
      "n : 2, ans : 0\n",
      "n : 3, ans : 0\n",
      "n : 4, ans : 6\n",
      "i : 11,  ans : 6\n",
      "n : 0, ans : 3\n",
      "n : 1, ans : 9\n",
      "n : 2, ans : 13\n",
      "n : 3, ans : 8\n",
      "n : 4, ans : 1\n",
      "i : 12,  ans : 1\n",
      "n : 0, ans : 3\n",
      "n : 1, ans : 9\n",
      "n : 2, ans : 13\n",
      "n : 3, ans : 2\n",
      "n : 4, ans : -4\n",
      "i : 13,  ans : -4\n",
      "n : 0, ans : 3\n",
      "n : 1, ans : 9\n",
      "n : 2, ans : 5\n",
      "n : 3, ans : 10\n",
      "n : 4, ans : 1\n",
      "i : 14,  ans : 1\n",
      "n : 0, ans : 3\n",
      "n : 1, ans : 9\n",
      "n : 2, ans : 5\n",
      "n : 3, ans : 1\n",
      "n : 4, ans : 7\n",
      "i : 15,  ans : 7\n",
      "n : 0, ans : 3\n",
      "n : 1, ans : 9\n",
      "n : 2, ans : 2\n",
      "n : 3, ans : 7\n",
      "n : 4, ans : 1\n",
      "i : 16,  ans : 1\n",
      "n : 0, ans : 3\n",
      "n : 1, ans : 9\n",
      "n : 2, ans : 2\n",
      "n : 3, ans : -3\n",
      "n : 4, ans : 3\n",
      "i : 17,  ans : 3\n",
      "n : 0, ans : 3\n",
      "n : 1, ans : 1\n",
      "n : 2, ans : 5\n",
      "n : 3, ans : 0\n",
      "n : 4, ans : 0\n",
      "i : 18,  ans : 0\n",
      "n : 0, ans : 3\n",
      "n : 1, ans : 1\n",
      "n : 2, ans : 5\n",
      "n : 3, ans : 25\n",
      "n : 4, ans : 19\n",
      "i : 19,  ans : 19\n",
      "n : 0, ans : 3\n",
      "n : 1, ans : 1\n",
      "n : 2, ans : -3\n",
      "n : 3, ans : 2\n",
      "n : 4, ans : 12\n",
      "i : 20,  ans : 12\n",
      "n : 0, ans : 3\n",
      "n : 1, ans : 1\n",
      "n : 2, ans : -3\n",
      "n : 3, ans : -15\n",
      "n : 4, ans : -9\n",
      "i : 21,  ans : -9\n",
      "n : 0, ans : 3\n",
      "n : 1, ans : 1\n",
      "n : 2, ans : 4\n",
      "n : 3, ans : 9\n",
      "n : 4, ans : 3\n",
      "i : 22,  ans : 3\n",
      "n : 0, ans : 3\n",
      "n : 1, ans : 1\n",
      "n : 2, ans : 4\n",
      "n : 3, ans : -1\n",
      "n : 4, ans : 5\n",
      "i : 23,  ans : 5\n",
      "n : 0, ans : -1\n",
      "n : 1, ans : 2\n",
      "n : 2, ans : 6\n",
      "n : 3, ans : 30\n",
      "n : 4, ans : 5\n",
      "i : 24,  ans : 5\n",
      "n : 0, ans : -1\n",
      "n : 1, ans : 2\n",
      "n : 2, ans : 6\n",
      "n : 3, ans : 1\n",
      "n : 4, ans : 6\n",
      "i : 25,  ans : 6\n",
      "n : 0, ans : -1\n",
      "n : 1, ans : 2\n",
      "n : 2, ans : 8\n",
      "n : 3, ans : 13\n",
      "n : 4, ans : 2\n",
      "i : 26,  ans : 2\n",
      "n : 0, ans : -1\n",
      "n : 1, ans : 2\n",
      "n : 2, ans : 8\n",
      "n : 3, ans : 1\n",
      "n : 4, ans : 7\n",
      "i : 27,  ans : 7\n",
      "n : 0, ans : -1\n",
      "n : 1, ans : 2\n",
      "n : 2, ans : 0\n",
      "n : 3, ans : 5\n",
      "n : 4, ans : 30\n",
      "i : 28,  ans : 30\n",
      "n : 0, ans : -1\n",
      "n : 1, ans : 2\n",
      "n : 2, ans : 0\n",
      "n : 3, ans : 0\n",
      "n : 4, ans : 6\n",
      "i : 29,  ans : 6\n",
      "n : 0, ans : -1\n",
      "n : 1, ans : -3\n",
      "n : 2, ans : 1\n",
      "n : 3, ans : 6\n",
      "n : 4, ans : 1\n",
      "i : 30,  ans : 1\n",
      "n : 0, ans : -1\n",
      "n : 1, ans : -3\n",
      "n : 2, ans : 1\n",
      "n : 3, ans : 0\n",
      "n : 4, ans : 6\n",
      "i : 31,  ans : 6\n",
      "n : 0, ans : -1\n",
      "n : 1, ans : -3\n",
      "n : 2, ans : 0\n",
      "n : 3, ans : 5\n",
      "n : 4, ans : 11\n",
      "i : 32,  ans : 11\n",
      "n : 0, ans : -1\n",
      "n : 1, ans : 0\n",
      "n : 2, ans : 4\n",
      "n : 3, ans : 9\n",
      "n : 4, ans : 54\n",
      "i : 33,  ans : 54\n",
      "n : 0, ans : -1\n",
      "n : 1, ans : 0\n",
      "n : 2, ans : 4\n",
      "n : 3, ans : 20\n",
      "n : 4, ans : 26\n",
      "i : 34,  ans : 26\n",
      "n : 0, ans : -1\n",
      "n : 1, ans : 0\n",
      "n : 2, ans : 0\n",
      "n : 3, ans : 5\n",
      "n : 4, ans : 11\n",
      "i : 35,  ans : 11\n",
      "n : 0, ans : 2\n",
      "n : 1, ans : 5\n",
      "n : 2, ans : 9\n",
      "n : 3, ans : 4\n",
      "n : 4, ans : 0\n",
      "i : 36,  ans : 0\n",
      "n : 0, ans : 2\n",
      "n : 1, ans : 5\n",
      "n : 2, ans : 9\n",
      "n : 3, ans : 1\n",
      "n : 4, ans : -5\n",
      "i : 37,  ans : -5\n",
      "n : 0, ans : 2\n",
      "n : 1, ans : 5\n",
      "n : 2, ans : 1\n",
      "n : 3, ans : 6\n",
      "n : 4, ans : 1\n",
      "i : 38,  ans : 1\n",
      "n : 0, ans : 2\n",
      "n : 1, ans : 5\n",
      "n : 2, ans : 1\n",
      "n : 3, ans : 0\n",
      "n : 4, ans : 6\n",
      "i : 39,  ans : 6\n",
      "n : 0, ans : 2\n",
      "n : 1, ans : 5\n",
      "n : 2, ans : 1\n",
      "n : 3, ans : 6\n",
      "n : 4, ans : 0\n",
      "i : 40,  ans : 0\n",
      "n : 0, ans : 2\n",
      "n : 1, ans : 5\n",
      "n : 2, ans : 1\n",
      "n : 3, ans : -4\n",
      "n : 4, ans : 2\n",
      "i : 41,  ans : 2\n",
      "n : 0, ans : 2\n",
      "n : 1, ans : -1\n",
      "n : 2, ans : 3\n",
      "n : 3, ans : 8\n",
      "n : 4, ans : 1\n",
      "i : 42,  ans : 1\n",
      "n : 0, ans : 2\n",
      "n : 1, ans : -1\n",
      "n : 2, ans : 3\n",
      "n : 3, ans : 0\n",
      "n : 4, ans : 6\n",
      "i : 43,  ans : 6\n",
      "n : 0, ans : 2\n",
      "n : 1, ans : -1\n",
      "n : 2, ans : 0\n",
      "n : 3, ans : 5\n",
      "n : 4, ans : 11\n",
      "i : 44,  ans : 11\n",
      "n : 0, ans : 2\n",
      "n : 1, ans : 0\n",
      "n : 2, ans : 4\n",
      "n : 3, ans : 9\n",
      "n : 4, ans : 3\n",
      "i : 45,  ans : 3\n",
      "n : 0, ans : 2\n",
      "n : 1, ans : 0\n",
      "n : 2, ans : 4\n",
      "n : 3, ans : -1\n",
      "n : 4, ans : 5\n",
      "i : 46,  ans : 5\n",
      "n : 0, ans : 2\n",
      "n : 1, ans : 0\n",
      "n : 2, ans : -4\n",
      "n : 3, ans : 1\n",
      "n : 4, ans : 7\n",
      "i : 47,  ans : 7\n",
      "n : 0, ans : 0\n",
      "n : 1, ans : 3\n",
      "n : 2, ans : 7\n",
      "n : 3, ans : 2\n",
      "n : 4, ans : 12\n",
      "i : 48,  ans : 12\n",
      "n : 0, ans : 0\n",
      "n : 1, ans : 3\n",
      "n : 2, ans : 7\n",
      "n : 3, ans : 35\n",
      "n : 4, ans : 29\n",
      "i : 49,  ans : 29\n",
      "n : 0, ans : 0\n",
      "n : 1, ans : 3\n",
      "n : 2, ans : -1\n",
      "n : 3, ans : 4\n",
      "n : 4, ans : 24\n",
      "i : 50,  ans : 24\n",
      "n : 0, ans : 0\n",
      "n : 1, ans : 3\n",
      "n : 2, ans : -1\n",
      "n : 3, ans : -5\n",
      "n : 4, ans : 1\n",
      "i : 51,  ans : 1\n",
      "n : 0, ans : 0\n",
      "n : 1, ans : 3\n",
      "n : 2, ans : 12\n",
      "n : 3, ans : 17\n",
      "n : 4, ans : 11\n",
      "i : 52,  ans : 11\n",
      "n : 0, ans : 0\n",
      "n : 1, ans : 3\n",
      "n : 2, ans : 12\n",
      "n : 3, ans : 7\n",
      "n : 4, ans : 13\n",
      "i : 53,  ans : 13\n",
      "n : 0, ans : 0\n",
      "n : 1, ans : -3\n",
      "n : 2, ans : 1\n",
      "n : 3, ans : 6\n",
      "n : 4, ans : 36\n",
      "i : 54,  ans : 36\n",
      "n : 0, ans : 0\n",
      "n : 1, ans : -3\n",
      "n : 2, ans : 1\n",
      "n : 3, ans : 5\n",
      "n : 4, ans : 11\n",
      "i : 55,  ans : 11\n",
      "n : 0, ans : 0\n",
      "n : 1, ans : -3\n",
      "n : 2, ans : -12\n",
      "n : 3, ans : -7\n",
      "n : 4, ans : -1\n",
      "i : 56,  ans : -1\n",
      "n : 0, ans : 0\n",
      "n : 1, ans : 0\n",
      "n : 2, ans : 4\n",
      "n : 3, ans : 9\n",
      "n : 4, ans : 3\n",
      "i : 57,  ans : 3\n",
      "n : 0, ans : 0\n",
      "n : 1, ans : 0\n",
      "n : 2, ans : 4\n",
      "n : 3, ans : -1\n",
      "n : 4, ans : 5\n",
      "i : 58,  ans : 5\n",
      "n : 0, ans : 0\n",
      "n : 1, ans : 0\n",
      "n : 2, ans : -4\n",
      "n : 3, ans : 1\n",
      "n : 4, ans : 7\n",
      "i : 59,  ans : 7\n"
     ]
    }
   ],
   "source": [
    "for i in range(len(op_list)):\n",
    "    ans = nums[0]\n",
    "    dfs(0, i)\n",
    "    print(f\"i : {i},  ans : {ans}\")"
   ]
  },
  {
   "cell_type": "code",
   "execution_count": 44,
   "metadata": {},
   "outputs": [
    {
     "name": "stdout",
     "output_type": "stream",
     "text": [
      "61\n",
      "[1, 1, 0, 3, -2, -24, -1, 3, 0, 0, 6, 30, 6, 1, -4, 1, 7, 1, 3, 0, 19, 12, -9, 3, 5, 5, 6, 2, 7, 30, 6, 1, 6, 11, 54, 26, 11, 0, -5, 1, 6, 0, 2, 1, 6, 11, 3, 5, 7, 12, 29, 24, 1, 11, 13, 36, 11, -1, 3, 5, 7]\n",
      "max_value : 54,  min_value : -24\n"
     ]
    }
   ],
   "source": [
    "print(len(ans_list))\n",
    "print(ans_list)\n",
    "print(f\"max_value : {max(ans_list)},  min_value : {min(ans_list)}\")"
   ]
  },
  {
   "cell_type": "code",
   "execution_count": null,
   "metadata": {},
   "outputs": [],
   "source": [
    "N = int(input())                              # 숫자의 개수\n",
    "nums = list(map(int, input().split()))        # 크기가 N인 숫자배열\n",
    "ops = ['+', '-', '*', '//']                    # 연산자의 종류\n",
    "op_nums = list(map(int, input().split()))     # 4종류인 연산자들의 크기들의 배열 = N - 1\n",
    "\n",
    "operators = []                                # 크기가 N-1인 연산자배열\n",
    "for i in range(len(ops)):\n",
    "    for _ in range(op_nums[i]):\n",
    "        operators.append(ops[i])\n",
    "        \n",
    "print(f\"N : {N}\")\n",
    "print(f\"nums : {nums}\")\n",
    "print(f\"op_nums : {op_nums}\")\n",
    "print(f\"operators : {operators}\")\n",
    "\n",
    "from itertools import permutations\n",
    "\n",
    "op_list = []\n",
    "for i in permutations(operators, len(operators)):\n",
    "    if i not in op_list:\n",
    "        op_list.append(i)\n",
    "\n",
    "print(f\"number of op_list : {len(op_list)}\")\n",
    "print()\n",
    "        \n",
    "for i in op_list:\n",
    "    print(i)\n",
    "    \n",
    "    \n",
    "ans_list = []\n",
    "\n",
    "def dfs(n, i):                            # n : 현재 작업중인 숫자의 nums 리스트에서의 index   i : 현재 작업중인 연산자배열의 op_list에서의 인덱스\n",
    "    global ans_list, ans\n",
    "    \n",
    "    if n == N-1:\n",
    "        ans_list.append(ans)\n",
    "        return    \n",
    "    else:\n",
    "        if op_list[i][n] == '+':\n",
    "            ans += nums[n+1]\n",
    "        elif op_list[i][n] == '-':\n",
    "            ans -= nums[n+1]\n",
    "        elif op_list[i][n] == '*':\n",
    "            ans *= nums[n+1]\n",
    "        elif op_list[i][n] == '//':\n",
    "            if ans < 0:\n",
    "                ans = -((-ans) // nums[n+1])\n",
    "            else:\n",
    "                ans = ans // nums[n+1]\n",
    "    print(f\"n : {n}, ans : {ans}\")        \n",
    "    dfs(n+1, i)\n",
    "\n",
    "for i in range(len(op_list)):\n",
    "    ans = nums[0]\n",
    "    dfs(0, i)\n",
    "    print(f\"i : {i},  ans : {ans}\")\n",
    "    \n",
    "print(len(ans_list))\n",
    "print(ans_list)\n",
    "print(f\"max_value : {max(ans_list)},  min_value : {min(ans_list)}\")"
   ]
  },
  {
   "cell_type": "code",
   "execution_count": 47,
   "metadata": {},
   "outputs": [
    {
     "name": "stdout",
     "output_type": "stream",
     "text": [
      "35\n",
      "17\n"
     ]
    }
   ],
   "source": [
    "\"\"\"\n",
    "6\n",
    "1 2 3 4 5 6\n",
    "2 1 1 1\n",
    "\n",
    "2\n",
    "5 6\n",
    "0 0 1 0\n",
    "\n",
    "3\n",
    "3 4 5\n",
    "1 0 1 0\n",
    "\n",
    "\"\"\"\n",
    "\n",
    "N = int(input())                              # 숫자의 개수\n",
    "nums = list(map(int, input().split()))        # 크기가 N인 숫자배열\n",
    "ops = ['+', '-', '*', '//']                    # 연산자의 종류\n",
    "op_nums = list(map(int, input().split()))     # 4종류인 연산자들의 크기들의 배열 = N - 1\n",
    "\n",
    "operators = []                                # 크기가 N-1인 연산자배열\n",
    "for i in range(len(ops)):\n",
    "    for _ in range(op_nums[i]):\n",
    "        operators.append(ops[i])\n",
    "        \n",
    "from itertools import permutations\n",
    "\n",
    "op_list = []\n",
    "for i in permutations(operators, len(operators)):\n",
    "    if i not in op_list:\n",
    "        op_list.append(i)\n",
    "        \n",
    "ans_list = []\n",
    "\n",
    "def dfs(n, i):                            # n : 현재 작업중인 숫자의 nums 리스트에서의 index,   i : 현재 작업중인 연산자배열의 op_list에서의 인덱스\n",
    "    global ans_list, ans\n",
    "    \n",
    "    if n == N-1:\n",
    "        ans_list.append(ans)\n",
    "        return    \n",
    "    else:\n",
    "        if op_list[i][n] == '+':\n",
    "            ans += nums[n+1]\n",
    "        elif op_list[i][n] == '-':\n",
    "            ans -= nums[n+1]\n",
    "        elif op_list[i][n] == '*':\n",
    "            ans *= nums[n+1]\n",
    "        elif op_list[i][n] == '//':\n",
    "            if ans < 0:\n",
    "                ans = -((-ans) // nums[n+1])\n",
    "            else:\n",
    "                ans = ans // nums[n+1]     \n",
    "    dfs(n+1, i)\n",
    "    \n",
    "for i in range(len(op_list)):\n",
    "    ans = nums[0]\n",
    "    dfs(0, i)\n",
    "\n",
    "print(max(ans_list))\n",
    "print(min(ans_list))"
   ]
  },
  {
   "cell_type": "markdown",
   "metadata": {},
   "source": [
    "#### 1182 : 부분수열의 합"
   ]
  },
  {
   "cell_type": "code",
   "execution_count": 18,
   "metadata": {},
   "outputs": [
    {
     "name": "stdout",
     "output_type": "stream",
     "text": [
      "1\n"
     ]
    }
   ],
   "source": [
    "\"\"\"\n",
    "5 0\n",
    "-7 -3 -2 5 8\n",
    "\n",
    "7 0\n",
    "9 1 -7 -3 -2 5 8 \n",
    "\n",
    "5 6\n",
    "1 2 3 4 5\n",
    "\"\"\"\n",
    "\n",
    "#import sys\n",
    "#input = sys.stdin.readline\n",
    "N, S = map(int, input().split())\n",
    "lst = list(map(int, input().split()))\n",
    "ans = 0\n",
    "\n",
    "def dfs(n, sm, cnt):\n",
    "    global ans\n",
    "    #종료조건\n",
    "    if n == N:\n",
    "        if sm == S and cnt > 0:\n",
    "            ans += 1\n",
    "        return\n",
    "    #하부함수 호출\n",
    "    dfs(n+1, sm+lst[n], cnt+1)  #lst[n]을 포함시키는 경우\n",
    "    dfs(n+1, sm, cnt)           #lst[n]을 포함시키지 않는 경우\n",
    "\n",
    "dfs(0, 0, 0)\n",
    "print(ans)"
   ]
  },
  {
   "cell_type": "code",
   "execution_count": 13,
   "metadata": {},
   "outputs": [
    {
     "name": "stdout",
     "output_type": "stream",
     "text": [
      "j : 3, total : 6, ans : [1, 2, 3, 4]\n",
      "1\n"
     ]
    }
   ],
   "source": [
    "\"\"\"\n",
    "5 0\n",
    "-7 -3 -2 5 8\n",
    "\n",
    "7 0\n",
    "9 1 -7 -3 -2 5 8 \n",
    "\n",
    "5 6\n",
    "1 2 3 4 5\n",
    "\"\"\"\n",
    "\n",
    "\n",
    "N, S = map(int, input().split())\n",
    "nums = list(map(int, input().split()))\n",
    "cnt = 0\n",
    "v1 = [False] * N\n",
    "ans = []\n",
    "\n",
    "def dfs(n, total):\n",
    "    global cnt\n",
    "    if n == N:\n",
    "        return\n",
    "    for j in range(len(nums)):\n",
    "        if not v1[j]:\n",
    "            v1[j] = True\n",
    "            ans.append(nums[j])          \n",
    "            if total == S:\n",
    "                cnt += 1\n",
    "                print(f\"j : {j}, total : {total}, ans : {ans}\")\n",
    "            elif total > S:\n",
    "                v1[j] = True\n",
    "                ans.pop()         \n",
    "                \n",
    "                            \n",
    "            dfs(n+1, total+nums[j])\n",
    "            #v1[j] = False\n",
    "            #ans.pop()\n",
    "\n",
    "            \n",
    "dfs(0, 0)\n",
    "print(cnt)"
   ]
  },
  {
   "cell_type": "code",
   "execution_count": 14,
   "metadata": {},
   "outputs": [
    {
     "data": {
      "text/plain": [
       "[1, 2, 3, 4]"
      ]
     },
     "execution_count": 14,
     "metadata": {},
     "output_type": "execute_result"
    }
   ],
   "source": [
    "ans"
   ]
  },
  {
   "cell_type": "code",
   "execution_count": 4,
   "metadata": {},
   "outputs": [
    {
     "data": {
      "text/plain": [
       "([9, 7, 9, 1], {1, 7, 9}, [9, 1, 7])"
      ]
     },
     "execution_count": 4,
     "metadata": {},
     "output_type": "execute_result"
    }
   ],
   "source": [
    "x = [9, 7, 9, 1]\n",
    "y = set(x)\n",
    "z = list(y)\n",
    "x, y, z"
   ]
  },
  {
   "cell_type": "code",
   "execution_count": 10,
   "metadata": {},
   "outputs": [
    {
     "name": "stdout",
     "output_type": "stream",
     "text": [
      "1 7\n",
      "1 9\n",
      "1 9\n",
      "7 9\n",
      "7 9\n",
      "9 9\n"
     ]
    }
   ],
   "source": [
    "\"\"\"\n",
    "4 2\n",
    "9 7 9 1\n",
    "\"\"\"\n",
    "#import sys\n",
    "#input = sys.stdin.readline\n",
    "N, M = map(int, input().split())\n",
    "nums = list(map(int, input().split()))\n",
    "nums.sort()\n",
    "v = [0] * (N+1)\n",
    "ans = []\n",
    "\n",
    "def dfs(n, s, lst):\n",
    "    if n == M:\n",
    "        ans.append(lst)\n",
    "        return\n",
    "    for j in range(s, N):\n",
    "            dfs(n+1, j+1, lst+[nums[j]])\n",
    "            \n",
    "dfs(0, 0, [])\n",
    "for lst in ans:\n",
    "    print(*lst)"
   ]
  },
  {
   "cell_type": "code",
   "execution_count": 41,
   "metadata": {},
   "outputs": [
    {
     "name": "stdout",
     "output_type": "stream",
     "text": [
      "9 7\n",
      "9 9\n",
      "9 1\n",
      "7 9\n",
      "7 1\n",
      "9 1\n"
     ]
    }
   ],
   "source": [
    "N, M = map(int, input().split())\n",
    "nums = list(map(int, input().split()))\n",
    "ans = []\n",
    "\n",
    "def dfs(n, lst):\n",
    "    if n > N-1:\n",
    "        if len(lst) == M:\n",
    "            ans.append(lst)\n",
    "        return\n",
    "    dfs(n+1, lst+[nums[n]])\n",
    "    dfs(n+1, lst)\n",
    "    \n",
    "dfs(0, [])\n",
    "for lst in ans:\n",
    "    print(*lst)        \n",
    "    "
   ]
  },
  {
   "cell_type": "code",
   "execution_count": 9,
   "metadata": {},
   "outputs": [],
   "source": [
    "\"\"\"\n",
    "4 2\n",
    "9 8 7 1\n",
    "\"\"\"\n",
    "\n",
    "# N_and_M_6\n",
    "import sys\n",
    "input = sys.stdin.readline\n",
    "N, M = map(int, input().split())\n",
    "nums = list(map(int, input().split()))\n",
    "nums.sort()\n",
    "ans = []\n",
    "\n",
    "def dfs(n, blst, lst):\n",
    "    global ans\n",
    "    if n > N-1:\n",
    "        if len(lst) == M:\n",
    "            ans.append(lst)\n",
    "        return\n",
    "    dfs(n+1, blst, lst+[nums[n]])\n",
    "    dfs(n+1, blst, lst)\n",
    "\n",
    "dfs(0, nums, [])\n",
    "for lst in ans:\n",
    "    print(*lst)"
   ]
  },
  {
   "cell_type": "code",
   "execution_count": null,
   "metadata": {},
   "outputs": [],
   "source": []
  },
  {
   "cell_type": "markdown",
   "metadata": {},
   "source": [
    "#### N and M Series : Very very important!!!!!"
   ]
  },
  {
   "cell_type": "code",
   "execution_count": 2,
   "metadata": {},
   "outputs": [
    {
     "name": "stdout",
     "output_type": "stream",
     "text": [
      "1 1\n",
      "1 2\n",
      "1 3\n",
      "1 4\n",
      "2 1\n",
      "2 2\n",
      "2 3\n",
      "2 4\n",
      "3 1\n",
      "3 2\n",
      "3 3\n",
      "3 4\n",
      "4 1\n",
      "4 2\n",
      "4 3\n",
      "4 4\n"
     ]
    }
   ],
   "source": [
    "# 1. 중복체크를 하지 않는 케이스\n",
    "N, M = map(int, input().split())      # 4 2\n",
    "ans = []\n",
    "def dfs(n, lst):\n",
    "    global ans\n",
    "    if n == M:\n",
    "        ans.append(lst)\n",
    "        return\n",
    "    for j in range(1, N+1):       \n",
    "            dfs(n+1, lst+[j])\n",
    "dfs(0, [])\n",
    "for lst in ans:\n",
    "    print(*lst)"
   ]
  },
  {
   "cell_type": "code",
   "execution_count": 3,
   "metadata": {},
   "outputs": [
    {
     "name": "stdout",
     "output_type": "stream",
     "text": [
      "1 2\n",
      "1 3\n",
      "1 4\n",
      "2 1\n",
      "2 3\n",
      "2 4\n",
      "3 1\n",
      "3 2\n",
      "3 4\n",
      "4 1\n",
      "4 2\n",
      "4 3\n"
     ]
    }
   ],
   "source": [
    "# 2. 중복체크를 하는 케이스\n",
    "N, M = map(int, input().split())      # 4 2\n",
    "ans = []\n",
    "v = [0] * (N + 1)\n",
    "def dfs(n, lst):\n",
    "    global ans\n",
    "    if n == M:\n",
    "        ans.append(lst)\n",
    "        return\n",
    "    for j in range(1, N+1):\n",
    "        if v[j] == 0: \n",
    "            v[j] = 1                  # 트리의 이번 분기에서 내가 j를 사용했다는 의미로 이번 분기에는 더 이상 사용하지 말라는 의미로 v[j] = 1을 실행한다.    \n",
    "            dfs(n+1, lst+[j])\n",
    "            v[j] = 0                  # 트리의 다음 분기에서 새롭게 작업을 하기 위해 재귀가 실행된 후에 v[j]값을 0으로 원상회복 시켜준다.\n",
    "dfs(0, [])\n",
    "for lst in ans:\n",
    "    print(*lst)"
   ]
  },
  {
   "cell_type": "code",
   "execution_count": 4,
   "metadata": {},
   "outputs": [
    {
     "name": "stdout",
     "output_type": "stream",
     "text": [
      "1 2\n",
      "1 3\n",
      "1 4\n"
     ]
    }
   ],
   "source": [
    "# 3. 중복체크를 하기만 하고 v[j]값을 원상회복 시키지 않는 케이스는 이미 j값들이 시용되어버렸고 중복사용이 허용되지 않으므로 더 이상 다음 분기로 진행할 수 없는 케이스\n",
    "N, M = map(int, input().split())      # 4 2\n",
    "ans = []\n",
    "v = [0] * (N + 1)\n",
    "def dfs(n, lst):\n",
    "    global ans\n",
    "    if n == M:\n",
    "        ans.append(lst)\n",
    "        return\n",
    "    for j in range(1, N+1):\n",
    "        if v[j] == 0: \n",
    "            v[j] = 1                  # 트리의 이번 분기에서 내가 j를 사용했다는 의미로 이번 분기에는 더 이상 사용하지 말라는 의미로 v[j] = 1을 실행한다.    \n",
    "            dfs(n+1, lst+[j])\n",
    "dfs(0, [])\n",
    "for lst in ans:\n",
    "    print(*lst)"
   ]
  },
  {
   "cell_type": "code",
   "execution_count": 5,
   "metadata": {},
   "outputs": [
    {
     "name": "stdout",
     "output_type": "stream",
     "text": [
      "1 2\n",
      "1 3\n",
      "1 4\n",
      "2 3\n",
      "2 4\n",
      "3 4\n"
     ]
    }
   ],
   "source": [
    "# 4. 중복이 허용되지 않고 오름차순인 수열만 선택하는 케이스\n",
    "N, M = map(int, input().split())      \n",
    "ans = []\n",
    "\n",
    "def dfs(n, lst):\n",
    "    global ans\n",
    "    v = [0] * (N+1)\n",
    "    if n == M:\n",
    "        ans.append(lst)\n",
    "        return\n",
    "    for j in range(1, N+1):\n",
    "        if v[j] == 0 and all([j > x for x in lst]):\n",
    "            v[j] = 1\n",
    "            dfs(n+1, lst+[j])\n",
    "dfs(0, [])\n",
    "for lst in ans:\n",
    "    print(*lst)"
   ]
  },
  {
   "cell_type": "code",
   "execution_count": 6,
   "metadata": {},
   "outputs": [
    {
     "name": "stdout",
     "output_type": "stream",
     "text": [
      "1 2\n",
      "1 3\n",
      "1 4\n",
      "2 3\n",
      "2 4\n",
      "3 4\n"
     ]
    }
   ],
   "source": [
    "# 4. 중복이 허용되지 않고 오름차순인 수열만 선택하는 케이스인데 #3번에다 v[j] = 0라는 원상회복작업을 해줘도 같은 결과가 나온다.\n",
    "N, M = map(int, input().split())      \n",
    "ans = []\n",
    "\n",
    "def dfs(n, lst):\n",
    "    global ans\n",
    "    v = [0] * (N+1)\n",
    "    if n == M:\n",
    "        ans.append(lst)\n",
    "        return\n",
    "    for j in range(1, N+1):\n",
    "        if v[j] == 0 and all([j > x for x in lst]):\n",
    "            v[j] = 1\n",
    "            dfs(n+1, lst+[j])\n",
    "            v[j] = 0\n",
    "dfs(0, [])\n",
    "for lst in ans:\n",
    "    print(*lst)"
   ]
  },
  {
   "cell_type": "code",
   "execution_count": 7,
   "metadata": {},
   "outputs": [
    {
     "name": "stdout",
     "output_type": "stream",
     "text": [
      "1 7\n",
      "1 8\n",
      "1 9\n",
      "7 8\n",
      "7 9\n",
      "8 9\n"
     ]
    }
   ],
   "source": [
    "# 5. 서로 다른 임의의 자연수 N개가 주어졌을 때 이중에서 M개를 고른 수열을 나열하는데 이 수열들은 모두 오름차순이어야 하고 수열은 사전 순으로 증가하는 순서로 출력해야 한다.\n",
    "\"\"\"\n",
    "4 2\n",
    "9 8 7 1\n",
    "\"\"\"\n",
    "\n",
    "N, M = map(int, input().split()) \n",
    "nums = list(map(int, input().split()))    \n",
    "ans = []\n",
    "\n",
    "def dfs(n, lst):\n",
    "    global ans\n",
    "    v = [0] * (N+1)\n",
    "    if n == M:\n",
    "        ans.append(lst)\n",
    "        return\n",
    "    for j in range(N):\n",
    "            \n",
    "        if v[j] == 0 and all([nums[j] > x for x in lst]): \n",
    "            v[j] = 1\n",
    "            dfs(n+1, lst + [nums[j]])\n",
    "            v[j] = 0\n",
    "\n",
    "dfs(0, [])\n",
    "for lst in sorted(ans):\n",
    "    print(*lst)"
   ]
  },
  {
   "cell_type": "code",
   "execution_count": 81,
   "metadata": {},
   "outputs": [
    {
     "name": "stdout",
     "output_type": "stream",
     "text": [
      "#1_time_elapsed : 0.0009856224060058594\n",
      "1 7\n",
      "1 9\n",
      "7 1\n",
      "7 9\n",
      "9 1\n",
      "9 7\n",
      "9 9\n",
      "#2_time elapsed : 0.0009856224060058594\n"
     ]
    }
   ],
   "source": [
    "# 15663_N_and_M_9 : tuple & set이용해서 빠른 실행으로 시간초과 안걸리고 성공한 방법!!!\n",
    "# 주어진 N개의 수들중에 같은 숫자가 있는 경우 같은 숫자들간의 반복은 허용되며, M의 길이로 만들어진 수열의 중복은 허용하지 않는다.\n",
    "# 이 유형의 문제는 n을 선택할 숫자로 정의해서 이진트리를 사용해서 각 숫자를 선택하느냐 않느냐의 방법으로는 해결할 수 없다.\n",
    "\"\"\"\n",
    "4 2\n",
    "9 7 9 1\n",
    "\n",
    "8 7\n",
    "9 7 1 6 5 9 9 8\n",
    "\"\"\"\n",
    "\n",
    "import time\n",
    "N, M = map(int, input().split())\n",
    "nums = list(map(int, input().split()))\n",
    "\n",
    "start_time = time.time()\n",
    "v = [0] * (N+1)\n",
    "ans = set()\n",
    "\n",
    "def dfs(n, lst):\n",
    "    global ans\n",
    "    if n == M:\n",
    "        lst = tuple(lst)\n",
    "        ans.add(lst)\n",
    "        return\n",
    "    for j in range(N):\n",
    "        if v[j] == 0:\n",
    "            v[j] = 1\n",
    "            dfs(n+1, list(lst)+[nums[j]])\n",
    "            v[j] = 0\n",
    "            \n",
    "dfs(0, ())\n",
    "intermediate_time = time.time()\n",
    "print(f\"#1_time_elapsed : {intermediate_time - start_time}\")\n",
    "\n",
    "for lst in sorted(ans):\n",
    "    print(*lst)\n",
    "end_time = time.time()\n",
    "print(f\"#2_time elapsed : {end_time - start_time}\")"
   ]
  },
  {
   "cell_type": "code",
   "execution_count": 82,
   "metadata": {},
   "outputs": [
    {
     "name": "stdout",
     "output_type": "stream",
     "text": [
      "#1_time_elapsed : 0.0\n",
      "1 7\n",
      "1 9\n",
      "7 1\n",
      "7 9\n",
      "9 1\n",
      "9 7\n",
      "9 9\n",
      "#2_time elapsed : 0.0010139942169189453\n"
     ]
    }
   ],
   "source": [
    "# 15663_N_and_M_9 : 평소처럼 list만 이용해서 느린 실행으로 시간초과 걸리고 실패한 방법!!!\n",
    "# 주어진 N개의 수들중에 같은 숫자가 있는 경우 같은 숫자들간의 반복은 허용되며, M의 길이로 만들어진 수열의 중복은 허용하지 않는다.\n",
    "import time\n",
    "\n",
    "N, M = map(int, input().split())\n",
    "nums = list(map(int, input().split()))\n",
    "nums.sort()\n",
    "\n",
    "start_time = time.time()\n",
    "v = [0] * (N+1)\n",
    "ans = []\n",
    "\n",
    "def dfs(n, lst):\n",
    "    global ans\n",
    "    if n == M:\n",
    "        if lst not in ans:\n",
    "            ans.append(lst)\n",
    "        return\n",
    "    for j in range(N):\n",
    "        if v[j] == 0:\n",
    "            v[j] = 1\n",
    "            dfs(n+1, lst+[nums[j]])\n",
    "            v[j] = 0\n",
    "            \n",
    "dfs(0, [])\n",
    "intermediate_time = time.time()\n",
    "print(f\"#1_time_elapsed : {intermediate_time - start_time}\")\n",
    "\n",
    "for lst in ans:\n",
    "    print(*lst)\n",
    "end_time = time.time()\n",
    "print(f\"#2_time elapsed : {end_time - start_time}\")"
   ]
  },
  {
   "cell_type": "code",
   "execution_count": 2,
   "metadata": {},
   "outputs": [
    {
     "name": "stdout",
     "output_type": "stream",
     "text": [
      "2 9\n",
      "2 5\n",
      "9 2\n",
      "9 5\n",
      "5 2\n",
      "5 9\n"
     ]
    }
   ],
   "source": [
    "from itertools import permutations\n",
    "\n",
    "x = [2, 9, 5]\n",
    "for i, j in permutations(x, 2):\n",
    "    print(i,j)"
   ]
  },
  {
   "cell_type": "code",
   "execution_count": 1,
   "metadata": {},
   "outputs": [
    {
     "data": {
      "text/plain": [
       "142856.42857142858"
      ]
     },
     "execution_count": 1,
     "metadata": {},
     "output_type": "execute_result"
    }
   ],
   "source": [
    "(1e6 - 5) / 7"
   ]
  },
  {
   "cell_type": "code",
   "execution_count": 2,
   "metadata": {},
   "outputs": [
    {
     "data": {
      "text/plain": [
       "714290"
      ]
     },
     "execution_count": 2,
     "metadata": {},
     "output_type": "execute_result"
    }
   ],
   "source": [
    "142858 * 5"
   ]
  },
  {
   "cell_type": "code",
   "execution_count": null,
   "metadata": {},
   "outputs": [],
   "source": [
    "N = int(input())\n",
    "classes = list(map(int, input().split()))\n",
    "B, C = map(int, input().split())\n",
    "ans = 0\n",
    "\n",
    "for c in classes:\n",
    "    ans += 1\n",
    "    if c <= B:\n",
    "        continue\n",
    "    else:\n",
    "        c -= B\n",
    "        if c % B == 0:\n",
    "            ans = (c // B)\n",
    "        else:\n",
    "            ans = (c // B) + 1\n",
    "            \n",
    "print(ans)"
   ]
  }
 ],
 "metadata": {
  "kernelspec": {
   "display_name": "base",
   "language": "python",
   "name": "python3"
  },
  "language_info": {
   "codemirror_mode": {
    "name": "ipython",
    "version": 3
   },
   "file_extension": ".py",
   "mimetype": "text/x-python",
   "name": "python",
   "nbconvert_exporter": "python",
   "pygments_lexer": "ipython3",
   "version": "3.9.12"
  }
 },
 "nbformat": 4,
 "nbformat_minor": 2
}
