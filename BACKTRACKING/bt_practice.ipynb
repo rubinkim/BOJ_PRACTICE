{
 "cells": [
  {
   "cell_type": "code",
   "execution_count": 1,
   "metadata": {},
   "outputs": [],
   "source": [
    "n = int(input())\n",
    "board = [[0] * n for _ in range(n)]\n",
    "ans = []\n",
    "cnt = 0"
   ]
  },
  {
   "cell_type": "code",
   "execution_count": null,
   "metadata": {},
   "outputs": [],
   "source": [
    "def pruning(row, col):\n",
    "    for j in range(row):\n",
    "        if (board[row][col] == 1 and board[j][col] == 1) or (board[row][col] == 1 and board[j][col - row + j] == 1) or (board[row][col] == 1 and board[j][col + row - j] == 1):\n",
    "            return False\n",
    "        "
   ]
  }
 ],
 "metadata": {
  "kernelspec": {
   "display_name": "base",
   "language": "python",
   "name": "python3"
  },
  "language_info": {
   "codemirror_mode": {
    "name": "ipython",
    "version": 3
   },
   "file_extension": ".py",
   "mimetype": "text/x-python",
   "name": "python",
   "nbconvert_exporter": "python",
   "pygments_lexer": "ipython3",
   "version": "3.9.12"
  }
 },
 "nbformat": 4,
 "nbformat_minor": 2
}
