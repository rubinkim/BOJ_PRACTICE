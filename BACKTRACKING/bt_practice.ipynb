{
 "cells": [
  {
   "cell_type": "code",
   "execution_count": 19,
   "metadata": {},
   "outputs": [],
   "source": [
    "n = int(input())\n",
    "board = [[0] * n for _ in range(n)]\n",
    "ans = []\n",
    "cnt = 0"
   ]
  },
  {
   "cell_type": "code",
   "execution_count": 20,
   "metadata": {},
   "outputs": [],
   "source": [
    "def pruning(row, col):\n",
    "    for j in range(row):\n",
    "        if col - row + j <= -1 or col + row - j >= n:\n",
    "            return False\n",
    "        else:\n",
    "            if (board[row][col] == 1 and board[j][col] == 1) or (board[row][col] == 1 and board[j][col - row + j] == 1) or (board[row][col] == 1 and board[j][col + row - j] == 1):\n",
    "                print(f\"j : {j}, col : {col}, row : {row}, col-row+j : {col-row+j}, col+row-j : {col+row-j}\")\n",
    "                return False\n",
    "    return True"
   ]
  },
  {
   "cell_type": "code",
   "execution_count": 21,
   "metadata": {},
   "outputs": [],
   "source": [
    "def nQueen(row):\n",
    "    global board, ans, cnt\n",
    "    if row == n:\n",
    "        ans += 1\n",
    "    else:\n",
    "        for i in range(n):\n",
    "            board[row][i] = 1\n",
    "            if pruning(row, i):\n",
    "                if (row, i) not in ans:\n",
    "                    ans.append((row, i))\n",
    "                    nQueen(row + 1)\n",
    "                    #ans.pop()        "
   ]
  },
  {
   "cell_type": "code",
   "execution_count": 22,
   "metadata": {},
   "outputs": [
    {
     "name": "stdout",
     "output_type": "stream",
     "text": [
      "j : 0, col : 1, row : 1, col-row+j : 0, col+row-j : 2\n",
      "j : 0, col : 2, row : 2, col-row+j : 0, col+row-j : 4\n",
      "j : 0, col : 2, row : 2, col-row+j : 0, col+row-j : 4\n",
      "j : 0, col : 1, row : 1, col-row+j : 0, col+row-j : 2\n",
      "j : 0, col : 2, row : 1, col-row+j : 1, col+row-j : 3\n",
      "j : 0, col : 2, row : 2, col-row+j : 0, col+row-j : 4\n",
      "j : 0, col : 1, row : 1, col-row+j : 0, col+row-j : 2\n",
      "j : 0, col : 2, row : 1, col-row+j : 1, col+row-j : 3\n",
      "j : 0, col : 3, row : 1, col-row+j : 2, col+row-j : 4\n",
      "j : 0, col : 1, row : 1, col-row+j : 0, col+row-j : 2\n",
      "j : 0, col : 2, row : 1, col-row+j : 1, col+row-j : 3\n",
      "j : 0, col : 3, row : 1, col-row+j : 2, col+row-j : 4\n",
      "j : 0, col : 1, row : 1, col-row+j : 0, col+row-j : 2\n",
      "j : 0, col : 2, row : 1, col-row+j : 1, col+row-j : 3\n",
      "j : 0, col : 3, row : 1, col-row+j : 2, col+row-j : 4\n",
      "[]\n",
      "0\n"
     ]
    }
   ],
   "source": [
    "nQueen(0)\n",
    "print(ans)\n",
    "print(cnt)"
   ]
  },
  {
   "cell_type": "code",
   "execution_count": 23,
   "metadata": {},
   "outputs": [
    {
     "name": "stdout",
     "output_type": "stream",
     "text": [
      "[1, 1, 1, 1, 1]\n",
      "[1, 1, 1, 1, 1]\n",
      "[1, 1, 1, 1, 1]\n",
      "[0, 0, 0, 0, 0]\n",
      "[0, 0, 0, 0, 0]\n"
     ]
    }
   ],
   "source": [
    "for row in board:\n",
    "    print(row)"
   ]
  }
 ],
 "metadata": {
  "kernelspec": {
   "display_name": "base",
   "language": "python",
   "name": "python3"
  },
  "language_info": {
   "codemirror_mode": {
    "name": "ipython",
    "version": 3
   },
   "file_extension": ".py",
   "mimetype": "text/x-python",
   "name": "python",
   "nbconvert_exporter": "python",
   "pygments_lexer": "ipython3",
   "version": "3.9.12"
  }
 },
 "nbformat": 4,
 "nbformat_minor": 2
}
