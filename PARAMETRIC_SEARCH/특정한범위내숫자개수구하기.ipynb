{
 "cells": [
  {
   "cell_type": "code",
   "execution_count": null,
   "metadata": {},
   "outputs": [],
   "source": [
    "n, x = map(int, input().split())          # n : 배열의 원소 개수,    x : 특정한 수\n",
    "array = list(map(int, input().split()))   # (7 2,   4 9 0 2 1 8 3 7 4 3 8 9 2 1 1 2 9 1 5 5 9 3 2 8 4 3 2 1)\n",
    "\n",
    "print(f\"n : {n},  m : {m}\")\n",
    "print(f\"array : {array}\")"
   ]
  }
 ],
 "metadata": {
  "kernelspec": {
   "display_name": "base",
   "language": "python",
   "name": "python3"
  },
  "language_info": {
   "name": "python",
   "version": "3.9.12"
  }
 },
 "nbformat": 4,
 "nbformat_minor": 2
}
