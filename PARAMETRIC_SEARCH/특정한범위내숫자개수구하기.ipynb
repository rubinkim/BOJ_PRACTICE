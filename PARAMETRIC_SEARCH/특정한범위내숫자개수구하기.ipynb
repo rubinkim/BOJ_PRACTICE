{
 "cells": [
  {
   "cell_type": "code",
   "execution_count": 5,
   "metadata": {},
   "outputs": [
    {
     "name": "stdout",
     "output_type": "stream",
     "text": [
      "n : 30,  m : 7\n",
      "array : [0, 1, 1, 1, 1, 1, 2, 2, 2, 2, 2, 2, 3, 3, 3, 3, 4, 4, 4, 5, 5, 5, 7, 8, 8, 8, 9, 9, 9, 9]\n",
      "30\n"
     ]
    }
   ],
   "source": [
    "n, x = map(int, input().split())          # n : 배열의 원소 개수,    x : 특정한 수\n",
    "array = list(map(int, input().split()))   # (7 2,   4 9 0 2 1 8 3 7 4 3 8 9 2 1 1 2 9 1 5 5 9 3 2 8 4 3 2 1 5 2)\n",
    "array.sort()\n",
    "\n",
    "print(f\"n : {n},  m : {x}\")\n",
    "print(f\"array : {array}\")\n",
    "print(len(array))"
   ]
  },
  {
   "cell_type": "code",
   "execution_count": 7,
   "metadata": {},
   "outputs": [],
   "source": [
    "def count_by_range(array, left_value, right_value):\n",
    "    from bisect import bisect_left, bisect_right\n",
    "    left_index = bisect_left(array, left_value)\n",
    "    right_index = bisect_right(array, right_value)\n",
    "    return right_value - left_value"
   ]
  }
 ],
 "metadata": {
  "kernelspec": {
   "display_name": "base",
   "language": "python",
   "name": "python3"
  },
  "language_info": {
   "codemirror_mode": {
    "name": "ipython",
    "version": 3
   },
   "file_extension": ".py",
   "mimetype": "text/x-python",
   "name": "python",
   "nbconvert_exporter": "python",
   "pygments_lexer": "ipython3",
   "version": "3.9.12"
  }
 },
 "nbformat": 4,
 "nbformat_minor": 2
}
