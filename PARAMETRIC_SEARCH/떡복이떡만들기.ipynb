{
 "cells": [
  {
   "cell_type": "code",
   "execution_count": 40,
   "metadata": {},
   "outputs": [
    {
     "name": "stdout",
     "output_type": "stream",
     "text": [
      "n : 10,   m : 110\n",
      "array : [2, 4, 10, 16, 19, 20, 21, 28, 30, 46]\n"
     ]
    }
   ],
   "source": [
    "n, m = map(int, input().split())       # n : 떡의 갯수    m : 고객이 요청한 떡의 길이   (4 6,    19 15 10 17)\n",
    "print(f\"n : {n},   m : {m}\")                                                        # (10 110,   10 19 20 46 2 16 4 21 30 28)\n",
    "\n",
    "array = list(map(int, input().split()))       # array : n개 떡들의 개별 길이\n",
    "array.sort()\n",
    "print(f\"array : {array}\")"
   ]
  },
  {
   "cell_type": "code",
   "execution_count": 41,
   "metadata": {},
   "outputs": [],
   "source": [
    "# recursion을 이용한 parametric search\n",
    "def parametric_searcch(array, target, start, end):    \n",
    "    mid = (start+end) // 2\n",
    "    leftover = [0 if x<array[mid] else x-array[mid] for x in array] \n",
    "    print(f\"mid : {mid}, sum(leftover) : {sum(leftover)},  target : {target}\")\n",
    "    \n",
    "    if start > end:\n",
    "        return None\n",
    "    if sum(leftover) == target:\n",
    "        return mid\n",
    "    elif sum(leftover) > target:\n",
    "        return parametric_searcch(array, target, mid+1, end)\n",
    "    else:\n",
    "        return parametric_searcch(array, target, start, mid-1)    "
   ]
  },
  {
   "cell_type": "code",
   "execution_count": 42,
   "metadata": {},
   "outputs": [
    {
     "name": "stdout",
     "output_type": "stream",
     "text": [
      "mid : 4, sum(leftover) : 50,  target : 110\n",
      "mid : 1, sum(leftover) : 158,  target : 110\n",
      "mid : 2, sum(leftover) : 110,  target : 110\n",
      "index : 2,    절단기 높이 : 10\n"
     ]
    }
   ],
   "source": [
    "result = parametric_searcch(array, m, 0, n-1)\n",
    "if result == None:\n",
    "    print(\"절단기의 높이가 없습니다.\")\n",
    "else:\n",
    "    print(f\"index : {result},    절단기 높이 : {array[result]}\")"
   ]
  },
  {
   "cell_type": "code",
   "execution_count": null,
   "metadata": {},
   "outputs": [],
   "source": []
  },
  {
   "cell_type": "code",
   "execution_count": null,
   "metadata": {},
   "outputs": [],
   "source": [
    "n, m = map(int, input().split())       # n : 떡의 갯수    m : 고객이 요청한 떡의 길이   (4 6,    19 15 10 17)\n",
    "print(f\"n : {n},   m : {m}\")                                                        # (10 110,   10 19 20 46 2 16 4 21 30 28)\n",
    "\n",
    "array = list(map(int, input().split()))       # array : n개 떡들의 개별 길이\n",
    "array.sort()\n",
    "print(f\"array : {array}\")"
   ]
  },
  {
   "cell_type": "code",
   "execution_count": null,
   "metadata": {},
   "outputs": [],
   "source": [
    "# while문을 이용한 parametric search\n",
    "def parametric_search_while(array, target, start, end):\n",
    "    mid = (start+end) // 2\n",
    "    leftover = [0 if x<array[mid] else x-array[mid] for x in array]\n",
    "    while start <= end:\n",
    "        "
   ]
  }
 ],
 "metadata": {
  "kernelspec": {
   "display_name": "base",
   "language": "python",
   "name": "python3"
  },
  "language_info": {
   "codemirror_mode": {
    "name": "ipython",
    "version": 3
   },
   "file_extension": ".py",
   "mimetype": "text/x-python",
   "name": "python",
   "nbconvert_exporter": "python",
   "pygments_lexer": "ipython3",
   "version": "3.9.12"
  }
 },
 "nbformat": 4,
 "nbformat_minor": 2
}
