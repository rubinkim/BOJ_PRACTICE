{
 "cells": [
  {
   "cell_type": "code",
   "execution_count": 1,
   "metadata": {},
   "outputs": [
    {
     "name": "stdout",
     "output_type": "stream",
     "text": [
      "n : 4,   m : 6\n",
      "array : [19, 15, 10, 17]\n"
     ]
    }
   ],
   "source": [
    "n, m = map(int, input().split())       # n : 떡의 갯수    m : 고객이 요청한 떡의 길이   4 6,    19 15 10 17\n",
    "print(f\"n : {n},   m : {m}\")\n",
    "\n",
    "array = list(map(int, input().split()))       # array : n개 떡들의 개별 길이\n",
    "print(f\"array : {array}\")"
   ]
  }
 ],
 "metadata": {
  "kernelspec": {
   "display_name": "base",
   "language": "python",
   "name": "python3"
  },
  "language_info": {
   "codemirror_mode": {
    "name": "ipython",
    "version": 3
   },
   "file_extension": ".py",
   "mimetype": "text/x-python",
   "name": "python",
   "nbconvert_exporter": "python",
   "pygments_lexer": "ipython3",
   "version": "3.9.12"
  }
 },
 "nbformat": 4,
 "nbformat_minor": 2
}
