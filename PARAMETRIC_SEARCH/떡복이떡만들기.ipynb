{
 "cells": [
  {
   "cell_type": "code",
   "execution_count": null,
   "metadata": {},
   "outputs": [],
   "source": [
    "n, m = map(int, input().split())       # n : 떡의 갯수    m : 고객이 요청한 떡의 길이\n",
    "print(f\"n : {n},   m : {m}\")\n",
    "\n",
    "array = list(map(int, input().split()))       # array : n개 떡들의 개별 길이"
   ]
  }
 ],
 "metadata": {
  "kernelspec": {
   "display_name": "base",
   "language": "python",
   "name": "python3"
  },
  "language_info": {
   "name": "python",
   "version": "3.9.12"
  }
 },
 "nbformat": 4,
 "nbformat_minor": 2
}
