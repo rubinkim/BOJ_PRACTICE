{
 "cells": [
  {
   "cell_type": "code",
   "execution_count": 16,
   "metadata": {},
   "outputs": [
    {
     "name": "stdout",
     "output_type": "stream",
     "text": [
      "n : 10,  c : 5\n",
      "barn : [0, 8, 9, 12, 13, 17, 18, 27, 29, 35]\n"
     ]
    }
   ],
   "source": [
    "n, c = map(int, input().split())\n",
    "print(f\"n : {n},  c : {c}\")\n",
    "\n",
    "barn = list(map(int, input().split()))\n",
    "barn.sort()\n",
    "print(f\"barn : {barn}\")"
   ]
  },
  {
   "cell_type": "code",
   "execution_count": 17,
   "metadata": {},
   "outputs": [
    {
     "name": "stdout",
     "output_type": "stream",
     "text": [
      "start : 1,  end : 35\n"
     ]
    }
   ],
   "source": [
    "largest_minimum_dist = 0\n",
    "start = 1                     # largest_minimum_dist가 가질 수 있는 가장 작은 값은 바로 옆에 칸과의 거리인 1로 둔다.\n",
    "end = barn[-1] - barn[0]      # largest_minimum_dist가 가질 수 있는 가장 큰 값은 맨마지막칸과 맨처음칸과의 거리이다.\n",
    "print(f\"start : {start},  end : {end}\")"
   ]
  },
  {
   "cell_type": "code",
   "execution_count": 18,
   "metadata": {},
   "outputs": [
    {
     "name": "stdout",
     "output_type": "stream",
     "text": [
      "count : 2\n",
      "count : 4\n",
      "count : 6\n",
      "count : 5\n",
      "count : 5\n",
      "count : 5\n",
      "cow가 쉴 stall간의 최소거리의 가장 큰 값은 8\n"
     ]
    }
   ],
   "source": [
    "while start <= end:\n",
    "    mid = (start + end) // 2            # mid는 largest_minimum_dist의 값을 저장하는 변수이다.\n",
    "    current = barn[0]\n",
    "    count = 1                           # count는 몇마리의 cow들을 barn에 쉬게 하는지를 나타내는 변수이다.\n",
    "    for i in range(1, len(barn)):\n",
    "        if barn[i] >= current + mid:\n",
    "            count += 1                  # 어떤 칸과 바로 옆칸의 거리가 mid를 넘는다면 당연히 그칸에 cow를 쉬게 하는 거고, 넘지 못한다면 그칸은 cow를 넣지 않고 빈채로 놔둔다.\n",
    "            current = barn[i]\n",
    "            \n",
    "    print(f\"count : {count}\")\n",
    "    \n",
    "    if count >= c:                      # 현재의 largest_minimum_dist로 barn에 들어갈 수 있는 cow의 수가 문제에서 요구하는 cow의 수인 c보다 많다면\n",
    "        largest_minimum_dist = mid      # largest_minimum_dist를 mid값으로 할당한다.  \n",
    "        start = mid + 1                 # largest_minimum_dist값을 더 크게 해도 되므로 start를 mid+1로 변경한다.\n",
    "    else:                               # 현재의 largest_minimum_dist로 barn에 들어갈 수 있는 cow의 수가 문제에서 요구하는 cow수를 채우지 못한다면\n",
    "        end = mid - 1                   # 더 많은 cow를 barn에 넣기 위해서 largest_minimum_dist를 작게 해야 하므로 end를 mid-1로 변경한다.\n",
    "        \n",
    "print(f\"cow가 쉴 stall간의 최소거리의 가장 큰 값은 {largest_minimum_dist}\")"
   ]
  }
 ],
 "metadata": {
  "kernelspec": {
   "display_name": "base",
   "language": "python",
   "name": "python3"
  },
  "language_info": {
   "codemirror_mode": {
    "name": "ipython",
    "version": 3
   },
   "file_extension": ".py",
   "mimetype": "text/x-python",
   "name": "python",
   "nbconvert_exporter": "python",
   "pygments_lexer": "ipython3",
   "version": "3.9.12"
  }
 },
 "nbformat": 4,
 "nbformat_minor": 2
}
