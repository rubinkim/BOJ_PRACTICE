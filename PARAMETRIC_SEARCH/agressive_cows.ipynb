{
 "cells": [
  {
   "cell_type": "code",
   "execution_count": null,
   "metadata": {},
   "outputs": [],
   "source": [
    "n, c = map(int, input().split())\n",
    "print(f\"n : {n},  c : {c}\")\n",
    "\n",
    "barn = [int(input()) for _ in range(n)]\n",
    "print(f\"barn : {barn}\")"
   ]
  }
 ],
 "metadata": {
  "kernelspec": {
   "display_name": "base",
   "language": "python",
   "name": "python3"
  },
  "language_info": {
   "name": "python",
   "version": "3.9.12"
  }
 },
 "nbformat": 4,
 "nbformat_minor": 2
}
