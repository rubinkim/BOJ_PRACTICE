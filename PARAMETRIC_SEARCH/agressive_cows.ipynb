{
 "cells": [
  {
   "cell_type": "code",
   "execution_count": 16,
   "metadata": {},
   "outputs": [
    {
     "name": "stdout",
     "output_type": "stream",
     "text": [
      "n : 10,  c : 5\n",
      "barn : [0, 8, 9, 12, 13, 17, 18, 27, 29, 35]\n"
     ]
    }
   ],
   "source": [
    "n, c = map(int, input().split())\n",
    "print(f\"n : {n},  c : {c}\")\n",
    "\n",
    "barn = list(map(int, input().split()))\n",
    "barn.sort()\n",
    "print(f\"barn : {barn}\")"
   ]
  },
  {
   "cell_type": "code",
   "execution_count": 17,
   "metadata": {},
   "outputs": [
    {
     "name": "stdout",
     "output_type": "stream",
     "text": [
      "start : 1,  end : 35\n"
     ]
    }
   ],
   "source": [
    "largest_minimum_dist = 0\n",
    "start = 1                     # largest_minimum_dist가 가질 수 있는 가장 작은 값은 바로 옆에 칸과의 거리인 1로 둔다.\n",
    "end = barn[-1] - barn[0]      # largest_minimum_dist가 가질 수 있는 가장 큰 값은 맨마지막칸과 맨처음칸과의 거리이다.\n",
    "print(f\"start : {start},  end : {end}\")"
   ]
  },
  {
   "cell_type": "code",
   "execution_count": 18,
   "metadata": {},
   "outputs": [
    {
     "name": "stdout",
     "output_type": "stream",
     "text": [
      "count : 2\n",
      "count : 4\n",
      "count : 6\n",
      "count : 5\n",
      "count : 5\n",
      "count : 5\n",
      "cow가 쉴 stall간의 최소거리의 가장 큰 값은 8\n"
     ]
    }
   ],
   "source": [
    "while start <= end:\n",
    "    mid = (start + end) // 2            # mid는 largest_minimum_dist의 값을 저장하는 변수이다.\n",
    "    current = barn[0]\n",
    "    count = 1                           # count는 몇마리의 cow들을 barn에 쉬게 하는지를 나타내는 변수이다.\n",
    "    for i in range(1, len(barn)):\n",
    "        if barn[i] >= current + mid:\n",
    "            count += 1                  # 어떤 칸과 바로 옆칸의 거리가 mid를 넘는다면 당연히 그칸에 cow를 쉬게 하는 거고, 넘지 못한다면 그칸은 cow를 넣지 않고 빈채로 놔둔다.\n",
    "            current = barn[i]\n",
    "            \n",
    "    print(f\"count : {count}\")\n",
    "    \n",
    "    if count >= c:                      # 현재의 largest_minimum_dist로 barn에 들어갈 수 있는 cow의 수가 문제에서 요구하는 cow의 수인 c보다 많다면\n",
    "        largest_minimum_dist = mid      # largest_minimum_dist를 mid값으로 할당한다.  \n",
    "        start = mid + 1                 # largest_minimum_dist값을 더 크게 해도 되므로 start를 mid+1로 변경한다.\n",
    "    else:                               # 현재의 largest_minimum_dist로 barn에 들어갈 수 있는 cow의 수가 문제에서 요구하는 cow수를 채우지 못한다면\n",
    "        end = mid - 1                   # 더 많은 cow를 barn에 넣기 위해서 largest_minimum_dist를 작게 해야 하므로 end를 mid-1로 변경한다.\n",
    "        \n",
    "print(f\"cow가 쉴 stall간의 최소거리의 가장 큰 값은 {largest_minimum_dist}\")"
   ]
  },
  {
   "cell_type": "markdown",
   "metadata": {},
   "source": [
    "#### 1300번 : k번째 수"
   ]
  },
  {
   "cell_type": "code",
   "execution_count": 34,
   "metadata": {},
   "outputs": [
    {
     "data": {
      "text/plain": [
       "6"
      ]
     },
     "execution_count": 34,
     "metadata": {},
     "output_type": "execute_result"
    }
   ],
   "source": [
    "x = [1, 2, 3, 2, 4, 6, 3, 6, 9]\n",
    "x.sort()\n",
    "x[7]"
   ]
  },
  {
   "cell_type": "code",
   "execution_count": 38,
   "metadata": {},
   "outputs": [
    {
     "name": "stdout",
     "output_type": "stream",
     "text": [
      "n : 7,  k : 30\n"
     ]
    }
   ],
   "source": [
    "n = int(input())\n",
    "k = int(input())\n",
    "print(f\"n : {n},  k : {k}\")"
   ]
  },
  {
   "cell_type": "code",
   "execution_count": 39,
   "metadata": {},
   "outputs": [
    {
     "name": "stdout",
     "output_type": "stream",
     "text": [
      "[1, 2, 3, 4, 5, 6, 7]\n",
      "[2, 4, 6, 8, 10, 12, 14]\n",
      "[3, 6, 9, 12, 15, 18, 21]\n",
      "[4, 8, 12, 16, 20, 24, 28]\n",
      "[5, 10, 15, 20, 25, 30, 35]\n",
      "[6, 12, 18, 24, 30, 36, 42]\n",
      "[7, 14, 21, 28, 35, 42, 49]\n",
      "[1, 2, 2, 3, 3, 4, 4, 4, 5, 5, 6, 6, 6, 6, 7, 7, 8, 8, 9, 10, 10, 12, 12, 12, 12, 14, 14, 15, 15, 16, 18, 18, 20, 20, 21, 21, 24, 24, 25, 28, 28, 30, 30, 35, 35, 36, 42, 42, 49]\n",
      "16\n"
     ]
    }
   ],
   "source": [
    "# n * n 배열 만들기\n",
    "a = [[(i+1)*(j+1) for j in range(n)] for i in range(n)]\n",
    "for row in a:\n",
    "    print(row)\n",
    "    \n",
    "b = []\n",
    "for i in range(len(a)):\n",
    "    for j in range(len(a[i])):\n",
    "        b.append(a[i][j])\n",
    "        \n",
    "b.sort()\n",
    "        \n",
    "print(b)\n",
    "print(b[k-1])"
   ]
  },
  {
   "cell_type": "code",
   "execution_count": 40,
   "metadata": {},
   "outputs": [
    {
     "name": "stdout",
     "output_type": "stream",
     "text": [
      "16\n"
     ]
    }
   ],
   "source": [
    "start = 0\n",
    "end = len(b) - 1\n",
    "ans = 0\n",
    "while True:\n",
    "    mid = (start + end) // 2\n",
    "    if b[k-1] == b[mid]:\n",
    "        ans = b[mid]\n",
    "        break\n",
    "    elif b[k-1] > b[mid]:\n",
    "        start = mid + 1\n",
    "    else:\n",
    "        end = mid - 1\n",
    "        \n",
    "print(b[mid])"
   ]
  },
  {
   "cell_type": "code",
   "execution_count": 41,
   "metadata": {},
   "outputs": [
    {
     "name": "stdout",
     "output_type": "stream",
     "text": [
      "16\n"
     ]
    }
   ],
   "source": [
    "n = int(input())\n",
    "k = int(input())\n",
    "\n",
    "a = [[(i+1)*(j+1) for j in range(n)] for i in range(n)]\n",
    "b = []\n",
    "for i in range(len(a)):\n",
    "    for j in range(len(a[i])):\n",
    "        b.append(a[i][j])\n",
    "        \n",
    "b.sort()\n",
    "\n",
    "start = 0\n",
    "end = len(b) - 1\n",
    "ans = 0\n",
    "while True:\n",
    "    mid = (start + end) // 2\n",
    "    if b[k-1] == b[mid]:\n",
    "        ans = b[mid]\n",
    "        break\n",
    "    elif b[k-1] > b[mid]:\n",
    "        start = mid + 1\n",
    "    else:\n",
    "        end = mid - 1\n",
    "        \n",
    "print(ans)"
   ]
  },
  {
   "cell_type": "code",
   "execution_count": 42,
   "metadata": {},
   "outputs": [
    {
     "name": "stdout",
     "output_type": "stream",
     "text": [
      "16\n"
     ]
    }
   ],
   "source": [
    "n = int(input())\n",
    "k = int(input())\n",
    "\n",
    "b = []\n",
    "for i in range(n):\n",
    "    for j in range(n):\n",
    "        b.append((i+1)*(j+1))\n",
    "        \n",
    "b.sort()\n",
    "\n",
    "start = 0\n",
    "end = len(b) - 1\n",
    "ans = 0\n",
    "while True:\n",
    "    mid = (start + end) // 2\n",
    "    if b[k-1] == b[mid]:\n",
    "        ans = b[mid]\n",
    "        break\n",
    "    elif b[k-1] > b[mid]:\n",
    "        start = mid + 1\n",
    "    else:\n",
    "        end = mid - 1\n",
    "        \n",
    "print(ans)"
   ]
  },
  {
   "cell_type": "code",
   "execution_count": null,
   "metadata": {},
   "outputs": [],
   "source": [
    "n = int(input())\n",
    "k = int(input())\n",
    "\n",
    "b = []\n",
    "for i in range(n):\n",
    "    for j in range(n):\n",
    "        b.append((i+1)*(j+1))\n",
    "        \n",
    "b.sort()\n",
    "\n",
    "start = 0\n",
    "end = len(b) - 1\n",
    "ans = 0\n",
    "while True:\n",
    "    mid = (start + end) // 2\n",
    "    if b[k-1] == b[mid]:\n",
    "        ans = b[mid]\n",
    "        break\n",
    "    elif b[k-1] > b[mid]:\n",
    "        start = mid + 1\n",
    "    else:\n",
    "        end = mid - 1\n",
    "        \n",
    "print(ans)"
   ]
  },
  {
   "cell_type": "code",
   "execution_count": 43,
   "metadata": {},
   "outputs": [
    {
     "name": "stdout",
     "output_type": "stream",
     "text": [
      "16\n"
     ]
    }
   ],
   "source": [
    "n = int(input())\n",
    "k = int(input())\n",
    "\n",
    "b = []\n",
    "for i in range(n):\n",
    "    for j in range(n):\n",
    "        if (i+1)*(j+1) <= n ** 9:\n",
    "            b.append((i+1)*(j+1))\n",
    "        \n",
    "b.sort()\n",
    "\n",
    "start = 0\n",
    "end = len(b) - 1\n",
    "ans = 0\n",
    "while True:\n",
    "    mid = (start + end) // 2\n",
    "    if b[k-1] == b[mid]:\n",
    "        ans = b[mid]\n",
    "        break\n",
    "    elif b[k-1] > b[mid]:\n",
    "        start = mid + 1\n",
    "    else:\n",
    "        end = mid - 1\n",
    "        \n",
    "print(ans)"
   ]
  }
 ],
 "metadata": {
  "kernelspec": {
   "display_name": "base",
   "language": "python",
   "name": "python3"
  },
  "language_info": {
   "codemirror_mode": {
    "name": "ipython",
    "version": 3
   },
   "file_extension": ".py",
   "mimetype": "text/x-python",
   "name": "python",
   "nbconvert_exporter": "python",
   "pygments_lexer": "ipython3",
   "version": "3.9.12"
  }
 },
 "nbformat": 4,
 "nbformat_minor": 2
}
