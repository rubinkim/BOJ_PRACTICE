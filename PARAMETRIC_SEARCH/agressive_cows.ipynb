{
 "cells": [
  {
   "cell_type": "code",
   "execution_count": 8,
   "metadata": {},
   "outputs": [
    {
     "name": "stdout",
     "output_type": "stream",
     "text": [
      "n : 10,  c : 5\n",
      "barn : [0, 8, 9, 12, 13, 17, 18, 27, 29, 35]\n"
     ]
    }
   ],
   "source": [
    "n, c = map(int, input().split())\n",
    "print(f\"n : {n},  c : {c}\")\n",
    "\n",
    "barn = list(map(int, input().split()))\n",
    "barn.sort()\n",
    "print(f\"barn : {barn}\")"
   ]
  },
  {
   "cell_type": "code",
   "execution_count": 9,
   "metadata": {},
   "outputs": [
    {
     "name": "stdout",
     "output_type": "stream",
     "text": [
      "start : 1,  end : 35\n"
     ]
    }
   ],
   "source": [
    "largest_maximum_dist = 0\n",
    "start = 1                     # largest_maximum_dist가 가질 수 있는 가장 작은 값은 바로 옆에 칸과의 거리인 1로 둔다.\n",
    "end = barn[-1] - barn[0]      # largest_maximum_dist가 가질 수 있는 가장 큰 값은 맨마지막칸과 맨처음칸과의 거리이다.\n",
    "print(f\"start : {start},  end : {end}\")"
   ]
  },
  {
   "cell_type": "code",
   "execution_count": null,
   "metadata": {},
   "outputs": [],
   "source": [
    "current = barn[0]\n",
    "\n",
    "while start <= end:\n",
    "    mid = (start + end) // 2      # mid는 largest_maximum_dist의 값을 저장하는 역할을 한다.\n",
    "    for i in range(1, len(barn)):\n",
    "        "
   ]
  }
 ],
 "metadata": {
  "kernelspec": {
   "display_name": "base",
   "language": "python",
   "name": "python3"
  },
  "language_info": {
   "codemirror_mode": {
    "name": "ipython",
    "version": 3
   },
   "file_extension": ".py",
   "mimetype": "text/x-python",
   "name": "python",
   "nbconvert_exporter": "python",
   "pygments_lexer": "ipython3",
   "version": "3.9.12"
  }
 },
 "nbformat": 4,
 "nbformat_minor": 2
}
