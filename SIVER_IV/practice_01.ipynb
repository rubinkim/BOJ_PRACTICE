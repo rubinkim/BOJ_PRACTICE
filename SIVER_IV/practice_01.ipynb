{
 "cells": [
  {
   "cell_type": "markdown",
   "metadata": {},
   "source": [
    "#### selection sort, insertion sort, quick sort"
   ]
  },
  {
   "cell_type": "code",
   "execution_count": 11,
   "metadata": {},
   "outputs": [
    {
     "name": "stdout",
     "output_type": "stream",
     "text": [
      "[15, 5, 23, 18, 9, 6, 28, 23, 13, 24, 22, 24, 8, 17, 7, 20, 26, 23, 15, 11, 13, 16, 23, 19, 30, 6, 9, 17, 22, 10]\n"
     ]
    }
   ],
   "source": [
    "import random\n",
    "random.seed(2024)\n",
    "\n",
    "arr = [random.randint(0, 30) for _ in range(30)]\n",
    "print(arr)"
   ]
  }
 ],
 "metadata": {
  "kernelspec": {
   "display_name": "base",
   "language": "python",
   "name": "python3"
  },
  "language_info": {
   "codemirror_mode": {
    "name": "ipython",
    "version": 3
   },
   "file_extension": ".py",
   "mimetype": "text/x-python",
   "name": "python",
   "nbconvert_exporter": "python",
   "pygments_lexer": "ipython3",
   "version": "3.9.12"
  }
 },
 "nbformat": 4,
 "nbformat_minor": 2
}
