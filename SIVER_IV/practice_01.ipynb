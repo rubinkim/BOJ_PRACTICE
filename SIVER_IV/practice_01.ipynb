{
 "cells": [
  {
   "cell_type": "markdown",
   "metadata": {},
   "source": [
    "#### selection sort, insertion sort, quick sort"
   ]
  },
  {
   "cell_type": "code",
   "execution_count": 19,
   "metadata": {},
   "outputs": [
    {
     "name": "stdout",
     "output_type": "stream",
     "text": [
      "[15, 5, 23, 18, 9, 7, 28, 25, 13, 27, 29, 24, 8, 21, 1, 20, 26, 3, 15, 11, 12, 16, 23, 19, 30, 6, 0, 17, 22, 10]\n",
      "[0, 1, 3, 5, 6, 7, 8, 9, 10, 11, 12, 13, 15, 15, 16, 17, 18, 19, 20, 21, 22, 23, 23, 24, 25, 26, 27, 28, 29, 30]\n"
     ]
    }
   ],
   "source": [
    "# selection sort\n",
    "arr = [15, 5, 23, 18, 9, 7, 28, 25, 13, 27, 29, 24, 8, 21, 1, 20, 26, 3, 15, 11, 12, 16, 23, 19, 30, 6, 0, 17, 22, 10]\n",
    "print(arr)\n",
    "\n",
    "for i in range(len(arr)):\n",
    "    min_index = i\n",
    "    for j in range(i+1, len(arr)):\n",
    "        if arr[min_index] > arr[j]:\n",
    "            min_index = j\n",
    "    arr[i], arr[min_index] = arr[min_index], arr[i]\n",
    "    \n",
    "print(arr)"
   ]
  },
  {
   "cell_type": "code",
   "execution_count": 20,
   "metadata": {},
   "outputs": [
    {
     "name": "stdout",
     "output_type": "stream",
     "text": [
      "[15, 5, 23, 18, 9, 7, 28, 25, 13, 27, 29, 24, 8, 21, 1, 20, 26, 3, 15, 11, 12, 16, 23, 19, 30, 6, 0, 17, 22, 10]\n",
      "[0, 1, 3, 5, 6, 7, 8, 9, 10, 11, 12, 13, 15, 15, 16, 17, 18, 19, 20, 21, 22, 23, 23, 24, 25, 26, 27, 28, 29, 30]\n"
     ]
    }
   ],
   "source": [
    "# insertion sort\n",
    "arr = [15, 5, 23, 18, 9, 7, 28, 25, 13, 27, 29, 24, 8, 21, 1, 20, 26, 3, 15, 11, 12, 16, 23, 19, 30, 6, 0, 17, 22, 10]\n",
    "print(arr)\n",
    "\n",
    "for i in range(1, len(arr)):\n",
    "    for j in range(i, 0, -1):\n",
    "        if arr[j-1] > arr[j]:\n",
    "            arr[j-1], arr[j] = arr[j], arr[j-1]\n",
    "\n",
    "print(arr)"
   ]
  },
  {
   "cell_type": "code",
   "execution_count": null,
   "metadata": {},
   "outputs": [],
   "source": [
    "# quick sort\n",
    "arr = [15, 5, 23, 18, 9, 7, 28, 25, 13, 27, 29, 24, 8, 21, 1, 20, 26, 3, 15, 11, 12, 16, 23, 19, 30, 6, 0, 17, 22, 10]\n",
    "print(arr)\n",
    "\n",
    "def quick_sort_python(array):\n",
    "    pivot = array[0]\n",
    "    tail = array[1:]\n",
    "    left_side = [x for x in array if x <= pivot]"
   ]
  }
 ],
 "metadata": {
  "kernelspec": {
   "display_name": "base",
   "language": "python",
   "name": "python3"
  },
  "language_info": {
   "codemirror_mode": {
    "name": "ipython",
    "version": 3
   },
   "file_extension": ".py",
   "mimetype": "text/x-python",
   "name": "python",
   "nbconvert_exporter": "python",
   "pygments_lexer": "ipython3",
   "version": "3.9.12"
  }
 },
 "nbformat": 4,
 "nbformat_minor": 2
}
