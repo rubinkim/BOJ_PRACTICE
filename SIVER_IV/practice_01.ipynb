{
 "cells": [
  {
   "cell_type": "markdown",
   "metadata": {},
   "source": [
    "#### selection sort, insertion sort, quick sort"
   ]
  },
  {
   "cell_type": "code",
   "execution_count": 19,
   "metadata": {},
   "outputs": [
    {
     "name": "stdout",
     "output_type": "stream",
     "text": [
      "[15, 5, 23, 18, 9, 7, 28, 25, 13, 27, 29, 24, 8, 21, 1, 20, 26, 3, 15, 11, 12, 16, 23, 19, 30, 6, 0, 17, 22, 10]\n",
      "[0, 1, 3, 5, 6, 7, 8, 9, 10, 11, 12, 13, 15, 15, 16, 17, 18, 19, 20, 21, 22, 23, 23, 24, 25, 26, 27, 28, 29, 30]\n"
     ]
    }
   ],
   "source": [
    "# selection sort\n",
    "arr = [15, 5, 23, 18, 9, 7, 28, 25, 13, 27, 29, 24, 8, 21, 1, 20, 26, 3, 15, 11, 12, 16, 23, 19, 30, 6, 0, 17, 22, 10]\n",
    "print(arr)\n",
    "\n",
    "for i in range(len(arr)):\n",
    "    min_index = i\n",
    "    for j in range(i+1, len(arr)):\n",
    "        if arr[min_index] > arr[j]:\n",
    "            min_index = j\n",
    "    arr[i], arr[min_index] = arr[min_index], arr[i]\n",
    "    \n",
    "print(arr)"
   ]
  },
  {
   "cell_type": "code",
   "execution_count": 20,
   "metadata": {},
   "outputs": [
    {
     "name": "stdout",
     "output_type": "stream",
     "text": [
      "[15, 5, 23, 18, 9, 7, 28, 25, 13, 27, 29, 24, 8, 21, 1, 20, 26, 3, 15, 11, 12, 16, 23, 19, 30, 6, 0, 17, 22, 10]\n",
      "[0, 1, 3, 5, 6, 7, 8, 9, 10, 11, 12, 13, 15, 15, 16, 17, 18, 19, 20, 21, 22, 23, 23, 24, 25, 26, 27, 28, 29, 30]\n"
     ]
    }
   ],
   "source": [
    "# insertion sort\n",
    "arr = [15, 5, 23, 18, 9, 7, 28, 25, 13, 27, 29, 24, 8, 21, 1, 20, 26, 3, 15, 11, 12, 16, 23, 19, 30, 6, 0, 17, 22, 10]\n",
    "print(arr)\n",
    "\n",
    "for i in range(1, len(arr)):\n",
    "    for j in range(i, 0, -1):\n",
    "        if arr[j-1] > arr[j]:\n",
    "            arr[j-1], arr[j] = arr[j], arr[j-1]\n",
    "\n",
    "print(arr)"
   ]
  },
  {
   "cell_type": "code",
   "execution_count": 3,
   "metadata": {},
   "outputs": [
    {
     "name": "stdout",
     "output_type": "stream",
     "text": [
      "[15, 5, 23, 18, 9, 7, 28, 25, 13, 27, 29, 24, 8, 21, 1, 20, 26, 3, 15, 11, 12, 16, 23, 19, 30, 6, 0, 17, 22, 10]\n",
      "[0, 1, 3, 5, 6, 7, 8, 9, 10, 11, 12, 13, 15, 15, 16, 17, 18, 19, 20, 21, 22, 23, 23, 24, 25, 26, 27, 28, 29, 30]\n"
     ]
    }
   ],
   "source": [
    "# quick sort with python's way\n",
    "arr = [15, 5, 23, 18, 9, 7, 28, 25, 13, 27, 29, 24, 8, 21, 1, 20, 26, 3, 15, 11, 12, 16, 23, 19, 30, 6, 0, 17, 22, 10]\n",
    "print(arr)\n",
    "\n",
    "def quick_sort_python(array):\n",
    "    if len(array) <= 1:\n",
    "        return array\n",
    "    pivot = array[0]\n",
    "    tail = array[1:]\n",
    "    left_side = [x for x in tail if x <= pivot]\n",
    "    right_side = [x for x in tail if x > pivot]\n",
    "    return quick_sort_python(left_side) + [pivot] + quick_sort_python(right_side)\n",
    "\n",
    "print(quick_sort_python(arr))"
   ]
  },
  {
   "cell_type": "code",
   "execution_count": 9,
   "metadata": {},
   "outputs": [
    {
     "name": "stdout",
     "output_type": "stream",
     "text": [
      "[15, 5, 23, 18, 9, 7, 28, 25, 13, 27, 29, 24, 8, 21, 1, 20, 26, 3, 15, 11, 12, 16, 23, 19, 30, 6, 0, 17, 22, 10]\n"
     ]
    },
    {
     "ename": "TypeError",
     "evalue": "unsupported operand type(s) for +: 'NoneType' and 'NoneType'",
     "output_type": "error",
     "traceback": [
      "\u001b[1;31m---------------------------------------------------------------------------\u001b[0m",
      "\u001b[1;31mTypeError\u001b[0m                                 Traceback (most recent call last)",
      "Input \u001b[1;32mIn [9]\u001b[0m, in \u001b[0;36m<cell line: 24>\u001b[1;34m()\u001b[0m\n\u001b[0;32m     20\u001b[0m             array[left], array[right] \u001b[38;5;241m=\u001b[39m array[right], array[left]\n\u001b[0;32m     22\u001b[0m         \u001b[38;5;28;01mreturn\u001b[39;00m quick_sort(array, start, right\u001b[38;5;241m-\u001b[39m\u001b[38;5;241m1\u001b[39m) \u001b[38;5;241m+\u001b[39m quick_sort(array, right\u001b[38;5;241m+\u001b[39m\u001b[38;5;241m1\u001b[39m, end)\n\u001b[1;32m---> 24\u001b[0m \u001b[38;5;28mprint\u001b[39m(\u001b[43mquick_sort\u001b[49m\u001b[43m(\u001b[49m\u001b[43marr\u001b[49m\u001b[43m,\u001b[49m\u001b[43m \u001b[49m\u001b[38;5;241;43m0\u001b[39;49m\u001b[43m,\u001b[49m\u001b[43m \u001b[49m\u001b[38;5;28;43mlen\u001b[39;49m\u001b[43m(\u001b[49m\u001b[43marr\u001b[49m\u001b[43m)\u001b[49m\u001b[38;5;241;43m-\u001b[39;49m\u001b[38;5;241;43m1\u001b[39;49m\u001b[43m)\u001b[49m)\n",
      "Input \u001b[1;32mIn [9]\u001b[0m, in \u001b[0;36mquick_sort\u001b[1;34m(array, start, end)\u001b[0m\n\u001b[0;32m     19\u001b[0m \u001b[38;5;28;01melse\u001b[39;00m:\n\u001b[0;32m     20\u001b[0m     array[left], array[right] \u001b[38;5;241m=\u001b[39m array[right], array[left]\n\u001b[1;32m---> 22\u001b[0m \u001b[38;5;28;01mreturn\u001b[39;00m \u001b[43mquick_sort\u001b[49m\u001b[43m(\u001b[49m\u001b[43marray\u001b[49m\u001b[43m,\u001b[49m\u001b[43m \u001b[49m\u001b[43mstart\u001b[49m\u001b[43m,\u001b[49m\u001b[43m \u001b[49m\u001b[43mright\u001b[49m\u001b[38;5;241;43m-\u001b[39;49m\u001b[38;5;241;43m1\u001b[39;49m\u001b[43m)\u001b[49m \u001b[38;5;241m+\u001b[39m quick_sort(array, right\u001b[38;5;241m+\u001b[39m\u001b[38;5;241m1\u001b[39m, end)\n",
      "Input \u001b[1;32mIn [9]\u001b[0m, in \u001b[0;36mquick_sort\u001b[1;34m(array, start, end)\u001b[0m\n\u001b[0;32m     19\u001b[0m \u001b[38;5;28;01melse\u001b[39;00m:\n\u001b[0;32m     20\u001b[0m     array[left], array[right] \u001b[38;5;241m=\u001b[39m array[right], array[left]\n\u001b[1;32m---> 22\u001b[0m \u001b[38;5;28;01mreturn\u001b[39;00m \u001b[43mquick_sort\u001b[49m\u001b[43m(\u001b[49m\u001b[43marray\u001b[49m\u001b[43m,\u001b[49m\u001b[43m \u001b[49m\u001b[43mstart\u001b[49m\u001b[43m,\u001b[49m\u001b[43m \u001b[49m\u001b[43mright\u001b[49m\u001b[38;5;241;43m-\u001b[39;49m\u001b[38;5;241;43m1\u001b[39;49m\u001b[43m)\u001b[49m \u001b[38;5;241m+\u001b[39m quick_sort(array, right\u001b[38;5;241m+\u001b[39m\u001b[38;5;241m1\u001b[39m, end)\n",
      "    \u001b[1;31m[... skipping similar frames: quick_sort at line 22 (12 times)]\u001b[0m\n",
      "Input \u001b[1;32mIn [9]\u001b[0m, in \u001b[0;36mquick_sort\u001b[1;34m(array, start, end)\u001b[0m\n\u001b[0;32m     19\u001b[0m \u001b[38;5;28;01melse\u001b[39;00m:\n\u001b[0;32m     20\u001b[0m     array[left], array[right] \u001b[38;5;241m=\u001b[39m array[right], array[left]\n\u001b[1;32m---> 22\u001b[0m \u001b[38;5;28;01mreturn\u001b[39;00m \u001b[43mquick_sort\u001b[49m\u001b[43m(\u001b[49m\u001b[43marray\u001b[49m\u001b[43m,\u001b[49m\u001b[43m \u001b[49m\u001b[43mstart\u001b[49m\u001b[43m,\u001b[49m\u001b[43m \u001b[49m\u001b[43mright\u001b[49m\u001b[38;5;241;43m-\u001b[39;49m\u001b[38;5;241;43m1\u001b[39;49m\u001b[43m)\u001b[49m\u001b[43m \u001b[49m\u001b[38;5;241;43m+\u001b[39;49m\u001b[43m \u001b[49m\u001b[43mquick_sort\u001b[49m\u001b[43m(\u001b[49m\u001b[43marray\u001b[49m\u001b[43m,\u001b[49m\u001b[43m \u001b[49m\u001b[43mright\u001b[49m\u001b[38;5;241;43m+\u001b[39;49m\u001b[38;5;241;43m1\u001b[39;49m\u001b[43m,\u001b[49m\u001b[43m \u001b[49m\u001b[43mend\u001b[49m\u001b[43m)\u001b[49m\n",
      "\u001b[1;31mTypeError\u001b[0m: unsupported operand type(s) for +: 'NoneType' and 'NoneType'"
     ]
    }
   ],
   "source": [
    "# quick sort with general way\n",
    "arr = [15, 5, 23, 18, 9, 7, 28, 25, 13, 27, 29, 24, 8, 21, 1, 20, 26, 3, 15, 11, 12, 16, 23, 19, 30, 6, 0, 17, 22, 10]\n",
    "print(arr)\n",
    "\n",
    "def quick_sort(array, start, end):\n",
    "    if start >= end:\n",
    "        return\n",
    "    pivot = start\n",
    "    left = start + 1\n",
    "    right = end\n",
    "    \n",
    "    while left <= right:\n",
    "        while left <= end and array[left] <= array[pivot]:\n",
    "            left += 1\n",
    "        while right > start and array[right] >= array[pivot]:\n",
    "            right -= 1\n",
    "        if left > right:\n",
    "            array[right], array[pivot] = array[pivot], array[right]\n",
    "        else:\n",
    "            array[left], array[right] = array[right], array[left]\n",
    "            \n",
    "        quick_sort(array, start, right-1)\n",
    "        quick_sort(arry, right+1, end)\n",
    "    \n",
    "print(quick_sort(arr, 0, len(arr)-1))"
   ]
  }
 ],
 "metadata": {
  "kernelspec": {
   "display_name": "base",
   "language": "python",
   "name": "python3"
  },
  "language_info": {
   "codemirror_mode": {
    "name": "ipython",
    "version": 3
   },
   "file_extension": ".py",
   "mimetype": "text/x-python",
   "name": "python",
   "nbconvert_exporter": "python",
   "pygments_lexer": "ipython3",
   "version": "3.9.12"
  }
 },
 "nbformat": 4,
 "nbformat_minor": 2
}
