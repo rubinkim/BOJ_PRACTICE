{
 "cells": [
  {
   "cell_type": "markdown",
   "metadata": {},
   "source": [
    "#### selection sort, insertion sort, quick sort"
   ]
  },
  {
   "cell_type": "code",
   "execution_count": 19,
   "metadata": {},
   "outputs": [
    {
     "name": "stdout",
     "output_type": "stream",
     "text": [
      "[15, 5, 23, 18, 9, 7, 28, 25, 13, 27, 29, 24, 8, 21, 1, 20, 26, 3, 15, 11, 12, 16, 23, 19, 30, 6, 0, 17, 22, 10]\n",
      "[0, 1, 3, 5, 6, 7, 8, 9, 10, 11, 12, 13, 15, 15, 16, 17, 18, 19, 20, 21, 22, 23, 23, 24, 25, 26, 27, 28, 29, 30]\n"
     ]
    }
   ],
   "source": [
    "# selection sort\n",
    "arr = [15, 5, 23, 18, 9, 7, 28, 25, 13, 27, 29, 24, 8, 21, 1, 20, 26, 3, 15, 11, 12, 16, 23, 19, 30, 6, 0, 17, 22, 10]\n",
    "print(arr)\n",
    "\n",
    "for i in range(len(arr)):\n",
    "    min_index = i\n",
    "    for j in range(i+1, len(arr)):\n",
    "        if arr[min_index] > arr[j]:\n",
    "            min_index = j\n",
    "    arr[i], arr[min_index] = arr[min_index], arr[i]\n",
    "    \n",
    "print(arr)"
   ]
  },
  {
   "cell_type": "code",
   "execution_count": 20,
   "metadata": {},
   "outputs": [
    {
     "name": "stdout",
     "output_type": "stream",
     "text": [
      "[15, 5, 23, 18, 9, 7, 28, 25, 13, 27, 29, 24, 8, 21, 1, 20, 26, 3, 15, 11, 12, 16, 23, 19, 30, 6, 0, 17, 22, 10]\n",
      "[0, 1, 3, 5, 6, 7, 8, 9, 10, 11, 12, 13, 15, 15, 16, 17, 18, 19, 20, 21, 22, 23, 23, 24, 25, 26, 27, 28, 29, 30]\n"
     ]
    }
   ],
   "source": [
    "# insertion sort\n",
    "arr = [15, 5, 23, 18, 9, 7, 28, 25, 13, 27, 29, 24, 8, 21, 1, 20, 26, 3, 15, 11, 12, 16, 23, 19, 30, 6, 0, 17, 22, 10]\n",
    "print(arr)\n",
    "\n",
    "for i in range(1, len(arr)):\n",
    "    for j in range(i, 0, -1):\n",
    "        if arr[j-1] > arr[j]:\n",
    "            arr[j-1], arr[j] = arr[j], arr[j-1]\n",
    "\n",
    "print(arr)"
   ]
  },
  {
   "cell_type": "code",
   "execution_count": 3,
   "metadata": {},
   "outputs": [
    {
     "name": "stdout",
     "output_type": "stream",
     "text": [
      "[15, 5, 23, 18, 9, 7, 28, 25, 13, 27, 29, 24, 8, 21, 1, 20, 26, 3, 15, 11, 12, 16, 23, 19, 30, 6, 0, 17, 22, 10]\n",
      "[0, 1, 3, 5, 6, 7, 8, 9, 10, 11, 12, 13, 15, 15, 16, 17, 18, 19, 20, 21, 22, 23, 23, 24, 25, 26, 27, 28, 29, 30]\n"
     ]
    }
   ],
   "source": [
    "# quick sort with python's way\n",
    "arr = [15, 5, 23, 18, 9, 7, 28, 25, 13, 27, 29, 24, 8, 21, 1, 20, 26, 3, 15, 11, 12, 16, 23, 19, 30, 6, 0, 17, 22, 10]\n",
    "print(arr)\n",
    "\n",
    "def quick_sort_python(array):\n",
    "    if len(array) <= 1:\n",
    "        return array\n",
    "    pivot = array[0]\n",
    "    tail = array[1:]\n",
    "    left_side = [x for x in tail if x <= pivot]\n",
    "    right_side = [x for x in tail if x > pivot]\n",
    "    return quick_sort_python(left_side) + [pivot] + quick_sort_python(right_side)\n",
    "\n",
    "print(quick_sort_python(arr))"
   ]
  },
  {
   "cell_type": "code",
   "execution_count": 13,
   "metadata": {},
   "outputs": [
    {
     "name": "stdout",
     "output_type": "stream",
     "text": [
      "[15, 5, 23, 18, 9, 7, 28, 25, 13, 27, 29, 24, 8, 21, 1, 20, 26, 3, 15, 11, 12, 16, 23, 19, 30, 6, 0, 17, 22, 10]\n",
      "[0, 1, 3, 5, 6, 7, 8, 9, 10, 11, 12, 13, 15, 15, 16, 17, 18, 19, 20, 21, 22, 23, 23, 24, 25, 26, 27, 28, 29, 30]\n"
     ]
    }
   ],
   "source": [
    "# quick sort with general way\n",
    "arr = [15, 5, 23, 18, 9, 7, 28, 25, 13, 27, 29, 24, 8, 21, 1, 20, 26, 3, 15, 11, 12, 16, 23, 19, 30, 6, 0, 17, 22, 10]\n",
    "print(arr)\n",
    "\n",
    "def quick_sort(array, start, end):\n",
    "    if start >= end:\n",
    "        return\n",
    "    pivot = start\n",
    "    left = start + 1\n",
    "    right = end\n",
    "    \n",
    "    while left <= right:\n",
    "        while left <= end and array[left] <= array[pivot]:\n",
    "            left += 1\n",
    "        while right > start and array[right] >= array[pivot]:\n",
    "            right -= 1\n",
    "        if left > right:\n",
    "            array[right], array[pivot] = array[pivot], array[right]\n",
    "        else:\n",
    "            array[left], array[right] = array[right], array[left]\n",
    "            \n",
    "        quick_sort(array, start, right-1)\n",
    "        quick_sort(array, right+1, end)\n",
    "    \n",
    "quick_sort(arr, 0, len(arr)-1)\n",
    "print(arr)"
   ]
  },
  {
   "cell_type": "code",
   "execution_count": 3,
   "metadata": {},
   "outputs": [
    {
     "name": "stdout",
     "output_type": "stream",
     "text": [
      "2\n"
     ]
    }
   ],
   "source": [
    "for i in range(2, 3):\n",
    "    print(i)"
   ]
  },
  {
   "cell_type": "code",
   "execution_count": 1,
   "metadata": {},
   "outputs": [
    {
     "name": "stdout",
     "output_type": "stream",
     "text": [
      "[1]\n"
     ]
    }
   ],
   "source": [
    "lst = list(range(1, 2))\n",
    "print(lst)"
   ]
  },
  {
   "cell_type": "code",
   "execution_count": 7,
   "metadata": {},
   "outputs": [
    {
     "name": "stdout",
     "output_type": "stream",
     "text": [
      "(1, 2, 3, 4)\n",
      "(1, 2, 3, 5)\n",
      "(1, 2, 3, 6)\n",
      "(1, 2, 3, 7)\n",
      "(1, 2, 3, 8)\n",
      "(1, 2, 4, 5)\n",
      "(1, 2, 4, 6)\n",
      "(1, 2, 4, 7)\n",
      "(1, 2, 4, 8)\n",
      "(1, 2, 5, 6)\n",
      "(1, 2, 5, 7)\n",
      "(1, 2, 5, 8)\n",
      "(1, 2, 6, 7)\n",
      "(1, 2, 6, 8)\n",
      "(1, 2, 7, 8)\n",
      "(1, 3, 4, 5)\n",
      "(1, 3, 4, 6)\n",
      "(1, 3, 4, 7)\n",
      "(1, 3, 4, 8)\n",
      "(1, 3, 5, 6)\n",
      "(1, 3, 5, 7)\n",
      "(1, 3, 5, 8)\n",
      "(1, 3, 6, 7)\n",
      "(1, 3, 6, 8)\n",
      "(1, 3, 7, 8)\n",
      "(1, 4, 5, 6)\n",
      "(1, 4, 5, 7)\n",
      "(1, 4, 5, 8)\n",
      "(1, 4, 6, 7)\n",
      "(1, 4, 6, 8)\n",
      "(1, 4, 7, 8)\n",
      "(1, 5, 6, 7)\n",
      "(1, 5, 6, 8)\n",
      "(1, 5, 7, 8)\n",
      "(1, 6, 7, 8)\n",
      "(2, 3, 4, 5)\n",
      "(2, 3, 4, 6)\n",
      "(2, 3, 4, 7)\n",
      "(2, 3, 4, 8)\n",
      "(2, 3, 5, 6)\n",
      "(2, 3, 5, 7)\n",
      "(2, 3, 5, 8)\n",
      "(2, 3, 6, 7)\n",
      "(2, 3, 6, 8)\n",
      "(2, 3, 7, 8)\n",
      "(2, 4, 5, 6)\n",
      "(2, 4, 5, 7)\n",
      "(2, 4, 5, 8)\n",
      "(2, 4, 6, 7)\n",
      "(2, 4, 6, 8)\n",
      "(2, 4, 7, 8)\n",
      "(2, 5, 6, 7)\n",
      "(2, 5, 6, 8)\n",
      "(2, 5, 7, 8)\n",
      "(2, 6, 7, 8)\n",
      "(3, 4, 5, 6)\n",
      "(3, 4, 5, 7)\n",
      "(3, 4, 5, 8)\n",
      "(3, 4, 6, 7)\n",
      "(3, 4, 6, 8)\n",
      "(3, 4, 7, 8)\n",
      "(3, 5, 6, 7)\n",
      "(3, 5, 6, 8)\n",
      "(3, 5, 7, 8)\n",
      "(3, 6, 7, 8)\n",
      "(4, 5, 6, 7)\n",
      "(4, 5, 6, 8)\n",
      "(4, 5, 7, 8)\n",
      "(4, 6, 7, 8)\n",
      "(5, 6, 7, 8)\n"
     ]
    }
   ],
   "source": [
    "# 1359_lottery\n",
    "\n",
    "from itertools import combinations\n",
    "n, m, k = 8, 4, 2\n",
    "total_cases = 0\n",
    "\n",
    "for combi in combinations(range(1, n+1), m):\n",
    "    total_cases += 1\n",
    "    print(combi)"
   ]
  },
  {
   "cell_type": "code",
   "execution_count": 11,
   "metadata": {},
   "outputs": [
    {
     "name": "stdout",
     "output_type": "stream",
     "text": [
      "70\n",
      "53.0\n"
     ]
    }
   ],
   "source": [
    "print(total_cases)\n",
    "print(total_cases * 0.7571428571428571)"
   ]
  },
  {
   "cell_type": "code",
   "execution_count": null,
   "metadata": {},
   "outputs": [],
   "source": [
    "# 1359_lottery\n",
    "\n",
    "from itertools import combinations\n",
    "n, m, k = 8, 4, 2\n",
    "total_cases = 0\n",
    "\n",
    "for combi in combinations(range(1, n+1), m):\n",
    "    total_cases += 1\n",
    "    print(combi)"
   ]
  }
 ],
 "metadata": {
  "kernelspec": {
   "display_name": "base",
   "language": "python",
   "name": "python3"
  },
  "language_info": {
   "codemirror_mode": {
    "name": "ipython",
    "version": 3
   },
   "file_extension": ".py",
   "mimetype": "text/x-python",
   "name": "python",
   "nbconvert_exporter": "python",
   "pygments_lexer": "ipython3",
   "version": "3.9.12"
  }
 },
 "nbformat": 4,
 "nbformat_minor": 2
}
