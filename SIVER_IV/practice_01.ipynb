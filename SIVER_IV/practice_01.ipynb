{
 "cells": [
  {
   "cell_type": "markdown",
   "metadata": {},
   "source": [
    "#### selection sort, insertion sort, quick sort"
   ]
  },
  {
   "cell_type": "code",
   "execution_count": 12,
   "metadata": {},
   "outputs": [
    {
     "name": "stdout",
     "output_type": "stream",
     "text": [
      "[15, 5, 23, 18, 9, 6, 28, 23, 13, 24, 22, 24, 8, 17, 1, 20, 26, 3, 15, 11, 13, 16, 23, 19, 30, 6, 0, 17, 22, 10]\n"
     ]
    }
   ],
   "source": [
    "arr = [15, 5, 23, 18, 9, 6, 28, 23, 13, 24, 22, 24, 8, 17, 1, 20, 26, 3, 15, 11, 13, 16, 23, 19, 30, 6, 0, 17, 22, 10]\n",
    "print(arr)"
   ]
  },
  {
   "cell_type": "code",
   "execution_count": 13,
   "metadata": {},
   "outputs": [
    {
     "ename": "TypeError",
     "evalue": "'builtin_function_or_method' object is not subscriptable",
     "output_type": "error",
     "traceback": [
      "\u001b[1;31m---------------------------------------------------------------------------\u001b[0m",
      "\u001b[1;31mTypeError\u001b[0m                                 Traceback (most recent call last)",
      "Input \u001b[1;32mIn [13]\u001b[0m, in \u001b[0;36m<cell line: 2>\u001b[1;34m()\u001b[0m\n\u001b[0;32m      5\u001b[0m         \u001b[38;5;28;01mif\u001b[39;00m arr[min_index] \u001b[38;5;241m>\u001b[39m arr[j]:\n\u001b[0;32m      6\u001b[0m             min_index \u001b[38;5;241m=\u001b[39m j\n\u001b[1;32m----> 7\u001b[0m     arr[i], arr[min_index] \u001b[38;5;241m=\u001b[39m arr[min_index], \u001b[38;5;28;43mmin\u001b[39;49m\u001b[43m[\u001b[49m\u001b[43mi\u001b[49m\u001b[43m]\u001b[49m\n\u001b[0;32m      9\u001b[0m \u001b[38;5;28mprint\u001b[39m(arr)\n",
      "\u001b[1;31mTypeError\u001b[0m: 'builtin_function_or_method' object is not subscriptable"
     ]
    }
   ],
   "source": [
    "# selection sort\n",
    "for i in range(len(arr)):\n",
    "    min_index = i\n",
    "    for j in range(i+1, len(arr)):\n",
    "        if arr[min_index] > arr[j]:\n",
    "            min_index = j\n",
    "    arr[i], arr[min_index] = arr[min_index], arr[i]\n",
    "    \n",
    "print(arr)"
   ]
  }
 ],
 "metadata": {
  "kernelspec": {
   "display_name": "base",
   "language": "python",
   "name": "python3"
  },
  "language_info": {
   "codemirror_mode": {
    "name": "ipython",
    "version": 3
   },
   "file_extension": ".py",
   "mimetype": "text/x-python",
   "name": "python",
   "nbconvert_exporter": "python",
   "pygments_lexer": "ipython3",
   "version": "3.9.12"
  }
 },
 "nbformat": 4,
 "nbformat_minor": 2
}
