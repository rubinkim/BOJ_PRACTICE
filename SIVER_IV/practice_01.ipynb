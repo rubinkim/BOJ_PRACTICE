{
 "cells": [
  {
   "cell_type": "markdown",
   "metadata": {},
   "source": [
    "#### selection sort, insertion sort, quick sort"
   ]
  },
  {
   "cell_type": "code",
   "execution_count": 19,
   "metadata": {},
   "outputs": [
    {
     "name": "stdout",
     "output_type": "stream",
     "text": [
      "[15, 5, 23, 18, 9, 7, 28, 25, 13, 27, 29, 24, 8, 21, 1, 20, 26, 3, 15, 11, 12, 16, 23, 19, 30, 6, 0, 17, 22, 10]\n",
      "[0, 1, 3, 5, 6, 7, 8, 9, 10, 11, 12, 13, 15, 15, 16, 17, 18, 19, 20, 21, 22, 23, 23, 24, 25, 26, 27, 28, 29, 30]\n"
     ]
    }
   ],
   "source": [
    "# selection sort\n",
    "arr = [15, 5, 23, 18, 9, 7, 28, 25, 13, 27, 29, 24, 8, 21, 1, 20, 26, 3, 15, 11, 12, 16, 23, 19, 30, 6, 0, 17, 22, 10]\n",
    "print(arr)\n",
    "\n",
    "for i in range(len(arr)):\n",
    "    min_index = i\n",
    "    for j in range(i+1, len(arr)):\n",
    "        if arr[min_index] > arr[j]:\n",
    "            min_index = j\n",
    "    arr[i], arr[min_index] = arr[min_index], arr[i]\n",
    "    \n",
    "print(arr)"
   ]
  },
  {
   "cell_type": "code",
   "execution_count": 20,
   "metadata": {},
   "outputs": [
    {
     "name": "stdout",
     "output_type": "stream",
     "text": [
      "[15, 5, 23, 18, 9, 7, 28, 25, 13, 27, 29, 24, 8, 21, 1, 20, 26, 3, 15, 11, 12, 16, 23, 19, 30, 6, 0, 17, 22, 10]\n",
      "[0, 1, 3, 5, 6, 7, 8, 9, 10, 11, 12, 13, 15, 15, 16, 17, 18, 19, 20, 21, 22, 23, 23, 24, 25, 26, 27, 28, 29, 30]\n"
     ]
    }
   ],
   "source": [
    "# insertion sort\n",
    "arr = [15, 5, 23, 18, 9, 7, 28, 25, 13, 27, 29, 24, 8, 21, 1, 20, 26, 3, 15, 11, 12, 16, 23, 19, 30, 6, 0, 17, 22, 10]\n",
    "print(arr)\n",
    "\n",
    "for i in range(1, len(arr)):\n",
    "    for j in range(i, 0, -1):\n",
    "        if arr[j-1] > arr[j]:\n",
    "            arr[j-1], arr[j] = arr[j], arr[j-1]\n",
    "\n",
    "print(arr)"
   ]
  },
  {
   "cell_type": "code",
   "execution_count": 3,
   "metadata": {},
   "outputs": [
    {
     "name": "stdout",
     "output_type": "stream",
     "text": [
      "[15, 5, 23, 18, 9, 7, 28, 25, 13, 27, 29, 24, 8, 21, 1, 20, 26, 3, 15, 11, 12, 16, 23, 19, 30, 6, 0, 17, 22, 10]\n",
      "[0, 1, 3, 5, 6, 7, 8, 9, 10, 11, 12, 13, 15, 15, 16, 17, 18, 19, 20, 21, 22, 23, 23, 24, 25, 26, 27, 28, 29, 30]\n"
     ]
    }
   ],
   "source": [
    "# quick sort with python's way\n",
    "arr = [15, 5, 23, 18, 9, 7, 28, 25, 13, 27, 29, 24, 8, 21, 1, 20, 26, 3, 15, 11, 12, 16, 23, 19, 30, 6, 0, 17, 22, 10]\n",
    "print(arr)\n",
    "\n",
    "def quick_sort_python(array):\n",
    "    if len(array) <= 1:\n",
    "        return array\n",
    "    pivot = array[0]\n",
    "    tail = array[1:]\n",
    "    left_side = [x for x in tail if x <= pivot]\n",
    "    right_side = [x for x in tail if x > pivot]\n",
    "    return quick_sort_python(left_side) + [pivot] + quick_sort_python(right_side)\n",
    "\n",
    "print(quick_sort_python(arr))"
   ]
  },
  {
   "cell_type": "code",
   "execution_count": 13,
   "metadata": {},
   "outputs": [
    {
     "name": "stdout",
     "output_type": "stream",
     "text": [
      "[15, 5, 23, 18, 9, 7, 28, 25, 13, 27, 29, 24, 8, 21, 1, 20, 26, 3, 15, 11, 12, 16, 23, 19, 30, 6, 0, 17, 22, 10]\n",
      "[0, 1, 3, 5, 6, 7, 8, 9, 10, 11, 12, 13, 15, 15, 16, 17, 18, 19, 20, 21, 22, 23, 23, 24, 25, 26, 27, 28, 29, 30]\n"
     ]
    }
   ],
   "source": [
    "# quick sort with general way\n",
    "arr = [15, 5, 23, 18, 9, 7, 28, 25, 13, 27, 29, 24, 8, 21, 1, 20, 26, 3, 15, 11, 12, 16, 23, 19, 30, 6, 0, 17, 22, 10]\n",
    "print(arr)\n",
    "\n",
    "def quick_sort(array, start, end):\n",
    "    if start >= end:\n",
    "        return\n",
    "    pivot = start\n",
    "    left = start + 1\n",
    "    right = end\n",
    "    \n",
    "    while left <= right:\n",
    "        while left <= end and array[left] <= array[pivot]:\n",
    "            left += 1\n",
    "        while right > start and array[right] >= array[pivot]:\n",
    "            right -= 1\n",
    "        if left > right:\n",
    "            array[right], array[pivot] = array[pivot], array[right]\n",
    "        else:\n",
    "            array[left], array[right] = array[right], array[left]\n",
    "            \n",
    "        quick_sort(array, start, right-1)\n",
    "        quick_sort(array, right+1, end)\n",
    "    \n",
    "quick_sort(arr, 0, len(arr)-1)\n",
    "print(arr)"
   ]
  },
  {
   "cell_type": "code",
   "execution_count": 3,
   "metadata": {},
   "outputs": [
    {
     "name": "stdout",
     "output_type": "stream",
     "text": [
      "2\n"
     ]
    }
   ],
   "source": [
    "for i in range(2, 3):\n",
    "    print(i)"
   ]
  },
  {
   "cell_type": "code",
   "execution_count": 1,
   "metadata": {},
   "outputs": [
    {
     "name": "stdout",
     "output_type": "stream",
     "text": [
      "[1]\n"
     ]
    }
   ],
   "source": [
    "lst = list(range(1, 2))\n",
    "print(lst)"
   ]
  },
  {
   "cell_type": "code",
   "execution_count": 7,
   "metadata": {},
   "outputs": [
    {
     "name": "stdout",
     "output_type": "stream",
     "text": [
      "(1, 2, 3, 4)\n",
      "(1, 2, 3, 5)\n",
      "(1, 2, 3, 6)\n",
      "(1, 2, 3, 7)\n",
      "(1, 2, 3, 8)\n",
      "(1, 2, 4, 5)\n",
      "(1, 2, 4, 6)\n",
      "(1, 2, 4, 7)\n",
      "(1, 2, 4, 8)\n",
      "(1, 2, 5, 6)\n",
      "(1, 2, 5, 7)\n",
      "(1, 2, 5, 8)\n",
      "(1, 2, 6, 7)\n",
      "(1, 2, 6, 8)\n",
      "(1, 2, 7, 8)\n",
      "(1, 3, 4, 5)\n",
      "(1, 3, 4, 6)\n",
      "(1, 3, 4, 7)\n",
      "(1, 3, 4, 8)\n",
      "(1, 3, 5, 6)\n",
      "(1, 3, 5, 7)\n",
      "(1, 3, 5, 8)\n",
      "(1, 3, 6, 7)\n",
      "(1, 3, 6, 8)\n",
      "(1, 3, 7, 8)\n",
      "(1, 4, 5, 6)\n",
      "(1, 4, 5, 7)\n",
      "(1, 4, 5, 8)\n",
      "(1, 4, 6, 7)\n",
      "(1, 4, 6, 8)\n",
      "(1, 4, 7, 8)\n",
      "(1, 5, 6, 7)\n",
      "(1, 5, 6, 8)\n",
      "(1, 5, 7, 8)\n",
      "(1, 6, 7, 8)\n",
      "(2, 3, 4, 5)\n",
      "(2, 3, 4, 6)\n",
      "(2, 3, 4, 7)\n",
      "(2, 3, 4, 8)\n",
      "(2, 3, 5, 6)\n",
      "(2, 3, 5, 7)\n",
      "(2, 3, 5, 8)\n",
      "(2, 3, 6, 7)\n",
      "(2, 3, 6, 8)\n",
      "(2, 3, 7, 8)\n",
      "(2, 4, 5, 6)\n",
      "(2, 4, 5, 7)\n",
      "(2, 4, 5, 8)\n",
      "(2, 4, 6, 7)\n",
      "(2, 4, 6, 8)\n",
      "(2, 4, 7, 8)\n",
      "(2, 5, 6, 7)\n",
      "(2, 5, 6, 8)\n",
      "(2, 5, 7, 8)\n",
      "(2, 6, 7, 8)\n",
      "(3, 4, 5, 6)\n",
      "(3, 4, 5, 7)\n",
      "(3, 4, 5, 8)\n",
      "(3, 4, 6, 7)\n",
      "(3, 4, 6, 8)\n",
      "(3, 4, 7, 8)\n",
      "(3, 5, 6, 7)\n",
      "(3, 5, 6, 8)\n",
      "(3, 5, 7, 8)\n",
      "(3, 6, 7, 8)\n",
      "(4, 5, 6, 7)\n",
      "(4, 5, 6, 8)\n",
      "(4, 5, 7, 8)\n",
      "(4, 6, 7, 8)\n",
      "(5, 6, 7, 8)\n"
     ]
    }
   ],
   "source": [
    "# 1359_lottery\n",
    "\n",
    "from itertools import combinations\n",
    "n, m, k = 8, 4, 2\n",
    "total_cases = 0\n",
    "\n",
    "for combi in combinations(range(1, n+1), m):\n",
    "    total_cases += 1\n",
    "    print(combi)"
   ]
  },
  {
   "cell_type": "code",
   "execution_count": 11,
   "metadata": {},
   "outputs": [
    {
     "name": "stdout",
     "output_type": "stream",
     "text": [
      "70\n",
      "53.0\n"
     ]
    }
   ],
   "source": [
    "print(total_cases)\n",
    "print(total_cases * 0.7571428571428571)"
   ]
  },
  {
   "cell_type": "code",
   "execution_count": 13,
   "metadata": {},
   "outputs": [
    {
     "name": "stdout",
     "output_type": "stream",
     "text": [
      "70\n",
      "[(1, 2, 3, 4), (1, 2, 3, 5), (1, 2, 3, 6), (1, 2, 3, 7), (1, 2, 3, 8), (1, 2, 4, 5), (1, 2, 4, 6), (1, 2, 4, 7), (1, 2, 4, 8), (1, 2, 5, 6), (1, 2, 5, 7), (1, 2, 5, 8), (1, 2, 6, 7), (1, 2, 6, 8), (1, 2, 7, 8), (1, 3, 4, 5), (1, 3, 4, 6), (1, 3, 4, 7), (1, 3, 4, 8), (1, 3, 5, 6), (1, 3, 5, 7), (1, 3, 5, 8), (1, 3, 6, 7), (1, 3, 6, 8), (1, 3, 7, 8), (1, 4, 5, 6), (1, 4, 5, 7), (1, 4, 5, 8), (1, 4, 6, 7), (1, 4, 6, 8), (1, 4, 7, 8), (1, 5, 6, 7), (1, 5, 6, 8), (1, 5, 7, 8), (1, 6, 7, 8), (2, 3, 4, 5), (2, 3, 4, 6), (2, 3, 4, 7), (2, 3, 4, 8), (2, 3, 5, 6), (2, 3, 5, 7), (2, 3, 5, 8), (2, 3, 6, 7), (2, 3, 6, 8), (2, 3, 7, 8), (2, 4, 5, 6), (2, 4, 5, 7), (2, 4, 5, 8), (2, 4, 6, 7), (2, 4, 6, 8), (2, 4, 7, 8), (2, 5, 6, 7), (2, 5, 6, 8), (2, 5, 7, 8), (2, 6, 7, 8), (3, 4, 5, 6), (3, 4, 5, 7), (3, 4, 5, 8), (3, 4, 6, 7), (3, 4, 6, 8), (3, 4, 7, 8), (3, 5, 6, 7), (3, 5, 6, 8), (3, 5, 7, 8), (3, 6, 7, 8), (4, 5, 6, 7), (4, 5, 6, 8), (4, 5, 7, 8), (4, 6, 7, 8), (5, 6, 7, 8)]\n"
     ]
    }
   ],
   "source": [
    "# 1359_lottery\n",
    "\n",
    "from itertools import combinations\n",
    "n, m, k = 8, 4, 2\n",
    "combis = []\n",
    "\n",
    "for combi in combinations(range(1, n+1), m):\n",
    "    combis.append(combi)\n",
    "\n",
    "print(len(combis))\n",
    "print(combis)   "
   ]
  },
  {
   "cell_type": "code",
   "execution_count": 17,
   "metadata": {},
   "outputs": [
    {
     "name": "stdout",
     "output_type": "stream",
     "text": [
      "(1, 2) 15 225\n",
      "(1, 3) 10 100\n",
      "(1, 4) 6 36\n",
      "(1, 5) 3 9\n",
      "(1, 6) 1 1\n",
      "(2, 3) 10 100\n",
      "(2, 4) 6 36\n",
      "(2, 5) 3 9\n",
      "(2, 6) 1 1\n",
      "(3, 4) 6 36\n",
      "(3, 5) 3 9\n",
      "(3, 6) 1 1\n",
      "(4, 5) 3 9\n",
      "(4, 6) 1 1\n",
      "(5, 6) 1 1\n"
     ]
    }
   ],
   "source": [
    "combi_dict = {}\n",
    "for a, b, c, d in combis:\n",
    "    if (a, b) not in combi_dict.keys():\n",
    "        combi_dict[(a, b)] = 1\n",
    "    else:\n",
    "        combi_dict[(a, b)] += 1\n",
    "        \n",
    "for k, v in combi_dict.items():\n",
    "    print(k, v, v*v)"
   ]
  },
  {
   "cell_type": "code",
   "execution_count": 15,
   "metadata": {},
   "outputs": [
    {
     "name": "stdout",
     "output_type": "stream",
     "text": [
      "574\n"
     ]
    }
   ],
   "source": [
    "cnt = 0\n",
    "for v in combi_dict.values():\n",
    "    cnt += v *v\n",
    "\n",
    "print(cnt)"
   ]
  },
  {
   "cell_type": "code",
   "execution_count": 16,
   "metadata": {},
   "outputs": [
    {
     "data": {
      "text/plain": [
       "758.1132075471698"
      ]
     },
     "execution_count": 16,
     "metadata": {},
     "output_type": "execute_result"
    }
   ],
   "source": [
    "574 / 0.7571428571428571"
   ]
  },
  {
   "cell_type": "code",
   "execution_count": 18,
   "metadata": {},
   "outputs": [
    {
     "data": {
      "text/plain": [
       "318.0"
      ]
     },
     "execution_count": 18,
     "metadata": {},
     "output_type": "execute_result"
    }
   ],
   "source": [
    "420 * 0.7571428571428571"
   ]
  },
  {
   "cell_type": "code",
   "execution_count": 19,
   "metadata": {},
   "outputs": [
    {
     "data": {
      "text/plain": [
       "0.7317073170731707"
      ]
     },
     "execution_count": 19,
     "metadata": {},
     "output_type": "execute_result"
    }
   ],
   "source": [
    "420 / 574"
   ]
  },
  {
   "cell_type": "code",
   "execution_count": null,
   "metadata": {},
   "outputs": [],
   "source": [
    "# 1359_lottery\n",
    "\n",
    "from itertools import combinations\n",
    "n, m, k = 8, 4, 2\n",
    "combis = []\n",
    "\n",
    "for combi in combinations(range(1, n+1), m):\n",
    "    combis.append(combi)\n",
    "\n",
    "for x in combis:\n",
    "    for y in combis:\n",
    "        for i in range(len(x)):\n",
    "            for j in range(len(y)):\n",
    "                if x[i]"
   ]
  },
  {
   "cell_type": "code",
   "execution_count": 27,
   "metadata": {},
   "outputs": [
    {
     "name": "stdout",
     "output_type": "stream",
     "text": [
      "0.7571428571428571\n"
     ]
    }
   ],
   "source": [
    "# 1359_lottery\n",
    "\n",
    "from itertools import combinations\n",
    "n, m, k = 8, 4, 2\n",
    "combis = []\n",
    "\n",
    "for combi in combinations(range(1, n+1), m):\n",
    "    combis.append(combi)\n",
    "\n",
    "#print(len(combis))\n",
    "\n",
    "#for comb in combis:\n",
    "    #print(comb)\n",
    "    \n",
    "cnt = 0\n",
    "for x in combis:\n",
    "    for y in combis:\n",
    "        if len(set(x).intersection(set(y))) >= k:\n",
    "             cnt += 1\n",
    "#print(cnt)\n",
    "\n",
    "print(cnt / len(combis) ** 2)"
   ]
  },
  {
   "cell_type": "code",
   "execution_count": 25,
   "metadata": {},
   "outputs": [
    {
     "name": "stdout",
     "output_type": "stream",
     "text": [
      "3710\n"
     ]
    }
   ],
   "source": [
    "cnt = 0\n",
    "for x in combis:\n",
    "    for y in combis:\n",
    "        if len(set(x).intersection(set(y))) >= k:\n",
    "             cnt += 1\n",
    "print(cnt)"
   ]
  },
  {
   "cell_type": "code",
   "execution_count": 26,
   "metadata": {},
   "outputs": [
    {
     "data": {
      "text/plain": [
       "0.7571428571428571"
      ]
     },
     "execution_count": 26,
     "metadata": {},
     "output_type": "execute_result"
    }
   ],
   "source": [
    "3710 / 4900"
   ]
  },
  {
   "cell_type": "code",
   "execution_count": null,
   "metadata": {},
   "outputs": [],
   "source": [
    "0.7571428571428571"
   ]
  },
  {
   "cell_type": "code",
   "execution_count": null,
   "metadata": {},
   "outputs": [],
   "source": [
    "#1491\n",
    "\n",
    "import sys\n",
    "sys.setrecursionlimit(5000)\n",
    "\n",
    "n, m = map(int, input().split())    # n : number of columns,  m : number of rows\n",
    "arr = [[0] * n for _ in range(m)]\n",
    "current = 0\n",
    "\n",
    "def dfs(y, x):\n",
    "    global current\n",
    "    \n",
    "    dy = [0, -1, 0, 1]\n",
    "    dx = [1, 0, -1, 0]    \n",
    "    \n",
    "    arr[y][x] = 1\n",
    "    ny, nx = y + dy[current], x + dx[current]\n",
    "    \n",
    "    if (0 <= ny <= m-1) and (0 <= nx <= n-1) and arr[ny][nx] == 0:\n",
    "        y, x = ny, nx\n",
    "        dfs(y, x)\n",
    "    else:\n",
    "        current = (current + 1) % 4\n",
    "        ny, nx = y + dy[current], x + dx[current]\n",
    "        if (0 <= ny <= m-1) and (0 <= nx <= n-1) and arr[ny][nx] == 0:\n",
    "            y, x = ny, nx\n",
    "            dfs(y, x)\n",
    "        else:\n",
    "            print(x, m-1-y)\n",
    "            exit(0)            \n",
    "        \n",
    "dfs(3, 0)"
   ]
  },
  {
   "cell_type": "code",
   "execution_count": null,
   "metadata": {},
   "outputs": [],
   "source": [
    "import sys\n",
    "sys.setrecursionlimit(5000)\n",
    "\n",
    "n, m = map(int, input().split())    # n : number of columns,  m : number of rows\n",
    "arr = [[0] * n for _ in range(m)]\n",
    "current = 0\n",
    "\n",
    "dy, dx = [0, -1, 0, 1], [1, 0, -1, 0]\n",
    "y, x = m-1, 0\n",
    "\n",
    "while True:\n",
    "    if sum([sum([arr[i][j] for j in range(n)]) for i in range(m)]) == n * m:\n",
    "        print(x, m-1-y)\n",
    "        break\n",
    "    \n",
    "    arr[y][x] = 1\n",
    "    ny, nx = y + dy[current], x + dx[current]\n",
    "    if 0 <= ny <= m-1 and 0 <= nx <= n-1 and arr[ny][nx] == 0:\n",
    "        y, x = ny, nx\n",
    "    else:\n",
    "        current = (current+1) % 4"
   ]
  },
  {
   "cell_type": "code",
   "execution_count": 1,
   "metadata": {},
   "outputs": [
    {
     "data": {
      "text/plain": [
       "246"
      ]
     },
     "execution_count": 1,
     "metadata": {},
     "output_type": "execute_result"
    }
   ],
   "source": [
    "24 + 58 + 32 + 79 + 53"
   ]
  },
  {
   "cell_type": "code",
   "execution_count": 6,
   "metadata": {},
   "outputs": [
    {
     "data": {
      "text/plain": [
       "False"
      ]
     },
     "execution_count": 6,
     "metadata": {},
     "output_type": "execute_result"
    }
   ],
   "source": [
    "x = 'Rubin'\n",
    "y = 'dajung'\n",
    "\n",
    "x > y"
   ]
  },
  {
   "cell_type": "code",
   "execution_count": 18,
   "metadata": {},
   "outputs": [
    {
     "name": "stdout",
     "output_type": "stream",
     "text": [
      "a : ['t', 'h', 'e'],  b : ['s', 't', 'r', 'e', 'e', 't']\n"
     ]
    }
   ],
   "source": [
    "a = list(input())\n",
    "b = list(input())\n",
    "print(f\"a : {a},  b : {b}\")"
   ]
  },
  {
   "cell_type": "code",
   "execution_count": 19,
   "metadata": {},
   "outputs": [
    {
     "name": "stdout",
     "output_type": "stream",
     "text": [
      "a : {'e', 't', 'h'},  b : {'t', 'e', 's', 'r'}\n"
     ]
    }
   ],
   "source": [
    "a = set(a)\n",
    "b = set(b)\n",
    "\n",
    "print(f\"a : {a},  b : {b}\")"
   ]
  },
  {
   "cell_type": "code",
   "execution_count": 20,
   "metadata": {},
   "outputs": [
    {
     "name": "stdout",
     "output_type": "stream",
     "text": [
      "common : ['e', 't']\n",
      "et\n"
     ]
    }
   ],
   "source": [
    "common = a.intersection(b)\n",
    "common = sorted(list(common))\n",
    "print(f\"common : {common}\")\n",
    "print(\"\".join(common))"
   ]
  },
  {
   "cell_type": "code",
   "execution_count": 2,
   "metadata": {},
   "outputs": [
    {
     "name": "stdout",
     "output_type": "stream",
     "text": [
      "a : ['w', 'o', 'm', 'e', 'n']\n",
      "b : []\n",
      "\n"
     ]
    }
   ],
   "source": [
    "while True:\n",
    "    a = list(input())\n",
    "    print(f\"a : {a}\")\n",
    "    b = list(input())\n",
    "    print(f\"b : {b}\")\n",
    "    a = set(a)\n",
    "    b = set(b)\n",
    "    common = a.intersection(b)\n",
    "    common = sorted(list(common))\n",
    "    print(\"\".join(common))"
   ]
  },
  {
   "cell_type": "code",
   "execution_count": 4,
   "metadata": {},
   "outputs": [
    {
     "name": "stdout",
     "output_type": "stream",
     "text": [
      "3\n",
      "['1'] ['1']\n"
     ]
    }
   ],
   "source": [
    "x = list(input())\n",
    "print(len(x))\n",
    "half = len(x) // 2\n",
    "print(x[0:half], x[half:len(x)-1])"
   ]
  }
 ],
 "metadata": {
  "kernelspec": {
   "display_name": "base",
   "language": "python",
   "name": "python3"
  },
  "language_info": {
   "codemirror_mode": {
    "name": "ipython",
    "version": 3
   },
   "file_extension": ".py",
   "mimetype": "text/x-python",
   "name": "python",
   "nbconvert_exporter": "python",
   "pygments_lexer": "ipython3",
   "version": "3.9.12"
  }
 },
 "nbformat": 4,
 "nbformat_minor": 2
}
