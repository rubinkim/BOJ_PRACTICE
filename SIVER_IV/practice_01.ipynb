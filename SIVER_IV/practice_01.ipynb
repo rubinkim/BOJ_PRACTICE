{
 "cells": [
  {
   "cell_type": "markdown",
   "metadata": {},
   "source": [
    "#### selection sort, insertion sort, quick sort"
   ]
  },
  {
   "cell_type": "code",
   "execution_count": 19,
   "metadata": {},
   "outputs": [
    {
     "name": "stdout",
     "output_type": "stream",
     "text": [
      "[15, 5, 23, 18, 9, 7, 28, 25, 13, 27, 29, 24, 8, 21, 1, 20, 26, 3, 15, 11, 12, 16, 23, 19, 30, 6, 0, 17, 22, 10]\n",
      "[0, 1, 3, 5, 6, 7, 8, 9, 10, 11, 12, 13, 15, 15, 16, 17, 18, 19, 20, 21, 22, 23, 23, 24, 25, 26, 27, 28, 29, 30]\n"
     ]
    }
   ],
   "source": [
    "# selection sort\n",
    "arr = [15, 5, 23, 18, 9, 7, 28, 25, 13, 27, 29, 24, 8, 21, 1, 20, 26, 3, 15, 11, 12, 16, 23, 19, 30, 6, 0, 17, 22, 10]\n",
    "print(arr)\n",
    "\n",
    "for i in range(len(arr)):\n",
    "    min_index = i\n",
    "    for j in range(i+1, len(arr)):\n",
    "        if arr[min_index] > arr[j]:\n",
    "            min_index = j\n",
    "    arr[i], arr[min_index] = arr[min_index], arr[i]\n",
    "    \n",
    "print(arr)"
   ]
  },
  {
   "cell_type": "code",
   "execution_count": 20,
   "metadata": {},
   "outputs": [
    {
     "name": "stdout",
     "output_type": "stream",
     "text": [
      "[15, 5, 23, 18, 9, 7, 28, 25, 13, 27, 29, 24, 8, 21, 1, 20, 26, 3, 15, 11, 12, 16, 23, 19, 30, 6, 0, 17, 22, 10]\n",
      "[0, 1, 3, 5, 6, 7, 8, 9, 10, 11, 12, 13, 15, 15, 16, 17, 18, 19, 20, 21, 22, 23, 23, 24, 25, 26, 27, 28, 29, 30]\n"
     ]
    }
   ],
   "source": [
    "# insertion sort\n",
    "arr = [15, 5, 23, 18, 9, 7, 28, 25, 13, 27, 29, 24, 8, 21, 1, 20, 26, 3, 15, 11, 12, 16, 23, 19, 30, 6, 0, 17, 22, 10]\n",
    "print(arr)\n",
    "\n",
    "for i in range(1, len(arr)):\n",
    "    for j in range(i, 0, -1):\n",
    "        if arr[j-1] > arr[j]:\n",
    "            arr[j-1], arr[j] = arr[j], arr[j-1]\n",
    "\n",
    "print(arr)"
   ]
  },
  {
   "cell_type": "code",
   "execution_count": 2,
   "metadata": {},
   "outputs": [
    {
     "name": "stdout",
     "output_type": "stream",
     "text": [
      "[15, 5, 23, 18, 9, 7, 28, 25, 13, 27, 29, 24, 8, 21, 1, 20, 26, 3, 15, 11, 12, 16, 23, 19, 30, 6, 0, 17, 22, 10]\n"
     ]
    },
    {
     "ename": "TypeError",
     "evalue": "unsupported operand type(s) for +: 'NoneType' and 'list'",
     "output_type": "error",
     "traceback": [
      "\u001b[1;31m---------------------------------------------------------------------------\u001b[0m",
      "\u001b[1;31mTypeError\u001b[0m                                 Traceback (most recent call last)",
      "Input \u001b[1;32mIn [2]\u001b[0m, in \u001b[0;36m<cell line: 14>\u001b[1;34m()\u001b[0m\n\u001b[0;32m     11\u001b[0m     right_side \u001b[38;5;241m=\u001b[39m [x \u001b[38;5;28;01mfor\u001b[39;00m x \u001b[38;5;129;01min\u001b[39;00m tail \u001b[38;5;28;01mif\u001b[39;00m x \u001b[38;5;241m>\u001b[39m pivot]\n\u001b[0;32m     12\u001b[0m     \u001b[38;5;28;01mreturn\u001b[39;00m quick_sort_python(left_side) \u001b[38;5;241m+\u001b[39m [pivot] \u001b[38;5;241m+\u001b[39m quick_sort_python(right_side)\n\u001b[1;32m---> 14\u001b[0m \u001b[38;5;28mprint\u001b[39m(\u001b[43mquick_sort_python\u001b[49m\u001b[43m(\u001b[49m\u001b[43marr\u001b[49m\u001b[43m)\u001b[49m)\n",
      "Input \u001b[1;32mIn [2]\u001b[0m, in \u001b[0;36mquick_sort_python\u001b[1;34m(array)\u001b[0m\n\u001b[0;32m     10\u001b[0m left_side \u001b[38;5;241m=\u001b[39m [x \u001b[38;5;28;01mfor\u001b[39;00m x \u001b[38;5;129;01min\u001b[39;00m tail \u001b[38;5;28;01mif\u001b[39;00m x \u001b[38;5;241m<\u001b[39m\u001b[38;5;241m=\u001b[39m pivot]\n\u001b[0;32m     11\u001b[0m right_side \u001b[38;5;241m=\u001b[39m [x \u001b[38;5;28;01mfor\u001b[39;00m x \u001b[38;5;129;01min\u001b[39;00m tail \u001b[38;5;28;01mif\u001b[39;00m x \u001b[38;5;241m>\u001b[39m pivot]\n\u001b[1;32m---> 12\u001b[0m \u001b[38;5;28;01mreturn\u001b[39;00m \u001b[43mquick_sort_python\u001b[49m\u001b[43m(\u001b[49m\u001b[43mleft_side\u001b[49m\u001b[43m)\u001b[49m \u001b[38;5;241m+\u001b[39m [pivot] \u001b[38;5;241m+\u001b[39m quick_sort_python(right_side)\n",
      "Input \u001b[1;32mIn [2]\u001b[0m, in \u001b[0;36mquick_sort_python\u001b[1;34m(array)\u001b[0m\n\u001b[0;32m     10\u001b[0m left_side \u001b[38;5;241m=\u001b[39m [x \u001b[38;5;28;01mfor\u001b[39;00m x \u001b[38;5;129;01min\u001b[39;00m tail \u001b[38;5;28;01mif\u001b[39;00m x \u001b[38;5;241m<\u001b[39m\u001b[38;5;241m=\u001b[39m pivot]\n\u001b[0;32m     11\u001b[0m right_side \u001b[38;5;241m=\u001b[39m [x \u001b[38;5;28;01mfor\u001b[39;00m x \u001b[38;5;129;01min\u001b[39;00m tail \u001b[38;5;28;01mif\u001b[39;00m x \u001b[38;5;241m>\u001b[39m pivot]\n\u001b[1;32m---> 12\u001b[0m \u001b[38;5;28;01mreturn\u001b[39;00m \u001b[43mquick_sort_python\u001b[49m\u001b[43m(\u001b[49m\u001b[43mleft_side\u001b[49m\u001b[43m)\u001b[49m \u001b[38;5;241m+\u001b[39m [pivot] \u001b[38;5;241m+\u001b[39m quick_sort_python(right_side)\n",
      "Input \u001b[1;32mIn [2]\u001b[0m, in \u001b[0;36mquick_sort_python\u001b[1;34m(array)\u001b[0m\n\u001b[0;32m     10\u001b[0m left_side \u001b[38;5;241m=\u001b[39m [x \u001b[38;5;28;01mfor\u001b[39;00m x \u001b[38;5;129;01min\u001b[39;00m tail \u001b[38;5;28;01mif\u001b[39;00m x \u001b[38;5;241m<\u001b[39m\u001b[38;5;241m=\u001b[39m pivot]\n\u001b[0;32m     11\u001b[0m right_side \u001b[38;5;241m=\u001b[39m [x \u001b[38;5;28;01mfor\u001b[39;00m x \u001b[38;5;129;01min\u001b[39;00m tail \u001b[38;5;28;01mif\u001b[39;00m x \u001b[38;5;241m>\u001b[39m pivot]\n\u001b[1;32m---> 12\u001b[0m \u001b[38;5;28;01mreturn\u001b[39;00m \u001b[43mquick_sort_python\u001b[49m\u001b[43m(\u001b[49m\u001b[43mleft_side\u001b[49m\u001b[43m)\u001b[49m\u001b[43m \u001b[49m\u001b[38;5;241;43m+\u001b[39;49m\u001b[43m \u001b[49m\u001b[43m[\u001b[49m\u001b[43mpivot\u001b[49m\u001b[43m]\u001b[49m \u001b[38;5;241m+\u001b[39m quick_sort_python(right_side)\n",
      "\u001b[1;31mTypeError\u001b[0m: unsupported operand type(s) for +: 'NoneType' and 'list'"
     ]
    }
   ],
   "source": [
    "# quick sort\n",
    "arr = [15, 5, 23, 18, 9, 7, 28, 25, 13, 27, 29, 24, 8, 21, 1, 20, 26, 3, 15, 11, 12, 16, 23, 19, 30, 6, 0, 17, 22, 10]\n",
    "print(arr)\n",
    "\n",
    "def quick_sort_python(array):\n",
    "    if len(array) <= 1:\n",
    "        return array\n",
    "    pivot = array[0]\n",
    "    tail = array[1:]\n",
    "    left_side = [x for x in tail if x <= pivot]\n",
    "    right_side = [x for x in tail if x > pivot]\n",
    "    return quick_sort_python(left_side) + [pivot] + quick_sort_python(right_side)\n",
    "\n",
    "print(quick_sort_python(arr))"
   ]
  }
 ],
 "metadata": {
  "kernelspec": {
   "display_name": "base",
   "language": "python",
   "name": "python3"
  },
  "language_info": {
   "codemirror_mode": {
    "name": "ipython",
    "version": 3
   },
   "file_extension": ".py",
   "mimetype": "text/x-python",
   "name": "python",
   "nbconvert_exporter": "python",
   "pygments_lexer": "ipython3",
   "version": "3.9.12"
  }
 },
 "nbformat": 4,
 "nbformat_minor": 2
}
