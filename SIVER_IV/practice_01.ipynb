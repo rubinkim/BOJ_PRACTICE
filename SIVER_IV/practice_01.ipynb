{
 "cells": [
  {
   "cell_type": "markdown",
   "metadata": {},
   "source": [
    "#### selection sort, insertion sort, quick sort"
   ]
  },
  {
   "cell_type": "code",
   "execution_count": 15,
   "metadata": {},
   "outputs": [
    {
     "name": "stdout",
     "output_type": "stream",
     "text": [
      "[15, 5, 23, 18, 9, 7, 28, 25, 13, 27, 22, 24, 8, 21, 1, 20, 26, 3, 15, 11, 12, 16, 23, 19, 30, 6, 0, 17, 22, 10]\n"
     ]
    }
   ],
   "source": [
    "arr = [15, 5, 23, 18, 9, 7, 28, 25, 13, 27, 22, 24, 8, 21, 1, 20, 26, 3, 15, 11, 12, 16, 23, 19, 30, 6, 0, 17, 22, 10]\n",
    "print(arr)"
   ]
  },
  {
   "cell_type": "code",
   "execution_count": 14,
   "metadata": {},
   "outputs": [
    {
     "name": "stdout",
     "output_type": "stream",
     "text": [
      "[0, 1, 3, 5, 6, 6, 8, 9, 10, 11, 13, 13, 15, 15, 16, 17, 17, 18, 19, 20, 22, 22, 23, 23, 23, 24, 24, 26, 28, 30]\n"
     ]
    }
   ],
   "source": [
    "# selection sort\n",
    "for i in range(len(arr)):\n",
    "    min_index = i\n",
    "    for j in range(i+1, len(arr)):\n",
    "        if arr[min_index] > arr[j]:\n",
    "            min_index = j\n",
    "    arr[i], arr[min_index] = arr[min_index], arr[i]\n",
    "    \n",
    "print(arr)"
   ]
  }
 ],
 "metadata": {
  "kernelspec": {
   "display_name": "base",
   "language": "python",
   "name": "python3"
  },
  "language_info": {
   "codemirror_mode": {
    "name": "ipython",
    "version": 3
   },
   "file_extension": ".py",
   "mimetype": "text/x-python",
   "name": "python",
   "nbconvert_exporter": "python",
   "pygments_lexer": "ipython3",
   "version": "3.9.12"
  }
 },
 "nbformat": 4,
 "nbformat_minor": 2
}
