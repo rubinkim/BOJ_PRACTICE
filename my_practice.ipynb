{
 "cells": [
  {
   "cell_type": "markdown",
   "metadata": {},
   "source": [
    "#### 3709 입국심사"
   ]
  },
  {
   "cell_type": "code",
   "execution_count": 22,
   "metadata": {},
   "outputs": [
    {
     "name": "stdout",
     "output_type": "stream",
     "text": [
      "0 : [0, 0, 0, 0, 0, 2, 0]\n",
      "1 : [3, 0, 0, 0, 0, 2, 0]\n",
      "2 : [3, 0, 3, 0, 0, 2, 0]\n",
      "3 : [3, 0, 3, 0, 0, 4, 0]\n",
      "4 : [3, 0, 3, 0, 0, 4, 4]\n",
      "5 : [6, 0, 3, 0, 0, 4, 4]\n",
      "6 : [6, 0, 6, 0, 0, 4, 4]\n",
      "7 : [6, 0, 6, 6, 0, 4, 4]\n",
      "8 : [6, 0, 6, 6, 0, 6, 4]\n",
      "9 : [6, 8, 6, 6, 0, 6, 4]\n",
      "[6, 8, 6, 6, 0, 6, 4]\n",
      "8\n"
     ]
    }
   ],
   "source": [
    "waiting_times = [0] * n\n",
    "min_idx = array.index(min(array))\n",
    "waiting_times[min_idx] = array[min_idx]\n",
    "i = 0\n",
    "print(f\"{i} : {waiting_times}\")\n",
    "i += 1\n",
    "while i < m: \n",
    "       \n",
    "    for j in range(len(array)):\n",
    "        waiting_times[j] += array[j]\n",
    "    min_idx = waiting_times.index(min(waiting_times))\n",
    "        #print(f\"i : {i},   min_idx : {min_idx},   waiting_times : {waiting_times}\")\n",
    "    for j in range(len(array)):\n",
    "        if j != min_idx:\n",
    "            waiting_times[j] -= array[j]\n",
    "    print(f\"{i} : {waiting_times}\")   \n",
    "    i += 1\n",
    "   \n",
    "print(waiting_times)\n",
    "print(max(waiting_times))"
   ]
  },
  {
   "cell_type": "code",
   "execution_count": null,
   "metadata": {},
   "outputs": [],
   "source": [
    "# timeout!!!!!\n",
    "\n",
    "import sys\n",
    "input = sys.stdin.readline\n",
    "\n",
    "n, m = map(int, input().split()) \n",
    "array = [int(input()) for _ in range(n)] \n",
    "\n",
    "waiting_times = [0] * n\n",
    "min_idx = array.index(min(array))\n",
    "waiting_times[min_idx] = array[min_idx]\n",
    "i = 1\n",
    "\n",
    "while i < m: \n",
    "       \n",
    "    for j in range(len(array)):\n",
    "        waiting_times[j] += array[j]\n",
    "    min_idx = waiting_times.index(min(waiting_times))\n",
    "        #print(f\"i : {i},   min_idx : {min_idx},   waiting_times : {waiting_times}\")\n",
    "    for j in range(len(array)):\n",
    "        if j != min_idx:\n",
    "            waiting_times[j] -= array[j]  \n",
    "    i += 1   \n",
    "\n",
    "print(max(waiting_times))"
   ]
  },
  {
   "cell_type": "code",
   "execution_count": 7,
   "metadata": {},
   "outputs": [
    {
     "name": "stdout",
     "output_type": "stream",
     "text": [
      "cnt : 81,  start : 2,  mid : 46,  end : 90\n",
      "cnt : 37,  start : 2,  mid : 23,  end : 45\n",
      "cnt : 21,  start : 2,  mid : 12,  end : 22\n",
      "cnt : 9,  start : 2,  mid : 6,  end : 11\n",
      "cnt : 15,  start : 7,  mid : 9,  end : 11\n",
      "cnt : 9,  start : 7,  mid : 7,  end : 8\n",
      "cnt : 12,  start : 8,  mid : 8,  end : 8\n",
      "8\n"
     ]
    }
   ],
   "source": [
    "#import sys\n",
    "#input = sys.stdin.readline\n",
    "\n",
    "n, m = map(int, input().split()) \n",
    "array = [int(input()) for _ in range(n)] \n",
    "array.sort()\n",
    "\n",
    "start, end = min(array), max(array) * m\n",
    "\n",
    "while start <= end:\n",
    "    mid = (start + end) // 2\n",
    "    cnt = 0\n",
    "    \n",
    "    for i in range(len(array)):    \n",
    "        cnt += mid // array[i]\n",
    "    print(f\"cnt : {cnt},  start : {start},  mid : {mid},  end : {end}\")\n",
    "                    \n",
    "    if cnt >= m:\n",
    "        end = mid - 1\n",
    "    else:\n",
    "        start = mid + 1\n",
    "        \n",
    "print(mid)        "
   ]
  },
  {
   "cell_type": "code",
   "execution_count": 8,
   "metadata": {},
   "outputs": [
    {
     "name": "stdout",
     "output_type": "stream",
     "text": [
      "cnt : 81,  start : 2,  mid : 46,  end : 90\n",
      "cnt : 37,  start : 2,  mid : 23,  end : 45\n",
      "cnt : 21,  start : 2,  mid : 12,  end : 22\n",
      "cnt : 9,  start : 2,  mid : 6,  end : 11\n",
      "cnt : 15,  start : 7,  mid : 9,  end : 11\n",
      "cnt : 9,  start : 7,  mid : 7,  end : 8\n",
      "cnt : 12,  start : 8,  mid : 8,  end : 8\n",
      "8\n"
     ]
    }
   ],
   "source": [
    "import sys\n",
    "input = sys.stdin.readline\n",
    "\n",
    "n, m = map(int, input().split()) \n",
    "array = [int(input()) for _ in range(n)] \n",
    "array.sort()\n",
    "\n",
    "start, end = min(array), max(array) * m\n",
    "\n",
    "while start <= end:\n",
    "    mid = (start + end) // 2\n",
    "    cnt = 0\n",
    "    \n",
    "    for i in range(len(array)):    \n",
    "        cnt += mid // array[i]\n",
    "    #print(f\"cnt : {cnt},  start : {start},  mid : {mid},  end : {end}\")\n",
    "                    \n",
    "    if cnt >= m:\n",
    "        end = mid - 1\n",
    "    else:\n",
    "        start = mid + 1\n",
    "        \n",
    "print(start)        "
   ]
  },
  {
   "cell_type": "code",
   "execution_count": null,
   "metadata": {},
   "outputs": [],
   "source": []
  },
  {
   "cell_type": "code",
   "execution_count": null,
   "metadata": {},
   "outputs": [],
   "source": []
  },
  {
   "cell_type": "code",
   "execution_count": null,
   "metadata": {},
   "outputs": [],
   "source": []
  },
  {
   "cell_type": "code",
   "execution_count": null,
   "metadata": {},
   "outputs": [],
   "source": []
  },
  {
   "cell_type": "code",
   "execution_count": null,
   "metadata": {},
   "outputs": [],
   "source": [
    "import sys\n",
    "input = sys.stdin.readline\n",
    "\n",
    "n, m = map(int, input().split()) \n",
    "array = [int(input()) for _ in range(n)] \n",
    "array.sort()\n",
    "\n",
    "start, end = min(array), max(array) * m\n",
    "\n",
    "while start <= end:\n",
    "    mid = (start + end) // 2\n",
    "    cnt = 0\n",
    "    \n",
    "    for i in range(len(array)):    \n",
    "        cnt += mid // array[i]\n",
    "    #print(f\"cnt : {cnt},  start : {start},  mid : {mid},  end : {end}\")\n",
    "                    \n",
    "    if cnt >= m:\n",
    "        end = mid - 1\n",
    "    else:\n",
    "        start = mid + 1\n",
    "        \n",
    "print(start) "
   ]
  }
 ],
 "metadata": {
  "kernelspec": {
   "display_name": "base",
   "language": "python",
   "name": "python3"
  },
  "language_info": {
   "codemirror_mode": {
    "name": "ipython",
    "version": 3
   },
   "file_extension": ".py",
   "mimetype": "text/x-python",
   "name": "python",
   "nbconvert_exporter": "python",
   "pygments_lexer": "ipython3",
   "version": "3.9.12"
  }
 },
 "nbformat": 4,
 "nbformat_minor": 2
}
