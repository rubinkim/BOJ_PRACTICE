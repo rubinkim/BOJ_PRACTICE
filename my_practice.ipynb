{
 "cells": [
  {
   "cell_type": "markdown",
   "metadata": {},
   "source": [
    "#### 3709 입국심사"
   ]
  },
  {
   "cell_type": "code",
   "execution_count": null,
   "metadata": {},
   "outputs": [],
   "source": [
    "import sys                                  # (2 6)(10 7),       (7 10)(3 8 3 6 9 2 4)\n",
    "input = sys.stdin.readline\n",
    "\n",
    "n, m = map(int, input().split()) \n",
    "array = [int(input()) for _ in range(n)] \n",
    "array.sort()\n",
    "\n",
    "start, end = min(array), max(array) * m\n",
    "\n",
    "while start <= end:\n",
    "    mid = (start + end) // 2\n",
    "    cnt = 0\n",
    "    \n",
    "    for i in range(len(array)):    \n",
    "        cnt += mid // array[i]\n",
    "    #print(f\"cnt : {cnt},  start : {start},  mid : {mid},  end : {end}\")\n",
    "                    \n",
    "    if cnt >= m:\n",
    "        end = mid - 1\n",
    "    else:\n",
    "        start = mid + 1\n",
    "        \n",
    "print(start) "
   ]
  },
  {
   "cell_type": "markdown",
   "metadata": {},
   "source": [
    "#### 16401 과자 나눠주기"
   ]
  },
  {
   "cell_type": "code",
   "execution_count": 17,
   "metadata": {},
   "outputs": [
    {
     "name": "stdout",
     "output_type": "stream",
     "text": [
      "before : start :  1,   mid :  5,   end : 10,   m :  3   cnt : 7\n",
      "after  : start :  6,   mid :  5,   end : 10,   m :  3,  cnt : 7\n",
      "\n",
      "before : start :  6,   mid :  8,   end : 10,   m :  3   cnt : 3\n",
      "after  : start :  9,   mid :  8,   end : 10,   m :  3,  cnt : 3\n",
      "\n",
      "before : start :  9,   mid :  9,   end : 10,   m :  3   cnt : 2\n",
      "after  : start :  9,   mid :  9,   end :  8,   m :  3,  cnt : 2\n",
      "\n",
      "\n",
      "8\n"
     ]
    }
   ],
   "source": [
    "#import sys\n",
    "#input = sys.stdin.readline\n",
    "\n",
    "m, n = map(int, input().split())          # (3 10)(1 2 3 4 5 6 7 8 9 10),  (4 3)(10 10 15)\n",
    "array = list(map(int, input().split()))\n",
    "\n",
    "start, end = 1, max(array)\n",
    "\n",
    "while start <= end:\n",
    "    mid = (start + end) // 2\n",
    "    print(f\"before : start : {start:2d},   mid : {mid:2d},   end : {end:2d},   m : {m:2d}\", end='   ')\n",
    "    cnt = 0\n",
    "    \n",
    "    for i in range(len(array)):\n",
    "        if array[i] >= mid:\n",
    "            cnt += array[i] // mid    \n",
    "    print(f\"cnt : {cnt}\")\n",
    "    \n",
    "    if cnt >= m:\n",
    "        start = mid + 1\n",
    "    else:\n",
    "        end = mid - 1\n",
    "    print(f\"after  : start : {start:2d},   mid : {mid:2d},   end : {end:2d},   m : {m:2d},  cnt : {cnt}\")\n",
    "    print()\n",
    "    \n",
    "print()\n",
    "print(end)"
   ]
  },
  {
   "cell_type": "markdown",
   "metadata": {},
   "source": [
    "#### 2606 바이러스"
   ]
  },
  {
   "cell_type": "code",
   "execution_count": 3,
   "metadata": {},
   "outputs": [
    {
     "name": "stdout",
     "output_type": "stream",
     "text": [
      "1 [2, 5]\n",
      "2 [1, 3, 5]\n",
      "3 [2]\n",
      "5 [1, 2, 6]\n",
      "6 [5]\n",
      "4 [7]\n",
      "7 [4]\n"
     ]
    }
   ],
   "source": [
    "\"\"\" \n",
    "샘플 데이터\n",
    "7\n",
    "6\n",
    "1 2\n",
    "2 3\n",
    "1 5\n",
    "5 2\n",
    "5 6\n",
    "4 7         4\n",
    "\"\"\"\n",
    "with open(\"data/2606_바이러스.txt\", \"r\") as input:\n",
    "    v = int(input.readline())                # v : number of vertices\n",
    "    e = int(input.readline())                # e : number of edges\n",
    "\n",
    "    graph = {}\n",
    "    for _ in range(e):\n",
    "        a, b = map(int, input.readline().split())\n",
    "        if a not in graph.keys():\n",
    "            graph[a] = [b]\n",
    "        else:\n",
    "            graph[a].append(b)\n",
    "        if b not in graph.keys():\n",
    "            graph[b] = [a]\n",
    "        else:\n",
    "            graph[b].append(a)\n",
    "            \n",
    "    for k, v in graph.items():\n",
    "        print(k, v)"
   ]
  },
  {
   "cell_type": "code",
   "execution_count": 4,
   "metadata": {},
   "outputs": [
    {
     "data": {
      "text/plain": [
       "{1: [2, 5], 2: [1, 3, 5], 3: [2], 5: [1, 2, 6], 6: [5], 4: [7], 7: [4]}"
      ]
     },
     "execution_count": 4,
     "metadata": {},
     "output_type": "execute_result"
    }
   ],
   "source": [
    "graph"
   ]
  },
  {
   "cell_type": "code",
   "execution_count": 9,
   "metadata": {},
   "outputs": [],
   "source": [
    "from collections import deque\n",
    "\n",
    "def dfs_deque(graph, start):\n",
    "    q = deque([start])\n",
    "    path = []\n",
    "    while q:\n",
    "        now = q.pop()\n",
    "        if now not in path and now != start:\n",
    "            path.append(now)\n",
    "        for nxt in graph[now]:\n",
    "            if nxt not in path:\n",
    "                q.append(nxt)\n",
    "    return len(path)"
   ]
  },
  {
   "cell_type": "code",
   "execution_count": 10,
   "metadata": {},
   "outputs": [
    {
     "data": {
      "text/plain": [
       "4"
      ]
     },
     "execution_count": 10,
     "metadata": {},
     "output_type": "execute_result"
    }
   ],
   "source": [
    "dfs_deque(graph, 1)"
   ]
  },
  {
   "cell_type": "markdown",
   "metadata": {},
   "source": [
    "#### 2667 단지 번호 붙이기"
   ]
  },
  {
   "cell_type": "code",
   "execution_count": 70,
   "metadata": {},
   "outputs": [
    {
     "name": "stdout",
     "output_type": "stream",
     "text": [
      "n : 7\n",
      "[0, 1, 1, 0, 1, 0, 0]\n",
      "[0, 1, 1, 0, 1, 0, 1]\n",
      "[1, 1, 1, 0, 1, 0, 1]\n",
      "[0, 0, 0, 0, 1, 1, 1]\n",
      "[0, 1, 0, 0, 0, 0, 0]\n",
      "[0, 1, 1, 1, 1, 1, 0]\n",
      "[0, 1, 1, 1, 0, 0, 0]\n"
     ]
    }
   ],
   "source": [
    "with open(\"data/2667_단지번호붙이기.txt\", \"r\") as input:\n",
    "    n = int(input.readline())\n",
    "    print(f\"n : {n}\")\n",
    "    \n",
    "    graph = [[0] * n for _ in range(n)]\n",
    "    for i in range(n):\n",
    "        row = list(map(int, input.readline().rstrip()))\n",
    "        for j in range(len(row)):\n",
    "            if row[j] == 1:\n",
    "                graph[i][j] = 1\n",
    "        \n",
    "    for row in graph:\n",
    "        print(row)"
   ]
  },
  {
   "cell_type": "code",
   "execution_count": 71,
   "metadata": {},
   "outputs": [],
   "source": [
    "from collections import deque\n",
    "path = []\n",
    "\n",
    "def connected_component_mutant(graph, start_x, start_y, cnt):\n",
    "    global path\n",
    "    dx = [0, 0, 1, -1]\n",
    "    dy = [1, -1, 0, 0]\n",
    "        \n",
    "    if start_x <= -1 or start_x >= n or start_y <= -1 or start_y >= n:\n",
    "        return False\n",
    "    \n",
    "    if graph[start_x][start_y] == 1 and (start_x, start_y) not in path:\n",
    "        path.append((start_x, start_y))\n",
    "        graph[start_x][start_y] = cnt\n",
    "        q = deque([(start_x, start_y)])\n",
    "        \n",
    "        while q:\n",
    "            x, y = q.pop()\n",
    "            for i in range(4):\n",
    "                nx = x + dx[i]\n",
    "                ny = y + dy[i]\n",
    "                if nx <= -1 or nx >= n or ny <= -1 or ny >= n:\n",
    "                    continue\n",
    "                if graph[nx][ny] == 1 and (nx, ny) not in path:\n",
    "                    graph[nx][ny] = cnt\n",
    "                    path.append((nx, ny))\n",
    "                    q.append((nx, ny))\n",
    "                    #print(f\"nx : {nx},  ny : {ny}\", end='    ')\n",
    "                    #print(path)\n",
    "            \n",
    "        return True\n",
    "    return False"
   ]
  },
  {
   "cell_type": "code",
   "execution_count": 72,
   "metadata": {},
   "outputs": [
    {
     "name": "stdout",
     "output_type": "stream",
     "text": [
      "0 : 0,  j : 1,  result : 1\n",
      "0 : 0,  j : 4,  result : 2\n",
      "4 : 4,  j : 1,  result : 3\n",
      "4\n"
     ]
    }
   ],
   "source": [
    "result = 1\n",
    "for i in range(n):\n",
    "    for j in range(n):\n",
    "        if connected_component_mutant(graph, i, j, result) == True:       \n",
    "            print(f\"{i} : {i},  j : {j},  result : {result}\")            \n",
    "            result += 1         \n",
    "print(result)"
   ]
  },
  {
   "cell_type": "code",
   "execution_count": 73,
   "metadata": {},
   "outputs": [
    {
     "name": "stdout",
     "output_type": "stream",
     "text": [
      "[0, 1, 1, 0, 2, 0, 0]\n",
      "[0, 1, 1, 0, 2, 0, 2]\n",
      "[1, 1, 1, 0, 2, 0, 2]\n",
      "[0, 0, 0, 0, 2, 2, 2]\n",
      "[0, 3, 0, 0, 0, 0, 0]\n",
      "[0, 3, 3, 3, 3, 3, 0]\n",
      "[0, 3, 3, 3, 0, 0, 0]\n"
     ]
    }
   ],
   "source": [
    "for row in graph:\n",
    "    print(row)"
   ]
  },
  {
   "cell_type": "code",
   "execution_count": 74,
   "metadata": {},
   "outputs": [],
   "source": [
    "cnt_dict = {}\n",
    "for i in range(n):\n",
    "    for j in range(n):\n",
    "        if graph[i][j] not in cnt_dict.keys():\n",
    "            cnt_dict[graph[i][j]] = 1\n",
    "        else:\n",
    "            cnt_dict[graph[i][j]] += 1"
   ]
  },
  {
   "cell_type": "code",
   "execution_count": 76,
   "metadata": {},
   "outputs": [
    {
     "name": "stdout",
     "output_type": "stream",
     "text": [
      "3\n",
      "7\n",
      "8\n",
      "9\n"
     ]
    }
   ],
   "source": [
    "print(result - 1)\n",
    "\n",
    "for k, v in cnt_dict.items():\n",
    "    if k > 0:\n",
    "        print(v)"
   ]
  },
  {
   "cell_type": "code",
   "execution_count": null,
   "metadata": {},
   "outputs": [],
   "source": [
    "import sys\n",
    "input = sys.stdin.readline\n",
    "\n",
    "n = int(input())\n",
    "    \n",
    "graph = [[0] * n for _ in range(n)]\n",
    "for i in range(n):\n",
    "    row = list(map(int, input().split()))\n",
    "    for j in range(len(row)):\n",
    "        if row[j] == 1:\n",
    "            graph[i][j] = 1\n",
    "    \n"
   ]
  },
  {
   "cell_type": "markdown",
   "metadata": {},
   "source": [
    "#### 2667_단지번호붙이기 나의 방법"
   ]
  },
  {
   "cell_type": "code",
   "execution_count": 1,
   "metadata": {},
   "outputs": [
    {
     "name": "stdout",
     "output_type": "stream",
     "text": [
      "n : 7\n",
      "[0, 1, 1, 0, 1, 0, 0]\n",
      "[0, 1, 1, 0, 1, 0, 1]\n",
      "[1, 1, 1, 0, 1, 0, 1]\n",
      "[0, 0, 0, 0, 1, 1, 1]\n",
      "[0, 1, 0, 0, 0, 0, 0]\n",
      "[0, 1, 1, 1, 1, 1, 0]\n",
      "[0, 1, 1, 1, 0, 0, 0]\n"
     ]
    }
   ],
   "source": [
    "with open(\"data/2667_단지번호붙이기.txt\", \"r\") as input:\n",
    "    n = int(input.readline())\n",
    "    print(f\"n : {n}\")\n",
    "    \n",
    "    graph = [[0] * n for _ in range(n)]\n",
    "    for i in range(n):\n",
    "        row = list(map(int, input.readline().rstrip()))\n",
    "        for j in range(len(row)):\n",
    "            if row[j] == 1:\n",
    "                graph[i][j] = 1\n",
    "        \n",
    "    for row in graph:\n",
    "        print(row)"
   ]
  },
  {
   "cell_type": "code",
   "execution_count": 2,
   "metadata": {},
   "outputs": [],
   "source": [
    "from collections import deque\n",
    "path = []\n",
    "\n",
    "def connected_component_mutant(graph, start_x, start_y, num):\n",
    "    global path\n",
    "    dx = [-1, 1, 0, 0]\n",
    "    dy = [0, 0, -1, 1]\n",
    "    \n",
    "    q = deque()\n",
    "    \n",
    "    if start_x <= -1 or start_x >= n or start_y <= -1 or start_y >= n:\n",
    "        return False\n",
    "    if graph[start_x][start_y] == 0:\n",
    "        return False\n",
    "    if graph[start_x][start_y] == 1 and (start_x, start_y) in path:\n",
    "        return False\n",
    "    \n",
    "    if graph[start_x][start_y] == 1 and (start_x, start_y) not in path:\n",
    "        q.append((start_x, start_y))\n",
    "        path.append((start_x, start_y))\n",
    "        graph[start_x][start_y] = num\n",
    "        \n",
    "        while q:\n",
    "            x, y = q.pop()\n",
    "            \n",
    "            for i in range(4):\n",
    "                nx = x + dx[i]\n",
    "                ny = y + dy[i]\n",
    "                \n",
    "                if nx <= -1 or nx >= n or ny <= -1 or ny >= n:\n",
    "                    continue\n",
    "                if graph[nx][ny] == 0:\n",
    "                    continue\n",
    "                if graph[nx][ny] == 1 and (nx, ny) in path:\n",
    "                    continue\n",
    "                if graph[nx][ny] == 1 and (nx, ny) not in path:\n",
    "                    q.append((nx, ny))\n",
    "                    path.append((nx, ny))\n",
    "                    graph[nx][ny] = num\n",
    "        return True\n",
    "    return False"
   ]
  },
  {
   "cell_type": "code",
   "execution_count": 3,
   "metadata": {},
   "outputs": [
    {
     "name": "stdout",
     "output_type": "stream",
     "text": [
      "4\n"
     ]
    }
   ],
   "source": [
    "check = [[False] * n for _ in range(n)]\n",
    "cnt = 1\n",
    "\n",
    "for i in range(n):\n",
    "    for j in range(n):\n",
    "        if connected_component_mutant(graph, i, j, cnt) == True:\n",
    "            cnt += 1\n",
    "            check[i][j] = True \n",
    "            \n",
    "print(cnt)           "
   ]
  },
  {
   "cell_type": "code",
   "execution_count": 4,
   "metadata": {},
   "outputs": [
    {
     "name": "stdout",
     "output_type": "stream",
     "text": [
      "[False, True, False, False, True, False, False]\n",
      "[False, False, False, False, False, False, False]\n",
      "[False, False, False, False, False, False, False]\n",
      "[False, False, False, False, False, False, False]\n",
      "[False, True, False, False, False, False, False]\n",
      "[False, False, False, False, False, False, False]\n",
      "[False, False, False, False, False, False, False]\n"
     ]
    }
   ],
   "source": [
    "for row in check:\n",
    "    print(row)"
   ]
  },
  {
   "cell_type": "code",
   "execution_count": 5,
   "metadata": {},
   "outputs": [
    {
     "name": "stdout",
     "output_type": "stream",
     "text": [
      "[0, 1, 1, 0, 2, 0, 0]\n",
      "[0, 1, 1, 0, 2, 0, 2]\n",
      "[1, 1, 1, 0, 2, 0, 2]\n",
      "[0, 0, 0, 0, 2, 2, 2]\n",
      "[0, 3, 0, 0, 0, 0, 0]\n",
      "[0, 3, 3, 3, 3, 3, 0]\n",
      "[0, 3, 3, 3, 0, 0, 0]\n"
     ]
    }
   ],
   "source": [
    "for row in graph:\n",
    "    print(row)"
   ]
  },
  {
   "cell_type": "code",
   "execution_count": 7,
   "metadata": {},
   "outputs": [
    {
     "data": {
      "text/plain": [
       "[[False, True, True, False, False, False, False],\n",
       " [False, True, True, False, False, False, False],\n",
       " [True, True, True, False, False, False, False],\n",
       " [False, False, False, False, False, False, False],\n",
       " [False, False, False, False, False, False, False],\n",
       " [False, False, False, False, False, False, False],\n",
       " [False, False, False, False, False, False, False]]"
      ]
     },
     "execution_count": 7,
     "metadata": {},
     "output_type": "execute_result"
    }
   ],
   "source": [
    "[[graph[i][j] == 1 for j in range(n)] for i in range(n)]"
   ]
  },
  {
   "cell_type": "code",
   "execution_count": 9,
   "metadata": {},
   "outputs": [
    {
     "ename": "TypeError",
     "evalue": "unsupported operand type(s) for +: 'int' and 'list'",
     "output_type": "error",
     "traceback": [
      "\u001b[1;31m---------------------------------------------------------------------------\u001b[0m",
      "\u001b[1;31mTypeError\u001b[0m                                 Traceback (most recent call last)",
      "Input \u001b[1;32mIn [9]\u001b[0m, in \u001b[0;36m<cell line: 1>\u001b[1;34m()\u001b[0m\n\u001b[1;32m----> 1\u001b[0m \u001b[38;5;28;43msum\u001b[39;49m\u001b[43m(\u001b[49m\u001b[43m[\u001b[49m\u001b[43m[\u001b[49m\u001b[38;5;28;43;01mTrue\u001b[39;49;00m\u001b[43m,\u001b[49m\u001b[43m \u001b[49m\u001b[38;5;28;43;01mFalse\u001b[39;49;00m\u001b[43m,\u001b[49m\u001b[43m \u001b[49m\u001b[38;5;28;43;01mTrue\u001b[39;49;00m\u001b[43m]\u001b[49m\u001b[43m]\u001b[49m\u001b[43m)\u001b[49m\n",
      "\u001b[1;31mTypeError\u001b[0m: unsupported operand type(s) for +: 'int' and 'list'"
     ]
    }
   ],
   "source": [
    "sum([[True, False, True]])"
   ]
  },
  {
   "cell_type": "code",
   "execution_count": null,
   "metadata": {},
   "outputs": [],
   "source": []
  },
  {
   "cell_type": "code",
   "execution_count": 33,
   "metadata": {},
   "outputs": [
    {
     "name": "stdout",
     "output_type": "stream",
     "text": [
      "n : 7\n",
      "[0, 1, 1, 0, 1, 0, 0]\n",
      "[0, 1, 1, 0, 1, 0, 1]\n",
      "[1, 1, 1, 0, 1, 0, 1]\n",
      "[0, 0, 0, 0, 1, 1, 1]\n",
      "[0, 1, 0, 0, 0, 0, 0]\n",
      "[0, 1, 1, 1, 1, 1, 0]\n",
      "[0, 1, 1, 1, 0, 0, 0]\n"
     ]
    }
   ],
   "source": [
    "with open(\"data/2667_단지번호붙이기.txt\", \"r\") as input:\n",
    "    n = int(input.readline())\n",
    "    print(f\"n : {n}\")\n",
    "    \n",
    "    graph = [[0] * n for _ in range(n)]\n",
    "    for i in range(n):\n",
    "        row = list(map(int, input.readline().rstrip()))\n",
    "        for j in range(len(row)):\n",
    "            if row[j] == 1:\n",
    "                graph[i][j] = 1\n",
    "        \n",
    "    for row in graph:\n",
    "        print(row)"
   ]
  },
  {
   "cell_type": "code",
   "execution_count": 34,
   "metadata": {},
   "outputs": [],
   "source": [
    "from collections import deque\n",
    "path = []\n",
    "num_dict = {}\n",
    "\n",
    "def connected_component_mutant(graph, start_x, start_y, num):\n",
    "    global path, num_dict\n",
    "    dx = [-1, 1, 0, 0]\n",
    "    dy = [0, 0, -1, 1]\n",
    "    \n",
    "    q = deque()\n",
    "    \n",
    "    if start_x <= -1 or start_x >= n or start_y <= -1 or start_y >= n:\n",
    "        return False\n",
    "    if graph[start_x][start_y] == 0:\n",
    "        return False\n",
    "    if graph[start_x][start_y] == 1 and (start_x, start_y) in path:\n",
    "        return False\n",
    "    \n",
    "    if graph[start_x][start_y] == 1 and (start_x, start_y) not in path:\n",
    "        q.append((start_x, start_y))\n",
    "        path.append((start_x, start_y))\n",
    "        graph[start_x][start_y] = num\n",
    "        if num not in num_dict.keys():\n",
    "            num_dict[num] = 1\n",
    "        \n",
    "        while q:\n",
    "            x, y = q.pop()\n",
    "            cnt = 0\n",
    "            \n",
    "            for i in range(4):\n",
    "                nx = x + dx[i]\n",
    "                ny = y + dy[i]\n",
    "                \n",
    "                if nx <= -1 or nx >= n or ny <= -1 or ny >= n:\n",
    "                    continue\n",
    "                if graph[nx][ny] == 0:\n",
    "                    continue\n",
    "                if graph[nx][ny] == 1 and (nx, ny) in path:\n",
    "                    continue\n",
    "                if graph[nx][ny] == 1 and (nx, ny) not in path:\n",
    "                    q.append((nx, ny))\n",
    "                    path.append((nx, ny))\n",
    "                    graph[nx][ny] = num\n",
    "                    cnt += 1\n",
    "                    num_dict[num] += 1\n",
    "        \n",
    "        return True\n",
    "    return False"
   ]
  },
  {
   "cell_type": "code",
   "execution_count": 35,
   "metadata": {},
   "outputs": [
    {
     "name": "stdout",
     "output_type": "stream",
     "text": [
      "4\n"
     ]
    }
   ],
   "source": [
    "check = [[False] * n for _ in range(n)]\n",
    "cnt = 1\n",
    "\n",
    "for i in range(n):\n",
    "    for j in range(n):\n",
    "        if connected_component_mutant(graph, i, j, cnt) == True:\n",
    "            cnt += 1\n",
    "            check[i][j] = True \n",
    "            \n",
    "print(cnt)           "
   ]
  },
  {
   "cell_type": "code",
   "execution_count": 36,
   "metadata": {},
   "outputs": [
    {
     "name": "stdout",
     "output_type": "stream",
     "text": [
      "[False, True, False, False, True, False, False]\n",
      "[False, False, False, False, False, False, False]\n",
      "[False, False, False, False, False, False, False]\n",
      "[False, False, False, False, False, False, False]\n",
      "[False, True, False, False, False, False, False]\n",
      "[False, False, False, False, False, False, False]\n",
      "[False, False, False, False, False, False, False]\n"
     ]
    }
   ],
   "source": [
    "for row in check:\n",
    "    print(row)"
   ]
  },
  {
   "cell_type": "code",
   "execution_count": 37,
   "metadata": {},
   "outputs": [
    {
     "name": "stdout",
     "output_type": "stream",
     "text": [
      "{1: 7, 2: 8, 3: 9}\n"
     ]
    }
   ],
   "source": [
    "print(num_dict)"
   ]
  },
  {
   "cell_type": "code",
   "execution_count": 41,
   "metadata": {},
   "outputs": [
    {
     "name": "stdout",
     "output_type": "stream",
     "text": [
      "3\n",
      "7\n",
      "8\n",
      "9\n"
     ]
    }
   ],
   "source": [
    "print(cnt - 1)\n",
    "for x in list(num_dict.values()):\n",
    "    print(x)"
   ]
  },
  {
   "cell_type": "markdown",
   "metadata": {},
   "source": [
    "#### 1012_배추가 있는 땅 : 나만의 방법"
   ]
  },
  {
   "cell_type": "code",
   "execution_count": 10,
   "metadata": {},
   "outputs": [],
   "source": [
    "# dfs 방식\n",
    "from collections import deque\n",
    "path = []\n",
    "num_dict = {}\n",
    "\n",
    "def connected_component_mutant(graph, start_y, start_x, num):\n",
    "    global path, num_dict\n",
    "    dy = [0, 0, -1, 1]\n",
    "    dx = [-1, 1, 0, 0]    \n",
    "    \n",
    "    q = deque()\n",
    "    \n",
    "    if start_x <= -1 or start_x >= m or start_y <= -1 or start_y >= n:\n",
    "        return False\n",
    "    if graph[start_y][start_x] == 0:\n",
    "        return False\n",
    "    if graph[start_y][start_x] == 1 and (start_y, start_x) in path:\n",
    "        return False\n",
    "    \n",
    "    if graph[start_y][start_x] == 1 and (start_y, start_x) not in path:\n",
    "        q.append((start_y, start_x))\n",
    "        path.append((start_y, start_x))\n",
    "        graph[start_y][start_x] = num\n",
    "        if num not in num_dict.keys():\n",
    "            num_dict[num] = 1\n",
    "        \n",
    "        while q:\n",
    "            y, x = q.pop()                     # x, y = q.popleft()로 하면 bfs이다.\n",
    "            cnt = 0\n",
    "            \n",
    "            for i in range(4):\n",
    "                nx = x + dx[i]\n",
    "                ny = y + dy[i]\n",
    "                \n",
    "                if nx <= -1 or nx >= m or ny <= -1 or ny >= n:\n",
    "                    continue\n",
    "                if graph[ny][nx] == 0:\n",
    "                    continue\n",
    "                if graph[ny][nx] == 1 and (ny, nx) in path:\n",
    "                    continue\n",
    "                if graph[ny][nx] == 1 and (ny, nx) not in path:\n",
    "                    q.append((ny, nx))\n",
    "                    path.append((ny, nx))\n",
    "                    graph[ny][nx] = num\n",
    "                    cnt += 1\n",
    "                    num_dict[num] += 1\n",
    "        \n",
    "        return True\n",
    "    return False"
   ]
  },
  {
   "cell_type": "code",
   "execution_count": 8,
   "metadata": {},
   "outputs": [
    {
     "name": "stdout",
     "output_type": "stream",
     "text": [
      "number of usecases : 2\n",
      "\n",
      "usecase 0\n",
      "m : 10,  n : 10,  k : 1\n",
      "[0, 0, 0, 0, 0, 0, 0, 0, 0, 0]\n",
      "[0, 0, 0, 0, 0, 0, 0, 0, 0, 0]\n",
      "[0, 0, 0, 0, 0, 0, 0, 0, 0, 0]\n",
      "[0, 0, 0, 0, 0, 0, 0, 0, 0, 0]\n",
      "[0, 0, 0, 0, 0, 0, 0, 0, 0, 0]\n",
      "[0, 0, 0, 0, 0, 1, 0, 0, 0, 0]\n",
      "[0, 0, 0, 0, 0, 0, 0, 0, 0, 0]\n",
      "[0, 0, 0, 0, 0, 0, 0, 0, 0, 0]\n",
      "[0, 0, 0, 0, 0, 0, 0, 0, 0, 0]\n",
      "[0, 0, 0, 0, 0, 0, 0, 0, 0, 0]\n",
      "배추가 있는 땅 : 1\n",
      "\n",
      "\n",
      "usecase 1\n",
      "m : 10,  n : 8,  k : 17\n",
      "[1, 1, 0, 0, 0, 0, 0, 0, 0, 0]\n",
      "[0, 1, 0, 0, 0, 0, 0, 0, 0, 0]\n",
      "[0, 0, 0, 0, 1, 0, 0, 0, 0, 0]\n",
      "[0, 0, 0, 0, 1, 0, 0, 0, 0, 0]\n",
      "[0, 0, 1, 1, 0, 0, 0, 1, 1, 1]\n",
      "[0, 0, 0, 0, 1, 0, 0, 1, 1, 1]\n",
      "[0, 0, 0, 0, 0, 0, 0, 1, 1, 1]\n",
      "[0, 0, 0, 0, 0, 0, 0, 0, 0, 0]\n",
      "배추가 있는 땅 : 5\n",
      "\n",
      "\n"
     ]
    }
   ],
   "source": [
    "with open(\"data/1012_유기농배추_1.txt\", \"r\") as input:\n",
    "    num_usecases = int(input.readline())\n",
    "    #print(f\"number of usecases : {num_usecases}\")\n",
    "    #print()\n",
    "    \n",
    "    for i in range(num_usecases):\n",
    "        #print(f\"usecase {i}\")\n",
    "        m, n, k = map(int, input.readline().split())\n",
    "        #print(f\"m : {m},  n : {n},  k : {k}\")\n",
    "        graph = [[0] * m for _ in range(n)]\n",
    "        for _ in range(k):\n",
    "            x, y = map(int, input.readline().split())\n",
    "            graph[y][x] = 1\n",
    "            \n",
    "        #for row in graph:\n",
    "            #print(row)        \n",
    "            \n",
    "        ans = 1\n",
    "        for i in range(n):\n",
    "            for j in range(m):\n",
    "                if connected_component_mutant(graph, i, j, ans) == True:\n",
    "                    ans += 1  \n",
    "\n",
    "        print(ans - 1)\n",
    "        print()\n",
    "        print()        "
   ]
  },
  {
   "cell_type": "code",
   "execution_count": 3,
   "metadata": {},
   "outputs": [
    {
     "data": {
      "text/plain": [
       "{1: 3, 2: 2, 3: 2, 4: 1, 5: 9}"
      ]
     },
     "execution_count": 3,
     "metadata": {},
     "output_type": "execute_result"
    }
   ],
   "source": [
    "num_dict"
   ]
  },
  {
   "cell_type": "code",
   "execution_count": 4,
   "metadata": {},
   "outputs": [
    {
     "name": "stdout",
     "output_type": "stream",
     "text": [
      "[1, 1, 0, 0, 0, 0, 0, 0, 0, 0]\n",
      "[0, 1, 0, 0, 0, 0, 0, 0, 0, 0]\n",
      "[0, 0, 0, 0, 3, 0, 0, 0, 0, 0]\n",
      "[0, 0, 0, 0, 3, 0, 0, 0, 0, 0]\n",
      "[0, 0, 2, 2, 0, 0, 0, 5, 5, 5]\n",
      "[0, 0, 0, 0, 4, 0, 0, 5, 5, 5]\n",
      "[0, 0, 0, 0, 0, 0, 0, 5, 5, 5]\n",
      "[0, 0, 0, 0, 0, 0, 0, 0, 0, 0]\n"
     ]
    }
   ],
   "source": [
    "for row in graph:\n",
    "    print(row)"
   ]
  },
  {
   "cell_type": "code",
   "execution_count": null,
   "metadata": {},
   "outputs": [],
   "source": []
  },
  {
   "cell_type": "code",
   "execution_count": 3,
   "metadata": {},
   "outputs": [
    {
     "name": "stdout",
     "output_type": "stream",
     "text": [
      "2\n"
     ]
    }
   ],
   "source": [
    "# dfs 방식\n",
    "from collections import deque\n",
    "import sys\n",
    "path = []\n",
    "num_dict = {}\n",
    "\n",
    "def connected_component_mutant(graph, start_y, start_x, num):\n",
    "    global path, num_dict\n",
    "    dy = [0, 0, -1, 1]\n",
    "    dx = [-1, 1, 0, 0]    \n",
    "    \n",
    "    q = deque()\n",
    "    \n",
    "    if start_x <= -1 or start_x >= m or start_y <= -1 or start_y >= n:\n",
    "        return False\n",
    "    if graph[start_y][start_x] == 0:\n",
    "        return False\n",
    "    if graph[start_y][start_x] == 1 and (start_y, start_x) in path:\n",
    "        return False\n",
    "    \n",
    "    if graph[start_y][start_x] == 1 and (start_y, start_x) not in path:\n",
    "        q.append((start_y, start_x))\n",
    "        path.append((start_y, start_x))\n",
    "        graph[start_y][start_x] = num\n",
    "        if num not in num_dict.keys():\n",
    "            num_dict[num] = 1\n",
    "        \n",
    "        while q:\n",
    "            y, x = q.pop()                     # x, y = q.popleft()로 하면 bfs이다.\n",
    "            cnt = 0\n",
    "            \n",
    "            for i in range(4):\n",
    "                nx = x + dx[i]\n",
    "                ny = y + dy[i]\n",
    "                \n",
    "                if nx <= -1 or nx >= m or ny <= -1 or ny >= n:\n",
    "                    continue\n",
    "                if graph[ny][nx] == 0:\n",
    "                    continue\n",
    "                if graph[ny][nx] == 1 and (ny, nx) in path:\n",
    "                    continue\n",
    "                if graph[ny][nx] == 1 and (ny, nx) not in path:\n",
    "                    q.append((ny, nx))\n",
    "                    path.append((ny, nx))\n",
    "                    graph[ny][nx] = num\n",
    "                    cnt += 1\n",
    "                    num_dict[num] += 1\n",
    "        \n",
    "        return True\n",
    "    return False\n",
    "\n",
    "#input = sys.stdin.readline\n",
    "num_usecases = int(input())\n",
    "#print(f\"number of usecases : {num_usecases}\")\n",
    "#print()\n",
    "\n",
    "for i in range(num_usecases):\n",
    "    #print(f\"usecase {i}\")\n",
    "    m, n, k = map(int, input().split())\n",
    "    #print(f\"m : {m},  n : {n},  k : {k}\")\n",
    "    graph = [[0] * m for _ in range(n)]\n",
    "    for _ in range(k):\n",
    "        x, y = map(int, input().split())\n",
    "        #print(f\"x : {x},  y : {y}\")\n",
    "        graph[y][x] = 1\n",
    "        \n",
    "    #for row in graph:\n",
    "        #print(row)        \n",
    "        \n",
    "    ans = 1\n",
    "    for i in range(n):\n",
    "        for j in range(m):\n",
    "            if connected_component_mutant(graph, i, j, ans) == True:\n",
    "                ans += 1  \n",
    "\n",
    "    print(ans - 1)"
   ]
  },
  {
   "cell_type": "code",
   "execution_count": 6,
   "metadata": {},
   "outputs": [
    {
     "ename": "TypeError",
     "evalue": "unsupported operand type(s) for -: 'list' and 'list'",
     "output_type": "error",
     "traceback": [
      "\u001b[1;31m---------------------------------------------------------------------------\u001b[0m",
      "\u001b[1;31mTypeError\u001b[0m                                 Traceback (most recent call last)",
      "Input \u001b[1;32mIn [6]\u001b[0m, in \u001b[0;36m<cell line: 4>\u001b[1;34m()\u001b[0m\n\u001b[0;32m      1\u001b[0m x \u001b[38;5;241m=\u001b[39m [\u001b[38;5;241m1\u001b[39m, \u001b[38;5;241m4\u001b[39m, \u001b[38;5;241m2\u001b[39m, \u001b[38;5;241m9\u001b[39m, \u001b[38;5;241m0\u001b[39m, \u001b[38;5;241m3\u001b[39m]\n\u001b[0;32m      2\u001b[0m y \u001b[38;5;241m=\u001b[39m [\u001b[38;5;241m0\u001b[39m, \u001b[38;5;241m4\u001b[39m]\n\u001b[1;32m----> 4\u001b[0m \u001b[43mx\u001b[49m\u001b[43m \u001b[49m\u001b[38;5;241;43m-\u001b[39;49m\u001b[43m \u001b[49m\u001b[43my\u001b[49m\n",
      "\u001b[1;31mTypeError\u001b[0m: unsupported operand type(s) for -: 'list' and 'list'"
     ]
    }
   ],
   "source": [
    "x = [1, 4, 2, 9, 0, 3]\n",
    "\n",
    "cnt = 0\n",
    "for i in range(len(x)):\n",
    "    y = [0, 4]\n",
    "    for j in range(len(y)):\n",
    "        if y[j] =\n",
    "            "
   ]
  }
 ],
 "metadata": {
  "kernelspec": {
   "display_name": "base",
   "language": "python",
   "name": "python3"
  },
  "language_info": {
   "codemirror_mode": {
    "name": "ipython",
    "version": 3
   },
   "file_extension": ".py",
   "mimetype": "text/x-python",
   "name": "python",
   "nbconvert_exporter": "python",
   "pygments_lexer": "ipython3",
   "version": "3.9.12"
  }
 },
 "nbformat": 4,
 "nbformat_minor": 2
}
