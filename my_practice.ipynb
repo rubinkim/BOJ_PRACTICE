{
 "cells": [
  {
   "cell_type": "markdown",
   "metadata": {},
   "source": [
    "#### 3709 입국심사"
   ]
  },
  {
   "cell_type": "code",
   "execution_count": null,
   "metadata": {},
   "outputs": [],
   "source": [
    "import sys                                  # (2 6)(10 7),       (7 10)(3 8 3 6 9 2 4)\n",
    "input = sys.stdin.readline\n",
    "\n",
    "n, m = map(int, input().split()) \n",
    "array = [int(input()) for _ in range(n)] \n",
    "array.sort()\n",
    "\n",
    "start, end = min(array), max(array) * m\n",
    "\n",
    "while start <= end:\n",
    "    mid = (start + end) // 2\n",
    "    cnt = 0\n",
    "    \n",
    "    for i in range(len(array)):    \n",
    "        cnt += mid // array[i]\n",
    "    #print(f\"cnt : {cnt},  start : {start},  mid : {mid},  end : {end}\")\n",
    "                    \n",
    "    if cnt >= m:\n",
    "        end = mid - 1\n",
    "    else:\n",
    "        start = mid + 1\n",
    "        \n",
    "print(start) "
   ]
  },
  {
   "cell_type": "markdown",
   "metadata": {},
   "source": [
    "#### 16401 과자나눠주기"
   ]
  }
 ],
 "metadata": {
  "kernelspec": {
   "display_name": "base",
   "language": "python",
   "name": "python3"
  },
  "language_info": {
   "codemirror_mode": {
    "name": "ipython",
    "version": 3
   },
   "file_extension": ".py",
   "mimetype": "text/x-python",
   "name": "python",
   "nbconvert_exporter": "python",
   "pygments_lexer": "ipython3",
   "version": "3.9.12"
  }
 },
 "nbformat": 4,
 "nbformat_minor": 2
}
