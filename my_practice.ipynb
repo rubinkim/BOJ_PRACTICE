{
 "cells": [
  {
   "cell_type": "code",
   "execution_count": 1,
   "metadata": {},
   "outputs": [
    {
     "data": {
      "text/plain": [
       "'\\n 시간 제한\\t  메모리 제한\\t제출\\t정답\\t 맞힌 사람\\t   정답 비율\\n  1 초\\t        128 MB\\t  16831\\t  5022\\t    3469\\t     28.805%\\n  \\n현우는 용돈을 효율적으로 활용하기 위해 계획을 짜기로 하였다. 현우는 앞으로 N일 동안 자신이 사용할 금액을 계산하였고, 돈을 펑펑 쓰지 않기 위해 정확히 M번만 통장에서 돈을 빼서 \\n쓰기로 하였다. 현우는 통장에서 K원을 인출하며, 통장에서 뺀 돈으로 하루를 보낼 수 있으면 그대로 사용하고, 모자라게 되면 남은 금액은 통장에 집어넣고 다시 K원을 인출한다. \\n다만 현우는 M이라는 숫자를 좋아하기 때문에, 정확히 M번을 맞추기 위해서 남은 금액이 그날 사용할 금액보다 많더라도 남은 금액은 통장에 집어넣고 다시 K원을 인출할 수 있다. \\n현우는 돈을 아끼기 위해 인출 금액 K를 최소화하기로 하였다. 현우가 필요한 최소 금액 K를 계산하는 프로그램을 작성하시오.\\n\\n입력 : 1번째 줄에는 N과 M이 공백으로 주어진다. (1 ≤ N ≤ 100,000, 1 ≤ M ≤ N)\\n      2번째 줄부터 총 N개의 줄에는 현우가 i번째 날에 이용할 금액이 주어진다. (1 ≤ 금액 ≤ 10000)\\n출력 : 첫 번째 줄에 현우가 통장에서 인출해야 할 최소 금액 K를 출력한다.\\n\\n7 5\\n100\\n400\\n300\\n100\\n500\\n101\\n400     500\\n'"
      ]
     },
     "execution_count": 1,
     "metadata": {},
     "output_type": "execute_result"
    }
   ],
   "source": [
    "\"\"\"\n",
    " 시간 제한\t  메모리 제한\t제출\t정답\t 맞힌 사람\t   정답 비율\n",
    "  1 초\t        128 MB\t  16831\t  5022\t    3469\t     28.805%\n",
    "  \n",
    "현우는 용돈을 효율적으로 활용하기 위해 계획을 짜기로 하였다. 현우는 앞으로 N일 동안 자신이 사용할 금액을 계산하였고, 돈을 펑펑 쓰지 않기 위해 정확히 M번만 통장에서 돈을 빼서 \n",
    "쓰기로 하였다. 현우는 통장에서 K원을 인출하며, 통장에서 뺀 돈으로 하루를 보낼 수 있으면 그대로 사용하고, 모자라게 되면 남은 금액은 통장에 집어넣고 다시 K원을 인출한다. \n",
    "다만 현우는 M이라는 숫자를 좋아하기 때문에, 정확히 M번을 맞추기 위해서 남은 금액이 그날 사용할 금액보다 많더라도 남은 금액은 통장에 집어넣고 다시 K원을 인출할 수 있다. \n",
    "현우는 돈을 아끼기 위해 인출 금액 K를 최소화하기로 하였다. 현우가 필요한 최소 금액 K를 계산하는 프로그램을 작성하시오.\n",
    "\n",
    "입력 : 1번째 줄에는 N과 M이 공백으로 주어진다. (1 ≤ N ≤ 100,000, 1 ≤ M ≤ N)\n",
    "      2번째 줄부터 총 N개의 줄에는 현우가 i번째 날에 이용할 금액이 주어진다. (1 ≤ 금액 ≤ 10000)\n",
    "출력 : 첫 번째 줄에 현우가 통장에서 인출해야 할 최소 금액 K를 출력한다.\n",
    "\n",
    "7 5\n",
    "100 400 300 100 500 101 400\n",
    "500\n",
    "\"\"\""
   ]
  },
  {
   "cell_type": "code",
   "execution_count": 2,
   "metadata": {},
   "outputs": [
    {
     "ename": "ValueError",
     "evalue": "invalid literal for int() with base 10: '100 400 300 100 500 101 400'",
     "output_type": "error",
     "traceback": [
      "\u001b[1;31m---------------------------------------------------------------------------\u001b[0m",
      "\u001b[1;31mValueError\u001b[0m                                Traceback (most recent call last)",
      "Input \u001b[1;32mIn [2]\u001b[0m, in \u001b[0;36m<cell line: 2>\u001b[1;34m()\u001b[0m\n\u001b[0;32m      1\u001b[0m n, m \u001b[38;5;241m=\u001b[39m \u001b[38;5;28mmap\u001b[39m(\u001b[38;5;28mint\u001b[39m, \u001b[38;5;28minput\u001b[39m()\u001b[38;5;241m.\u001b[39msplit())\n\u001b[1;32m----> 2\u001b[0m spending_schedule \u001b[38;5;241m=\u001b[39m [\u001b[38;5;28mint\u001b[39m(\u001b[38;5;28minput\u001b[39m()) \u001b[38;5;28;01mfor\u001b[39;00m _ \u001b[38;5;129;01min\u001b[39;00m \u001b[38;5;28mrange\u001b[39m(n)]\n\u001b[0;32m      4\u001b[0m \u001b[38;5;28mprint\u001b[39m(n, m)\n\u001b[0;32m      5\u001b[0m \u001b[38;5;28mprint\u001b[39m(spending_schedule)\n",
      "Input \u001b[1;32mIn [2]\u001b[0m, in \u001b[0;36m<listcomp>\u001b[1;34m(.0)\u001b[0m\n\u001b[0;32m      1\u001b[0m n, m \u001b[38;5;241m=\u001b[39m \u001b[38;5;28mmap\u001b[39m(\u001b[38;5;28mint\u001b[39m, \u001b[38;5;28minput\u001b[39m()\u001b[38;5;241m.\u001b[39msplit())\n\u001b[1;32m----> 2\u001b[0m spending_schedule \u001b[38;5;241m=\u001b[39m [\u001b[38;5;28;43mint\u001b[39;49m\u001b[43m(\u001b[49m\u001b[38;5;28;43minput\u001b[39;49m\u001b[43m(\u001b[49m\u001b[43m)\u001b[49m\u001b[43m)\u001b[49m \u001b[38;5;28;01mfor\u001b[39;00m _ \u001b[38;5;129;01min\u001b[39;00m \u001b[38;5;28mrange\u001b[39m(n)]\n\u001b[0;32m      4\u001b[0m \u001b[38;5;28mprint\u001b[39m(n, m)\n\u001b[0;32m      5\u001b[0m \u001b[38;5;28mprint\u001b[39m(spending_schedule)\n",
      "\u001b[1;31mValueError\u001b[0m: invalid literal for int() with base 10: '100 400 300 100 500 101 400'"
     ]
    }
   ],
   "source": [
    "n, m = map(int, input().split())\n",
    "spending_schedule = list(map(int, input().split()))\n",
    "\n",
    "print(n, m)\n",
    "print(spending_schedule)"
   ]
  },
  {
   "cell_type": "code",
   "execution_count": null,
   "metadata": {},
   "outputs": [],
   "source": [
    "start, end = 1, sum(spending_schedule)\n",
    "\n",
    "\n",
    "while start <= end:\n",
    "    \n",
    "    mid = (start + end) // 2\n",
    "    leftover = 0\n",
    "    cnt = 0\n",
    "    i = 0       \n",
    "\n",
    "\n",
    "    if i >= len(spending_schedule):\n",
    "        break\n",
    "    current = spending_schedule[0]\n",
    "    if current <= leftover + mid:\n",
    "        cnt += 1\n",
    "        leftover += mid - current\n",
    "        current = spending_schedule[i + 1] if (i+1) < len(spending_schedule) else spending_schedule[-1]\n",
    "    \n",
    "    elif current > leftover + mid:\n",
    "        cnt += 1\n",
    "        current = current - leftover - mid\n",
    "    \n",
    "    print(f\"i : {i},  cnt : {cnt}\")\n",
    "    i += 1         \n",
    "\n",
    "    if cnt > m:\n",
    "        end = mid - 1\n",
    "    else:\n",
    "        start = mid + 1\n",
    "    print(f\"start : {start}, mid : {mid}\")\n",
    "\n",
    "print()        \n",
    "print(start)\n",
    "print(sum(spending_schedule))"
   ]
  }
 ],
 "metadata": {
  "kernelspec": {
   "display_name": "base",
   "language": "python",
   "name": "python3"
  },
  "language_info": {
   "codemirror_mode": {
    "name": "ipython",
    "version": 3
   },
   "file_extension": ".py",
   "mimetype": "text/x-python",
   "name": "python",
   "nbconvert_exporter": "python",
   "pygments_lexer": "ipython3",
   "version": "3.9.12"
  }
 },
 "nbformat": 4,
 "nbformat_minor": 2
}
