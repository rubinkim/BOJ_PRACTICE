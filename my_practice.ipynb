{
 "cells": [
  {
   "cell_type": "code",
   "execution_count": 1,
   "metadata": {},
   "outputs": [
    {
     "data": {
      "text/plain": [
       "'\\n 시간 제한\\t  메모리 제한\\t제출\\t정답\\t 맞힌 사람\\t   정답 비율\\n  1 초\\t        128 MB\\t  16831\\t  5022\\t    3469\\t     28.805%\\n  \\n현우는 용돈을 효율적으로 활용하기 위해 계획을 짜기로 하였다. 현우는 앞으로 N일 동안 자신이 사용할 금액을 계산하였고, 돈을 펑펑 쓰지 않기 위해 정확히 M번만 통장에서 돈을 빼서 \\n쓰기로 하였다. 현우는 통장에서 K원을 인출하며, 통장에서 뺀 돈으로 하루를 보낼 수 있으면 그대로 사용하고, 모자라게 되면 남은 금액은 통장에 집어넣고 다시 K원을 인출한다. \\n다만 현우는 M이라는 숫자를 좋아하기 때문에, 정확히 M번을 맞추기 위해서 남은 금액이 그날 사용할 금액보다 많더라도 남은 금액은 통장에 집어넣고 다시 K원을 인출할 수 있다. \\n현우는 돈을 아끼기 위해 인출 금액 K를 최소화하기로 하였다. 현우가 필요한 최소 금액 K를 계산하는 프로그램을 작성하시오.\\n\\n입력 : 1번째 줄에는 N과 M이 공백으로 주어진다. (1 ≤ N ≤ 100,000, 1 ≤ M ≤ N)\\n      2번째 줄부터 총 N개의 줄에는 현우가 i번째 날에 이용할 금액이 주어진다. (1 ≤ 금액 ≤ 10000)\\n출력 : 첫 번째 줄에 현우가 통장에서 인출해야 할 최소 금액 K를 출력한다.\\n\\n7 5\\n100 400 300 100 500 101 400\\n500\\n'"
      ]
     },
     "execution_count": 1,
     "metadata": {},
     "output_type": "execute_result"
    }
   ],
   "source": [
    "\"\"\"\n",
    " 시간 제한\t  메모리 제한\t제출\t정답\t 맞힌 사람\t   정답 비율\n",
    "  1 초\t        128 MB\t  16831\t  5022\t    3469\t     28.805%\n",
    "  \n",
    "현우는 용돈을 효율적으로 활용하기 위해 계획을 짜기로 하였다. 현우는 앞으로 N일 동안 자신이 사용할 금액을 계산하였고, 돈을 펑펑 쓰지 않기 위해 정확히 M번만 통장에서 돈을 빼서 \n",
    "쓰기로 하였다. 현우는 통장에서 K원을 인출하며, 통장에서 뺀 돈으로 하루를 보낼 수 있으면 그대로 사용하고, 모자라게 되면 남은 금액은 통장에 집어넣고 다시 K원을 인출한다. \n",
    "다만 현우는 M이라는 숫자를 좋아하기 때문에, 정확히 M번을 맞추기 위해서 남은 금액이 그날 사용할 금액보다 많더라도 남은 금액은 통장에 집어넣고 다시 K원을 인출할 수 있다. \n",
    "현우는 돈을 아끼기 위해 인출 금액 K를 최소화하기로 하였다. 현우가 필요한 최소 금액 K를 계산하는 프로그램을 작성하시오.\n",
    "\n",
    "입력 : 1번째 줄에는 N과 M이 공백으로 주어진다. (1 ≤ N ≤ 100,000, 1 ≤ M ≤ N)\n",
    "      2번째 줄부터 총 N개의 줄에는 현우가 i번째 날에 이용할 금액이 주어진다. (1 ≤ 금액 ≤ 10000)\n",
    "출력 : 첫 번째 줄에 현우가 통장에서 인출해야 할 최소 금액 K를 출력한다.\n",
    "\n",
    "7 5\n",
    "100 400 300 100 500 101 400\n",
    "500\n",
    "\"\"\""
   ]
  },
  {
   "cell_type": "code",
   "execution_count": 13,
   "metadata": {},
   "outputs": [
    {
     "name": "stdout",
     "output_type": "stream",
     "text": [
      "7 5\n",
      "[100, 400, 300, 100, 500, 101, 400]\n"
     ]
    }
   ],
   "source": [
    "n, m = map(int, input().split())\n",
    "spending_schedule = list(map(int, input().split()))\n",
    "\n",
    "print(n, m)\n",
    "print(spending_schedule)"
   ]
  },
  {
   "cell_type": "code",
   "execution_count": 14,
   "metadata": {},
   "outputs": [
    {
     "name": "stdout",
     "output_type": "stream",
     "text": [
      "start : 1,  end : 1901\n"
     ]
    }
   ],
   "source": [
    "start, end = 1, sum(spending_schedule)\n",
    "print(f\"start : {start},  end : {end}\")"
   ]
  },
  {
   "cell_type": "code",
   "execution_count": 15,
   "metadata": {},
   "outputs": [
    {
     "name": "stdout",
     "output_type": "stream",
     "text": [
      "m : 5, total_cnt : 3, start : 1, mid : 951, end : 1901\n",
      "m : 5, total_cnt : 6, start : 1, mid : 475, end : 950\n",
      "m : 5, total_cnt : 4, start : 476, mid : 713, end : 950\n",
      "m : 5, total_cnt : 4, start : 476, mid : 594, end : 712\n",
      "m : 5, total_cnt : 4, start : 476, mid : 534, end : 593\n",
      "m : 5, total_cnt : 4, start : 476, mid : 504, end : 533\n",
      "m : 5, total_cnt : 6, start : 476, mid : 489, end : 503\n",
      "m : 5, total_cnt : 6, start : 490, mid : 496, end : 503\n",
      "m : 5, total_cnt : 5, start : 497, mid : 500, end : 503\n",
      "m : 5, total_cnt : 4, start : 501, mid : 502, end : 503\n",
      "m : 5, total_cnt : 4, start : 501, mid : 501, end : 501\n",
      "\n",
      "0\n"
     ]
    }
   ],
   "source": [
    "while start <= end:\n",
    "    mid = (start + end) // 2\n",
    "    leftover = 0\n",
    "    total_cnt = 0    \n",
    "    \n",
    "    for i in range(len(spending_schedule)):\n",
    "        cnt = 0\n",
    "        if spending_schedule[i] <= leftover:\n",
    "            cnt = 0\n",
    "            leftover = leftover - spending_schedule[i]\n",
    "        elif spending_schedule[i] > leftover:\n",
    "            cnt = (spending_schedule[i] // mid) + 1\n",
    "            leftover = mid * cnt - spending_schedule[i]\n",
    "        total_cnt += cnt\n",
    "    \n",
    "    print(f\"m : {m}, total_cnt : {total_cnt}, start : {start}, mid : {mid}, end : {end}\")\n",
    "    \n",
    "    if total_cnt >= m:        \n",
    "        start = mid + 1\n",
    "    else:\n",
    "        end = mid - 1   \n",
    "\n",
    "print()\n",
    "print(mid)"
   ]
  },
  {
   "cell_type": "code",
   "execution_count": 15,
   "metadata": {},
   "outputs": [
    {
     "name": "stdout",
     "output_type": "stream",
     "text": [
      "499\n",
      "500\n",
      "499\n"
     ]
    }
   ],
   "source": [
    "print(mid)\n",
    "print(start)\n",
    "print(end)"
   ]
  },
  {
   "cell_type": "code",
   "execution_count": null,
   "metadata": {},
   "outputs": [],
   "source": []
  }
 ],
 "metadata": {
  "kernelspec": {
   "display_name": "base",
   "language": "python",
   "name": "python3"
  },
  "language_info": {
   "codemirror_mode": {
    "name": "ipython",
    "version": 3
   },
   "file_extension": ".py",
   "mimetype": "text/x-python",
   "name": "python",
   "nbconvert_exporter": "python",
   "pygments_lexer": "ipython3",
   "version": "3.9.12"
  }
 },
 "nbformat": 4,
 "nbformat_minor": 2
}
