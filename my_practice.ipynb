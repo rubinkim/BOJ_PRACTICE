{
 "cells": [
  {
   "cell_type": "markdown",
   "metadata": {},
   "source": [
    "#### 3709 입국심사"
   ]
  },
  {
   "cell_type": "code",
   "execution_count": null,
   "metadata": {},
   "outputs": [],
   "source": [
    "import sys                                  # (2 6)(10 7),       (7 10)(3 8 3 6 9 2 4)\n",
    "input = sys.stdin.readline\n",
    "\n",
    "n, m = map(int, input().split()) \n",
    "array = [int(input()) for _ in range(n)] \n",
    "array.sort()\n",
    "\n",
    "start, end = min(array), max(array) * m\n",
    "\n",
    "while start <= end:\n",
    "    mid = (start + end) // 2\n",
    "    cnt = 0\n",
    "    \n",
    "    for i in range(len(array)):    \n",
    "        cnt += mid // array[i]\n",
    "    #print(f\"cnt : {cnt},  start : {start},  mid : {mid},  end : {end}\")\n",
    "                    \n",
    "    if cnt >= m:\n",
    "        end = mid - 1\n",
    "    else:\n",
    "        start = mid + 1\n",
    "        \n",
    "print(start) "
   ]
  },
  {
   "cell_type": "markdown",
   "metadata": {},
   "source": [
    "#### 16401 과자 나눠주기"
   ]
  },
  {
   "cell_type": "code",
   "execution_count": 17,
   "metadata": {},
   "outputs": [
    {
     "name": "stdout",
     "output_type": "stream",
     "text": [
      "before : start :  1,   mid :  5,   end : 10,   m :  3   cnt : 7\n",
      "after  : start :  6,   mid :  5,   end : 10,   m :  3,  cnt : 7\n",
      "\n",
      "before : start :  6,   mid :  8,   end : 10,   m :  3   cnt : 3\n",
      "after  : start :  9,   mid :  8,   end : 10,   m :  3,  cnt : 3\n",
      "\n",
      "before : start :  9,   mid :  9,   end : 10,   m :  3   cnt : 2\n",
      "after  : start :  9,   mid :  9,   end :  8,   m :  3,  cnt : 2\n",
      "\n",
      "\n",
      "8\n"
     ]
    }
   ],
   "source": [
    "#import sys\n",
    "#input = sys.stdin.readline\n",
    "\n",
    "m, n = map(int, input().split())          # (3 10)(1 2 3 4 5 6 7 8 9 10),  (4 3)(10 10 15)\n",
    "array = list(map(int, input().split()))\n",
    "\n",
    "start, end = 1, max(array)\n",
    "\n",
    "while start <= end:\n",
    "    mid = (start + end) // 2\n",
    "    print(f\"before : start : {start:2d},   mid : {mid:2d},   end : {end:2d},   m : {m:2d}\", end='   ')\n",
    "    cnt = 0\n",
    "    \n",
    "    for i in range(len(array)):\n",
    "        if array[i] >= mid:\n",
    "            cnt += array[i] // mid    \n",
    "    print(f\"cnt : {cnt}\")\n",
    "    \n",
    "    if cnt >= m:\n",
    "        start = mid + 1\n",
    "    else:\n",
    "        end = mid - 1\n",
    "    print(f\"after  : start : {start:2d},   mid : {mid:2d},   end : {end:2d},   m : {m:2d},  cnt : {cnt}\")\n",
    "    print()\n",
    "    \n",
    "print()\n",
    "print(end)"
   ]
  },
  {
   "cell_type": "markdown",
   "metadata": {},
   "source": [
    "#### 2606 바이러스"
   ]
  },
  {
   "cell_type": "code",
   "execution_count": 3,
   "metadata": {},
   "outputs": [
    {
     "name": "stdout",
     "output_type": "stream",
     "text": [
      "1 [2, 5]\n",
      "2 [1, 3, 5]\n",
      "3 [2]\n",
      "5 [1, 2, 6]\n",
      "6 [5]\n",
      "4 [7]\n",
      "7 [4]\n"
     ]
    }
   ],
   "source": [
    "\"\"\" \n",
    "샘플 데이터\n",
    "7\n",
    "6\n",
    "1 2\n",
    "2 3\n",
    "1 5\n",
    "5 2\n",
    "5 6\n",
    "4 7         4\n",
    "\"\"\"\n",
    "with open(\"data/2606_바이러스.txt\", \"r\") as input:\n",
    "    v = int(input.readline())                # v : number of vertices\n",
    "    e = int(input.readline())                # e : number of edges\n",
    "\n",
    "    graph = {}\n",
    "    for _ in range(e):\n",
    "        a, b = map(int, input.readline().split())\n",
    "        if a not in graph.keys():\n",
    "            graph[a] = [b]\n",
    "        else:\n",
    "            graph[a].append(b)\n",
    "        if b not in graph.keys():\n",
    "            graph[b] = [a]\n",
    "        else:\n",
    "            graph[b].append(a)\n",
    "            \n",
    "    for k, v in graph.items():\n",
    "        print(k, v)"
   ]
  },
  {
   "cell_type": "code",
   "execution_count": 4,
   "metadata": {},
   "outputs": [
    {
     "data": {
      "text/plain": [
       "{1: [2, 5], 2: [1, 3, 5], 3: [2], 5: [1, 2, 6], 6: [5], 4: [7], 7: [4]}"
      ]
     },
     "execution_count": 4,
     "metadata": {},
     "output_type": "execute_result"
    }
   ],
   "source": [
    "graph"
   ]
  },
  {
   "cell_type": "code",
   "execution_count": 9,
   "metadata": {},
   "outputs": [],
   "source": [
    "from collections import deque\n",
    "\n",
    "def dfs_deque(graph, start):\n",
    "    q = deque([start])\n",
    "    path = []\n",
    "    while q:\n",
    "        now = q.pop()\n",
    "        if now not in path and now != start:\n",
    "            path.append(now)\n",
    "        for nxt in graph[now]:\n",
    "            if nxt not in path:\n",
    "                q.append(nxt)\n",
    "    return len(path)"
   ]
  },
  {
   "cell_type": "code",
   "execution_count": 10,
   "metadata": {},
   "outputs": [
    {
     "data": {
      "text/plain": [
       "4"
      ]
     },
     "execution_count": 10,
     "metadata": {},
     "output_type": "execute_result"
    }
   ],
   "source": [
    "dfs_deque(graph, 1)"
   ]
  },
  {
   "cell_type": "markdown",
   "metadata": {},
   "source": [
    "#### 2667 단지 번호 붙이기"
   ]
  },
  {
   "cell_type": "code",
   "execution_count": 1,
   "metadata": {},
   "outputs": [
    {
     "name": "stdout",
     "output_type": "stream",
     "text": [
      "n : 7\n",
      "[0, 1, 1, 0, 1, 0, 0]\n",
      "[0, 1, 1, 0, 1, 0, 1]\n",
      "[1, 1, 1, 0, 1, 0, 1]\n",
      "[0, 0, 0, 0, 1, 1, 1]\n",
      "[0, 1, 0, 0, 0, 0, 0]\n",
      "[0, 1, 1, 1, 1, 1, 0]\n",
      "[0, 1, 1, 1, 0, 0, 0]\n"
     ]
    }
   ],
   "source": [
    "with open(\"data/2667_단지번호붙이기.txt\", \"r\") as input:\n",
    "    n = int(input.readline())\n",
    "    print(f\"n : {n}\")\n",
    "    \n",
    "    graph = [[0] * n for _ in range(n)]\n",
    "    for i in range(n):\n",
    "        row = list(map(int, input.readline().rstrip()))\n",
    "        for j in range(len(row)):\n",
    "            if row[j] == 1:\n",
    "                graph[i][j] = 1\n",
    "        \n",
    "    for row in graph:\n",
    "        print(row)"
   ]
  },
  {
   "cell_type": "code",
   "execution_count": null,
   "metadata": {},
   "outputs": [],
   "source": []
  },
  {
   "cell_type": "code",
   "execution_count": 55,
   "metadata": {},
   "outputs": [
    {
     "data": {
      "text/plain": [
       "True"
      ]
     },
     "execution_count": 55,
     "metadata": {},
     "output_type": "execute_result"
    }
   ],
   "source": [
    "dfs(graph, 0, 4, 1)"
   ]
  },
  {
   "cell_type": "code",
   "execution_count": 56,
   "metadata": {},
   "outputs": [
    {
     "name": "stdout",
     "output_type": "stream",
     "text": [
      "4\n"
     ]
    }
   ],
   "source": [
    "result = 0\n",
    "x = [[0] * n for _ in range(n)]\n",
    "\n",
    "for i in range(n):\n",
    "    for j in range(n):\n",
    "        if dfs(graph, i, j, result) == True:\n",
    "            result += 1            \n",
    "            x[i][j] = result\n",
    "print(result)"
   ]
  },
  {
   "cell_type": "code",
   "execution_count": 57,
   "metadata": {},
   "outputs": [
    {
     "name": "stdout",
     "output_type": "stream",
     "text": [
      "[0, 1, 0, 0, 2, 0, 0]\n",
      "[0, 0, 0, 0, 3, 0, 0]\n",
      "[0, 0, 0, 0, 0, 0, 0]\n",
      "[0, 0, 0, 0, 0, 0, 0]\n",
      "[0, 4, 0, 0, 0, 0, 0]\n",
      "[0, 0, 0, 0, 0, 0, 0]\n",
      "[0, 0, 0, 0, 0, 0, 0]\n"
     ]
    }
   ],
   "source": [
    "for row in x:\n",
    "    print(row)"
   ]
  },
  {
   "cell_type": "code",
   "execution_count": 58,
   "metadata": {},
   "outputs": [
    {
     "name": "stdout",
     "output_type": "stream",
     "text": [
      "[0, 1, 0, 0, 2, 0, 0]\n",
      "[0, 0, 0, 0, 1, 0, 2]\n",
      "[0, 0, 0, 0, 2, 0, 2]\n",
      "[0, 0, 0, 0, 2, 2, 2]\n",
      "[0, 1, 0, 0, 0, 0, 0]\n",
      "[0, 3, 3, 3, 3, 3, 0]\n",
      "[0, 3, 3, 3, 0, 0, 0]\n"
     ]
    }
   ],
   "source": [
    "for row in graph:\n",
    "    print(row)"
   ]
  }
 ],
 "metadata": {
  "kernelspec": {
   "display_name": "base",
   "language": "python",
   "name": "python3"
  },
  "language_info": {
   "codemirror_mode": {
    "name": "ipython",
    "version": 3
   },
   "file_extension": ".py",
   "mimetype": "text/x-python",
   "name": "python",
   "nbconvert_exporter": "python",
   "pygments_lexer": "ipython3",
   "version": "3.9.12"
  }
 },
 "nbformat": 4,
 "nbformat_minor": 2
}
