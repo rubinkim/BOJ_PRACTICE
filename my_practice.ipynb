{
 "cells": [
  {
   "cell_type": "code",
   "execution_count": 1,
   "metadata": {},
   "outputs": [
    {
     "data": {
      "text/plain": [
       "'\\n 시간 제한\\t  메모리 제한\\t제출\\t정답\\t 맞힌 사람\\t   정답 비율\\n  1 초\\t        128 MB\\t  16831\\t  5022\\t    3469\\t     28.805%\\n  \\n현우는 용돈을 효율적으로 활용하기 위해 계획을 짜기로 하였다. 현우는 앞으로 N일 동안 자신이 사용할 금액을 계산하였고, 돈을 펑펑 쓰지 않기 위해 정확히 M번만 통장에서 돈을 빼서 \\n쓰기로 하였다. 현우는 통장에서 K원을 인출하며, 통장에서 뺀 돈으로 하루를 보낼 수 있으면 그대로 사용하고, 모자라게 되면 남은 금액은 통장에 집어넣고 다시 K원을 인출한다. \\n다만 현우는 M이라는 숫자를 좋아하기 때문에, 정확히 M번을 맞추기 위해서 남은 금액이 그날 사용할 금액보다 많더라도 남은 금액은 통장에 집어넣고 다시 K원을 인출할 수 있다. \\n현우는 돈을 아끼기 위해 인출 금액 K를 최소화하기로 하였다. 현우가 필요한 최소 금액 K를 계산하는 프로그램을 작성하시오.\\n\\n입력 : 1번째 줄에는 N과 M이 공백으로 주어진다. (1 ≤ N ≤ 100,000, 1 ≤ M ≤ N)\\n      2번째 줄부터 총 N개의 줄에는 현우가 i번째 날에 이용할 금액이 주어진다. (1 ≤ 금액 ≤ 10000)\\n출력 : 첫 번째 줄에 현우가 통장에서 인출해야 할 최소 금액 K를 출력한다.\\n\\n7 5\\n100 400 300 100 500 101 400\\n500\\n'"
      ]
     },
     "execution_count": 1,
     "metadata": {},
     "output_type": "execute_result"
    }
   ],
   "source": [
    "\"\"\"\n",
    " 시간 제한\t  메모리 제한\t제출\t정답\t 맞힌 사람\t   정답 비율\n",
    "  1 초\t        128 MB\t  16831\t  5022\t    3469\t     28.805%\n",
    "  \n",
    "현우는 용돈을 효율적으로 활용하기 위해 계획을 짜기로 하였다. 현우는 앞으로 N일 동안 자신이 사용할 금액을 계산하였고, 돈을 펑펑 쓰지 않기 위해 정확히 M번만 통장에서 돈을 빼서 \n",
    "쓰기로 하였다. 현우는 통장에서 K원을 인출하며, 통장에서 뺀 돈으로 하루를 보낼 수 있으면 그대로 사용하고, 모자라게 되면 남은 금액은 통장에 집어넣고 다시 K원을 인출한다. \n",
    "다만 현우는 M이라는 숫자를 좋아하기 때문에, 정확히 M번을 맞추기 위해서 남은 금액이 그날 사용할 금액보다 많더라도 남은 금액은 통장에 집어넣고 다시 K원을 인출할 수 있다. \n",
    "현우는 돈을 아끼기 위해 인출 금액 K를 최소화하기로 하였다. 현우가 필요한 최소 금액 K를 계산하는 프로그램을 작성하시오.\n",
    "\n",
    "입력 : 1번째 줄에는 N과 M이 공백으로 주어진다. (1 ≤ N ≤ 100,000, 1 ≤ M ≤ N)\n",
    "      2번째 줄부터 총 N개의 줄에는 현우가 i번째 날에 이용할 금액이 주어진다. (1 ≤ 금액 ≤ 10000)\n",
    "출력 : 첫 번째 줄에 현우가 통장에서 인출해야 할 최소 금액 K를 출력한다.\n",
    "\n",
    "7 5\n",
    "100 400 300 100 500 101 400\n",
    "500\n",
    "\"\"\""
   ]
  },
  {
   "cell_type": "markdown",
   "metadata": {},
   "source": [
    "#### 나의 방법 : 틀렸다!!!"
   ]
  },
  {
   "cell_type": "code",
   "execution_count": 15,
   "metadata": {},
   "outputs": [
    {
     "name": "stdout",
     "output_type": "stream",
     "text": [
      "7 5\n",
      "[100, 400, 300, 100, 500, 101, 400]\n"
     ]
    }
   ],
   "source": [
    "n, m = map(int, input().split())\n",
    "spending_schedule = list(map(int, input().split()))\n",
    "\n",
    "print(n, m)\n",
    "print(spending_schedule)"
   ]
  },
  {
   "cell_type": "code",
   "execution_count": 16,
   "metadata": {},
   "outputs": [
    {
     "name": "stdout",
     "output_type": "stream",
     "text": [
      "start : 100,  end : 1901\n"
     ]
    }
   ],
   "source": [
    "start, end = min(spending_schedule), sum(spending_schedule)\n",
    "print(f\"start : {start},  end : {end}\")"
   ]
  },
  {
   "cell_type": "code",
   "execution_count": 17,
   "metadata": {},
   "outputs": [
    {
     "name": "stdout",
     "output_type": "stream",
     "text": [
      "m : 5, total_cnt : 3, start : 100, mid : 1000, end : 1901\n",
      "m : 5, total_cnt : 4, start : 100, mid : 549, end : 999\n",
      "m : 5, total_cnt : 9, start : 100, mid : 324, end : 548\n",
      "m : 5, total_cnt : 6, start : 325, mid : 436, end : 548\n",
      "m : 5, total_cnt : 6, start : 437, mid : 492, end : 548\n",
      "m : 5, total_cnt : 4, start : 493, mid : 520, end : 548\n",
      "m : 5, total_cnt : 4, start : 493, mid : 506, end : 519\n",
      "m : 5, total_cnt : 6, start : 493, mid : 499, end : 505\n",
      "m : 5, total_cnt : 4, start : 500, mid : 502, end : 505\n",
      "m : 5, total_cnt : 5, start : 500, mid : 500, end : 501\n",
      "\n",
      "500\n"
     ]
    }
   ],
   "source": [
    "while start <= end:\n",
    "    mid = (start + end) // 2\n",
    "    leftover = 0\n",
    "    total_cnt = 0    \n",
    "    ans = 0\n",
    "    for i in range(len(spending_schedule)):\n",
    "        cnt = 0\n",
    "        if spending_schedule[i] <= leftover:\n",
    "            cnt = 0\n",
    "            leftover = leftover - spending_schedule[i]\n",
    "        elif spending_schedule[i] > leftover:\n",
    "            cnt = (spending_schedule[i] // mid) + 1\n",
    "            leftover = mid * cnt - spending_schedule[i]\n",
    "        total_cnt += cnt\n",
    "    \n",
    "    print(f\"m : {m}, total_cnt : {total_cnt}, start : {start}, mid : {mid}, end : {end}\")\n",
    "    \n",
    "    if total_cnt == m:\n",
    "        ans  = mid        \n",
    "        break\n",
    "    elif total_cnt > m or mid < max(spending_schedule):\n",
    "        start = mid + 1\n",
    "    else:\n",
    "        end = mid - 1   \n",
    "\n",
    "print()\n",
    "print(ans)"
   ]
  },
  {
   "cell_type": "code",
   "execution_count": null,
   "metadata": {},
   "outputs": [],
   "source": []
  },
  {
   "cell_type": "markdown",
   "metadata": {},
   "source": [
    "#### 정답"
   ]
  },
  {
   "cell_type": "code",
   "execution_count": 33,
   "metadata": {},
   "outputs": [
    {
     "name": "stdout",
     "output_type": "stream",
     "text": [
      "7 5\n",
      "[100, 400, 300, 100, 500, 101, 400]\n"
     ]
    }
   ],
   "source": [
    "n, m = map(int, input().split())                     # (2 6) (7 10),    (7 10)(3 8 3 6 9 2 4)\n",
    "spending_schedule = list(map(int, input().split()))\n",
    "\n",
    "print(n, m)\n",
    "print(spending_schedule)"
   ]
  },
  {
   "cell_type": "code",
   "execution_count": 34,
   "metadata": {},
   "outputs": [
    {
     "name": "stdout",
     "output_type": "stream",
     "text": [
      "start : 100,  end : 1901\n"
     ]
    }
   ],
   "source": [
    "start, end = min(spending_schedule), sum(spending_schedule)\n",
    "print(f\"start : {start},  end : {end}\")"
   ]
  },
  {
   "cell_type": "code",
   "execution_count": 35,
   "metadata": {},
   "outputs": [
    {
     "name": "stdout",
     "output_type": "stream",
     "text": [
      "최초의 인출금액 : 1000\n",
      "i : 0, 0번째 필요금액 : 100, 0번째 인출금액 또는 잔액 : 900, cnt : 1\n",
      "i : 1, 1번째 필요금액 : 400, 1번째 인출금액 또는 잔액 : 500, cnt : 1\n",
      "i : 2, 2번째 필요금액 : 300, 2번째 인출금액 또는 잔액 : 200, cnt : 1\n",
      "i : 3, 3번째 필요금액 : 100, 3번째 인출금액 또는 잔액 : 100, cnt : 1\n",
      "i : 4, 4번째 필요금액 : 500, 4번째 인출금액 또는 잔액 : 500, cnt : 2\n",
      "i : 5, 5번째 필요금액 : 101, 5번째 인출금액 또는 잔액 : 399, cnt : 2\n",
      "i : 6, 6번째 필요금액 : 400, 6번째 인출금액 또는 잔액 : 600, cnt : 3\n",
      "\n",
      "최초의 인출금액 : 549\n",
      "i : 0, 0번째 필요금액 : 100, 0번째 인출금액 또는 잔액 : 449, cnt : 1\n",
      "i : 1, 1번째 필요금액 : 400, 1번째 인출금액 또는 잔액 : 49, cnt : 1\n",
      "i : 2, 2번째 필요금액 : 300, 2번째 인출금액 또는 잔액 : 249, cnt : 2\n",
      "i : 3, 3번째 필요금액 : 100, 3번째 인출금액 또는 잔액 : 149, cnt : 2\n",
      "i : 4, 4번째 필요금액 : 500, 4번째 인출금액 또는 잔액 : 49, cnt : 3\n",
      "i : 5, 5번째 필요금액 : 101, 5번째 인출금액 또는 잔액 : 448, cnt : 4\n",
      "i : 6, 6번째 필요금액 : 400, 6번째 인출금액 또는 잔액 : 48, cnt : 4\n",
      "\n",
      "최초의 인출금액 : 324\n",
      "i : 0, 0번째 필요금액 : 100, 0번째 인출금액 또는 잔액 : 224, cnt : 1\n",
      "i : 1, 1번째 필요금액 : 400, 1번째 인출금액 또는 잔액 : -76, cnt : 2\n",
      "i : 2, 2번째 필요금액 : 300, 2번째 인출금액 또는 잔액 : 24, cnt : 3\n",
      "i : 3, 3번째 필요금액 : 100, 3번째 인출금액 또는 잔액 : 224, cnt : 4\n",
      "i : 4, 4번째 필요금액 : 500, 4번째 인출금액 또는 잔액 : -176, cnt : 5\n",
      "i : 5, 5번째 필요금액 : 101, 5번째 인출금액 또는 잔액 : 223, cnt : 6\n",
      "i : 6, 6번째 필요금액 : 400, 6번째 인출금액 또는 잔액 : -76, cnt : 7\n",
      "\n",
      "최초의 인출금액 : 436\n",
      "i : 0, 0번째 필요금액 : 100, 0번째 인출금액 또는 잔액 : 336, cnt : 1\n",
      "i : 1, 1번째 필요금액 : 400, 1번째 인출금액 또는 잔액 : 36, cnt : 2\n",
      "i : 2, 2번째 필요금액 : 300, 2번째 인출금액 또는 잔액 : 136, cnt : 3\n",
      "i : 3, 3번째 필요금액 : 100, 3번째 인출금액 또는 잔액 : 36, cnt : 3\n",
      "i : 4, 4번째 필요금액 : 500, 4번째 인출금액 또는 잔액 : -64, cnt : 4\n",
      "i : 5, 5번째 필요금액 : 101, 5번째 인출금액 또는 잔액 : 335, cnt : 5\n",
      "i : 6, 6번째 필요금액 : 400, 6번째 인출금액 또는 잔액 : 36, cnt : 6\n",
      "\n",
      "최초의 인출금액 : 492\n",
      "i : 0, 0번째 필요금액 : 100, 0번째 인출금액 또는 잔액 : 392, cnt : 1\n",
      "i : 1, 1번째 필요금액 : 400, 1번째 인출금액 또는 잔액 : 92, cnt : 2\n",
      "i : 2, 2번째 필요금액 : 300, 2번째 인출금액 또는 잔액 : 192, cnt : 3\n",
      "i : 3, 3번째 필요금액 : 100, 3번째 인출금액 또는 잔액 : 92, cnt : 3\n",
      "i : 4, 4번째 필요금액 : 500, 4번째 인출금액 또는 잔액 : -8, cnt : 4\n",
      "i : 5, 5번째 필요금액 : 101, 5번째 인출금액 또는 잔액 : 391, cnt : 5\n",
      "i : 6, 6번째 필요금액 : 400, 6번째 인출금액 또는 잔액 : 92, cnt : 6\n",
      "\n",
      "최초의 인출금액 : 520\n",
      "i : 0, 0번째 필요금액 : 100, 0번째 인출금액 또는 잔액 : 420, cnt : 1\n",
      "i : 1, 1번째 필요금액 : 400, 1번째 인출금액 또는 잔액 : 20, cnt : 1\n",
      "i : 2, 2번째 필요금액 : 300, 2번째 인출금액 또는 잔액 : 220, cnt : 2\n",
      "i : 3, 3번째 필요금액 : 100, 3번째 인출금액 또는 잔액 : 120, cnt : 2\n",
      "i : 4, 4번째 필요금액 : 500, 4번째 인출금액 또는 잔액 : 20, cnt : 3\n",
      "i : 5, 5번째 필요금액 : 101, 5번째 인출금액 또는 잔액 : 419, cnt : 4\n",
      "i : 6, 6번째 필요금액 : 400, 6번째 인출금액 또는 잔액 : 19, cnt : 4\n",
      "\n",
      "최초의 인출금액 : 506\n",
      "i : 0, 0번째 필요금액 : 100, 0번째 인출금액 또는 잔액 : 406, cnt : 1\n",
      "i : 1, 1번째 필요금액 : 400, 1번째 인출금액 또는 잔액 : 6, cnt : 1\n",
      "i : 2, 2번째 필요금액 : 300, 2번째 인출금액 또는 잔액 : 206, cnt : 2\n",
      "i : 3, 3번째 필요금액 : 100, 3번째 인출금액 또는 잔액 : 106, cnt : 2\n",
      "i : 4, 4번째 필요금액 : 500, 4번째 인출금액 또는 잔액 : 6, cnt : 3\n",
      "i : 5, 5번째 필요금액 : 101, 5번째 인출금액 또는 잔액 : 405, cnt : 4\n",
      "i : 6, 6번째 필요금액 : 400, 6번째 인출금액 또는 잔액 : 5, cnt : 4\n",
      "\n",
      "최초의 인출금액 : 499\n",
      "i : 0, 0번째 필요금액 : 100, 0번째 인출금액 또는 잔액 : 399, cnt : 1\n",
      "i : 1, 1번째 필요금액 : 400, 1번째 인출금액 또는 잔액 : 99, cnt : 2\n",
      "i : 2, 2번째 필요금액 : 300, 2번째 인출금액 또는 잔액 : 199, cnt : 3\n",
      "i : 3, 3번째 필요금액 : 100, 3번째 인출금액 또는 잔액 : 99, cnt : 3\n",
      "i : 4, 4번째 필요금액 : 500, 4번째 인출금액 또는 잔액 : -1, cnt : 4\n",
      "i : 5, 5번째 필요금액 : 101, 5번째 인출금액 또는 잔액 : 398, cnt : 5\n",
      "i : 6, 6번째 필요금액 : 400, 6번째 인출금액 또는 잔액 : 99, cnt : 6\n",
      "\n",
      "최초의 인출금액 : 502\n",
      "i : 0, 0번째 필요금액 : 100, 0번째 인출금액 또는 잔액 : 402, cnt : 1\n",
      "i : 1, 1번째 필요금액 : 400, 1번째 인출금액 또는 잔액 : 2, cnt : 1\n",
      "i : 2, 2번째 필요금액 : 300, 2번째 인출금액 또는 잔액 : 202, cnt : 2\n",
      "i : 3, 3번째 필요금액 : 100, 3번째 인출금액 또는 잔액 : 102, cnt : 2\n",
      "i : 4, 4번째 필요금액 : 500, 4번째 인출금액 또는 잔액 : 2, cnt : 3\n",
      "i : 5, 5번째 필요금액 : 101, 5번째 인출금액 또는 잔액 : 401, cnt : 4\n",
      "i : 6, 6번째 필요금액 : 400, 6번째 인출금액 또는 잔액 : 1, cnt : 4\n",
      "\n",
      "최초의 인출금액 : 500\n",
      "i : 0, 0번째 필요금액 : 100, 0번째 인출금액 또는 잔액 : 400, cnt : 1\n",
      "i : 1, 1번째 필요금액 : 400, 1번째 인출금액 또는 잔액 : 0, cnt : 1\n",
      "i : 2, 2번째 필요금액 : 300, 2번째 인출금액 또는 잔액 : 200, cnt : 2\n",
      "i : 3, 3번째 필요금액 : 100, 3번째 인출금액 또는 잔액 : 100, cnt : 2\n",
      "i : 4, 4번째 필요금액 : 500, 4번째 인출금액 또는 잔액 : 0, cnt : 3\n",
      "i : 5, 5번째 필요금액 : 101, 5번째 인출금액 또는 잔액 : 399, cnt : 4\n",
      "i : 6, 6번째 필요금액 : 400, 6번째 인출금액 또는 잔액 : 100, cnt : 5\n",
      "\n",
      "\n",
      "500\n"
     ]
    }
   ],
   "source": [
    "while start <= end:\n",
    "    mid = (start + end) // 2\n",
    "    withdrawl = mid\n",
    "    cnt = 1\n",
    "    print(f\"최초의 인출금액 : {withdrawl}\")\n",
    "    \n",
    "    for i in range(len(spending_schedule)):\n",
    "        if withdrawl < spending_schedule[i]:\n",
    "            withdrawl = mid\n",
    "            cnt += 1\n",
    "        withdrawl -= spending_schedule[i]\n",
    "        \n",
    "        print(f\"i : {i}, {i}번째 필요금액 : {spending_schedule[i]}, {i}번째 인출금액 또는 잔액 : {withdrawl}, cnt : {cnt}\")\n",
    "\n",
    "    if cnt > m or mid < max(spending_schedule):\n",
    "        start = mid + 1\n",
    "    else:\n",
    "        end = mid - 1\n",
    "        ans = mid\n",
    "    print()\n",
    "\n",
    "print()\n",
    "print(ans)"
   ]
  },
  {
   "cell_type": "markdown",
   "metadata": {},
   "source": [
    "#### 3709 입국심사"
   ]
  },
  {
   "cell_type": "code",
   "execution_count": 37,
   "metadata": {},
   "outputs": [
    {
     "name": "stdout",
     "output_type": "stream",
     "text": [
      "n : 2,   m : 6\n",
      "array : [7, 10]\n"
     ]
    }
   ],
   "source": [
    "n, m = map(int, input().split())            # n : 입국심사대숫자,    m : 패신져숫자\n",
    "print(f\"n : {n},   m : {m}\")\n",
    "\n",
    "array = list(map(int, input().split()))     # n개의 입국심사대 각각의 입국심사시간\n",
    "print(f\"array : {array}\")"
   ]
  },
  {
   "cell_type": "code",
   "execution_count": 45,
   "metadata": {},
   "outputs": [
    {
     "name": "stdout",
     "output_type": "stream",
     "text": [
      "waiting_times : [7, 0]\n",
      "1th waiting_times : [7, 10]\n",
      "2th waiting_times : [14, 10]\n",
      "3th waiting_times : [14, 20]\n",
      "4th waiting_times : [21, 20]\n",
      "5th waiting_times : [28, 20]\n",
      "\n",
      "waiting_times : [28, 20]\n"
     ]
    }
   ],
   "source": [
    "waiting_times = [0] * n\n",
    "min_idx = array.index(min(array))\n",
    "waiting_times[min_idx] += array[min_idx]\n",
    "print(f\"waiting_times : {waiting_times}\")\n",
    "\n",
    "for i in range(1, m):\n",
    "    inner_waiting_times = [0] * n\n",
    "    for j in range(len(array)):\n",
    "        inner_waiting_times[j] = waiting_times[j] +  array[j]\n",
    "    min_idx = inner_waiting_times.index(min(inner_waiting_times))\n",
    "    waiting_times[min_idx] += array[min_idx] \n",
    "    print(f\"{i}th waiting_times : {waiting_times}\")\n",
    "    \n",
    "print()    \n",
    "print(f\"waiting_times : {waiting_times}\")"
   ]
  },
  {
   "cell_type": "code",
   "execution_count": 46,
   "metadata": {},
   "outputs": [
    {
     "name": "stdout",
     "output_type": "stream",
     "text": [
      "n : 7,   m : 10\n",
      "array : [3, 8, 3, 6, 9, 2, 4]\n"
     ]
    }
   ],
   "source": [
    "n, m = map(int, input().split())            # n : 입국심사대숫자,    m : 패신져숫자\n",
    "print(f\"n : {n},   m : {m}\")\n",
    "\n",
    "array = list(map(int, input().split()))     # n개의 입국심사대 각각의 입국심사시간\n",
    "print(f\"array : {array}\")"
   ]
  },
  {
   "cell_type": "code",
   "execution_count": 47,
   "metadata": {},
   "outputs": [
    {
     "name": "stdout",
     "output_type": "stream",
     "text": [
      "waiting_times : [0, 0, 0, 0, 0, 2, 0]\n",
      "1th waiting_times : [3, 0, 0, 0, 0, 2, 0]\n",
      "2th waiting_times : [3, 0, 3, 0, 0, 2, 0]\n",
      "3th waiting_times : [3, 0, 3, 0, 0, 4, 0]\n",
      "4th waiting_times : [3, 0, 3, 0, 0, 4, 4]\n",
      "5th waiting_times : [6, 0, 3, 0, 0, 4, 4]\n",
      "6th waiting_times : [6, 0, 6, 0, 0, 4, 4]\n",
      "7th waiting_times : [6, 0, 6, 6, 0, 4, 4]\n",
      "8th waiting_times : [6, 0, 6, 6, 0, 6, 4]\n",
      "9th waiting_times : [6, 8, 6, 6, 0, 6, 4]\n",
      "\n",
      "waiting_times : [6, 8, 6, 6, 0, 6, 4]\n"
     ]
    }
   ],
   "source": [
    "waiting_times = [0] * n\n",
    "min_idx = array.index(min(array))\n",
    "waiting_times[min_idx] += array[min_idx]\n",
    "print(f\"waiting_times : {waiting_times}\")\n",
    "\n",
    "for i in range(1, m):\n",
    "    inner_waiting_times = [0] * n\n",
    "    for j in range(len(array)):\n",
    "        inner_waiting_times[j] = waiting_times[j] +  array[j]\n",
    "    min_idx = inner_waiting_times.index(min(inner_waiting_times))\n",
    "    waiting_times[min_idx] += array[min_idx] \n",
    "    print(f\"{i}th waiting_times : {waiting_times}\")\n",
    "    \n",
    "print()    \n",
    "print(f\"waiting_times : {waiting_times}\")"
   ]
  },
  {
   "cell_type": "code",
   "execution_count": null,
   "metadata": {},
   "outputs": [],
   "source": []
  },
  {
   "cell_type": "code",
   "execution_count": 1,
   "metadata": {},
   "outputs": [
    {
     "name": "stdout",
     "output_type": "stream",
     "text": [
      "n : 2,   m : 6\n",
      "array : [7, 10]\n"
     ]
    }
   ],
   "source": [
    "n, m = map(int, input().split())            # n : 입국심사대숫자,    m : 패신져숫자\n",
    "print(f\"n : {n},   m : {m}\")                # # (2 6) (7 10),    (7 10)(3 8 3 6 9 2 4)\n",
    "\n",
    "array = list(map(int, input().split()))     # n개의 입국심사대 각각의 입국심사시간\n",
    "print(f\"array : {array}\")"
   ]
  },
  {
   "cell_type": "code",
   "execution_count": null,
   "metadata": {},
   "outputs": [],
   "source": [
    "waiting_times = [0] * n\n",
    "min_idx = array.index(min(array))\n",
    "waiting_times[min_idx] = array[min_idx]\n",
    "i = 1\n",
    "\n",
    "while i < m:\n",
    "    \n",
    "    for j in range(len(array)):\n",
    "        waiting_times[j] += array[j]\n",
    "        min_idx = waiting_times.index(min(waiting_times))\n",
    "        if j != min_idx:\n",
    "            waiting_times[j] -= array[j]        \n",
    "    \n",
    "    \n",
    "    \n",
    "    \n",
    "        i += 1\n",
    "    \n",
    "    "
   ]
  }
 ],
 "metadata": {
  "kernelspec": {
   "display_name": "base",
   "language": "python",
   "name": "python3"
  },
  "language_info": {
   "codemirror_mode": {
    "name": "ipython",
    "version": 3
   },
   "file_extension": ".py",
   "mimetype": "text/x-python",
   "name": "python",
   "nbconvert_exporter": "python",
   "pygments_lexer": "ipython3",
   "version": "3.9.12"
  }
 },
 "nbformat": 4,
 "nbformat_minor": 2
}
