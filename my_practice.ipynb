{
 "cells": [
  {
   "cell_type": "code",
   "execution_count": 1,
   "metadata": {},
   "outputs": [
    {
     "data": {
      "text/plain": [
       "'\\n 시간 제한\\t  메모리 제한\\t제출\\t정답\\t 맞힌 사람\\t   정답 비율\\n  1 초\\t        128 MB\\t  16831\\t  5022\\t    3469\\t     28.805%\\n  \\n현우는 용돈을 효율적으로 활용하기 위해 계획을 짜기로 하였다. 현우는 앞으로 N일 동안 자신이 사용할 금액을 계산하였고, 돈을 펑펑 쓰지 않기 위해 정확히 M번만 통장에서 돈을 빼서 \\n쓰기로 하였다. 현우는 통장에서 K원을 인출하며, 통장에서 뺀 돈으로 하루를 보낼 수 있으면 그대로 사용하고, 모자라게 되면 남은 금액은 통장에 집어넣고 다시 K원을 인출한다. \\n다만 현우는 M이라는 숫자를 좋아하기 때문에, 정확히 M번을 맞추기 위해서 남은 금액이 그날 사용할 금액보다 많더라도 남은 금액은 통장에 집어넣고 다시 K원을 인출할 수 있다. \\n현우는 돈을 아끼기 위해 인출 금액 K를 최소화하기로 하였다. 현우가 필요한 최소 금액 K를 계산하는 프로그램을 작성하시오.\\n\\n입력 : 1번째 줄에는 N과 M이 공백으로 주어진다. (1 ≤ N ≤ 100,000, 1 ≤ M ≤ N)\\n      2번째 줄부터 총 N개의 줄에는 현우가 i번째 날에 이용할 금액이 주어진다. (1 ≤ 금액 ≤ 10000)\\n출력 : 첫 번째 줄에 현우가 통장에서 인출해야 할 최소 금액 K를 출력한다.\\n\\n7 5\\n100\\n400\\n300\\n100\\n500\\n101\\n400     500\\n'"
      ]
     },
     "execution_count": 1,
     "metadata": {},
     "output_type": "execute_result"
    }
   ],
   "source": [
    "\"\"\"\n",
    " 시간 제한\t  메모리 제한\t제출\t정답\t 맞힌 사람\t   정답 비율\n",
    "  1 초\t        128 MB\t  16831\t  5022\t    3469\t     28.805%\n",
    "  \n",
    "현우는 용돈을 효율적으로 활용하기 위해 계획을 짜기로 하였다. 현우는 앞으로 N일 동안 자신이 사용할 금액을 계산하였고, 돈을 펑펑 쓰지 않기 위해 정확히 M번만 통장에서 돈을 빼서 \n",
    "쓰기로 하였다. 현우는 통장에서 K원을 인출하며, 통장에서 뺀 돈으로 하루를 보낼 수 있으면 그대로 사용하고, 모자라게 되면 남은 금액은 통장에 집어넣고 다시 K원을 인출한다. \n",
    "다만 현우는 M이라는 숫자를 좋아하기 때문에, 정확히 M번을 맞추기 위해서 남은 금액이 그날 사용할 금액보다 많더라도 남은 금액은 통장에 집어넣고 다시 K원을 인출할 수 있다. \n",
    "현우는 돈을 아끼기 위해 인출 금액 K를 최소화하기로 하였다. 현우가 필요한 최소 금액 K를 계산하는 프로그램을 작성하시오.\n",
    "\n",
    "입력 : 1번째 줄에는 N과 M이 공백으로 주어진다. (1 ≤ N ≤ 100,000, 1 ≤ M ≤ N)\n",
    "      2번째 줄부터 총 N개의 줄에는 현우가 i번째 날에 이용할 금액이 주어진다. (1 ≤ 금액 ≤ 10000)\n",
    "출력 : 첫 번째 줄에 현우가 통장에서 인출해야 할 최소 금액 K를 출력한다.\n",
    "\n",
    "7 5\n",
    "100 400 300 100 500 101 400\n",
    "500\n",
    "\"\"\""
   ]
  },
  {
   "cell_type": "code",
   "execution_count": 19,
   "metadata": {},
   "outputs": [
    {
     "name": "stdout",
     "output_type": "stream",
     "text": [
      "7 5\n",
      "[100, 400, 300, 100, 500, 101, 400]\n"
     ]
    }
   ],
   "source": [
    "n, m = map(int, input().split())\n",
    "spending_schedule = list(map(int, input().split()))\n",
    "\n",
    "print(n, m)\n",
    "print(spending_schedule)"
   ]
  },
  {
   "cell_type": "code",
   "execution_count": 20,
   "metadata": {},
   "outputs": [
    {
     "name": "stdout",
     "output_type": "stream",
     "text": [
      "start : 1,  end : 1901\n"
     ]
    }
   ],
   "source": [
    "start, end = 1, sum(spending_schedule)\n",
    "print(f\"start : {start},  end : {end}\")"
   ]
  },
  {
   "cell_type": "code",
   "execution_count": 21,
   "metadata": {},
   "outputs": [
    {
     "name": "stdout",
     "output_type": "stream",
     "text": [
      "i : 0,  start : 1,  end : 1901,  mid : 951\n",
      "i : 1,  start : 1,  end : 950,  mid : 475\n",
      "i : 2,  start : 1,  end : 474,  mid : 237\n",
      "i : 3,  start : 1,  end : 236,  mid : 118\n",
      "i : 4,  start : 1,  end : 117,  mid : 59\n",
      "i : 5,  start : 1,  end : 58,  mid : 29\n",
      "i : 6,  start : 30,  end : 58,  mid : 44\n",
      "i : 7,  start : 30,  end : 43,  mid : 36\n",
      "i : 8,  start : 37,  end : 43,  mid : 40\n",
      "i : 9,  start : 37,  end : 39,  mid : 38\n",
      "i : 10,  start : 37,  end : 37,  mid : 37\n",
      "37\n"
     ]
    }
   ],
   "source": [
    "ans = 0\n",
    "k = 37\n",
    "i = 0\n",
    "\n",
    "while start <= end:\n",
    "    mid = (start + end) // 2\n",
    "    leftover = 0\n",
    "    cnt = 0\n",
    "    \n",
    "    print(f\"i : {i},  start : {start},  end : {end},  mid : {mid}\")\n",
    "\n",
    "    if mid == k:\n",
    "        ans = mid\n",
    "        break\n",
    "    elif mid > k:\n",
    "        end = mid -1\n",
    "    elif mid < k:\n",
    "        start = mid + 1\n",
    "        \n",
    "    i += 1    \n",
    "        \n",
    "print(ans)    "
   ]
  },
  {
   "cell_type": "code",
   "execution_count": null,
   "metadata": {},
   "outputs": [],
   "source": [
    "start, end = 1, sum(spending_schedule)\n",
    "\n",
    "\n",
    "while start <= end:\n",
    "    \n",
    "    mid = (start + end) // 2\n",
    "    leftover = 0\n",
    "    cnt = 0\n",
    "    i = 0       \n",
    "\n",
    "\n",
    "    if i >= len(spending_schedule):\n",
    "        break\n",
    "    current = spending_schedule[0]\n",
    "    if current <= leftover + mid:\n",
    "        cnt += 1\n",
    "        leftover += mid - current\n",
    "        current = spending_schedule[i + 1] if (i+1) < len(spending_schedule) else spending_schedule[-1]\n",
    "    \n",
    "    elif current > leftover + mid:\n",
    "        cnt += 1\n",
    "        current = current - leftover - mid\n",
    "    \n",
    "    print(f\"i : {i},  cnt : {cnt}\")\n",
    "    i += 1         \n",
    "\n",
    "    if cnt > m:\n",
    "        end = mid - 1\n",
    "    else:\n",
    "        start = mid + 1\n",
    "    print(f\"start : {start}, mid : {mid}\")\n",
    "\n",
    "print()        \n",
    "print(start)\n",
    "print(sum(spending_schedule))"
   ]
  }
 ],
 "metadata": {
  "kernelspec": {
   "display_name": "base",
   "language": "python",
   "name": "python3"
  },
  "language_info": {
   "codemirror_mode": {
    "name": "ipython",
    "version": 3
   },
   "file_extension": ".py",
   "mimetype": "text/x-python",
   "name": "python",
   "nbconvert_exporter": "python",
   "pygments_lexer": "ipython3",
   "version": "3.9.12"
  }
 },
 "nbformat": 4,
 "nbformat_minor": 2
}
