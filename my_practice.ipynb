{
 "cells": [
  {
   "cell_type": "markdown",
   "metadata": {},
   "source": [
    "#### 3709 입국심사"
   ]
  },
  {
   "cell_type": "code",
   "execution_count": null,
   "metadata": {},
   "outputs": [],
   "source": [
    "import sys                                  # (2 6)(10 7),       (7 10)(3 8 3 6 9 2 4)\n",
    "input = sys.stdin.readline\n",
    "\n",
    "n, m = map(int, input().split()) \n",
    "array = [int(input()) for _ in range(n)] \n",
    "array.sort()\n",
    "\n",
    "start, end = min(array), max(array) * m\n",
    "\n",
    "while start <= end:\n",
    "    mid = (start + end) // 2\n",
    "    cnt = 0\n",
    "    \n",
    "    for i in range(len(array)):    \n",
    "        cnt += mid // array[i]\n",
    "    #print(f\"cnt : {cnt},  start : {start},  mid : {mid},  end : {end}\")\n",
    "                    \n",
    "    if cnt >= m:\n",
    "        end = mid - 1\n",
    "    else:\n",
    "        start = mid + 1\n",
    "        \n",
    "print(start) "
   ]
  },
  {
   "cell_type": "markdown",
   "metadata": {},
   "source": [
    "#### 16401 과자 나눠주기"
   ]
  },
  {
   "cell_type": "code",
   "execution_count": null,
   "metadata": {},
   "outputs": [],
   "source": [
    "import sys\n",
    "input = sys.stdin.readline\n",
    "\n",
    "n, m = map(int, input().split())          # (3 10)(1 2 3 4 5 6 7 8 9 10),  (4 3)(10 10 15)\n",
    "array = list(map(int, input().split()))\n",
    "\n",
    "start, end = min(array), max(array)\n",
    "while start <= end:\n",
    "    mid = (start + end) // 2\n",
    "    cnt = 0\n",
    "    if m <= n:\n",
    "        for i in range(len(array)):\n",
    "            if array[i] >= mid:\n",
    "                cnt += 1\n",
    "    else:\n",
    "        for i in range(len(array)):\n",
    "            cnt += array[i] // mid\n",
    "            \n",
    "            \n",
    "    print(f\"cnt : {cnt}, start : {start}, mid : {mid}, end : {end}\")\n",
    "    if cnt >= m:\n",
    "        start = mid + 1\n",
    "    else:\n",
    "        end = mid - 1\n",
    "        \n",
    "print()\n",
    "print(end)"
   ]
  },
  {
   "cell_type": "code",
   "execution_count": 7,
   "metadata": {},
   "outputs": [
    {
     "name": "stdout",
     "output_type": "stream",
     "text": [
      "cnt : 7, start : 1, mid : 5, end : 10\n",
      "cnt : 3, start : 6, mid : 8, end : 10\n",
      "cnt : 2, start : 9, mid : 9, end : 10\n",
      "cnt : 1, start : 10, mid : 10, end : 10\n",
      "\n",
      "10\n"
     ]
    }
   ],
   "source": [
    "#import sys\n",
    "#input = sys.stdin.readline\n",
    "\n",
    "n, m = map(int, input().split())          # (3 10)(1 2 3 4 5 6 7 8 9 10),  (4 3)(10 10 15)\n",
    "array = list(map(int, input().split()))\n",
    "array.sort()\n",
    "\n",
    "start, end = min(array), max(array)\n",
    "while start <= end:\n",
    "    mid = (start + end) // 2\n",
    "    cnt = 0\n",
    "    ans = 0\n",
    "    for i in range(len(array)):\n",
    "        cnt += array[i] // mid            \n",
    "            \n",
    "    print(f\"cnt : {cnt}, start : {start}, mid : {mid}, end : {end}\")\n",
    "    if cnt == m:\n",
    "        ans = mid\n",
    "        start = mid + 1\n",
    "    elif cnt < mid:\n",
    "        start = mid + 1\n",
    "    else:\n",
    "        end = mid - 1\n",
    "        \n",
    "print()\n",
    "print(mid)"
   ]
  }
 ],
 "metadata": {
  "kernelspec": {
   "display_name": "base",
   "language": "python",
   "name": "python3"
  },
  "language_info": {
   "codemirror_mode": {
    "name": "ipython",
    "version": 3
   },
   "file_extension": ".py",
   "mimetype": "text/x-python",
   "name": "python",
   "nbconvert_exporter": "python",
   "pygments_lexer": "ipython3",
   "version": "3.9.12"
  }
 },
 "nbformat": 4,
 "nbformat_minor": 2
}
